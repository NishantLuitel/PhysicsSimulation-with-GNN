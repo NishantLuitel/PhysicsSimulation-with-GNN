{
 "cells": [
  {
   "cell_type": "code",
   "execution_count": 1,
   "id": "8b87c661",
   "metadata": {},
   "outputs": [],
   "source": [
    "import numpy as np\n",
    "\n",
    "b = np.load('dataverse_files/gns-water-drop-sample/train.npz/train.npz',allow_pickle=True)"
   ]
  },
  {
   "cell_type": "markdown",
   "id": "cf69cd9c",
   "metadata": {},
   "source": [
    "# Torch and Torch Geometric"
   ]
  },
  {
   "cell_type": "code",
   "execution_count": 2,
   "id": "a4d3b1b5",
   "metadata": {},
   "outputs": [
    {
     "name": "stdout",
     "output_type": "stream",
     "text": [
      "PyTorch has version 1.13.1+cu117 with cuda 11.7\n"
     ]
    }
   ],
   "source": [
    "import os\n",
    "import torch\n",
    "print(f\"PyTorch has version {torch.__version__} with cuda {torch.version.cuda}\")"
   ]
  },
  {
   "cell_type": "code",
   "execution_count": 7,
   "id": "511f804e",
   "metadata": {},
   "outputs": [
    {
     "name": "stdout",
     "output_type": "stream",
     "text": [
      "PyTorch Geometric has version 2.2.0\n"
     ]
    }
   ],
   "source": [
    "import torch_geometric\n",
    "print(f\"PyTorch Geometric has version {torch_geometric.__version__}\")"
   ]
  },
  {
   "cell_type": "markdown",
   "id": "dbf2bd34",
   "metadata": {},
   "source": [
    "# Dataset"
   ]
  },
  {
   "cell_type": "code",
   "execution_count": 8,
   "id": "43d5d879",
   "metadata": {},
   "outputs": [],
   "source": [
    "import json\n",
    "import numpy as np\n",
    "import torch_geometric as pyg\n",
    "\n",
    "def generate_noise(position_seq, noise_std):\n",
    "    \"\"\"Generate noise for a trajectory\"\"\"\n",
    "    velocity_seq = position_seq[:, 1:] - position_seq[:, :-1]\n",
    "    time_steps = velocity_seq.size(1)\n",
    "    velocity_noise = torch.randn_like(velocity_seq) * (noise_std / time_steps ** 0.5)\n",
    "    velocity_noise = velocity_noise.cumsum(dim=1)\n",
    "    position_noise = velocity_noise.cumsum(dim=1)\n",
    "    position_noise = torch.cat((torch.zeros_like(position_noise)[:, 0:1], position_noise), dim=1)\n",
    "    return position_noise\n",
    "\n",
    "\n",
    "def preprocess(particle_type, position_seq, target_position, metadata, noise_std):\n",
    "    \"\"\"Preprocess a trajectory and construct the graph\"\"\"\n",
    "    # apply noise to the trajectory\n",
    "    position_noise = generate_noise(position_seq, noise_std)\n",
    "    position_seq = position_seq + position_noise\n",
    "\n",
    "    # calculate the velocities of particles\n",
    "    recent_position = position_seq[:, -1]\n",
    "    velocity_seq = position_seq[:, 1:] - position_seq[:, :-1]\n",
    "\n",
    "    # construct the graph based on the distances between particles\n",
    "    n_particle = recent_position.size(0)\n",
    "    edge_index = pyg.nn.radius_graph(recent_position, metadata[\"default_connectivity_radius\"], loop=True, max_num_neighbors=n_particle)\n",
    "    \n",
    "    # node-level features: velocity, distance to the boundary\n",
    "    normal_velocity_seq = (velocity_seq - torch.tensor(metadata[\"vel_mean\"])) / torch.sqrt(torch.tensor(metadata[\"vel_std\"]) ** 2 + noise_std ** 2)\n",
    "    boundary = torch.tensor(metadata[\"bounds\"])\n",
    "    distance_to_lower_boundary = recent_position - boundary[:, 0]\n",
    "    distance_to_upper_boundary = boundary[:, 1] - recent_position\n",
    "    distance_to_boundary = torch.cat((distance_to_lower_boundary, distance_to_upper_boundary), dim=-1)\n",
    "    distance_to_boundary = torch.clip(distance_to_boundary / metadata[\"default_connectivity_radius\"], -1.0, 1.0)\n",
    "\n",
    "    # edge-level features: displacement, distance\n",
    "    dim = recent_position.size(-1)\n",
    "    edge_displacement = (torch.gather(recent_position, dim=0, index=edge_index[0].unsqueeze(-1).expand(-1, dim)) -\n",
    "                   torch.gather(recent_position, dim=0, index=edge_index[1].unsqueeze(-1).expand(-1, dim)))\n",
    "    edge_displacement /= metadata[\"default_connectivity_radius\"]\n",
    "    edge_distance = torch.norm(edge_displacement, dim=-1, keepdim=True)\n",
    "\n",
    "    # ground truth for training\n",
    "    if target_position is not None:\n",
    "        last_velocity = velocity_seq[:, -1]\n",
    "        next_velocity = target_position + position_noise[:, -1] - recent_position\n",
    "        acceleration = next_velocity - last_velocity\n",
    "        acceleration = (acceleration - torch.tensor(metadata[\"acc_mean\"])) / torch.sqrt(torch.tensor(metadata[\"acc_std\"]) ** 2 + noise_std ** 2)\n",
    "    else:\n",
    "        acceleration = None\n",
    "\n",
    "    # return the graph with features\n",
    "    graph = pyg.data.Data(\n",
    "        x=particle_type,\n",
    "        edge_index=edge_index,\n",
    "        edge_attr=torch.cat((edge_displacement, edge_distance), dim=-1),\n",
    "        y=acceleration,\n",
    "        pos=torch.cat((velocity_seq.reshape(velocity_seq.size(0), -1), distance_to_boundary), dim=-1)\n",
    "    )\n",
    "    return graph"
   ]
  },
  {
   "cell_type": "code",
   "execution_count": 311,
   "id": "7c3158dd",
   "metadata": {},
   "outputs": [],
   "source": [
    "OUTPUT_DIR = 'dataverse_files\\gns-water-drop-sample\\metadata.json'\n",
    "\n",
    "class OneStepDataset(pyg.data.Dataset):\n",
    "    def __init__(self, data_path, split, window_length=7, noise_std=0.0, return_pos=False):\n",
    "        super().__init__()\n",
    "\n",
    "        # load dataset from the disk\n",
    "        with open(os.path.join(data_path, \"metadata.json\")) as f:\n",
    "            self.metadata = json.load(f)\n",
    "        self.data = np.load(os.path.join(data_path, f\"{split}.npz\"),allow_pickle=True)\n",
    "#         self.offset = {int(k): v for k, v in self.offset.items()}\n",
    "        self.window_length = window_length\n",
    "        self.noise_std = noise_std\n",
    "        self.return_pos = return_pos\n",
    "\n",
    "        #self.particle_type = np.memmap(os.path.join(data_path, f\"{split}_particle_type.dat\"), dtype=np.int64, mode=\"r\")\n",
    "        self.particle_type = self.data['simulation_trajectory_0'][1]        \n",
    "        #self.position = np.memmap(os.path.join(data_path, f\"{split}_position.dat\"), dtype=np.float32, mode=\"r\")\n",
    "        self.position = []\n",
    "        for i in '01':\n",
    "            self.position.append(self.data['simulation_trajectory_'+i][0])\n",
    "        \n",
    "#         for traj in self.offset.values():\n",
    "        self.dim = len(self.data['simulation_trajectory_0'][0][0][0])\n",
    "#             break\n",
    "\n",
    "        # cut particle trajectories according to time slices\n",
    "        self.windows = []\n",
    "        for traj in '0':\n",
    "            string = '_'+traj\n",
    "            #size = traj[\"position\"][\"shape\"][1]\n",
    "            size = len(self.data['simulation_trajectory'+string][0][0])\n",
    "            length = len(self.data['simulation_trajectory'+string][0]) - window_length + 1\n",
    "            for i in range(length):\n",
    "                offset = i\n",
    "                desc = {\n",
    "                    \"size\": size,\n",
    "                    \"type\": 0,\n",
    "                    \"pos\": i,\n",
    "                }\n",
    "                self.windows.append(desc)\n",
    "\n",
    "    def len(self):\n",
    "        return len(self.windows)\n",
    "\n",
    "    def get(self, idx):\n",
    "        # load corresponding data for this time slice\n",
    "        window = self.windows[idx]\n",
    "        size = window[\"size\"]\n",
    "        particle_type = self.particle_type[window[\"type\"]: window[\"type\"] + size].copy()\n",
    "        particle_type = torch.from_numpy(particle_type)\n",
    "        position_seq = self.position[i][window[\"pos\"]: window[\"pos\"] + self.window_length ].copy()\n",
    "#         position_seq.resize(self.window_length, size, self.dim)\n",
    "#         print(position_seq.shape)\n",
    "        position_seq = position_seq.transpose(1, 0, 2)\n",
    "        target_position = position_seq[:, -1]\n",
    "        position_seq = position_seq[:, :-1]\n",
    "        target_position = torch.from_numpy(target_position)\n",
    "        position_seq = torch.from_numpy(position_seq)\n",
    "        \n",
    "        # construct the graph\n",
    "        with torch.no_grad():\n",
    "            graph = preprocess(particle_type, position_seq, target_position, self.metadata, self.noise_std)\n",
    "        if self.return_pos:\n",
    "            return graph, position_seq[:, -1]\n",
    "        return graph"
   ]
  },
  {
   "cell_type": "code",
   "execution_count": 331,
   "id": "8ad75071",
   "metadata": {},
   "outputs": [],
   "source": [
    "class RolloutDataset(pyg.data.Dataset):\n",
    "    def __init__(self, data_path, split, window_length=7):\n",
    "        super().__init__()       \n",
    "        \n",
    "        self.data_name = ['simulation_trajectory_0']\n",
    "        # load data from the disk\n",
    "        with open(os.path.join(data_path, \"metadata.json\")) as f:\n",
    "            self.metadata = json.load(f)\n",
    "#         with open(os.path.join(data_path, f\"{split}.npz\")) as f:\n",
    "#             self.data = np.load(f,allow_pickle=True)\n",
    "        self.data = np.load(os.path.join(data_path, f\"{split}.npz\"),allow_pickle=True)\n",
    "#         self.offset = {int(k): v for k, v in self.offset.items()}\n",
    "        self.window_length = window_length\n",
    "\n",
    "\n",
    "        #self.particle_type = np.memmap(os.path.join(data_path, f\"{split}_particle_type.dat\"), dtype=np.int64, mode=\"r\")\n",
    "        self.particle_type = self.data['simulation_trajectory_0'][1]        \n",
    "        #self.position = np.memmap(os.path.join(data_path, f\"{split}_position.dat\"), dtype=np.float32, mode=\"r\")\n",
    "        self.position = self.data['simulation_trajectory_0'][0]\n",
    "\n",
    "        self.dim = len(self.data['simulation_trajectory_0'][0][0][0])\n",
    "\n",
    "    def len(self):\n",
    "        return len(list(self.data_name))\n",
    "\n",
    "    def get(self, idx):\n",
    "        string = self.data_name[idx]\n",
    "        \n",
    "        traj = self.data[string]\n",
    "        size  = len(self.data[string][0][0])\n",
    "        time_step = len(self.data[string][0])\n",
    "        particle_type = self.particle_type.copy()\n",
    "        particle_type = torch.from_numpy(particle_type)\n",
    "        position = self.position.copy()\n",
    "        position = torch.from_numpy(position)\n",
    "        data = {\"particle_type\": particle_type, \"position\": position}\n",
    "        return data"
   ]
  },
  {
   "cell_type": "code",
   "execution_count": 332,
   "id": "6bcc9e0d",
   "metadata": {},
   "outputs": [
    {
     "name": "stdout",
     "output_type": "stream",
     "text": [
      "The first item in the valid set is a graph: Data(x=[482], edge_index=[2, 3032], edge_attr=[3032, 3], y=[482, 2], pos=[482, 14])\n",
      "This graph has 482 nodes and 3032 edges.\n",
      "Each node is a particle and each edge is the interaction between two particles.\n",
      "Each node has 1 categorial feature (Data.x), which represents the type of the node.\n",
      "Each node has a 14-dim feature vector (Data.pos), which represents the positions and velocities of the particle (node) in several frames.\n",
      "Each edge has a 3-dim feature vector (Data.edge_attr), which represents the relative distance and displacement between particles.\n",
      "The model is expected to predict a 2-dim vector for each node (Data.y), which represents the acceleration of the particle.\n"
     ]
    },
    {
     "data": {
      "image/png": "[encoded data removed]",
      "text/plain": [
       "<Figure size 700x700 with 1 Axes>"
      ]
     },
     "metadata": {},
     "output_type": "display_data"
    }
   ],
   "source": [
    "# %pip install matplotlib\n",
    "# %pip install networkx\n",
    "import matplotlib.pyplot as plt\n",
    "import networkx as nx\n",
    "\n",
    "dataset_sample = OneStepDataset(OUTPUT_DIR, \"valid\", return_pos=True)\n",
    "graph, position = dataset_sample[100]\n",
    "\n",
    "print(f\"The first item in the valid set is a graph: {graph}\")\n",
    "print(f\"This graph has {graph.num_nodes} nodes and {graph.num_edges} edges.\")\n",
    "print(f\"Each node is a particle and each edge is the interaction between two particles.\")\n",
    "print(f\"Each node has {graph.num_node_features} categorial feature (Data.x), which represents the type of the node.\")\n",
    "print(f\"Each node has a {graph.pos.size(1)}-dim feature vector (Data.pos), which represents the positions and velocities of the particle (node) in several frames.\")\n",
    "print(f\"Each edge has a {graph.num_edge_features}-dim feature vector (Data.edge_attr), which represents the relative distance and displacement between particles.\")\n",
    "print(f\"The model is expected to predict a {graph.y.size(1)}-dim vector for each node (Data.y), which represents the acceleration of the particle.\")\n",
    "\n",
    "# remove directions of edges, because it is a symmetric directed graph.\n",
    "nx_graph = pyg.utils.to_networkx(graph).to_undirected()\n",
    "# remove self loops, because every node has a self loop.\n",
    "nx_graph.remove_edges_from(nx.selfloop_edges(nx_graph))\n",
    "plt.figure(figsize=(7, 7))\n",
    "nx.draw(nx_graph, pos={i: tuple(v) for i, v in enumerate(position)}, node_size=50)\n",
    "plt.show()"
   ]
  },
  {
   "cell_type": "code",
   "execution_count": 333,
   "id": "7707be91",
   "metadata": {},
   "outputs": [],
   "source": [
    "import math\n",
    "import torch_scatter\n",
    "\n",
    "class MLP(torch.nn.Module):\n",
    "    \"\"\"Multi-Layer perceptron\"\"\"\n",
    "    def __init__(self, input_size, hidden_size, output_size, layers, layernorm=True):\n",
    "        super().__init__()\n",
    "        self.layers = torch.nn.ModuleList()\n",
    "        for i in range(layers):\n",
    "            self.layers.append(torch.nn.Linear(\n",
    "                input_size if i == 0 else hidden_size,\n",
    "                output_size if i == layers - 1 else hidden_size,\n",
    "            ))\n",
    "            if i != layers - 1:\n",
    "                self.layers.append(torch.nn.ReLU())\n",
    "        if layernorm:\n",
    "            self.layers.append(torch.nn.LayerNorm(output_size))\n",
    "        self.reset_parameters()\n",
    "\n",
    "    def reset_parameters(self):\n",
    "        for layer in self.layers:\n",
    "            if isinstance(layer, torch.nn.Linear):\n",
    "                layer.weight.data.normal_(0, 1 / math.sqrt(layer.in_features))\n",
    "                layer.bias.data.fill_(0)\n",
    "\n",
    "    def forward(self, x):\n",
    "        for layer in self.layers:\n",
    "            x = layer(x)\n",
    "        return x"
   ]
  },
  {
   "cell_type": "code",
   "execution_count": 334,
   "id": "ddf18524",
   "metadata": {},
   "outputs": [],
   "source": [
    "class InteractionNetwork(pyg.nn.MessagePassing):\n",
    "    \"\"\"Interaction Network as proposed in this paper: \n",
    "    https://proceedings.neurips.cc/paper/2016/hash/3147da8ab4a0437c15ef51a5cc7f2dc4-Abstract.html\"\"\"\n",
    "    def __init__(self, hidden_size, layers):\n",
    "        super().__init__()\n",
    "        self.lin_edge = MLP(hidden_size * 3, hidden_size, hidden_size, layers)\n",
    "        self.lin_node = MLP(hidden_size * 2, hidden_size, hidden_size, layers)\n",
    "\n",
    "    def forward(self, x, edge_index, edge_feature):\n",
    "        edge_out, aggr = self.propagate(edge_index, x=(x, x), edge_feature=edge_feature)\n",
    "        node_out = self.lin_node(torch.cat((x, aggr), dim=-1))\n",
    "        edge_out = edge_feature + edge_out\n",
    "        node_out = x + node_out\n",
    "        return node_out, edge_out\n",
    "\n",
    "    def message(self, x_i, x_j, edge_feature):\n",
    "        x = torch.cat((x_i, x_j, edge_feature), dim=-1)\n",
    "        x = self.lin_edge(x)\n",
    "        return x\n",
    "\n",
    "    def aggregate(self, inputs, index, dim_size=None):\n",
    "        out = torch_scatter.scatter(inputs, index, dim=self.node_dim, dim_size=dim_size, reduce=\"sum\")\n",
    "        return (inputs, out)"
   ]
  },
  {
   "cell_type": "code",
   "execution_count": 335,
   "id": "4c2d8601",
   "metadata": {},
   "outputs": [],
   "source": [
    "class LearnedSimulator(torch.nn.Module):\n",
    "    \"\"\"Graph Network-based Simulators(GNS)\"\"\"\n",
    "    def __init__(\n",
    "        self,\n",
    "        hidden_size=128,\n",
    "        n_mp_layers=10, # number of GNN layers\n",
    "        num_particle_types=9,\n",
    "        particle_type_dim=16, # embedding dimension of particle types\n",
    "        dim=2, # dimension of the world, typical 2D or 3D\n",
    "        window_size=5, # the model looks into W frames before the frame to be predicted\n",
    "    ):\n",
    "        super().__init__()\n",
    "        self.window_size = window_size\n",
    "        self.embed_type = torch.nn.Embedding(num_particle_types, particle_type_dim)\n",
    "        self.node_in = MLP(particle_type_dim + dim * (window_size + 2), hidden_size, hidden_size, 3)\n",
    "        self.edge_in = MLP(dim + 1, hidden_size, hidden_size, 3)\n",
    "        self.node_out = MLP(hidden_size, hidden_size, dim, 3, layernorm=False)\n",
    "        self.n_mp_layers = n_mp_layers\n",
    "        self.layers = torch.nn.ModuleList([InteractionNetwork(\n",
    "            hidden_size, 3\n",
    "        ) for _ in range(n_mp_layers)])\n",
    "\n",
    "        self.reset_parameters()\n",
    "\n",
    "    def reset_parameters(self):\n",
    "        torch.nn.init.xavier_uniform_(self.embed_type.weight)\n",
    "\n",
    "    def forward(self, data):\n",
    "        # pre-processing\n",
    "        # node feature: combine categorial feature data.x and contiguous feature data.pos.\n",
    "        node_feature = torch.cat((self.embed_type(data.x), data.pos), dim=-1)\n",
    "        node_feature = self.node_in(node_feature)\n",
    "        edge_feature = self.edge_in(data.edge_attr)\n",
    "        # stack of GNN layers\n",
    "        for i in range(self.n_mp_layers):\n",
    "            node_feature, edge_feature = self.layers[i](node_feature, data.edge_index, edge_feature=edge_feature)\n",
    "        # post-processing\n",
    "        out = self.node_out(node_feature)\n",
    "        return out"
   ]
  },
  {
   "cell_type": "code",
   "execution_count": 336,
   "id": "c948ca3c",
   "metadata": {},
   "outputs": [
    {
     "name": "stderr",
     "output_type": "stream",
     "text": [
      "A subdirectory or file temp\\models already exists.\n",
      "A subdirectory or file temp\\rollouts already exists.\n"
     ]
    }
   ],
   "source": [
    "data_path = OUTPUT_DIR\n",
    "model_path = os.path.join(\"temp\", \"models\")\n",
    "rollout_path = os.path.join(\"temp\", \"rollouts\")\n",
    "\n",
    "!mkdir \"$model_path\"\n",
    "!mkdir \"$rollout_path\"\n",
    "\n"
   ]
  },
  {
   "cell_type": "code",
   "execution_count": 347,
   "id": "0f0d2cd0",
   "metadata": {},
   "outputs": [],
   "source": [
    "params = {\n",
    "    \"epoch\": 5,\n",
    "    \"batch_size\": 4,\n",
    "    \"lr\": 1e-4,\n",
    "    \"noise\": 3e-4,\n",
    "    \"save_interval\": 100,\n",
    "    \"eval_interval\": 50,\n",
    "    \"rollout_interval\": 200,\n",
    "}"
   ]
  },
  {
   "cell_type": "code",
   "execution_count": 348,
   "id": "c9fd51d7",
   "metadata": {},
   "outputs": [],
   "source": [
    "def rollout(model, data, metadata, noise_std):\n",
    "    device = next(model.parameters()).device\n",
    "    model.eval()\n",
    "    window_size = model.window_size + 1\n",
    "    total_time = data[\"position\"].size(0)\n",
    "    traj = data[\"position\"][:window_size]\n",
    "    traj = traj.permute(1, 0, 2)\n",
    "    particle_type = data[\"particle_type\"]\n",
    "\n",
    "    for time in range(total_time - window_size):\n",
    "        with torch.no_grad():\n",
    "            graph = preprocess(particle_type, traj[:, -window_size:], None, metadata, 0.0)\n",
    "            graph = graph.to(device)\n",
    "            acceleration = model(graph).cpu()\n",
    "            acceleration = acceleration * torch.sqrt(torch.tensor(metadata[\"acc_std\"]) ** 2 + noise_std ** 2) + torch.tensor(metadata[\"acc_mean\"])\n",
    "\n",
    "            recent_position = traj[:, -1]\n",
    "            recent_velocity = recent_position - traj[:, -2]\n",
    "            new_velocity = recent_velocity + acceleration\n",
    "            new_position = recent_position + new_velocity\n",
    "            traj = torch.cat((traj, new_position.unsqueeze(1)), dim=1)\n",
    "\n",
    "    return traj\n",
    "\n",
    "\n",
    "def oneStepMSE(simulator, dataloader, metadata, noise):\n",
    "    \"\"\"Returns two values, loss and MSE\"\"\"\n",
    "    total_loss = 0.0\n",
    "    total_mse = 0.0\n",
    "    batch_count = 0\n",
    "    simulator.eval()\n",
    "    with torch.no_grad():\n",
    "        scale = torch.sqrt(torch.tensor(metadata[\"acc_std\"]) ** 2 + noise ** 2).cuda()\n",
    "        for data in valid_loader:\n",
    "            data = data.cuda()\n",
    "            pred = simulator(data)\n",
    "            mse = ((pred - data.y) * scale) ** 2\n",
    "            mse = mse.sum(dim=-1).mean()\n",
    "            loss = ((pred - data.y) ** 2).mean()\n",
    "            total_mse += mse.item()\n",
    "            total_loss += loss.item()\n",
    "            batch_count += 1\n",
    "    return total_loss / batch_count, total_mse / batch_count\n",
    "\n",
    "\n",
    "def rolloutMSE(simulator, dataset, noise):\n",
    "    total_loss = 0.0\n",
    "    batch_count = 0\n",
    "    simulator.eval()\n",
    "    with torch.no_grad():\n",
    "        for rollout_data in dataset:\n",
    "            rollout_out = rollout(simulator, rollout_data, dataset.metadata, noise)\n",
    "            rollout_out = rollout_out.permute(1, 0, 2)\n",
    "            loss = (rollout_out - rollout_data[\"position\"]) ** 2\n",
    "            loss = loss.sum(dim=-1).mean()\n",
    "            total_loss += loss.item()\n",
    "            batch_count += 1\n",
    "    return total_loss / batch_count"
   ]
  },
  {
   "cell_type": "code",
   "execution_count": 349,
   "id": "26e078ea",
   "metadata": {},
   "outputs": [],
   "source": [
    "from tqdm.notebook import tqdm\n",
    "\n",
    "def train(params, simulator, train_loader, valid_loader, valid_rollout_dataset):\n",
    "    loss_fn = torch.nn.MSELoss()\n",
    "    optimizer = torch.optim.Adam(simulator.parameters(), lr=params[\"lr\"])\n",
    "    scheduler = torch.optim.lr_scheduler.ExponentialLR(optimizer, gamma=0.1 ** (1 / 5e6))\n",
    "\n",
    "    # recording loss curve\n",
    "    train_loss_list = []\n",
    "    eval_loss_list = []\n",
    "    onestep_mse_list = []\n",
    "    rollout_mse_list = []\n",
    "    total_step = 0\n",
    "\n",
    "    for i in range(params[\"epoch\"]):\n",
    "        simulator.train()\n",
    "        progress_bar = tqdm(train_loader,desc=f\"Epoch {i}\")\n",
    "        total_loss = 0\n",
    "        batch_count = 0\n",
    "        for data in progress_bar:\n",
    "            optimizer.zero_grad()\n",
    "            data = data.cuda()\n",
    "            pred = simulator(data)\n",
    "            loss = loss_fn(pred, data.y)\n",
    "            loss.backward()\n",
    "            optimizer.step()\n",
    "            scheduler.step()\n",
    "            total_loss += loss.item()\n",
    "            batch_count += 1\n",
    "            progress_bar.set_postfix({\"loss\": loss.item(), \"avg_loss\": total_loss / batch_count, \"lr\": optimizer.param_groups[0][\"lr\"]})\n",
    "            total_step += 1\n",
    "            train_loss_list.append((total_step, loss.item()))\n",
    "\n",
    "            \n",
    "#             print(\"DONE\")\n",
    "            # evaluation\n",
    "            if total_step % params[\"eval_interval\"] == 0:\n",
    "                simulator.eval()\n",
    "                eval_loss, onestep_mse = oneStepMSE(simulator, valid_loader, valid_dataset.metadata, params[\"noise\"])\n",
    "                eval_loss_list.append((total_step, eval_loss))\n",
    "                onestep_mse_list.append((total_step, onestep_mse))\n",
    "                tqdm.write(f\"\\nEval: Loss: {eval_loss}, One Step MSE: {onestep_mse}\")\n",
    "                simulator.train()\n",
    "\n",
    "            # do rollout on valid set\n",
    "            if total_step % params[\"rollout_interval\"] == 0:\n",
    "                simulator.eval()\n",
    "                rollout_mse = rolloutMSE(simulator, valid_rollout_dataset, params[\"noise\"])\n",
    "                rollout_mse_list.append((total_step, rollout_mse))\n",
    "                tqdm.write(f\"\\nEval: Rollout MSE: {rollout_mse}\")\n",
    "                simulator.train()\n",
    "\n",
    "            # save model\n",
    "            if total_step % params[\"save_interval\"] == 0:\n",
    "                torch.save(\n",
    "                    {\n",
    "                        \"model\": simulator.state_dict(),\n",
    "                        \"optimizer\": optimizer.state_dict(),\n",
    "                        \"scheduler\": scheduler.state_dict(),\n",
    "                    },\n",
    "                    os.path.join(model_path, f\"checkpoint_{total_step}.pt\")\n",
    "                )\n",
    "    return train_loss_list, eval_loss_list, onestep_mse_list, rollout_mse_list"
   ]
  },
  {
   "cell_type": "code",
   "execution_count": 354,
   "id": "53538dc0",
   "metadata": {},
   "outputs": [
    {
     "data": {
      "application/vnd.jupyter.widget-view+json": {
       "model_id": "024a203e52254d18841f7c9a8efac154",
       "version_major": 2,
       "version_minor": 0
      },
      "text/plain": [
       "Epoch 0:   0%|          | 0/249 [00:00<?, ?it/s]"
      ]
     },
     "metadata": {},
     "output_type": "display_data"
    },
    {
     "name": "stdout",
     "output_type": "stream",
     "text": [
      "\n",
      "Eval: Loss: 0.9686345618412676, One Step MSE: 1.860521438010689e-07\n",
      "\n",
      "Eval: Loss: 0.9719274300169275, One Step MSE: 1.8669573269409125e-07\n",
      "\n",
      "Eval: Loss: 0.9610479153303736, One Step MSE: 1.8459215922517382e-07\n",
      "\n",
      "Eval: Loss: 0.9560798602889341, One Step MSE: 1.836298207467461e-07\n",
      "\n",
      "Eval: Rollout MSE: 4.158637046813965\n"
     ]
    },
    {
     "data": {
      "application/vnd.jupyter.widget-view+json": {
       "model_id": "6426f7e539c143c881b06228356bd58c",
       "version_major": 2,
       "version_minor": 0
      },
      "text/plain": [
       "Epoch 1:   0%|          | 0/249 [00:00<?, ?it/s]"
      ]
     },
     "metadata": {},
     "output_type": "display_data"
    },
    {
     "name": "stdout",
     "output_type": "stream",
     "text": [
      "\n",
      "Eval: Loss: 0.9545496149235461, One Step MSE: 1.8334088587696342e-07\n",
      "\n",
      "Eval: Loss: 0.9556151401086983, One Step MSE: 1.8354190372457857e-07\n",
      "\n",
      "Eval: Loss: 0.9586833543088062, One Step MSE: 1.8413355171533003e-07\n",
      "\n",
      "Eval: Loss: 0.9640325832079693, One Step MSE: 1.8517405583014875e-07\n",
      "\n",
      "Eval: Rollout MSE: 0.2519560158252716\n",
      "\n",
      "Eval: Loss: 0.9555152240527203, One Step MSE: 1.835090609554674e-07\n"
     ]
    },
    {
     "data": {
      "application/vnd.jupyter.widget-view+json": {
       "model_id": "45d0649e09094864b0a32b2bc8f86912",
       "version_major": 2,
       "version_minor": 0
      },
      "text/plain": [
       "Epoch 2:   0%|          | 0/249 [00:00<?, ?it/s]"
      ]
     },
     "metadata": {},
     "output_type": "display_data"
    },
    {
     "name": "stdout",
     "output_type": "stream",
     "text": [
      "\n",
      "Eval: Loss: 0.9718941543475691, One Step MSE: 1.8668750540821502e-07\n",
      "\n",
      "Eval: Loss: 0.9620875036381334, One Step MSE: 1.8480126647342426e-07\n",
      "\n",
      "Eval: Loss: 0.953328879961527, One Step MSE: 1.8309352991349602e-07\n",
      "\n",
      "Eval: Rollout MSE: 0.28844401240348816\n",
      "\n",
      "Eval: Loss: 0.9636164005980434, One Step MSE: 1.8505621771069914e-07\n",
      "\n",
      "Eval: Loss: 0.961556768321608, One Step MSE: 1.8468938932241817e-07\n"
     ]
    },
    {
     "data": {
      "application/vnd.jupyter.widget-view+json": {
       "model_id": "52a017a4ce6f451e9ca018aa57b94af8",
       "version_major": 2,
       "version_minor": 0
      },
      "text/plain": [
       "Epoch 3:   0%|          | 0/249 [00:00<?, ?it/s]"
      ]
     },
     "metadata": {},
     "output_type": "display_data"
    },
    {
     "name": "stdout",
     "output_type": "stream",
     "text": [
      "\n",
      "Eval: Loss: 0.9527497023463728, One Step MSE: 1.8298609014467853e-07\n",
      "\n",
      "Eval: Loss: 0.9703170152074362, One Step MSE: 1.863057387863299e-07\n",
      "\n",
      "Eval: Rollout MSE: 3.8850276470184326\n",
      "\n",
      "Eval: Loss: 0.9682953996830675, One Step MSE: 1.8601116072336098e-07\n",
      "\n",
      "Eval: Loss: 0.9514767855525496, One Step MSE: 1.827317195549373e-07\n",
      "\n",
      "Eval: Loss: 0.9787093202273051, One Step MSE: 1.8797365949907485e-07\n"
     ]
    },
    {
     "data": {
      "application/vnd.jupyter.widget-view+json": {
       "model_id": "17dd6b179ef44b33b6ba4cbbf53f785d",
       "version_major": 2,
       "version_minor": 0
      },
      "text/plain": [
       "Epoch 4:   0%|          | 0/249 [00:00<?, ?it/s]"
      ]
     },
     "metadata": {},
     "output_type": "display_data"
    },
    {
     "name": "stdout",
     "output_type": "stream",
     "text": [
      "\n",
      "Eval: Loss: 0.9517128484316141, One Step MSE: 1.8277673246578355e-07\n",
      "\n",
      "Eval: Rollout MSE: 0.14593827724456787\n",
      "\n",
      "Eval: Loss: 0.9554695613891724, One Step MSE: 1.834883272613662e-07\n",
      "\n",
      "Eval: Loss: 0.9547955242984266, One Step MSE: 1.8335722396536457e-07\n",
      "\n",
      "Eval: Loss: 0.9534072160242073, One Step MSE: 1.8311125741257205e-07\n",
      "\n",
      "Eval: Loss: 0.9521464202777449, One Step MSE: 1.8286218615899033e-07\n",
      "\n",
      "Eval: Rollout MSE: 0.13422413170337677\n"
     ]
    },
    {
     "data": {
      "application/vnd.jupyter.widget-view+json": {
       "model_id": "e5f30c7510104bea91bab370f3c38bec",
       "version_major": 2,
       "version_minor": 0
      },
      "text/plain": [
       "Epoch 5:   0%|          | 0/249 [00:00<?, ?it/s]"
      ]
     },
     "metadata": {},
     "output_type": "display_data"
    },
    {
     "name": "stdout",
     "output_type": "stream",
     "text": [
      "\n",
      "Eval: Loss: 0.9520409945024544, One Step MSE: 1.8284078073091324e-07\n",
      "\n",
      "Eval: Loss: 0.9558201685966737, One Step MSE: 1.8358419414384861e-07\n",
      "\n",
      "Eval: Loss: 0.9720310260014362, One Step MSE: 1.8673572494991681e-07\n",
      "\n",
      "Eval: Loss: 0.9591151322705679, One Step MSE: 1.8423011110588919e-07\n",
      "\n",
      "Eval: Rollout MSE: 0.3351058065891266\n",
      "\n",
      "Eval: Loss: 0.9526506458899103, One Step MSE: 1.8296267156925518e-07\n"
     ]
    },
    {
     "data": {
      "application/vnd.jupyter.widget-view+json": {
       "model_id": "2e5c89f0889a454e9ae29b4d812840b7",
       "version_major": 2,
       "version_minor": 0
      },
      "text/plain": [
       "Epoch 6:   0%|          | 0/249 [00:00<?, ?it/s]"
      ]
     },
     "metadata": {},
     "output_type": "display_data"
    },
    {
     "name": "stdout",
     "output_type": "stream",
     "text": [
      "\n",
      "Eval: Loss: 0.9583758697452316, One Step MSE: 1.84058209644506e-07\n",
      "\n",
      "Eval: Loss: 0.9493848274510548, One Step MSE: 1.8232772983864778e-07\n",
      "\n",
      "Eval: Loss: 0.9515484552306822, One Step MSE: 1.827570414146735e-07\n",
      "\n",
      "Eval: Rollout MSE: 0.09368328750133514\n",
      "\n",
      "Eval: Loss: 0.9512794434306133, One Step MSE: 1.8271133656646753e-07\n",
      "\n",
      "Eval: Loss: 0.9510414681760183, One Step MSE: 1.8264573395343354e-07\n"
     ]
    },
    {
     "data": {
      "application/vnd.jupyter.widget-view+json": {
       "model_id": "2d20e5e8a85c4e0ca987560614bfcba6",
       "version_major": 2,
       "version_minor": 0
      },
      "text/plain": [
       "Epoch 7:   0%|          | 0/249 [00:00<?, ?it/s]"
      ]
     },
     "metadata": {},
     "output_type": "display_data"
    },
    {
     "name": "stdout",
     "output_type": "stream",
     "text": [
      "\n",
      "Eval: Loss: 0.9479142707514475, One Step MSE: 1.8203654874067283e-07\n",
      "\n",
      "Eval: Loss: 0.9503952365323721, One Step MSE: 1.8253155629904304e-07\n",
      "\n",
      "Eval: Rollout MSE: 0.0801350548863411\n",
      "\n",
      "Eval: Loss: 0.9465389397728395, One Step MSE: 1.8178037531282074e-07\n",
      "\n",
      "Eval: Loss: 0.9690302878498552, One Step MSE: 1.8613354146522448e-07\n",
      "\n",
      "Eval: Loss: 0.9394109402315683, One Step MSE: 1.8037366637517734e-07\n"
     ]
    },
    {
     "data": {
      "application/vnd.jupyter.widget-view+json": {
       "model_id": "1c9784e1d3ff448da9576eb3c0fefd4c",
       "version_major": 2,
       "version_minor": 0
      },
      "text/plain": [
       "Epoch 8:   0%|          | 0/249 [00:00<?, ?it/s]"
      ]
     },
     "metadata": {},
     "output_type": "display_data"
    },
    {
     "name": "stdout",
     "output_type": "stream",
     "text": [
      "\n",
      "Eval: Loss: 0.952948590837808, One Step MSE: 1.8301603720958674e-07\n",
      "\n",
      "Eval: Rollout MSE: 0.12793445587158203\n",
      "\n",
      "Eval: Loss: 0.9284645122696596, One Step MSE: 1.7822610431838725e-07\n",
      "\n",
      "Eval: Loss: 0.79309892223542, One Step MSE: 1.5186311427661135e-07\n",
      "\n",
      "Eval: Loss: 0.69657668004553, One Step MSE: 1.3311259406113512e-07\n",
      "\n",
      "Eval: Loss: 0.6904670100614249, One Step MSE: 1.3196090444731148e-07\n",
      "\n",
      "Eval: Rollout MSE: 0.13443459570407867\n"
     ]
    },
    {
     "data": {
      "application/vnd.jupyter.widget-view+json": {
       "model_id": "7d23a57d4fb14ba49228bc98c3418915",
       "version_major": 2,
       "version_minor": 0
      },
      "text/plain": [
       "Epoch 9:   0%|          | 0/249 [00:00<?, ?it/s]"
      ]
     },
     "metadata": {},
     "output_type": "display_data"
    },
    {
     "name": "stdout",
     "output_type": "stream",
     "text": [
      "\n",
      "Eval: Loss: 0.6829415133679249, One Step MSE: 1.305148277895178e-07\n",
      "\n",
      "Eval: Loss: 0.7089588680420534, One Step MSE: 1.355926201198139e-07\n",
      "\n",
      "Eval: Loss: 0.6641438617763749, One Step MSE: 1.268937054816658e-07\n",
      "\n",
      "Eval: Loss: 0.6487180102302368, One Step MSE: 1.2391740775487174e-07\n",
      "\n",
      "Eval: Rollout MSE: 0.09905266761779785\n",
      "\n",
      "Eval: Loss: 0.6511383413310989, One Step MSE: 1.2435788404039353e-07\n"
     ]
    }
   ],
   "source": [
    "\n",
    "# load dataset\n",
    "train_dataset = OneStepDataset(data_path, \"train\", noise_std=params[\"noise\"])\n",
    "valid_dataset = OneStepDataset(data_path, \"valid\", noise_std=params[\"noise\"])\n",
    "train_loader = pyg.loader.DataLoader(train_dataset, batch_size=params[\"batch_size\"], shuffle=True, pin_memory=True)\n",
    "valid_loader = pyg.loader.DataLoader(valid_dataset, batch_size=params[\"batch_size\"], shuffle=False, pin_memory=True)\n",
    "valid_rollout_dataset = RolloutDataset(data_path, \"valid\")\n",
    "\n",
    "# build model\n",
    "simulator = LearnedSimulator()\n",
    "simulator = simulator.cuda()\n",
    "\n",
    "# train the model\n",
    "train_loss_list, eval_loss_list, onestep_mse_list, rollout_mse_list = train(params, simulator, train_loader, valid_loader, valid_rollout_dataset)"
   ]
  },
  {
   "cell_type": "code",
   "execution_count": 364,
   "id": "72f843a1",
   "metadata": {},
   "outputs": [
    {
     "data": {
      "application/vnd.jupyter.widget-view+json": {
       "model_id": "9ee3f2b04fa143acbbbf003346d217cb",
       "version_major": 2,
       "version_minor": 0
      },
      "text/plain": [
       "Epoch 0:   0%|          | 0/249 [00:00<?, ?it/s]"
      ]
     },
     "metadata": {},
     "output_type": "display_data"
    },
    {
     "name": "stdout",
     "output_type": "stream",
     "text": [
      "\n",
      "Eval: Loss: 0.2616469607535136, One Step MSE: 5.013924460267315e-08\n",
      "\n",
      "Eval: Loss: 0.26295955927975206, One Step MSE: 5.0379279693093984e-08\n",
      "\n",
      "Eval: Loss: 0.2535785820230423, One Step MSE: 4.863960505046514e-08\n",
      "\n",
      "Eval: Loss: 0.26570188358845004, One Step MSE: 5.096944409058826e-08\n",
      "\n",
      "Eval: Rollout MSE: 0.10197649151086807\n"
     ]
    },
    {
     "data": {
      "application/vnd.jupyter.widget-view+json": {
       "model_id": "81b3cba52ffc40a39f1b70175a6babbe",
       "version_major": 2,
       "version_minor": 0
      },
      "text/plain": [
       "Epoch 1:   0%|          | 0/249 [00:00<?, ?it/s]"
      ]
     },
     "metadata": {},
     "output_type": "display_data"
    },
    {
     "name": "stdout",
     "output_type": "stream",
     "text": [
      "\n",
      "Eval: Loss: 0.29662416480391857, One Step MSE: 5.6966856798947605e-08\n",
      "\n",
      "Eval: Loss: 0.2726143308911458, One Step MSE: 5.228790213658591e-08\n",
      "\n",
      "Eval: Loss: 0.2614972110852659, One Step MSE: 5.01566647420782e-08\n",
      "\n",
      "Eval: Loss: 0.24134648019769583, One Step MSE: 4.6260664468232665e-08\n",
      "\n",
      "Eval: Rollout MSE: 0.17473091185092926\n",
      "\n",
      "Eval: Loss: 0.2441305439754662, One Step MSE: 4.6825598870035e-08\n"
     ]
    },
    {
     "data": {
      "application/vnd.jupyter.widget-view+json": {
       "model_id": "8d99757f34a64932abb7e063b8d295cb",
       "version_major": 2,
       "version_minor": 0
      },
      "text/plain": [
       "Epoch 2:   0%|          | 0/249 [00:00<?, ?it/s]"
      ]
     },
     "metadata": {},
     "output_type": "display_data"
    },
    {
     "name": "stdout",
     "output_type": "stream",
     "text": [
      "\n",
      "Eval: Loss: 0.3728573319902382, One Step MSE: 7.161749990013484e-08\n",
      "\n",
      "Eval: Loss: 0.23211895659506082, One Step MSE: 4.4545838204201745e-08\n",
      "\n",
      "Eval: Loss: 0.2544067055585394, One Step MSE: 4.880437349032102e-08\n",
      "\n",
      "Eval: Rollout MSE: 0.14961686730384827\n",
      "\n",
      "Eval: Loss: 0.23706163459992313, One Step MSE: 4.543293225435992e-08\n",
      "\n",
      "Eval: Loss: 0.22269554131002312, One Step MSE: 4.2716584354513223e-08\n"
     ]
    },
    {
     "data": {
      "application/vnd.jupyter.widget-view+json": {
       "model_id": "50d7d07535ac43b98ab0195f69635ab6",
       "version_major": 2,
       "version_minor": 0
      },
      "text/plain": [
       "Epoch 3:   0%|          | 0/249 [00:00<?, ?it/s]"
      ]
     },
     "metadata": {},
     "output_type": "display_data"
    },
    {
     "name": "stdout",
     "output_type": "stream",
     "text": [
      "\n",
      "Eval: Loss: 0.22533245528318796, One Step MSE: 4.3228971738262386e-08\n",
      "\n",
      "Eval: Loss: 0.2305466681120386, One Step MSE: 4.4232635596220816e-08\n",
      "\n",
      "Eval: Rollout MSE: 0.1361403912305832\n",
      "\n",
      "Eval: Loss: 0.21680533419172449, One Step MSE: 4.1589277692393684e-08\n",
      "\n",
      "Eval: Loss: 0.3126486116145031, One Step MSE: 5.983522792100675e-08\n",
      "\n",
      "Eval: Loss: 0.21997478011860905, One Step MSE: 4.2191909710754954e-08\n"
     ]
    },
    {
     "data": {
      "application/vnd.jupyter.widget-view+json": {
       "model_id": "815c3f8174a245479ce6eb59e6718620",
       "version_major": 2,
       "version_minor": 0
      },
      "text/plain": [
       "Epoch 4:   0%|          | 0/249 [00:00<?, ?it/s]"
      ]
     },
     "metadata": {},
     "output_type": "display_data"
    },
    {
     "name": "stdout",
     "output_type": "stream",
     "text": [
      "\n",
      "Eval: Loss: 0.23338709484381848, One Step MSE: 4.484048354044377e-08\n",
      "\n",
      "Eval: Rollout MSE: 0.5106481313705444\n",
      "\n",
      "Eval: Loss: 0.2164455151940924, One Step MSE: 4.1513462846693754e-08\n",
      "\n",
      "Eval: Loss: 0.23870946688345637, One Step MSE: 4.5771944685160646e-08\n",
      "\n",
      "Eval: Loss: 0.2845826034086296, One Step MSE: 5.465027654334547e-08\n",
      "\n",
      "Eval: Loss: 0.21230587979636517, One Step MSE: 4.075886143187246e-08\n",
      "\n",
      "Eval: Rollout MSE: 0.12613263726234436\n"
     ]
    },
    {
     "data": {
      "application/vnd.jupyter.widget-view+json": {
       "model_id": "707896e47ec140f9b1cb5128d957597e",
       "version_major": 2,
       "version_minor": 0
      },
      "text/plain": [
       "Epoch 5:   0%|          | 0/249 [00:00<?, ?it/s]"
      ]
     },
     "metadata": {},
     "output_type": "display_data"
    },
    {
     "name": "stdout",
     "output_type": "stream",
     "text": [
      "\n",
      "Eval: Loss: 0.2450734105215494, One Step MSE: 4.7065426347858487e-08\n",
      "\n",
      "Eval: Loss: 0.217976485450105, One Step MSE: 4.1821178666497825e-08\n",
      "\n",
      "Eval: Loss: 0.2273487168622304, One Step MSE: 4.357228592747712e-08\n",
      "\n",
      "Eval: Loss: 0.21563396025374232, One Step MSE: 4.138195318587971e-08\n",
      "\n",
      "Eval: Rollout MSE: 0.10490266978740692\n",
      "\n",
      "Eval: Loss: 0.20796068659029812, One Step MSE: 3.9934180456868604e-08\n"
     ]
    },
    {
     "data": {
      "application/vnd.jupyter.widget-view+json": {
       "model_id": "16b2dfc3ed2f4623a26c6fa4ee3bfbc6",
       "version_major": 2,
       "version_minor": 0
      },
      "text/plain": [
       "Epoch 6:   0%|          | 0/249 [00:00<?, ?it/s]"
      ]
     },
     "metadata": {},
     "output_type": "display_data"
    },
    {
     "name": "stdout",
     "output_type": "stream",
     "text": [
      "\n",
      "Eval: Loss: 0.19965402351086398, One Step MSE: 3.8320121045085146e-08\n",
      "\n",
      "Eval: Loss: 0.21316542473423433, One Step MSE: 4.083943189159189e-08\n",
      "\n",
      "Eval: Loss: 0.2865939548456046, One Step MSE: 5.496589817124161e-08\n",
      "\n",
      "Eval: Rollout MSE: 0.20426799356937408\n",
      "\n",
      "Eval: Loss: 0.20160428721861667, One Step MSE: 3.867923801863756e-08\n",
      "\n",
      "Eval: Loss: 0.3601494719943847, One Step MSE: 6.918139835207114e-08\n"
     ]
    },
    {
     "data": {
      "application/vnd.jupyter.widget-view+json": {
       "model_id": "3baa5f4948dd464ab295df78f94a28e0",
       "version_major": 2,
       "version_minor": 0
      },
      "text/plain": [
       "Epoch 7:   0%|          | 0/249 [00:00<?, ?it/s]"
      ]
     },
     "metadata": {},
     "output_type": "display_data"
    },
    {
     "name": "stdout",
     "output_type": "stream",
     "text": [
      "\n",
      "Eval: Loss: 0.28124165331503476, One Step MSE: 5.398749561993965e-08\n",
      "\n",
      "Eval: Loss: 0.22632891574059147, One Step MSE: 4.346836219663356e-08\n",
      "\n",
      "Eval: Rollout MSE: 0.24785123765468597\n",
      "\n",
      "Eval: Loss: 0.2245672652161265, One Step MSE: 4.308741177147936e-08\n",
      "\n",
      "Eval: Loss: 0.208636379355647, One Step MSE: 4.006987602766808e-08\n",
      "\n",
      "Eval: Loss: 0.20694669979403776, One Step MSE: 3.973146713728893e-08\n"
     ]
    },
    {
     "data": {
      "application/vnd.jupyter.widget-view+json": {
       "model_id": "a85dc98e18d34901aead9176bd3e7323",
       "version_major": 2,
       "version_minor": 0
      },
      "text/plain": [
       "Epoch 8:   0%|          | 0/249 [00:00<?, ?it/s]"
      ]
     },
     "metadata": {},
     "output_type": "display_data"
    },
    {
     "name": "stdout",
     "output_type": "stream",
     "text": [
      "\n",
      "Eval: Loss: 0.19383875265657663, One Step MSE: 3.716911636306933e-08\n",
      "\n",
      "Eval: Rollout MSE: 0.14658424258232117\n",
      "\n",
      "Eval: Loss: 0.19287166406351877, One Step MSE: 3.700906388666542e-08\n",
      "\n",
      "Eval: Loss: 0.2091328943948669, One Step MSE: 4.016313376298175e-08\n",
      "\n",
      "Eval: Loss: 0.18562955558898458, One Step MSE: 3.560562684137301e-08\n",
      "\n",
      "Eval: Loss: 0.193223562136472, One Step MSE: 3.707192341950538e-08\n",
      "\n",
      "Eval: Rollout MSE: 0.1840062290430069\n"
     ]
    },
    {
     "data": {
      "application/vnd.jupyter.widget-view+json": {
       "model_id": "cd4e508d22594383834bcb09eeb8d3a2",
       "version_major": 2,
       "version_minor": 0
      },
      "text/plain": [
       "Epoch 9:   0%|          | 0/249 [00:00<?, ?it/s]"
      ]
     },
     "metadata": {},
     "output_type": "display_data"
    },
    {
     "name": "stdout",
     "output_type": "stream",
     "text": [
      "\n",
      "Eval: Loss: 0.26158735700639857, One Step MSE: 5.0234946127022294e-08\n",
      "\n",
      "Eval: Loss: 0.20004188529698244, One Step MSE: 3.835027796265515e-08\n",
      "\n",
      "Eval: Loss: 0.2064299114257935, One Step MSE: 3.959019364906654e-08\n",
      "\n",
      "Eval: Loss: 0.6066004799073001, One Step MSE: 1.1675173867223087e-07\n",
      "\n",
      "Eval: Rollout MSE: 0.5230891704559326\n",
      "\n",
      "Eval: Loss: 0.2687727821519576, One Step MSE: 5.162076337468128e-08\n"
     ]
    }
   ],
   "source": [
    "train_loss_list, eval_loss_list, onestep_mse_list, rollout_mse_list = train(params, simulator, train_loader, valid_loader, valid_rollout_dataset)"
   ]
  },
  {
   "cell_type": "code",
   "execution_count": 365,
   "id": "fbf5a506",
   "metadata": {},
   "outputs": [
    {
     "data": {
      "image/png": "[encoded data removed]",
      "text/plain": [
       "<Figure size 640x480 with 1 Axes>"
      ]
     },
     "metadata": {},
     "output_type": "display_data"
    }
   ],
   "source": [
    "%matplotlib inline\n",
    "import matplotlib.pyplot as plt\n",
    "\n",
    "# visualize the loss curve\n",
    "plt.figure()\n",
    "plt.plot(*zip(*train_loss_list), label=\"train\")\n",
    "plt.plot(*zip(*eval_loss_list), label=\"valid\")\n",
    "plt.xlabel('Iterations')\n",
    "plt.ylabel('Loss')\n",
    "plt.title('Loss')\n",
    "plt.legend()\n",
    "plt.show()"
   ]
  },
  {
   "cell_type": "code",
   "execution_count": 361,
   "id": "125b99a9",
   "metadata": {},
   "outputs": [],
   "source": [
    "# simulator = LearnedSimulator()\n",
    "# simulator = simulator.cuda()\n",
    "\n",
    "# checkpoint = torch.load(\"temp/models/WaterDrop_checkpoint.pt\")\n",
    "# simulator.load_state_dict(checkpoint[\"model\"])"
   ]
  },
  {
   "cell_type": "code",
   "execution_count": null,
   "id": "79a6318f",
   "metadata": {},
   "outputs": [],
   "source": [
    "rollout_dataset = RolloutDataset(data_path, \"valid\")\n",
    "simulator.eval()\n",
    "rollout_data = rollout_dataset[0]\n",
    "rollout_out = rollout(simulator, rollout_data, rollout_dataset.metadata, params[\"noise\"])\n",
    "rollout_out = rollout_out.permute(1, 0, 2)"
   ]
  },
  {
   "cell_type": "code",
   "execution_count": null,
   "id": "fdf5e018",
   "metadata": {},
   "outputs": [],
   "source": [
    "%matplotlib inline\n",
    "import matplotlib.pyplot as plt\n",
    "from matplotlib import animation\n",
    "from IPython.display import HTML\n",
    "\n",
    "TYPE_TO_COLOR = {\n",
    "    3: \"black\",\n",
    "    0: \"green\",\n",
    "    7: \"magenta\",\n",
    "    6: \"gold\",\n",
    "    5: \"blue\",\n",
    "}\n",
    "\n",
    "\n",
    "def visualize_prepare(ax, particle_type, position, metadata):\n",
    "    bounds = metadata[\"bounds\"]\n",
    "    ax.set_xlim(bounds[0][0], bounds[0][1])\n",
    "    ax.set_ylim(bounds[1][0], bounds[1][1])\n",
    "    ax.set_xticks([])\n",
    "    ax.set_yticks([])\n",
    "    ax.set_aspect(1.0)\n",
    "    points = {type_: ax.plot([], [], \"o\", ms=2, color=color)[0] for type_, color in TYPE_TO_COLOR.items()}\n",
    "    return ax, position, points\n",
    "\n",
    "\n",
    "def visualize_pair(particle_type, position_pred, position_gt, metadata):\n",
    "    fig, axes = plt.subplots(1, 2, figsize=(10, 5))\n",
    "    plot_info = [\n",
    "        visualize_prepare(axes[0], particle_type, position_gt, metadata),\n",
    "        visualize_prepare(axes[1], particle_type, position_pred, metadata),\n",
    "    ]\n",
    "    axes[0].set_title(\"Ground truth\")\n",
    "    axes[1].set_title(\"Prediction\")\n",
    "\n",
    "    plt.close()\n",
    "\n",
    "    def update(step_i):\n",
    "        outputs = []\n",
    "        for _, position, points in plot_info:\n",
    "            for type_, line in points.items():\n",
    "                mask = particle_type == type_\n",
    "                line.set_data(position[step_i, mask, 0], position[step_i, mask, 1])\n",
    "            outputs.append(line)\n",
    "        return outputs\n",
    "\n",
    "    return animation.FuncAnimation(fig, update, frames=np.arange(0, position_gt.size(0)), interval=10, blit=True)\n",
    "\n",
    "anim = visualize_pair(rollout_data[\"particle_type\"], rollout_out, rollout_data[\"position\"], rollout_dataset.metadata)\n",
    "HTML(anim.to_html5_video())"
   ]
  },
  {
   "cell_type": "code",
   "execution_count": null,
   "id": "88e0d009",
   "metadata": {},
   "outputs": [],
   "source": []
  },
  {
   "cell_type": "code",
   "execution_count": 279,
   "id": "195ce8a8",
   "metadata": {},
   "outputs": [],
   "source": [
    "l = pyg.loader.DataLoader(valid_dataset, batch_size=params[\"batch_size\"], shuffle=False, pin_memory=True)"
   ]
  },
  {
   "cell_type": "code",
   "execution_count": 309,
   "id": "810b90e9",
   "metadata": {},
   "outputs": [],
   "source": [
    "k = train_dataset\n",
    "m = torch_geometric.loader.DataLoader(train_dataset, batch_size=4, shuffle=True)\n"
   ]
  },
  {
   "cell_type": "code",
   "execution_count": 308,
   "id": "f28e5111",
   "metadata": {},
   "outputs": [
    {
     "data": {
      "text/plain": [
       "497.0"
      ]
     },
     "execution_count": 308,
     "metadata": {},
     "output_type": "execute_result"
    }
   ],
   "source": [
    "len(train_dataset)/4"
   ]
  },
  {
   "cell_type": "code",
   "execution_count": 310,
   "id": "be764d19",
   "metadata": {},
   "outputs": [
    {
     "name": "stdout",
     "output_type": "stream",
     "text": [
      "0 <bound method BaseData.size of DataBatch(x=[2066], edge_index=[2, 20810], edge_attr=[20810, 3], y=[2712, 2], pos=[2712, 14], batch=[2066], ptr=[5])>\n",
      "1 <bound method BaseData.size of DataBatch(x=[1743], edge_index=[2, 25960], edge_attr=[25960, 3], y=[2712, 2], pos=[2712, 14], batch=[1743], ptr=[5])>\n",
      "2 <bound method BaseData.size of DataBatch(x=[2712], edge_index=[2, 22908], edge_attr=[22908, 3], y=[2712, 2], pos=[2712, 14], batch=[2712], ptr=[5])>\n",
      "3 <bound method BaseData.size of DataBatch(x=[2066], edge_index=[2, 18732], edge_attr=[18732, 3], y=[2712, 2], pos=[2712, 14], batch=[2066], ptr=[5])>\n",
      "4 <bound method BaseData.size of DataBatch(x=[2066], edge_index=[2, 25964], edge_attr=[25964, 3], y=[2712, 2], pos=[2712, 14], batch=[2066], ptr=[5])>\n",
      "5 <bound method BaseData.size of DataBatch(x=[2389], edge_index=[2, 23594], edge_attr=[23594, 3], y=[2712, 2], pos=[2712, 14], batch=[2389], ptr=[5])>\n",
      "6 <bound method BaseData.size of DataBatch(x=[2066], edge_index=[2, 27216], edge_attr=[27216, 3], y=[2712, 2], pos=[2712, 14], batch=[2066], ptr=[5])>\n",
      "7 <bound method BaseData.size of DataBatch(x=[2389], edge_index=[2, 27146], edge_attr=[27146, 3], y=[2712, 2], pos=[2712, 14], batch=[2389], ptr=[5])>\n",
      "8 <bound method BaseData.size of DataBatch(x=[1743], edge_index=[2, 24172], edge_attr=[24172, 3], y=[2712, 2], pos=[2712, 14], batch=[1743], ptr=[5])>\n",
      "9 <bound method BaseData.size of DataBatch(x=[2066], edge_index=[2, 25528], edge_attr=[25528, 3], y=[2712, 2], pos=[2712, 14], batch=[2066], ptr=[5])>\n",
      "10 <bound method BaseData.size of DataBatch(x=[1743], edge_index=[2, 23460], edge_attr=[23460, 3], y=[2712, 2], pos=[2712, 14], batch=[1743], ptr=[5])>\n",
      "11 <bound method BaseData.size of DataBatch(x=[2066], edge_index=[2, 25820], edge_attr=[25820, 3], y=[2712, 2], pos=[2712, 14], batch=[2066], ptr=[5])>\n",
      "12 <bound method BaseData.size of DataBatch(x=[1420], edge_index=[2, 21118], edge_attr=[21118, 3], y=[2712, 2], pos=[2712, 14], batch=[1420], ptr=[5])>\n",
      "13 <bound method BaseData.size of DataBatch(x=[1743], edge_index=[2, 24342], edge_attr=[24342, 3], y=[2712, 2], pos=[2712, 14], batch=[1743], ptr=[5])>\n",
      "14 <bound method BaseData.size of DataBatch(x=[2066], edge_index=[2, 26786], edge_attr=[26786, 3], y=[2712, 2], pos=[2712, 14], batch=[2066], ptr=[5])>\n",
      "15 <bound method BaseData.size of DataBatch(x=[2066], edge_index=[2, 23970], edge_attr=[23970, 3], y=[2712, 2], pos=[2712, 14], batch=[2066], ptr=[5])>\n",
      "16 <bound method BaseData.size of DataBatch(x=[1420], edge_index=[2, 24966], edge_attr=[24966, 3], y=[2712, 2], pos=[2712, 14], batch=[1420], ptr=[5])>\n",
      "17 <bound method BaseData.size of DataBatch(x=[2066], edge_index=[2, 26848], edge_attr=[26848, 3], y=[2712, 2], pos=[2712, 14], batch=[2066], ptr=[5])>\n",
      "18 <bound method BaseData.size of DataBatch(x=[2389], edge_index=[2, 21516], edge_attr=[21516, 3], y=[2712, 2], pos=[2712, 14], batch=[2389], ptr=[5])>\n",
      "19 <bound method BaseData.size of DataBatch(x=[1743], edge_index=[2, 27756], edge_attr=[27756, 3], y=[2712, 2], pos=[2712, 14], batch=[1743], ptr=[5])>\n",
      "20 <bound method BaseData.size of DataBatch(x=[2066], edge_index=[2, 22454], edge_attr=[22454, 3], y=[2712, 2], pos=[2712, 14], batch=[2066], ptr=[5])>\n",
      "21 <bound method BaseData.size of DataBatch(x=[2066], edge_index=[2, 19190], edge_attr=[19190, 3], y=[2712, 2], pos=[2712, 14], batch=[2066], ptr=[5])>\n",
      "22 <bound method BaseData.size of DataBatch(x=[2066], edge_index=[2, 22418], edge_attr=[22418, 3], y=[2712, 2], pos=[2712, 14], batch=[2066], ptr=[5])>\n",
      "23 <bound method BaseData.size of DataBatch(x=[1743], edge_index=[2, 22134], edge_attr=[22134, 3], y=[2712, 2], pos=[2712, 14], batch=[1743], ptr=[5])>\n",
      "24 <bound method BaseData.size of DataBatch(x=[2066], edge_index=[2, 19670], edge_attr=[19670, 3], y=[2712, 2], pos=[2712, 14], batch=[2066], ptr=[5])>\n",
      "25 <bound method BaseData.size of DataBatch(x=[2389], edge_index=[2, 24138], edge_attr=[24138, 3], y=[2712, 2], pos=[2712, 14], batch=[2389], ptr=[5])>\n",
      "26 <bound method BaseData.size of DataBatch(x=[2066], edge_index=[2, 23900], edge_attr=[23900, 3], y=[2712, 2], pos=[2712, 14], batch=[2066], ptr=[5])>\n",
      "27 <bound method BaseData.size of DataBatch(x=[2066], edge_index=[2, 22780], edge_attr=[22780, 3], y=[2712, 2], pos=[2712, 14], batch=[2066], ptr=[5])>\n",
      "28 <bound method BaseData.size of DataBatch(x=[2389], edge_index=[2, 22018], edge_attr=[22018, 3], y=[2712, 2], pos=[2712, 14], batch=[2389], ptr=[5])>\n",
      "29 <bound method BaseData.size of DataBatch(x=[2066], edge_index=[2, 21988], edge_attr=[21988, 3], y=[2712, 2], pos=[2712, 14], batch=[2066], ptr=[5])>\n",
      "30 <bound method BaseData.size of DataBatch(x=[2389], edge_index=[2, 20346], edge_attr=[20346, 3], y=[2712, 2], pos=[2712, 14], batch=[2389], ptr=[5])>\n",
      "31 <bound method BaseData.size of DataBatch(x=[2389], edge_index=[2, 22958], edge_attr=[22958, 3], y=[2712, 2], pos=[2712, 14], batch=[2389], ptr=[5])>\n",
      "32 <bound method BaseData.size of DataBatch(x=[1420], edge_index=[2, 24176], edge_attr=[24176, 3], y=[2712, 2], pos=[2712, 14], batch=[1420], ptr=[5])>\n",
      "33 <bound method BaseData.size of DataBatch(x=[2712], edge_index=[2, 22030], edge_attr=[22030, 3], y=[2712, 2], pos=[2712, 14], batch=[2712], ptr=[5])>\n",
      "34 <bound method BaseData.size of DataBatch(x=[1743], edge_index=[2, 25604], edge_attr=[25604, 3], y=[2712, 2], pos=[2712, 14], batch=[1743], ptr=[5])>\n",
      "35 <bound method BaseData.size of DataBatch(x=[2389], edge_index=[2, 23002], edge_attr=[23002, 3], y=[2712, 2], pos=[2712, 14], batch=[2389], ptr=[5])>\n",
      "36 <bound method BaseData.size of DataBatch(x=[2389], edge_index=[2, 17586], edge_attr=[17586, 3], y=[2712, 2], pos=[2712, 14], batch=[2389], ptr=[5])>\n",
      "37 <bound method BaseData.size of DataBatch(x=[2066], edge_index=[2, 25456], edge_attr=[25456, 3], y=[2712, 2], pos=[2712, 14], batch=[2066], ptr=[5])>\n",
      "38 <bound method BaseData.size of DataBatch(x=[1743], edge_index=[2, 21240], edge_attr=[21240, 3], y=[2712, 2], pos=[2712, 14], batch=[1743], ptr=[5])>\n",
      "39 <bound method BaseData.size of DataBatch(x=[2389], edge_index=[2, 23344], edge_attr=[23344, 3], y=[2712, 2], pos=[2712, 14], batch=[2389], ptr=[5])>\n",
      "40 <bound method BaseData.size of DataBatch(x=[2389], edge_index=[2, 25272], edge_attr=[25272, 3], y=[2712, 2], pos=[2712, 14], batch=[2389], ptr=[5])>\n",
      "41 <bound method BaseData.size of DataBatch(x=[2066], edge_index=[2, 23284], edge_attr=[23284, 3], y=[2712, 2], pos=[2712, 14], batch=[2066], ptr=[5])>\n",
      "42 <bound method BaseData.size of DataBatch(x=[2066], edge_index=[2, 20596], edge_attr=[20596, 3], y=[2712, 2], pos=[2712, 14], batch=[2066], ptr=[5])>\n",
      "43 <bound method BaseData.size of DataBatch(x=[2389], edge_index=[2, 20230], edge_attr=[20230, 3], y=[2712, 2], pos=[2712, 14], batch=[2389], ptr=[5])>\n",
      "44 <bound method BaseData.size of DataBatch(x=[2066], edge_index=[2, 24690], edge_attr=[24690, 3], y=[2712, 2], pos=[2712, 14], batch=[2066], ptr=[5])>\n",
      "45 <bound method BaseData.size of DataBatch(x=[2066], edge_index=[2, 22086], edge_attr=[22086, 3], y=[2712, 2], pos=[2712, 14], batch=[2066], ptr=[5])>\n",
      "46 <bound method BaseData.size of DataBatch(x=[1743], edge_index=[2, 21850], edge_attr=[21850, 3], y=[2712, 2], pos=[2712, 14], batch=[1743], ptr=[5])>\n",
      "47 <bound method BaseData.size of DataBatch(x=[1743], edge_index=[2, 19920], edge_attr=[19920, 3], y=[2712, 2], pos=[2712, 14], batch=[1743], ptr=[5])>\n",
      "48 <bound method BaseData.size of DataBatch(x=[2066], edge_index=[2, 24334], edge_attr=[24334, 3], y=[2712, 2], pos=[2712, 14], batch=[2066], ptr=[5])>\n",
      "49 <bound method BaseData.size of DataBatch(x=[2389], edge_index=[2, 18482], edge_attr=[18482, 3], y=[2712, 2], pos=[2712, 14], batch=[2389], ptr=[5])>\n",
      "50 <bound method BaseData.size of DataBatch(x=[1743], edge_index=[2, 23032], edge_attr=[23032, 3], y=[2712, 2], pos=[2712, 14], batch=[1743], ptr=[5])>\n",
      "51 <bound method BaseData.size of DataBatch(x=[2066], edge_index=[2, 25122], edge_attr=[25122, 3], y=[2712, 2], pos=[2712, 14], batch=[2066], ptr=[5])>\n",
      "52 <bound method BaseData.size of DataBatch(x=[1743], edge_index=[2, 27226], edge_attr=[27226, 3], y=[2712, 2], pos=[2712, 14], batch=[1743], ptr=[5])>\n",
      "53 <bound method BaseData.size of DataBatch(x=[1743], edge_index=[2, 23302], edge_attr=[23302, 3], y=[2712, 2], pos=[2712, 14], batch=[1743], ptr=[5])>\n",
      "54 <bound method BaseData.size of DataBatch(x=[1743], edge_index=[2, 20774], edge_attr=[20774, 3], y=[2712, 2], pos=[2712, 14], batch=[1743], ptr=[5])>\n",
      "55 <bound method BaseData.size of DataBatch(x=[2066], edge_index=[2, 20728], edge_attr=[20728, 3], y=[2712, 2], pos=[2712, 14], batch=[2066], ptr=[5])>\n",
      "56 <bound method BaseData.size of DataBatch(x=[1420], edge_index=[2, 21996], edge_attr=[21996, 3], y=[2712, 2], pos=[2712, 14], batch=[1420], ptr=[5])>\n",
      "57 <bound method BaseData.size of DataBatch(x=[1743], edge_index=[2, 21530], edge_attr=[21530, 3], y=[2712, 2], pos=[2712, 14], batch=[1743], ptr=[5])>\n",
      "58 <bound method BaseData.size of DataBatch(x=[1743], edge_index=[2, 24596], edge_attr=[24596, 3], y=[2712, 2], pos=[2712, 14], batch=[1743], ptr=[5])>\n",
      "59 <bound method BaseData.size of DataBatch(x=[2066], edge_index=[2, 27138], edge_attr=[27138, 3], y=[2712, 2], pos=[2712, 14], batch=[2066], ptr=[5])>\n",
      "60 <bound method BaseData.size of DataBatch(x=[2066], edge_index=[2, 22998], edge_attr=[22998, 3], y=[2712, 2], pos=[2712, 14], batch=[2066], ptr=[5])>\n",
      "61 <bound method BaseData.size of DataBatch(x=[2712], edge_index=[2, 21184], edge_attr=[21184, 3], y=[2712, 2], pos=[2712, 14], batch=[2712], ptr=[5])>\n",
      "62 <bound method BaseData.size of DataBatch(x=[2712], edge_index=[2, 20728], edge_attr=[20728, 3], y=[2712, 2], pos=[2712, 14], batch=[2712], ptr=[5])>\n",
      "63 <bound method BaseData.size of DataBatch(x=[2389], edge_index=[2, 23446], edge_attr=[23446, 3], y=[2712, 2], pos=[2712, 14], batch=[2389], ptr=[5])>\n",
      "64 <bound method BaseData.size of DataBatch(x=[2066], edge_index=[2, 21828], edge_attr=[21828, 3], y=[2712, 2], pos=[2712, 14], batch=[2066], ptr=[5])>\n",
      "65 <bound method BaseData.size of DataBatch(x=[2066], edge_index=[2, 19928], edge_attr=[19928, 3], y=[2712, 2], pos=[2712, 14], batch=[2066], ptr=[5])>\n"
     ]
    },
    {
     "name": "stdout",
     "output_type": "stream",
     "text": [
      "66 <bound method BaseData.size of DataBatch(x=[2712], edge_index=[2, 23940], edge_attr=[23940, 3], y=[2712, 2], pos=[2712, 14], batch=[2712], ptr=[5])>\n",
      "67 <bound method BaseData.size of DataBatch(x=[1743], edge_index=[2, 20740], edge_attr=[20740, 3], y=[2712, 2], pos=[2712, 14], batch=[1743], ptr=[5])>\n",
      "68 <bound method BaseData.size of DataBatch(x=[1743], edge_index=[2, 19086], edge_attr=[19086, 3], y=[2712, 2], pos=[2712, 14], batch=[1743], ptr=[5])>\n",
      "69 <bound method BaseData.size of DataBatch(x=[1743], edge_index=[2, 22334], edge_attr=[22334, 3], y=[2712, 2], pos=[2712, 14], batch=[1743], ptr=[5])>\n",
      "70 <bound method BaseData.size of DataBatch(x=[2389], edge_index=[2, 22462], edge_attr=[22462, 3], y=[2712, 2], pos=[2712, 14], batch=[2389], ptr=[5])>\n",
      "71 <bound method BaseData.size of DataBatch(x=[1743], edge_index=[2, 24588], edge_attr=[24588, 3], y=[2712, 2], pos=[2712, 14], batch=[1743], ptr=[5])>\n",
      "72 <bound method BaseData.size of DataBatch(x=[2066], edge_index=[2, 26356], edge_attr=[26356, 3], y=[2712, 2], pos=[2712, 14], batch=[2066], ptr=[5])>\n",
      "73 <bound method BaseData.size of DataBatch(x=[2066], edge_index=[2, 20588], edge_attr=[20588, 3], y=[2712, 2], pos=[2712, 14], batch=[2066], ptr=[5])>\n",
      "74 <bound method BaseData.size of DataBatch(x=[2389], edge_index=[2, 24762], edge_attr=[24762, 3], y=[2712, 2], pos=[2712, 14], batch=[2389], ptr=[5])>\n",
      "75 <bound method BaseData.size of DataBatch(x=[1743], edge_index=[2, 19526], edge_attr=[19526, 3], y=[2712, 2], pos=[2712, 14], batch=[1743], ptr=[5])>\n",
      "76 <bound method BaseData.size of DataBatch(x=[2066], edge_index=[2, 21656], edge_attr=[21656, 3], y=[2712, 2], pos=[2712, 14], batch=[2066], ptr=[5])>\n",
      "77 <bound method BaseData.size of DataBatch(x=[1743], edge_index=[2, 24196], edge_attr=[24196, 3], y=[2712, 2], pos=[2712, 14], batch=[1743], ptr=[5])>\n",
      "78 <bound method BaseData.size of DataBatch(x=[2066], edge_index=[2, 22944], edge_attr=[22944, 3], y=[2712, 2], pos=[2712, 14], batch=[2066], ptr=[5])>\n",
      "79 <bound method BaseData.size of DataBatch(x=[2712], edge_index=[2, 23222], edge_attr=[23222, 3], y=[2712, 2], pos=[2712, 14], batch=[2712], ptr=[5])>\n",
      "80 <bound method BaseData.size of DataBatch(x=[1420], edge_index=[2, 23886], edge_attr=[23886, 3], y=[2712, 2], pos=[2712, 14], batch=[1420], ptr=[5])>\n",
      "81 <bound method BaseData.size of DataBatch(x=[2389], edge_index=[2, 20772], edge_attr=[20772, 3], y=[2712, 2], pos=[2712, 14], batch=[2389], ptr=[5])>\n",
      "82 <bound method BaseData.size of DataBatch(x=[2066], edge_index=[2, 24560], edge_attr=[24560, 3], y=[2712, 2], pos=[2712, 14], batch=[2066], ptr=[5])>\n",
      "83 <bound method BaseData.size of DataBatch(x=[1743], edge_index=[2, 23976], edge_attr=[23976, 3], y=[2712, 2], pos=[2712, 14], batch=[1743], ptr=[5])>\n",
      "84 <bound method BaseData.size of DataBatch(x=[1743], edge_index=[2, 25414], edge_attr=[25414, 3], y=[2712, 2], pos=[2712, 14], batch=[1743], ptr=[5])>\n",
      "85 <bound method BaseData.size of DataBatch(x=[2389], edge_index=[2, 24258], edge_attr=[24258, 3], y=[2712, 2], pos=[2712, 14], batch=[2389], ptr=[5])>\n",
      "86 <bound method BaseData.size of DataBatch(x=[2389], edge_index=[2, 20360], edge_attr=[20360, 3], y=[2712, 2], pos=[2712, 14], batch=[2389], ptr=[5])>\n",
      "87 <bound method BaseData.size of DataBatch(x=[2389], edge_index=[2, 23610], edge_attr=[23610, 3], y=[2712, 2], pos=[2712, 14], batch=[2389], ptr=[5])>\n",
      "88 <bound method BaseData.size of DataBatch(x=[1743], edge_index=[2, 19852], edge_attr=[19852, 3], y=[2712, 2], pos=[2712, 14], batch=[1743], ptr=[5])>\n",
      "89 <bound method BaseData.size of DataBatch(x=[2066], edge_index=[2, 22246], edge_attr=[22246, 3], y=[2712, 2], pos=[2712, 14], batch=[2066], ptr=[5])>\n",
      "90 <bound method BaseData.size of DataBatch(x=[2389], edge_index=[2, 21714], edge_attr=[21714, 3], y=[2712, 2], pos=[2712, 14], batch=[2389], ptr=[5])>\n",
      "91 <bound method BaseData.size of DataBatch(x=[1743], edge_index=[2, 19686], edge_attr=[19686, 3], y=[2712, 2], pos=[2712, 14], batch=[1743], ptr=[5])>\n",
      "92 <bound method BaseData.size of DataBatch(x=[2066], edge_index=[2, 19728], edge_attr=[19728, 3], y=[2712, 2], pos=[2712, 14], batch=[2066], ptr=[5])>\n",
      "93 <bound method BaseData.size of DataBatch(x=[1743], edge_index=[2, 24250], edge_attr=[24250, 3], y=[2712, 2], pos=[2712, 14], batch=[1743], ptr=[5])>\n",
      "94 <bound method BaseData.size of DataBatch(x=[2389], edge_index=[2, 21256], edge_attr=[21256, 3], y=[2712, 2], pos=[2712, 14], batch=[2389], ptr=[5])>\n",
      "95 <bound method BaseData.size of DataBatch(x=[1743], edge_index=[2, 20970], edge_attr=[20970, 3], y=[2712, 2], pos=[2712, 14], batch=[1743], ptr=[5])>\n",
      "96 <bound method BaseData.size of DataBatch(x=[2389], edge_index=[2, 23734], edge_attr=[23734, 3], y=[2712, 2], pos=[2712, 14], batch=[2389], ptr=[5])>\n",
      "97 <bound method BaseData.size of DataBatch(x=[2712], edge_index=[2, 25366], edge_attr=[25366, 3], y=[2712, 2], pos=[2712, 14], batch=[2712], ptr=[5])>\n",
      "98 <bound method BaseData.size of DataBatch(x=[2066], edge_index=[2, 23098], edge_attr=[23098, 3], y=[2712, 2], pos=[2712, 14], batch=[2066], ptr=[5])>\n",
      "99 <bound method BaseData.size of DataBatch(x=[2389], edge_index=[2, 22014], edge_attr=[22014, 3], y=[2712, 2], pos=[2712, 14], batch=[2389], ptr=[5])>\n",
      "100 <bound method BaseData.size of DataBatch(x=[2066], edge_index=[2, 23976], edge_attr=[23976, 3], y=[2712, 2], pos=[2712, 14], batch=[2066], ptr=[5])>\n",
      "101 <bound method BaseData.size of DataBatch(x=[2066], edge_index=[2, 24560], edge_attr=[24560, 3], y=[2712, 2], pos=[2712, 14], batch=[2066], ptr=[5])>\n",
      "102 <bound method BaseData.size of DataBatch(x=[2066], edge_index=[2, 22192], edge_attr=[22192, 3], y=[2712, 2], pos=[2712, 14], batch=[2066], ptr=[5])>\n",
      "103 <bound method BaseData.size of DataBatch(x=[2389], edge_index=[2, 25256], edge_attr=[25256, 3], y=[2712, 2], pos=[2712, 14], batch=[2389], ptr=[5])>\n",
      "104 <bound method BaseData.size of DataBatch(x=[2066], edge_index=[2, 23286], edge_attr=[23286, 3], y=[2712, 2], pos=[2712, 14], batch=[2066], ptr=[5])>\n",
      "105 <bound method BaseData.size of DataBatch(x=[2066], edge_index=[2, 21824], edge_attr=[21824, 3], y=[2712, 2], pos=[2712, 14], batch=[2066], ptr=[5])>\n",
      "106 <bound method BaseData.size of DataBatch(x=[2389], edge_index=[2, 23616], edge_attr=[23616, 3], y=[2712, 2], pos=[2712, 14], batch=[2389], ptr=[5])>\n",
      "107 <bound method BaseData.size of DataBatch(x=[1743], edge_index=[2, 24840], edge_attr=[24840, 3], y=[2712, 2], pos=[2712, 14], batch=[1743], ptr=[5])>\n",
      "108 <bound method BaseData.size of DataBatch(x=[2066], edge_index=[2, 25698], edge_attr=[25698, 3], y=[2712, 2], pos=[2712, 14], batch=[2066], ptr=[5])>\n",
      "109 <bound method BaseData.size of DataBatch(x=[1743], edge_index=[2, 21124], edge_attr=[21124, 3], y=[2712, 2], pos=[2712, 14], batch=[1743], ptr=[5])>\n",
      "110 <bound method BaseData.size of DataBatch(x=[2389], edge_index=[2, 22852], edge_attr=[22852, 3], y=[2712, 2], pos=[2712, 14], batch=[2389], ptr=[5])>\n",
      "111 <bound method BaseData.size of DataBatch(x=[2389], edge_index=[2, 23810], edge_attr=[23810, 3], y=[2712, 2], pos=[2712, 14], batch=[2389], ptr=[5])>\n",
      "112 <bound method BaseData.size of DataBatch(x=[2066], edge_index=[2, 25500], edge_attr=[25500, 3], y=[2712, 2], pos=[2712, 14], batch=[2066], ptr=[5])>\n",
      "113 <bound method BaseData.size of DataBatch(x=[2066], edge_index=[2, 25326], edge_attr=[25326, 3], y=[2712, 2], pos=[2712, 14], batch=[2066], ptr=[5])>\n",
      "114 <bound method BaseData.size of DataBatch(x=[1420], edge_index=[2, 21686], edge_attr=[21686, 3], y=[2712, 2], pos=[2712, 14], batch=[1420], ptr=[5])>\n",
      "115 <bound method BaseData.size of DataBatch(x=[1743], edge_index=[2, 25096], edge_attr=[25096, 3], y=[2712, 2], pos=[2712, 14], batch=[1743], ptr=[5])>\n",
      "116 <bound method BaseData.size of DataBatch(x=[2389], edge_index=[2, 23498], edge_attr=[23498, 3], y=[2712, 2], pos=[2712, 14], batch=[2389], ptr=[5])>\n",
      "117 <bound method BaseData.size of DataBatch(x=[1743], edge_index=[2, 23574], edge_attr=[23574, 3], y=[2712, 2], pos=[2712, 14], batch=[1743], ptr=[5])>\n",
      "118 <bound method BaseData.size of DataBatch(x=[2066], edge_index=[2, 25284], edge_attr=[25284, 3], y=[2712, 2], pos=[2712, 14], batch=[2066], ptr=[5])>\n",
      "119 <bound method BaseData.size of DataBatch(x=[1743], edge_index=[2, 22690], edge_attr=[22690, 3], y=[2712, 2], pos=[2712, 14], batch=[1743], ptr=[5])>\n",
      "120 <bound method BaseData.size of DataBatch(x=[2066], edge_index=[2, 21094], edge_attr=[21094, 3], y=[2712, 2], pos=[2712, 14], batch=[2066], ptr=[5])>\n",
      "121 <bound method BaseData.size of DataBatch(x=[2066], edge_index=[2, 21718], edge_attr=[21718, 3], y=[2712, 2], pos=[2712, 14], batch=[2066], ptr=[5])>\n",
      "122 <bound method BaseData.size of DataBatch(x=[1743], edge_index=[2, 21706], edge_attr=[21706, 3], y=[2712, 2], pos=[2712, 14], batch=[1743], ptr=[5])>\n",
      "123 <bound method BaseData.size of DataBatch(x=[2066], edge_index=[2, 27506], edge_attr=[27506, 3], y=[2712, 2], pos=[2712, 14], batch=[2066], ptr=[5])>\n",
      "124 <bound method BaseData.size of DataBatch(x=[2389], edge_index=[2, 23082], edge_attr=[23082, 3], y=[2712, 2], pos=[2712, 14], batch=[2389], ptr=[5])>\n",
      "125 <bound method BaseData.size of DataBatch(x=[2066], edge_index=[2, 25126], edge_attr=[25126, 3], y=[2712, 2], pos=[2712, 14], batch=[2066], ptr=[5])>\n",
      "126 <bound method BaseData.size of DataBatch(x=[2066], edge_index=[2, 26400], edge_attr=[26400, 3], y=[2712, 2], pos=[2712, 14], batch=[2066], ptr=[5])>\n",
      "127 <bound method BaseData.size of DataBatch(x=[2389], edge_index=[2, 21372], edge_attr=[21372, 3], y=[2712, 2], pos=[2712, 14], batch=[2389], ptr=[5])>\n",
      "128 <bound method BaseData.size of DataBatch(x=[2066], edge_index=[2, 20438], edge_attr=[20438, 3], y=[2712, 2], pos=[2712, 14], batch=[2066], ptr=[5])>\n",
      "129 <bound method BaseData.size of DataBatch(x=[1420], edge_index=[2, 21862], edge_attr=[21862, 3], y=[2712, 2], pos=[2712, 14], batch=[1420], ptr=[5])>\n"
     ]
    },
    {
     "name": "stdout",
     "output_type": "stream",
     "text": [
      "130 <bound method BaseData.size of DataBatch(x=[2066], edge_index=[2, 23704], edge_attr=[23704, 3], y=[2712, 2], pos=[2712, 14], batch=[2066], ptr=[5])>\n",
      "131 <bound method BaseData.size of DataBatch(x=[2389], edge_index=[2, 24088], edge_attr=[24088, 3], y=[2712, 2], pos=[2712, 14], batch=[2389], ptr=[5])>\n",
      "132 <bound method BaseData.size of DataBatch(x=[2712], edge_index=[2, 24634], edge_attr=[24634, 3], y=[2712, 2], pos=[2712, 14], batch=[2712], ptr=[5])>\n",
      "133 <bound method BaseData.size of DataBatch(x=[1420], edge_index=[2, 23780], edge_attr=[23780, 3], y=[2712, 2], pos=[2712, 14], batch=[1420], ptr=[5])>\n",
      "134 <bound method BaseData.size of DataBatch(x=[2066], edge_index=[2, 24434], edge_attr=[24434, 3], y=[2712, 2], pos=[2712, 14], batch=[2066], ptr=[5])>\n",
      "135 <bound method BaseData.size of DataBatch(x=[2389], edge_index=[2, 20780], edge_attr=[20780, 3], y=[2712, 2], pos=[2712, 14], batch=[2389], ptr=[5])>\n",
      "136 <bound method BaseData.size of DataBatch(x=[1743], edge_index=[2, 21926], edge_attr=[21926, 3], y=[2712, 2], pos=[2712, 14], batch=[1743], ptr=[5])>\n",
      "137 <bound method BaseData.size of DataBatch(x=[2066], edge_index=[2, 20396], edge_attr=[20396, 3], y=[2712, 2], pos=[2712, 14], batch=[2066], ptr=[5])>\n",
      "138 <bound method BaseData.size of DataBatch(x=[2389], edge_index=[2, 25098], edge_attr=[25098, 3], y=[2712, 2], pos=[2712, 14], batch=[2389], ptr=[5])>\n",
      "139 <bound method BaseData.size of DataBatch(x=[2066], edge_index=[2, 24746], edge_attr=[24746, 3], y=[2712, 2], pos=[2712, 14], batch=[2066], ptr=[5])>\n",
      "140 <bound method BaseData.size of DataBatch(x=[2066], edge_index=[2, 24076], edge_attr=[24076, 3], y=[2712, 2], pos=[2712, 14], batch=[2066], ptr=[5])>\n",
      "141 <bound method BaseData.size of DataBatch(x=[2389], edge_index=[2, 23868], edge_attr=[23868, 3], y=[2712, 2], pos=[2712, 14], batch=[2389], ptr=[5])>\n",
      "142 <bound method BaseData.size of DataBatch(x=[2389], edge_index=[2, 22804], edge_attr=[22804, 3], y=[2712, 2], pos=[2712, 14], batch=[2389], ptr=[5])>\n",
      "143 <bound method BaseData.size of DataBatch(x=[2066], edge_index=[2, 26444], edge_attr=[26444, 3], y=[2712, 2], pos=[2712, 14], batch=[2066], ptr=[5])>\n",
      "144 <bound method BaseData.size of DataBatch(x=[2389], edge_index=[2, 24088], edge_attr=[24088, 3], y=[2712, 2], pos=[2712, 14], batch=[2389], ptr=[5])>\n",
      "145 <bound method BaseData.size of DataBatch(x=[1743], edge_index=[2, 25212], edge_attr=[25212, 3], y=[2712, 2], pos=[2712, 14], batch=[1743], ptr=[5])>\n",
      "146 <bound method BaseData.size of DataBatch(x=[2066], edge_index=[2, 20784], edge_attr=[20784, 3], y=[2712, 2], pos=[2712, 14], batch=[2066], ptr=[5])>\n",
      "147 <bound method BaseData.size of DataBatch(x=[2066], edge_index=[2, 25226], edge_attr=[25226, 3], y=[2712, 2], pos=[2712, 14], batch=[2066], ptr=[5])>\n",
      "148 <bound method BaseData.size of DataBatch(x=[1420], edge_index=[2, 19096], edge_attr=[19096, 3], y=[2712, 2], pos=[2712, 14], batch=[1420], ptr=[5])>\n",
      "149 <bound method BaseData.size of DataBatch(x=[2066], edge_index=[2, 26214], edge_attr=[26214, 3], y=[2712, 2], pos=[2712, 14], batch=[2066], ptr=[5])>\n",
      "150 <bound method BaseData.size of DataBatch(x=[1743], edge_index=[2, 24438], edge_attr=[24438, 3], y=[2712, 2], pos=[2712, 14], batch=[1743], ptr=[5])>\n",
      "151 <bound method BaseData.size of DataBatch(x=[2066], edge_index=[2, 22356], edge_attr=[22356, 3], y=[2712, 2], pos=[2712, 14], batch=[2066], ptr=[5])>\n",
      "152 <bound method BaseData.size of DataBatch(x=[1743], edge_index=[2, 27438], edge_attr=[27438, 3], y=[2712, 2], pos=[2712, 14], batch=[1743], ptr=[5])>\n",
      "153 <bound method BaseData.size of DataBatch(x=[2066], edge_index=[2, 24154], edge_attr=[24154, 3], y=[2712, 2], pos=[2712, 14], batch=[2066], ptr=[5])>\n",
      "154 <bound method BaseData.size of DataBatch(x=[2389], edge_index=[2, 20910], edge_attr=[20910, 3], y=[2712, 2], pos=[2712, 14], batch=[2389], ptr=[5])>\n",
      "155 <bound method BaseData.size of DataBatch(x=[1743], edge_index=[2, 21274], edge_attr=[21274, 3], y=[2712, 2], pos=[2712, 14], batch=[1743], ptr=[5])>\n",
      "156 <bound method BaseData.size of DataBatch(x=[2066], edge_index=[2, 23996], edge_attr=[23996, 3], y=[2712, 2], pos=[2712, 14], batch=[2066], ptr=[5])>\n",
      "157 <bound method BaseData.size of DataBatch(x=[2389], edge_index=[2, 19434], edge_attr=[19434, 3], y=[2712, 2], pos=[2712, 14], batch=[2389], ptr=[5])>\n",
      "158 <bound method BaseData.size of DataBatch(x=[1420], edge_index=[2, 22892], edge_attr=[22892, 3], y=[2712, 2], pos=[2712, 14], batch=[1420], ptr=[5])>\n",
      "159 <bound method BaseData.size of DataBatch(x=[2066], edge_index=[2, 22930], edge_attr=[22930, 3], y=[2712, 2], pos=[2712, 14], batch=[2066], ptr=[5])>\n",
      "160 <bound method BaseData.size of DataBatch(x=[2389], edge_index=[2, 24096], edge_attr=[24096, 3], y=[2712, 2], pos=[2712, 14], batch=[2389], ptr=[5])>\n",
      "161 <bound method BaseData.size of DataBatch(x=[1743], edge_index=[2, 23810], edge_attr=[23810, 3], y=[2712, 2], pos=[2712, 14], batch=[1743], ptr=[5])>\n",
      "162 <bound method BaseData.size of DataBatch(x=[2389], edge_index=[2, 20812], edge_attr=[20812, 3], y=[2712, 2], pos=[2712, 14], batch=[2389], ptr=[5])>\n",
      "163 <bound method BaseData.size of DataBatch(x=[2066], edge_index=[2, 23920], edge_attr=[23920, 3], y=[2712, 2], pos=[2712, 14], batch=[2066], ptr=[5])>\n",
      "164 <bound method BaseData.size of DataBatch(x=[1743], edge_index=[2, 23872], edge_attr=[23872, 3], y=[2712, 2], pos=[2712, 14], batch=[1743], ptr=[5])>\n",
      "165 <bound method BaseData.size of DataBatch(x=[2389], edge_index=[2, 26220], edge_attr=[26220, 3], y=[2712, 2], pos=[2712, 14], batch=[2389], ptr=[5])>\n",
      "166 <bound method BaseData.size of DataBatch(x=[2066], edge_index=[2, 23490], edge_attr=[23490, 3], y=[2712, 2], pos=[2712, 14], batch=[2066], ptr=[5])>\n",
      "167 <bound method BaseData.size of DataBatch(x=[2066], edge_index=[2, 25380], edge_attr=[25380, 3], y=[2712, 2], pos=[2712, 14], batch=[2066], ptr=[5])>\n",
      "168 <bound method BaseData.size of DataBatch(x=[2066], edge_index=[2, 21800], edge_attr=[21800, 3], y=[2712, 2], pos=[2712, 14], batch=[2066], ptr=[5])>\n",
      "169 <bound method BaseData.size of DataBatch(x=[2389], edge_index=[2, 22126], edge_attr=[22126, 3], y=[2712, 2], pos=[2712, 14], batch=[2389], ptr=[5])>\n",
      "170 <bound method BaseData.size of DataBatch(x=[2066], edge_index=[2, 26882], edge_attr=[26882, 3], y=[2712, 2], pos=[2712, 14], batch=[2066], ptr=[5])>\n",
      "171 <bound method BaseData.size of DataBatch(x=[2066], edge_index=[2, 22864], edge_attr=[22864, 3], y=[2712, 2], pos=[2712, 14], batch=[2066], ptr=[5])>\n",
      "172 <bound method BaseData.size of DataBatch(x=[1420], edge_index=[2, 20358], edge_attr=[20358, 3], y=[2712, 2], pos=[2712, 14], batch=[1420], ptr=[5])>\n",
      "173 <bound method BaseData.size of DataBatch(x=[2389], edge_index=[2, 20376], edge_attr=[20376, 3], y=[2712, 2], pos=[2712, 14], batch=[2389], ptr=[5])>\n",
      "174 <bound method BaseData.size of DataBatch(x=[2066], edge_index=[2, 21952], edge_attr=[21952, 3], y=[2712, 2], pos=[2712, 14], batch=[2066], ptr=[5])>\n",
      "175 <bound method BaseData.size of DataBatch(x=[2066], edge_index=[2, 23800], edge_attr=[23800, 3], y=[2712, 2], pos=[2712, 14], batch=[2066], ptr=[5])>\n",
      "176 <bound method BaseData.size of DataBatch(x=[1743], edge_index=[2, 25164], edge_attr=[25164, 3], y=[2712, 2], pos=[2712, 14], batch=[1743], ptr=[5])>\n",
      "177 <bound method BaseData.size of DataBatch(x=[2066], edge_index=[2, 20324], edge_attr=[20324, 3], y=[2712, 2], pos=[2712, 14], batch=[2066], ptr=[5])>\n",
      "178 <bound method BaseData.size of DataBatch(x=[2066], edge_index=[2, 26030], edge_attr=[26030, 3], y=[2712, 2], pos=[2712, 14], batch=[2066], ptr=[5])>\n",
      "179 <bound method BaseData.size of DataBatch(x=[2389], edge_index=[2, 20598], edge_attr=[20598, 3], y=[2712, 2], pos=[2712, 14], batch=[2389], ptr=[5])>\n",
      "180 <bound method BaseData.size of DataBatch(x=[2389], edge_index=[2, 23986], edge_attr=[23986, 3], y=[2712, 2], pos=[2712, 14], batch=[2389], ptr=[5])>\n",
      "181 <bound method BaseData.size of DataBatch(x=[1420], edge_index=[2, 21346], edge_attr=[21346, 3], y=[2712, 2], pos=[2712, 14], batch=[1420], ptr=[5])>\n",
      "182 <bound method BaseData.size of DataBatch(x=[1743], edge_index=[2, 24318], edge_attr=[24318, 3], y=[2712, 2], pos=[2712, 14], batch=[1743], ptr=[5])>\n",
      "183 <bound method BaseData.size of DataBatch(x=[1743], edge_index=[2, 22862], edge_attr=[22862, 3], y=[2712, 2], pos=[2712, 14], batch=[1743], ptr=[5])>\n",
      "184 <bound method BaseData.size of DataBatch(x=[2712], edge_index=[2, 20318], edge_attr=[20318, 3], y=[2712, 2], pos=[2712, 14], batch=[2712], ptr=[5])>\n",
      "185 <bound method BaseData.size of DataBatch(x=[1743], edge_index=[2, 20928], edge_attr=[20928, 3], y=[2712, 2], pos=[2712, 14], batch=[1743], ptr=[5])>\n",
      "186 <bound method BaseData.size of DataBatch(x=[2066], edge_index=[2, 25218], edge_attr=[25218, 3], y=[2712, 2], pos=[2712, 14], batch=[2066], ptr=[5])>\n",
      "187 <bound method BaseData.size of DataBatch(x=[2066], edge_index=[2, 27166], edge_attr=[27166, 3], y=[2712, 2], pos=[2712, 14], batch=[2066], ptr=[5])>\n",
      "188 <bound method BaseData.size of DataBatch(x=[1420], edge_index=[2, 23740], edge_attr=[23740, 3], y=[2712, 2], pos=[2712, 14], batch=[1420], ptr=[5])>\n",
      "189 <bound method BaseData.size of DataBatch(x=[1743], edge_index=[2, 24408], edge_attr=[24408, 3], y=[2712, 2], pos=[2712, 14], batch=[1743], ptr=[5])>\n",
      "190 <bound method BaseData.size of DataBatch(x=[1743], edge_index=[2, 21194], edge_attr=[21194, 3], y=[2712, 2], pos=[2712, 14], batch=[1743], ptr=[5])>\n",
      "191 <bound method BaseData.size of DataBatch(x=[2066], edge_index=[2, 24772], edge_attr=[24772, 3], y=[2712, 2], pos=[2712, 14], batch=[2066], ptr=[5])>\n",
      "192 <bound method BaseData.size of DataBatch(x=[2066], edge_index=[2, 22820], edge_attr=[22820, 3], y=[2712, 2], pos=[2712, 14], batch=[2066], ptr=[5])>\n",
      "193 <bound method BaseData.size of DataBatch(x=[2389], edge_index=[2, 21910], edge_attr=[21910, 3], y=[2712, 2], pos=[2712, 14], batch=[2389], ptr=[5])>\n",
      "194 <bound method BaseData.size of DataBatch(x=[2066], edge_index=[2, 20576], edge_attr=[20576, 3], y=[2712, 2], pos=[2712, 14], batch=[2066], ptr=[5])>\n",
      "195 <bound method BaseData.size of DataBatch(x=[1420], edge_index=[2, 23510], edge_attr=[23510, 3], y=[2712, 2], pos=[2712, 14], batch=[1420], ptr=[5])>\n"
     ]
    },
    {
     "name": "stdout",
     "output_type": "stream",
     "text": [
      "196 <bound method BaseData.size of DataBatch(x=[2389], edge_index=[2, 18110], edge_attr=[18110, 3], y=[2712, 2], pos=[2712, 14], batch=[2389], ptr=[5])>\n",
      "197 <bound method BaseData.size of DataBatch(x=[2066], edge_index=[2, 19480], edge_attr=[19480, 3], y=[2712, 2], pos=[2712, 14], batch=[2066], ptr=[5])>\n",
      "198 <bound method BaseData.size of DataBatch(x=[2066], edge_index=[2, 18250], edge_attr=[18250, 3], y=[2712, 2], pos=[2712, 14], batch=[2066], ptr=[5])>\n",
      "199 <bound method BaseData.size of DataBatch(x=[2066], edge_index=[2, 21694], edge_attr=[21694, 3], y=[2712, 2], pos=[2712, 14], batch=[2066], ptr=[5])>\n",
      "200 <bound method BaseData.size of DataBatch(x=[2389], edge_index=[2, 21972], edge_attr=[21972, 3], y=[2712, 2], pos=[2712, 14], batch=[2389], ptr=[5])>\n",
      "201 <bound method BaseData.size of DataBatch(x=[2066], edge_index=[2, 26964], edge_attr=[26964, 3], y=[2712, 2], pos=[2712, 14], batch=[2066], ptr=[5])>\n",
      "202 <bound method BaseData.size of DataBatch(x=[2712], edge_index=[2, 24692], edge_attr=[24692, 3], y=[2712, 2], pos=[2712, 14], batch=[2712], ptr=[5])>\n",
      "203 <bound method BaseData.size of DataBatch(x=[2066], edge_index=[2, 20058], edge_attr=[20058, 3], y=[2712, 2], pos=[2712, 14], batch=[2066], ptr=[5])>\n",
      "204 <bound method BaseData.size of DataBatch(x=[2389], edge_index=[2, 22610], edge_attr=[22610, 3], y=[2712, 2], pos=[2712, 14], batch=[2389], ptr=[5])>\n",
      "205 <bound method BaseData.size of DataBatch(x=[2066], edge_index=[2, 22810], edge_attr=[22810, 3], y=[2712, 2], pos=[2712, 14], batch=[2066], ptr=[5])>\n",
      "206 <bound method BaseData.size of DataBatch(x=[1743], edge_index=[2, 25004], edge_attr=[25004, 3], y=[2712, 2], pos=[2712, 14], batch=[1743], ptr=[5])>\n",
      "207 <bound method BaseData.size of DataBatch(x=[2389], edge_index=[2, 22298], edge_attr=[22298, 3], y=[2712, 2], pos=[2712, 14], batch=[2389], ptr=[5])>\n",
      "208 <bound method BaseData.size of DataBatch(x=[2066], edge_index=[2, 21612], edge_attr=[21612, 3], y=[2712, 2], pos=[2712, 14], batch=[2066], ptr=[5])>\n",
      "209 <bound method BaseData.size of DataBatch(x=[2066], edge_index=[2, 21356], edge_attr=[21356, 3], y=[2712, 2], pos=[2712, 14], batch=[2066], ptr=[5])>\n",
      "210 <bound method BaseData.size of DataBatch(x=[1743], edge_index=[2, 22948], edge_attr=[22948, 3], y=[2712, 2], pos=[2712, 14], batch=[1743], ptr=[5])>\n",
      "211 <bound method BaseData.size of DataBatch(x=[2066], edge_index=[2, 19220], edge_attr=[19220, 3], y=[2712, 2], pos=[2712, 14], batch=[2066], ptr=[5])>\n",
      "212 <bound method BaseData.size of DataBatch(x=[1743], edge_index=[2, 22264], edge_attr=[22264, 3], y=[2712, 2], pos=[2712, 14], batch=[1743], ptr=[5])>\n",
      "213 <bound method BaseData.size of DataBatch(x=[2066], edge_index=[2, 22632], edge_attr=[22632, 3], y=[2712, 2], pos=[2712, 14], batch=[2066], ptr=[5])>\n",
      "214 <bound method BaseData.size of DataBatch(x=[2066], edge_index=[2, 19340], edge_attr=[19340, 3], y=[2712, 2], pos=[2712, 14], batch=[2066], ptr=[5])>\n",
      "215 <bound method BaseData.size of DataBatch(x=[2066], edge_index=[2, 24244], edge_attr=[24244, 3], y=[2712, 2], pos=[2712, 14], batch=[2066], ptr=[5])>\n",
      "216 <bound method BaseData.size of DataBatch(x=[1743], edge_index=[2, 22450], edge_attr=[22450, 3], y=[2712, 2], pos=[2712, 14], batch=[1743], ptr=[5])>\n",
      "217 <bound method BaseData.size of DataBatch(x=[2066], edge_index=[2, 23126], edge_attr=[23126, 3], y=[2712, 2], pos=[2712, 14], batch=[2066], ptr=[5])>\n",
      "218 <bound method BaseData.size of DataBatch(x=[1743], edge_index=[2, 22324], edge_attr=[22324, 3], y=[2712, 2], pos=[2712, 14], batch=[1743], ptr=[5])>\n",
      "219 <bound method BaseData.size of DataBatch(x=[2389], edge_index=[2, 24722], edge_attr=[24722, 3], y=[2712, 2], pos=[2712, 14], batch=[2389], ptr=[5])>\n",
      "220 <bound method BaseData.size of DataBatch(x=[2066], edge_index=[2, 21958], edge_attr=[21958, 3], y=[2712, 2], pos=[2712, 14], batch=[2066], ptr=[5])>\n",
      "221 <bound method BaseData.size of DataBatch(x=[1420], edge_index=[2, 21792], edge_attr=[21792, 3], y=[2712, 2], pos=[2712, 14], batch=[1420], ptr=[5])>\n",
      "222 <bound method BaseData.size of DataBatch(x=[1743], edge_index=[2, 21056], edge_attr=[21056, 3], y=[2712, 2], pos=[2712, 14], batch=[1743], ptr=[5])>\n",
      "223 <bound method BaseData.size of DataBatch(x=[1743], edge_index=[2, 22968], edge_attr=[22968, 3], y=[2712, 2], pos=[2712, 14], batch=[1743], ptr=[5])>\n",
      "224 <bound method BaseData.size of DataBatch(x=[1743], edge_index=[2, 25546], edge_attr=[25546, 3], y=[2712, 2], pos=[2712, 14], batch=[1743], ptr=[5])>\n",
      "225 <bound method BaseData.size of DataBatch(x=[2066], edge_index=[2, 26936], edge_attr=[26936, 3], y=[2712, 2], pos=[2712, 14], batch=[2066], ptr=[5])>\n",
      "226 <bound method BaseData.size of DataBatch(x=[2066], edge_index=[2, 19826], edge_attr=[19826, 3], y=[2712, 2], pos=[2712, 14], batch=[2066], ptr=[5])>\n",
      "227 <bound method BaseData.size of DataBatch(x=[2389], edge_index=[2, 20912], edge_attr=[20912, 3], y=[2712, 2], pos=[2712, 14], batch=[2389], ptr=[5])>\n",
      "228 <bound method BaseData.size of DataBatch(x=[1743], edge_index=[2, 26600], edge_attr=[26600, 3], y=[2712, 2], pos=[2712, 14], batch=[1743], ptr=[5])>\n",
      "229 <bound method BaseData.size of DataBatch(x=[1743], edge_index=[2, 21920], edge_attr=[21920, 3], y=[2712, 2], pos=[2712, 14], batch=[1743], ptr=[5])>\n",
      "230 <bound method BaseData.size of DataBatch(x=[2389], edge_index=[2, 23138], edge_attr=[23138, 3], y=[2712, 2], pos=[2712, 14], batch=[2389], ptr=[5])>\n",
      "231 <bound method BaseData.size of DataBatch(x=[2066], edge_index=[2, 22586], edge_attr=[22586, 3], y=[2712, 2], pos=[2712, 14], batch=[2066], ptr=[5])>\n",
      "232 <bound method BaseData.size of DataBatch(x=[1743], edge_index=[2, 19482], edge_attr=[19482, 3], y=[2712, 2], pos=[2712, 14], batch=[1743], ptr=[5])>\n",
      "233 <bound method BaseData.size of DataBatch(x=[2389], edge_index=[2, 23786], edge_attr=[23786, 3], y=[2712, 2], pos=[2712, 14], batch=[2389], ptr=[5])>\n",
      "234 <bound method BaseData.size of DataBatch(x=[2066], edge_index=[2, 22682], edge_attr=[22682, 3], y=[2712, 2], pos=[2712, 14], batch=[2066], ptr=[5])>\n",
      "235 <bound method BaseData.size of DataBatch(x=[1743], edge_index=[2, 21432], edge_attr=[21432, 3], y=[2712, 2], pos=[2712, 14], batch=[1743], ptr=[5])>\n",
      "236 <bound method BaseData.size of DataBatch(x=[2066], edge_index=[2, 24632], edge_attr=[24632, 3], y=[2712, 2], pos=[2712, 14], batch=[2066], ptr=[5])>\n",
      "237 <bound method BaseData.size of DataBatch(x=[2389], edge_index=[2, 20920], edge_attr=[20920, 3], y=[2712, 2], pos=[2712, 14], batch=[2389], ptr=[5])>\n",
      "238 <bound method BaseData.size of DataBatch(x=[1743], edge_index=[2, 23612], edge_attr=[23612, 3], y=[2712, 2], pos=[2712, 14], batch=[1743], ptr=[5])>\n",
      "239 <bound method BaseData.size of DataBatch(x=[2066], edge_index=[2, 22302], edge_attr=[22302, 3], y=[2712, 2], pos=[2712, 14], batch=[2066], ptr=[5])>\n",
      "240 <bound method BaseData.size of DataBatch(x=[2066], edge_index=[2, 23596], edge_attr=[23596, 3], y=[2712, 2], pos=[2712, 14], batch=[2066], ptr=[5])>\n",
      "241 <bound method BaseData.size of DataBatch(x=[2389], edge_index=[2, 23302], edge_attr=[23302, 3], y=[2712, 2], pos=[2712, 14], batch=[2389], ptr=[5])>\n",
      "242 <bound method BaseData.size of DataBatch(x=[2066], edge_index=[2, 20336], edge_attr=[20336, 3], y=[2712, 2], pos=[2712, 14], batch=[2066], ptr=[5])>\n",
      "243 <bound method BaseData.size of DataBatch(x=[2712], edge_index=[2, 22768], edge_attr=[22768, 3], y=[2712, 2], pos=[2712, 14], batch=[2712], ptr=[5])>\n",
      "244 <bound method BaseData.size of DataBatch(x=[2066], edge_index=[2, 25842], edge_attr=[25842, 3], y=[2712, 2], pos=[2712, 14], batch=[2066], ptr=[5])>\n",
      "245 <bound method BaseData.size of DataBatch(x=[1420], edge_index=[2, 21418], edge_attr=[21418, 3], y=[2712, 2], pos=[2712, 14], batch=[1420], ptr=[5])>\n",
      "246 <bound method BaseData.size of DataBatch(x=[2066], edge_index=[2, 21502], edge_attr=[21502, 3], y=[2712, 2], pos=[2712, 14], batch=[2066], ptr=[5])>\n",
      "247 <bound method BaseData.size of DataBatch(x=[2066], edge_index=[2, 21624], edge_attr=[21624, 3], y=[2712, 2], pos=[2712, 14], batch=[2066], ptr=[5])>\n",
      "248 <bound method BaseData.size of DataBatch(x=[2389], edge_index=[2, 21046], edge_attr=[21046, 3], y=[2712, 2], pos=[2712, 14], batch=[2389], ptr=[5])>\n",
      "249 <bound method BaseData.size of DataBatch(x=[1420], edge_index=[2, 20892], edge_attr=[20892, 3], y=[2712, 2], pos=[2712, 14], batch=[1420], ptr=[5])>\n",
      "250 <bound method BaseData.size of DataBatch(x=[2712], edge_index=[2, 18306], edge_attr=[18306, 3], y=[2712, 2], pos=[2712, 14], batch=[2712], ptr=[5])>\n",
      "251 <bound method BaseData.size of DataBatch(x=[2389], edge_index=[2, 22412], edge_attr=[22412, 3], y=[2712, 2], pos=[2712, 14], batch=[2389], ptr=[5])>\n",
      "252 <bound method BaseData.size of DataBatch(x=[2066], edge_index=[2, 22362], edge_attr=[22362, 3], y=[2712, 2], pos=[2712, 14], batch=[2066], ptr=[5])>\n",
      "253 <bound method BaseData.size of DataBatch(x=[1743], edge_index=[2, 19614], edge_attr=[19614, 3], y=[2712, 2], pos=[2712, 14], batch=[1743], ptr=[5])>\n",
      "254 <bound method BaseData.size of DataBatch(x=[2066], edge_index=[2, 22546], edge_attr=[22546, 3], y=[2712, 2], pos=[2712, 14], batch=[2066], ptr=[5])>\n",
      "255 <bound method BaseData.size of DataBatch(x=[1743], edge_index=[2, 20838], edge_attr=[20838, 3], y=[2712, 2], pos=[2712, 14], batch=[1743], ptr=[5])>\n",
      "256 <bound method BaseData.size of DataBatch(x=[1420], edge_index=[2, 26816], edge_attr=[26816, 3], y=[2712, 2], pos=[2712, 14], batch=[1420], ptr=[5])>\n",
      "257 <bound method BaseData.size of DataBatch(x=[2066], edge_index=[2, 24156], edge_attr=[24156, 3], y=[2712, 2], pos=[2712, 14], batch=[2066], ptr=[5])>\n",
      "258 <bound method BaseData.size of DataBatch(x=[1743], edge_index=[2, 21824], edge_attr=[21824, 3], y=[2712, 2], pos=[2712, 14], batch=[1743], ptr=[5])>\n",
      "259 <bound method BaseData.size of DataBatch(x=[2066], edge_index=[2, 21432], edge_attr=[21432, 3], y=[2712, 2], pos=[2712, 14], batch=[2066], ptr=[5])>\n",
      "260 <bound method BaseData.size of DataBatch(x=[2066], edge_index=[2, 20684], edge_attr=[20684, 3], y=[2712, 2], pos=[2712, 14], batch=[2066], ptr=[5])>\n",
      "261 <bound method BaseData.size of DataBatch(x=[2066], edge_index=[2, 19900], edge_attr=[19900, 3], y=[2712, 2], pos=[2712, 14], batch=[2066], ptr=[5])>\n"
     ]
    },
    {
     "name": "stdout",
     "output_type": "stream",
     "text": [
      "262 <bound method BaseData.size of DataBatch(x=[2066], edge_index=[2, 22046], edge_attr=[22046, 3], y=[2712, 2], pos=[2712, 14], batch=[2066], ptr=[5])>\n",
      "263 <bound method BaseData.size of DataBatch(x=[2389], edge_index=[2, 24352], edge_attr=[24352, 3], y=[2712, 2], pos=[2712, 14], batch=[2389], ptr=[5])>\n",
      "264 <bound method BaseData.size of DataBatch(x=[2712], edge_index=[2, 23920], edge_attr=[23920, 3], y=[2712, 2], pos=[2712, 14], batch=[2712], ptr=[5])>\n",
      "265 <bound method BaseData.size of DataBatch(x=[2389], edge_index=[2, 19808], edge_attr=[19808, 3], y=[2712, 2], pos=[2712, 14], batch=[2389], ptr=[5])>\n",
      "266 <bound method BaseData.size of DataBatch(x=[2389], edge_index=[2, 24862], edge_attr=[24862, 3], y=[2712, 2], pos=[2712, 14], batch=[2389], ptr=[5])>\n",
      "267 <bound method BaseData.size of DataBatch(x=[1420], edge_index=[2, 26230], edge_attr=[26230, 3], y=[2712, 2], pos=[2712, 14], batch=[1420], ptr=[5])>\n",
      "268 <bound method BaseData.size of DataBatch(x=[2389], edge_index=[2, 23426], edge_attr=[23426, 3], y=[2712, 2], pos=[2712, 14], batch=[2389], ptr=[5])>\n",
      "269 <bound method BaseData.size of DataBatch(x=[2066], edge_index=[2, 20974], edge_attr=[20974, 3], y=[2712, 2], pos=[2712, 14], batch=[2066], ptr=[5])>\n",
      "270 <bound method BaseData.size of DataBatch(x=[2066], edge_index=[2, 23876], edge_attr=[23876, 3], y=[2712, 2], pos=[2712, 14], batch=[2066], ptr=[5])>\n",
      "271 <bound method BaseData.size of DataBatch(x=[2066], edge_index=[2, 22380], edge_attr=[22380, 3], y=[2712, 2], pos=[2712, 14], batch=[2066], ptr=[5])>\n",
      "272 <bound method BaseData.size of DataBatch(x=[2389], edge_index=[2, 24886], edge_attr=[24886, 3], y=[2712, 2], pos=[2712, 14], batch=[2389], ptr=[5])>\n",
      "273 <bound method BaseData.size of DataBatch(x=[2066], edge_index=[2, 25042], edge_attr=[25042, 3], y=[2712, 2], pos=[2712, 14], batch=[2066], ptr=[5])>\n",
      "274 <bound method BaseData.size of DataBatch(x=[1420], edge_index=[2, 23706], edge_attr=[23706, 3], y=[2712, 2], pos=[2712, 14], batch=[1420], ptr=[5])>\n",
      "275 <bound method BaseData.size of DataBatch(x=[1743], edge_index=[2, 24528], edge_attr=[24528, 3], y=[2712, 2], pos=[2712, 14], batch=[1743], ptr=[5])>\n",
      "276 <bound method BaseData.size of DataBatch(x=[2066], edge_index=[2, 25124], edge_attr=[25124, 3], y=[2712, 2], pos=[2712, 14], batch=[2066], ptr=[5])>\n",
      "277 <bound method BaseData.size of DataBatch(x=[2066], edge_index=[2, 25314], edge_attr=[25314, 3], y=[2712, 2], pos=[2712, 14], batch=[2066], ptr=[5])>\n",
      "278 <bound method BaseData.size of DataBatch(x=[2066], edge_index=[2, 26566], edge_attr=[26566, 3], y=[2712, 2], pos=[2712, 14], batch=[2066], ptr=[5])>\n",
      "279 <bound method BaseData.size of DataBatch(x=[2066], edge_index=[2, 22656], edge_attr=[22656, 3], y=[2712, 2], pos=[2712, 14], batch=[2066], ptr=[5])>\n",
      "280 <bound method BaseData.size of DataBatch(x=[1743], edge_index=[2, 21374], edge_attr=[21374, 3], y=[2712, 2], pos=[2712, 14], batch=[1743], ptr=[5])>\n",
      "281 <bound method BaseData.size of DataBatch(x=[1743], edge_index=[2, 22936], edge_attr=[22936, 3], y=[2712, 2], pos=[2712, 14], batch=[1743], ptr=[5])>\n",
      "282 <bound method BaseData.size of DataBatch(x=[2712], edge_index=[2, 23836], edge_attr=[23836, 3], y=[2712, 2], pos=[2712, 14], batch=[2712], ptr=[5])>\n",
      "283 <bound method BaseData.size of DataBatch(x=[2066], edge_index=[2, 22686], edge_attr=[22686, 3], y=[2712, 2], pos=[2712, 14], batch=[2066], ptr=[5])>\n",
      "284 <bound method BaseData.size of DataBatch(x=[2066], edge_index=[2, 21348], edge_attr=[21348, 3], y=[2712, 2], pos=[2712, 14], batch=[2066], ptr=[5])>\n",
      "285 <bound method BaseData.size of DataBatch(x=[1743], edge_index=[2, 23384], edge_attr=[23384, 3], y=[2712, 2], pos=[2712, 14], batch=[1743], ptr=[5])>\n",
      "286 <bound method BaseData.size of DataBatch(x=[2389], edge_index=[2, 19782], edge_attr=[19782, 3], y=[2712, 2], pos=[2712, 14], batch=[2389], ptr=[5])>\n",
      "287 <bound method BaseData.size of DataBatch(x=[2066], edge_index=[2, 20846], edge_attr=[20846, 3], y=[2712, 2], pos=[2712, 14], batch=[2066], ptr=[5])>\n",
      "288 <bound method BaseData.size of DataBatch(x=[2066], edge_index=[2, 23928], edge_attr=[23928, 3], y=[2712, 2], pos=[2712, 14], batch=[2066], ptr=[5])>\n",
      "289 <bound method BaseData.size of DataBatch(x=[2389], edge_index=[2, 25852], edge_attr=[25852, 3], y=[2712, 2], pos=[2712, 14], batch=[2389], ptr=[5])>\n",
      "290 <bound method BaseData.size of DataBatch(x=[1743], edge_index=[2, 24098], edge_attr=[24098, 3], y=[2712, 2], pos=[2712, 14], batch=[1743], ptr=[5])>\n",
      "291 <bound method BaseData.size of DataBatch(x=[2066], edge_index=[2, 24324], edge_attr=[24324, 3], y=[2712, 2], pos=[2712, 14], batch=[2066], ptr=[5])>\n",
      "292 <bound method BaseData.size of DataBatch(x=[1743], edge_index=[2, 20070], edge_attr=[20070, 3], y=[2712, 2], pos=[2712, 14], batch=[1743], ptr=[5])>\n",
      "293 <bound method BaseData.size of DataBatch(x=[2389], edge_index=[2, 24664], edge_attr=[24664, 3], y=[2712, 2], pos=[2712, 14], batch=[2389], ptr=[5])>\n",
      "294 <bound method BaseData.size of DataBatch(x=[2712], edge_index=[2, 22398], edge_attr=[22398, 3], y=[2712, 2], pos=[2712, 14], batch=[2712], ptr=[5])>\n",
      "295 <bound method BaseData.size of DataBatch(x=[1743], edge_index=[2, 21106], edge_attr=[21106, 3], y=[2712, 2], pos=[2712, 14], batch=[1743], ptr=[5])>\n",
      "296 <bound method BaseData.size of DataBatch(x=[2066], edge_index=[2, 24184], edge_attr=[24184, 3], y=[2712, 2], pos=[2712, 14], batch=[2066], ptr=[5])>\n",
      "297 <bound method BaseData.size of DataBatch(x=[2389], edge_index=[2, 25770], edge_attr=[25770, 3], y=[2712, 2], pos=[2712, 14], batch=[2389], ptr=[5])>\n",
      "298 <bound method BaseData.size of DataBatch(x=[1743], edge_index=[2, 23126], edge_attr=[23126, 3], y=[2712, 2], pos=[2712, 14], batch=[1743], ptr=[5])>\n",
      "299 <bound method BaseData.size of DataBatch(x=[2389], edge_index=[2, 19512], edge_attr=[19512, 3], y=[2712, 2], pos=[2712, 14], batch=[2389], ptr=[5])>\n",
      "300 <bound method BaseData.size of DataBatch(x=[2066], edge_index=[2, 25746], edge_attr=[25746, 3], y=[2712, 2], pos=[2712, 14], batch=[2066], ptr=[5])>\n",
      "301 <bound method BaseData.size of DataBatch(x=[2066], edge_index=[2, 19216], edge_attr=[19216, 3], y=[2712, 2], pos=[2712, 14], batch=[2066], ptr=[5])>\n",
      "302 <bound method BaseData.size of DataBatch(x=[2066], edge_index=[2, 23552], edge_attr=[23552, 3], y=[2712, 2], pos=[2712, 14], batch=[2066], ptr=[5])>\n",
      "303 <bound method BaseData.size of DataBatch(x=[2066], edge_index=[2, 20714], edge_attr=[20714, 3], y=[2712, 2], pos=[2712, 14], batch=[2066], ptr=[5])>\n",
      "304 <bound method BaseData.size of DataBatch(x=[2389], edge_index=[2, 23456], edge_attr=[23456, 3], y=[2712, 2], pos=[2712, 14], batch=[2389], ptr=[5])>\n",
      "305 <bound method BaseData.size of DataBatch(x=[1743], edge_index=[2, 23730], edge_attr=[23730, 3], y=[2712, 2], pos=[2712, 14], batch=[1743], ptr=[5])>\n",
      "306 <bound method BaseData.size of DataBatch(x=[2389], edge_index=[2, 27418], edge_attr=[27418, 3], y=[2712, 2], pos=[2712, 14], batch=[2389], ptr=[5])>\n",
      "307 <bound method BaseData.size of DataBatch(x=[1743], edge_index=[2, 23728], edge_attr=[23728, 3], y=[2712, 2], pos=[2712, 14], batch=[1743], ptr=[5])>\n",
      "308 <bound method BaseData.size of DataBatch(x=[2066], edge_index=[2, 23466], edge_attr=[23466, 3], y=[2712, 2], pos=[2712, 14], batch=[2066], ptr=[5])>\n",
      "309 <bound method BaseData.size of DataBatch(x=[2066], edge_index=[2, 24930], edge_attr=[24930, 3], y=[2712, 2], pos=[2712, 14], batch=[2066], ptr=[5])>\n",
      "310 <bound method BaseData.size of DataBatch(x=[2066], edge_index=[2, 22758], edge_attr=[22758, 3], y=[2712, 2], pos=[2712, 14], batch=[2066], ptr=[5])>\n",
      "311 <bound method BaseData.size of DataBatch(x=[1743], edge_index=[2, 21886], edge_attr=[21886, 3], y=[2712, 2], pos=[2712, 14], batch=[1743], ptr=[5])>\n",
      "312 <bound method BaseData.size of DataBatch(x=[2389], edge_index=[2, 27202], edge_attr=[27202, 3], y=[2712, 2], pos=[2712, 14], batch=[2389], ptr=[5])>\n",
      "313 <bound method BaseData.size of DataBatch(x=[2712], edge_index=[2, 27126], edge_attr=[27126, 3], y=[2712, 2], pos=[2712, 14], batch=[2712], ptr=[5])>\n",
      "314 <bound method BaseData.size of DataBatch(x=[1743], edge_index=[2, 21348], edge_attr=[21348, 3], y=[2712, 2], pos=[2712, 14], batch=[1743], ptr=[5])>\n",
      "315 <bound method BaseData.size of DataBatch(x=[2066], edge_index=[2, 21184], edge_attr=[21184, 3], y=[2712, 2], pos=[2712, 14], batch=[2066], ptr=[5])>\n",
      "316 <bound method BaseData.size of DataBatch(x=[1420], edge_index=[2, 22092], edge_attr=[22092, 3], y=[2712, 2], pos=[2712, 14], batch=[1420], ptr=[5])>\n",
      "317 <bound method BaseData.size of DataBatch(x=[2389], edge_index=[2, 19888], edge_attr=[19888, 3], y=[2712, 2], pos=[2712, 14], batch=[2389], ptr=[5])>\n",
      "318 <bound method BaseData.size of DataBatch(x=[1743], edge_index=[2, 19620], edge_attr=[19620, 3], y=[2712, 2], pos=[2712, 14], batch=[1743], ptr=[5])>\n",
      "319 <bound method BaseData.size of DataBatch(x=[1743], edge_index=[2, 21564], edge_attr=[21564, 3], y=[2712, 2], pos=[2712, 14], batch=[1743], ptr=[5])>\n",
      "320 <bound method BaseData.size of DataBatch(x=[1743], edge_index=[2, 22036], edge_attr=[22036, 3], y=[2712, 2], pos=[2712, 14], batch=[1743], ptr=[5])>\n",
      "321 <bound method BaseData.size of DataBatch(x=[2066], edge_index=[2, 24534], edge_attr=[24534, 3], y=[2712, 2], pos=[2712, 14], batch=[2066], ptr=[5])>\n",
      "322 <bound method BaseData.size of DataBatch(x=[2066], edge_index=[2, 22948], edge_attr=[22948, 3], y=[2712, 2], pos=[2712, 14], batch=[2066], ptr=[5])>\n",
      "323 <bound method BaseData.size of DataBatch(x=[2389], edge_index=[2, 24850], edge_attr=[24850, 3], y=[2712, 2], pos=[2712, 14], batch=[2389], ptr=[5])>\n",
      "324 <bound method BaseData.size of DataBatch(x=[2066], edge_index=[2, 24718], edge_attr=[24718, 3], y=[2712, 2], pos=[2712, 14], batch=[2066], ptr=[5])>\n",
      "325 <bound method BaseData.size of DataBatch(x=[2066], edge_index=[2, 22198], edge_attr=[22198, 3], y=[2712, 2], pos=[2712, 14], batch=[2066], ptr=[5])>\n"
     ]
    },
    {
     "name": "stdout",
     "output_type": "stream",
     "text": [
      "326 <bound method BaseData.size of DataBatch(x=[2066], edge_index=[2, 25464], edge_attr=[25464, 3], y=[2712, 2], pos=[2712, 14], batch=[2066], ptr=[5])>\n",
      "327 <bound method BaseData.size of DataBatch(x=[2066], edge_index=[2, 22138], edge_attr=[22138, 3], y=[2712, 2], pos=[2712, 14], batch=[2066], ptr=[5])>\n",
      "328 <bound method BaseData.size of DataBatch(x=[1420], edge_index=[2, 23132], edge_attr=[23132, 3], y=[2712, 2], pos=[2712, 14], batch=[1420], ptr=[5])>\n",
      "329 <bound method BaseData.size of DataBatch(x=[2066], edge_index=[2, 22896], edge_attr=[22896, 3], y=[2712, 2], pos=[2712, 14], batch=[2066], ptr=[5])>\n",
      "330 <bound method BaseData.size of DataBatch(x=[2066], edge_index=[2, 23016], edge_attr=[23016, 3], y=[2712, 2], pos=[2712, 14], batch=[2066], ptr=[5])>\n",
      "331 <bound method BaseData.size of DataBatch(x=[2389], edge_index=[2, 23848], edge_attr=[23848, 3], y=[2712, 2], pos=[2712, 14], batch=[2389], ptr=[5])>\n",
      "332 <bound method BaseData.size of DataBatch(x=[2066], edge_index=[2, 22524], edge_attr=[22524, 3], y=[2712, 2], pos=[2712, 14], batch=[2066], ptr=[5])>\n",
      "333 <bound method BaseData.size of DataBatch(x=[2389], edge_index=[2, 27072], edge_attr=[27072, 3], y=[2712, 2], pos=[2712, 14], batch=[2389], ptr=[5])>\n",
      "334 <bound method BaseData.size of DataBatch(x=[2389], edge_index=[2, 20616], edge_attr=[20616, 3], y=[2712, 2], pos=[2712, 14], batch=[2389], ptr=[5])>\n",
      "335 <bound method BaseData.size of DataBatch(x=[2712], edge_index=[2, 22162], edge_attr=[22162, 3], y=[2712, 2], pos=[2712, 14], batch=[2712], ptr=[5])>\n",
      "336 <bound method BaseData.size of DataBatch(x=[2066], edge_index=[2, 23012], edge_attr=[23012, 3], y=[2712, 2], pos=[2712, 14], batch=[2066], ptr=[5])>\n",
      "337 <bound method BaseData.size of DataBatch(x=[2389], edge_index=[2, 20464], edge_attr=[20464, 3], y=[2712, 2], pos=[2712, 14], batch=[2389], ptr=[5])>\n",
      "338 <bound method BaseData.size of DataBatch(x=[1743], edge_index=[2, 20176], edge_attr=[20176, 3], y=[2712, 2], pos=[2712, 14], batch=[1743], ptr=[5])>\n",
      "339 <bound method BaseData.size of DataBatch(x=[2066], edge_index=[2, 22238], edge_attr=[22238, 3], y=[2712, 2], pos=[2712, 14], batch=[2066], ptr=[5])>\n",
      "340 <bound method BaseData.size of DataBatch(x=[1743], edge_index=[2, 20378], edge_attr=[20378, 3], y=[2712, 2], pos=[2712, 14], batch=[1743], ptr=[5])>\n",
      "341 <bound method BaseData.size of DataBatch(x=[1420], edge_index=[2, 21290], edge_attr=[21290, 3], y=[2712, 2], pos=[2712, 14], batch=[1420], ptr=[5])>\n",
      "342 <bound method BaseData.size of DataBatch(x=[2066], edge_index=[2, 21692], edge_attr=[21692, 3], y=[2712, 2], pos=[2712, 14], batch=[2066], ptr=[5])>\n",
      "343 <bound method BaseData.size of DataBatch(x=[2389], edge_index=[2, 24944], edge_attr=[24944, 3], y=[2712, 2], pos=[2712, 14], batch=[2389], ptr=[5])>\n",
      "344 <bound method BaseData.size of DataBatch(x=[2389], edge_index=[2, 24242], edge_attr=[24242, 3], y=[2712, 2], pos=[2712, 14], batch=[2389], ptr=[5])>\n",
      "345 <bound method BaseData.size of DataBatch(x=[1743], edge_index=[2, 23144], edge_attr=[23144, 3], y=[2712, 2], pos=[2712, 14], batch=[1743], ptr=[5])>\n",
      "346 <bound method BaseData.size of DataBatch(x=[2066], edge_index=[2, 26432], edge_attr=[26432, 3], y=[2712, 2], pos=[2712, 14], batch=[2066], ptr=[5])>\n",
      "347 <bound method BaseData.size of DataBatch(x=[2712], edge_index=[2, 18978], edge_attr=[18978, 3], y=[2712, 2], pos=[2712, 14], batch=[2712], ptr=[5])>\n",
      "348 <bound method BaseData.size of DataBatch(x=[2066], edge_index=[2, 22302], edge_attr=[22302, 3], y=[2712, 2], pos=[2712, 14], batch=[2066], ptr=[5])>\n",
      "349 <bound method BaseData.size of DataBatch(x=[2389], edge_index=[2, 24636], edge_attr=[24636, 3], y=[2712, 2], pos=[2712, 14], batch=[2389], ptr=[5])>\n",
      "350 <bound method BaseData.size of DataBatch(x=[2066], edge_index=[2, 19780], edge_attr=[19780, 3], y=[2712, 2], pos=[2712, 14], batch=[2066], ptr=[5])>\n",
      "351 <bound method BaseData.size of DataBatch(x=[1420], edge_index=[2, 24314], edge_attr=[24314, 3], y=[2712, 2], pos=[2712, 14], batch=[1420], ptr=[5])>\n",
      "352 <bound method BaseData.size of DataBatch(x=[2066], edge_index=[2, 22030], edge_attr=[22030, 3], y=[2712, 2], pos=[2712, 14], batch=[2066], ptr=[5])>\n",
      "353 <bound method BaseData.size of DataBatch(x=[2066], edge_index=[2, 23550], edge_attr=[23550, 3], y=[2712, 2], pos=[2712, 14], batch=[2066], ptr=[5])>\n",
      "354 <bound method BaseData.size of DataBatch(x=[2066], edge_index=[2, 23644], edge_attr=[23644, 3], y=[2712, 2], pos=[2712, 14], batch=[2066], ptr=[5])>\n",
      "355 <bound method BaseData.size of DataBatch(x=[2066], edge_index=[2, 26098], edge_attr=[26098, 3], y=[2712, 2], pos=[2712, 14], batch=[2066], ptr=[5])>\n",
      "356 <bound method BaseData.size of DataBatch(x=[2389], edge_index=[2, 22172], edge_attr=[22172, 3], y=[2712, 2], pos=[2712, 14], batch=[2389], ptr=[5])>\n",
      "357 <bound method BaseData.size of DataBatch(x=[1743], edge_index=[2, 21844], edge_attr=[21844, 3], y=[2712, 2], pos=[2712, 14], batch=[1743], ptr=[5])>\n",
      "358 <bound method BaseData.size of DataBatch(x=[2389], edge_index=[2, 21102], edge_attr=[21102, 3], y=[2712, 2], pos=[2712, 14], batch=[2389], ptr=[5])>\n",
      "359 <bound method BaseData.size of DataBatch(x=[1743], edge_index=[2, 26044], edge_attr=[26044, 3], y=[2712, 2], pos=[2712, 14], batch=[1743], ptr=[5])>\n",
      "360 <bound method BaseData.size of DataBatch(x=[2066], edge_index=[2, 24000], edge_attr=[24000, 3], y=[2712, 2], pos=[2712, 14], batch=[2066], ptr=[5])>\n",
      "361 <bound method BaseData.size of DataBatch(x=[1743], edge_index=[2, 26252], edge_attr=[26252, 3], y=[2712, 2], pos=[2712, 14], batch=[1743], ptr=[5])>\n",
      "362 <bound method BaseData.size of DataBatch(x=[2389], edge_index=[2, 23728], edge_attr=[23728, 3], y=[2712, 2], pos=[2712, 14], batch=[2389], ptr=[5])>\n",
      "363 <bound method BaseData.size of DataBatch(x=[2066], edge_index=[2, 24852], edge_attr=[24852, 3], y=[2712, 2], pos=[2712, 14], batch=[2066], ptr=[5])>\n",
      "364 <bound method BaseData.size of DataBatch(x=[2712], edge_index=[2, 25534], edge_attr=[25534, 3], y=[2712, 2], pos=[2712, 14], batch=[2712], ptr=[5])>\n",
      "365 <bound method BaseData.size of DataBatch(x=[2389], edge_index=[2, 17666], edge_attr=[17666, 3], y=[2712, 2], pos=[2712, 14], batch=[2389], ptr=[5])>\n",
      "366 <bound method BaseData.size of DataBatch(x=[2066], edge_index=[2, 23372], edge_attr=[23372, 3], y=[2712, 2], pos=[2712, 14], batch=[2066], ptr=[5])>\n",
      "367 <bound method BaseData.size of DataBatch(x=[2066], edge_index=[2, 25628], edge_attr=[25628, 3], y=[2712, 2], pos=[2712, 14], batch=[2066], ptr=[5])>\n",
      "368 <bound method BaseData.size of DataBatch(x=[1420], edge_index=[2, 22866], edge_attr=[22866, 3], y=[2712, 2], pos=[2712, 14], batch=[1420], ptr=[5])>\n",
      "369 <bound method BaseData.size of DataBatch(x=[1743], edge_index=[2, 23842], edge_attr=[23842, 3], y=[2712, 2], pos=[2712, 14], batch=[1743], ptr=[5])>\n",
      "370 <bound method BaseData.size of DataBatch(x=[2389], edge_index=[2, 25524], edge_attr=[25524, 3], y=[2712, 2], pos=[2712, 14], batch=[2389], ptr=[5])>\n",
      "371 <bound method BaseData.size of DataBatch(x=[1743], edge_index=[2, 21638], edge_attr=[21638, 3], y=[2712, 2], pos=[2712, 14], batch=[1743], ptr=[5])>\n",
      "372 <bound method BaseData.size of DataBatch(x=[2066], edge_index=[2, 24788], edge_attr=[24788, 3], y=[2712, 2], pos=[2712, 14], batch=[2066], ptr=[5])>\n",
      "373 <bound method BaseData.size of DataBatch(x=[2066], edge_index=[2, 22070], edge_attr=[22070, 3], y=[2712, 2], pos=[2712, 14], batch=[2066], ptr=[5])>\n",
      "374 <bound method BaseData.size of DataBatch(x=[1743], edge_index=[2, 24350], edge_attr=[24350, 3], y=[2712, 2], pos=[2712, 14], batch=[1743], ptr=[5])>\n",
      "375 <bound method BaseData.size of DataBatch(x=[2389], edge_index=[2, 21870], edge_attr=[21870, 3], y=[2712, 2], pos=[2712, 14], batch=[2389], ptr=[5])>\n",
      "376 <bound method BaseData.size of DataBatch(x=[2066], edge_index=[2, 26266], edge_attr=[26266, 3], y=[2712, 2], pos=[2712, 14], batch=[2066], ptr=[5])>\n",
      "377 <bound method BaseData.size of DataBatch(x=[2066], edge_index=[2, 21258], edge_attr=[21258, 3], y=[2712, 2], pos=[2712, 14], batch=[2066], ptr=[5])>\n",
      "378 <bound method BaseData.size of DataBatch(x=[2389], edge_index=[2, 22434], edge_attr=[22434, 3], y=[2712, 2], pos=[2712, 14], batch=[2389], ptr=[5])>\n",
      "379 <bound method BaseData.size of DataBatch(x=[2389], edge_index=[2, 22268], edge_attr=[22268, 3], y=[2712, 2], pos=[2712, 14], batch=[2389], ptr=[5])>\n",
      "380 <bound method BaseData.size of DataBatch(x=[2389], edge_index=[2, 24262], edge_attr=[24262, 3], y=[2712, 2], pos=[2712, 14], batch=[2389], ptr=[5])>\n",
      "381 <bound method BaseData.size of DataBatch(x=[1420], edge_index=[2, 24440], edge_attr=[24440, 3], y=[2712, 2], pos=[2712, 14], batch=[1420], ptr=[5])>\n",
      "382 <bound method BaseData.size of DataBatch(x=[2066], edge_index=[2, 23390], edge_attr=[23390, 3], y=[2712, 2], pos=[2712, 14], batch=[2066], ptr=[5])>\n",
      "383 <bound method BaseData.size of DataBatch(x=[2066], edge_index=[2, 22968], edge_attr=[22968, 3], y=[2712, 2], pos=[2712, 14], batch=[2066], ptr=[5])>\n",
      "384 <bound method BaseData.size of DataBatch(x=[2712], edge_index=[2, 23672], edge_attr=[23672, 3], y=[2712, 2], pos=[2712, 14], batch=[2712], ptr=[5])>\n",
      "385 <bound method BaseData.size of DataBatch(x=[1743], edge_index=[2, 24440], edge_attr=[24440, 3], y=[2712, 2], pos=[2712, 14], batch=[1743], ptr=[5])>\n",
      "386 <bound method BaseData.size of DataBatch(x=[1743], edge_index=[2, 21688], edge_attr=[21688, 3], y=[2712, 2], pos=[2712, 14], batch=[1743], ptr=[5])>\n",
      "387 <bound method BaseData.size of DataBatch(x=[2389], edge_index=[2, 20478], edge_attr=[20478, 3], y=[2712, 2], pos=[2712, 14], batch=[2389], ptr=[5])>\n",
      "388 <bound method BaseData.size of DataBatch(x=[2066], edge_index=[2, 26362], edge_attr=[26362, 3], y=[2712, 2], pos=[2712, 14], batch=[2066], ptr=[5])>\n"
     ]
    },
    {
     "name": "stdout",
     "output_type": "stream",
     "text": [
      "389 <bound method BaseData.size of DataBatch(x=[2066], edge_index=[2, 23944], edge_attr=[23944, 3], y=[2712, 2], pos=[2712, 14], batch=[2066], ptr=[5])>\n",
      "390 <bound method BaseData.size of DataBatch(x=[2712], edge_index=[2, 23124], edge_attr=[23124, 3], y=[2712, 2], pos=[2712, 14], batch=[2712], ptr=[5])>\n",
      "391 <bound method BaseData.size of DataBatch(x=[2389], edge_index=[2, 24532], edge_attr=[24532, 3], y=[2712, 2], pos=[2712, 14], batch=[2389], ptr=[5])>\n",
      "392 <bound method BaseData.size of DataBatch(x=[2389], edge_index=[2, 23874], edge_attr=[23874, 3], y=[2712, 2], pos=[2712, 14], batch=[2389], ptr=[5])>\n",
      "393 <bound method BaseData.size of DataBatch(x=[1743], edge_index=[2, 22102], edge_attr=[22102, 3], y=[2712, 2], pos=[2712, 14], batch=[1743], ptr=[5])>\n",
      "394 <bound method BaseData.size of DataBatch(x=[2066], edge_index=[2, 23256], edge_attr=[23256, 3], y=[2712, 2], pos=[2712, 14], batch=[2066], ptr=[5])>\n",
      "395 <bound method BaseData.size of DataBatch(x=[1743], edge_index=[2, 22574], edge_attr=[22574, 3], y=[2712, 2], pos=[2712, 14], batch=[1743], ptr=[5])>\n",
      "396 <bound method BaseData.size of DataBatch(x=[2066], edge_index=[2, 23566], edge_attr=[23566, 3], y=[2712, 2], pos=[2712, 14], batch=[2066], ptr=[5])>\n",
      "397 <bound method BaseData.size of DataBatch(x=[2066], edge_index=[2, 22472], edge_attr=[22472, 3], y=[2712, 2], pos=[2712, 14], batch=[2066], ptr=[5])>\n",
      "398 <bound method BaseData.size of DataBatch(x=[1743], edge_index=[2, 21952], edge_attr=[21952, 3], y=[2712, 2], pos=[2712, 14], batch=[1743], ptr=[5])>\n",
      "399 <bound method BaseData.size of DataBatch(x=[2066], edge_index=[2, 23726], edge_attr=[23726, 3], y=[2712, 2], pos=[2712, 14], batch=[2066], ptr=[5])>\n",
      "400 <bound method BaseData.size of DataBatch(x=[1743], edge_index=[2, 26506], edge_attr=[26506, 3], y=[2712, 2], pos=[2712, 14], batch=[1743], ptr=[5])>\n",
      "401 <bound method BaseData.size of DataBatch(x=[1743], edge_index=[2, 20276], edge_attr=[20276, 3], y=[2712, 2], pos=[2712, 14], batch=[1743], ptr=[5])>\n",
      "402 <bound method BaseData.size of DataBatch(x=[1420], edge_index=[2, 22224], edge_attr=[22224, 3], y=[2712, 2], pos=[2712, 14], batch=[1420], ptr=[5])>\n",
      "403 <bound method BaseData.size of DataBatch(x=[2066], edge_index=[2, 23162], edge_attr=[23162, 3], y=[2712, 2], pos=[2712, 14], batch=[2066], ptr=[5])>\n",
      "404 <bound method BaseData.size of DataBatch(x=[2066], edge_index=[2, 21714], edge_attr=[21714, 3], y=[2712, 2], pos=[2712, 14], batch=[2066], ptr=[5])>\n",
      "405 <bound method BaseData.size of DataBatch(x=[2066], edge_index=[2, 22214], edge_attr=[22214, 3], y=[2712, 2], pos=[2712, 14], batch=[2066], ptr=[5])>\n",
      "406 <bound method BaseData.size of DataBatch(x=[1743], edge_index=[2, 22766], edge_attr=[22766, 3], y=[2712, 2], pos=[2712, 14], batch=[1743], ptr=[5])>\n",
      "407 <bound method BaseData.size of DataBatch(x=[2389], edge_index=[2, 20364], edge_attr=[20364, 3], y=[2712, 2], pos=[2712, 14], batch=[2389], ptr=[5])>\n",
      "408 <bound method BaseData.size of DataBatch(x=[2712], edge_index=[2, 22464], edge_attr=[22464, 3], y=[2712, 2], pos=[2712, 14], batch=[2712], ptr=[5])>\n",
      "409 <bound method BaseData.size of DataBatch(x=[1420], edge_index=[2, 23190], edge_attr=[23190, 3], y=[2712, 2], pos=[2712, 14], batch=[1420], ptr=[5])>\n",
      "410 <bound method BaseData.size of DataBatch(x=[2712], edge_index=[2, 21286], edge_attr=[21286, 3], y=[2712, 2], pos=[2712, 14], batch=[2712], ptr=[5])>\n",
      "411 <bound method BaseData.size of DataBatch(x=[2066], edge_index=[2, 23030], edge_attr=[23030, 3], y=[2712, 2], pos=[2712, 14], batch=[2066], ptr=[5])>\n",
      "412 <bound method BaseData.size of DataBatch(x=[1743], edge_index=[2, 20232], edge_attr=[20232, 3], y=[2712, 2], pos=[2712, 14], batch=[1743], ptr=[5])>\n",
      "413 <bound method BaseData.size of DataBatch(x=[1420], edge_index=[2, 25932], edge_attr=[25932, 3], y=[2712, 2], pos=[2712, 14], batch=[1420], ptr=[5])>\n",
      "414 <bound method BaseData.size of DataBatch(x=[1743], edge_index=[2, 23826], edge_attr=[23826, 3], y=[2712, 2], pos=[2712, 14], batch=[1743], ptr=[5])>\n",
      "415 <bound method BaseData.size of DataBatch(x=[2066], edge_index=[2, 23826], edge_attr=[23826, 3], y=[2712, 2], pos=[2712, 14], batch=[2066], ptr=[5])>\n",
      "416 <bound method BaseData.size of DataBatch(x=[2389], edge_index=[2, 24380], edge_attr=[24380, 3], y=[2712, 2], pos=[2712, 14], batch=[2389], ptr=[5])>\n",
      "417 <bound method BaseData.size of DataBatch(x=[2712], edge_index=[2, 23606], edge_attr=[23606, 3], y=[2712, 2], pos=[2712, 14], batch=[2712], ptr=[5])>\n",
      "418 <bound method BaseData.size of DataBatch(x=[1420], edge_index=[2, 24584], edge_attr=[24584, 3], y=[2712, 2], pos=[2712, 14], batch=[1420], ptr=[5])>\n",
      "419 <bound method BaseData.size of DataBatch(x=[2066], edge_index=[2, 22322], edge_attr=[22322, 3], y=[2712, 2], pos=[2712, 14], batch=[2066], ptr=[5])>\n",
      "420 <bound method BaseData.size of DataBatch(x=[1743], edge_index=[2, 22632], edge_attr=[22632, 3], y=[2712, 2], pos=[2712, 14], batch=[1743], ptr=[5])>\n",
      "421 <bound method BaseData.size of DataBatch(x=[2389], edge_index=[2, 19702], edge_attr=[19702, 3], y=[2712, 2], pos=[2712, 14], batch=[2389], ptr=[5])>\n",
      "422 <bound method BaseData.size of DataBatch(x=[1743], edge_index=[2, 20748], edge_attr=[20748, 3], y=[2712, 2], pos=[2712, 14], batch=[1743], ptr=[5])>\n",
      "423 <bound method BaseData.size of DataBatch(x=[2066], edge_index=[2, 22678], edge_attr=[22678, 3], y=[2712, 2], pos=[2712, 14], batch=[2066], ptr=[5])>\n",
      "424 <bound method BaseData.size of DataBatch(x=[2389], edge_index=[2, 23876], edge_attr=[23876, 3], y=[2712, 2], pos=[2712, 14], batch=[2389], ptr=[5])>\n",
      "425 <bound method BaseData.size of DataBatch(x=[2066], edge_index=[2, 24576], edge_attr=[24576, 3], y=[2712, 2], pos=[2712, 14], batch=[2066], ptr=[5])>\n",
      "426 <bound method BaseData.size of DataBatch(x=[2389], edge_index=[2, 21874], edge_attr=[21874, 3], y=[2712, 2], pos=[2712, 14], batch=[2389], ptr=[5])>\n",
      "427 <bound method BaseData.size of DataBatch(x=[1743], edge_index=[2, 23802], edge_attr=[23802, 3], y=[2712, 2], pos=[2712, 14], batch=[1743], ptr=[5])>\n",
      "428 <bound method BaseData.size of DataBatch(x=[1420], edge_index=[2, 23868], edge_attr=[23868, 3], y=[2712, 2], pos=[2712, 14], batch=[1420], ptr=[5])>\n",
      "429 <bound method BaseData.size of DataBatch(x=[2389], edge_index=[2, 25428], edge_attr=[25428, 3], y=[2712, 2], pos=[2712, 14], batch=[2389], ptr=[5])>\n",
      "430 <bound method BaseData.size of DataBatch(x=[2066], edge_index=[2, 20526], edge_attr=[20526, 3], y=[2712, 2], pos=[2712, 14], batch=[2066], ptr=[5])>\n",
      "431 <bound method BaseData.size of DataBatch(x=[2066], edge_index=[2, 25866], edge_attr=[25866, 3], y=[2712, 2], pos=[2712, 14], batch=[2066], ptr=[5])>\n",
      "432 <bound method BaseData.size of DataBatch(x=[1743], edge_index=[2, 23966], edge_attr=[23966, 3], y=[2712, 2], pos=[2712, 14], batch=[1743], ptr=[5])>\n",
      "433 <bound method BaseData.size of DataBatch(x=[2389], edge_index=[2, 25322], edge_attr=[25322, 3], y=[2712, 2], pos=[2712, 14], batch=[2389], ptr=[5])>\n",
      "434 <bound method BaseData.size of DataBatch(x=[2066], edge_index=[2, 24172], edge_attr=[24172, 3], y=[2712, 2], pos=[2712, 14], batch=[2066], ptr=[5])>\n",
      "435 <bound method BaseData.size of DataBatch(x=[2389], edge_index=[2, 23116], edge_attr=[23116, 3], y=[2712, 2], pos=[2712, 14], batch=[2389], ptr=[5])>\n",
      "436 <bound method BaseData.size of DataBatch(x=[2389], edge_index=[2, 27030], edge_attr=[27030, 3], y=[2712, 2], pos=[2712, 14], batch=[2389], ptr=[5])>\n",
      "437 <bound method BaseData.size of DataBatch(x=[2066], edge_index=[2, 21730], edge_attr=[21730, 3], y=[2712, 2], pos=[2712, 14], batch=[2066], ptr=[5])>\n",
      "438 <bound method BaseData.size of DataBatch(x=[2066], edge_index=[2, 25228], edge_attr=[25228, 3], y=[2712, 2], pos=[2712, 14], batch=[2066], ptr=[5])>\n",
      "439 <bound method BaseData.size of DataBatch(x=[2066], edge_index=[2, 20330], edge_attr=[20330, 3], y=[2712, 2], pos=[2712, 14], batch=[2066], ptr=[5])>\n",
      "440 <bound method BaseData.size of DataBatch(x=[2389], edge_index=[2, 24092], edge_attr=[24092, 3], y=[2712, 2], pos=[2712, 14], batch=[2389], ptr=[5])>\n",
      "441 <bound method BaseData.size of DataBatch(x=[1743], edge_index=[2, 19506], edge_attr=[19506, 3], y=[2712, 2], pos=[2712, 14], batch=[1743], ptr=[5])>\n",
      "442 <bound method BaseData.size of DataBatch(x=[2066], edge_index=[2, 24130], edge_attr=[24130, 3], y=[2712, 2], pos=[2712, 14], batch=[2066], ptr=[5])>\n",
      "443 <bound method BaseData.size of DataBatch(x=[2389], edge_index=[2, 22794], edge_attr=[22794, 3], y=[2712, 2], pos=[2712, 14], batch=[2389], ptr=[5])>\n",
      "444 <bound method BaseData.size of DataBatch(x=[2066], edge_index=[2, 24648], edge_attr=[24648, 3], y=[2712, 2], pos=[2712, 14], batch=[2066], ptr=[5])>\n",
      "445 <bound method BaseData.size of DataBatch(x=[2389], edge_index=[2, 22118], edge_attr=[22118, 3], y=[2712, 2], pos=[2712, 14], batch=[2389], ptr=[5])>\n",
      "446 <bound method BaseData.size of DataBatch(x=[1743], edge_index=[2, 28018], edge_attr=[28018, 3], y=[2712, 2], pos=[2712, 14], batch=[1743], ptr=[5])>\n",
      "447 <bound method BaseData.size of DataBatch(x=[2066], edge_index=[2, 21162], edge_attr=[21162, 3], y=[2712, 2], pos=[2712, 14], batch=[2066], ptr=[5])>\n",
      "448 <bound method BaseData.size of DataBatch(x=[1420], edge_index=[2, 23336], edge_attr=[23336, 3], y=[2712, 2], pos=[2712, 14], batch=[1420], ptr=[5])>\n",
      "449 <bound method BaseData.size of DataBatch(x=[2389], edge_index=[2, 26296], edge_attr=[26296, 3], y=[2712, 2], pos=[2712, 14], batch=[2389], ptr=[5])>\n",
      "450 <bound method BaseData.size of DataBatch(x=[2389], edge_index=[2, 24132], edge_attr=[24132, 3], y=[2712, 2], pos=[2712, 14], batch=[2389], ptr=[5])>\n",
      "451 <bound method BaseData.size of DataBatch(x=[2066], edge_index=[2, 19072], edge_attr=[19072, 3], y=[2712, 2], pos=[2712, 14], batch=[2066], ptr=[5])>\n",
      "452 <bound method BaseData.size of DataBatch(x=[2712], edge_index=[2, 23054], edge_attr=[23054, 3], y=[2712, 2], pos=[2712, 14], batch=[2712], ptr=[5])>\n",
      "453 <bound method BaseData.size of DataBatch(x=[2066], edge_index=[2, 22760], edge_attr=[22760, 3], y=[2712, 2], pos=[2712, 14], batch=[2066], ptr=[5])>\n",
      "454 <bound method BaseData.size of DataBatch(x=[2066], edge_index=[2, 21846], edge_attr=[21846, 3], y=[2712, 2], pos=[2712, 14], batch=[2066], ptr=[5])>\n"
     ]
    },
    {
     "name": "stdout",
     "output_type": "stream",
     "text": [
      "455 <bound method BaseData.size of DataBatch(x=[2389], edge_index=[2, 23280], edge_attr=[23280, 3], y=[2712, 2], pos=[2712, 14], batch=[2389], ptr=[5])>\n",
      "456 <bound method BaseData.size of DataBatch(x=[2389], edge_index=[2, 21316], edge_attr=[21316, 3], y=[2712, 2], pos=[2712, 14], batch=[2389], ptr=[5])>\n",
      "457 <bound method BaseData.size of DataBatch(x=[2066], edge_index=[2, 20626], edge_attr=[20626, 3], y=[2712, 2], pos=[2712, 14], batch=[2066], ptr=[5])>\n",
      "458 <bound method BaseData.size of DataBatch(x=[2066], edge_index=[2, 19470], edge_attr=[19470, 3], y=[2712, 2], pos=[2712, 14], batch=[2066], ptr=[5])>\n",
      "459 <bound method BaseData.size of DataBatch(x=[2066], edge_index=[2, 22066], edge_attr=[22066, 3], y=[2712, 2], pos=[2712, 14], batch=[2066], ptr=[5])>\n",
      "460 <bound method BaseData.size of DataBatch(x=[2389], edge_index=[2, 21246], edge_attr=[21246, 3], y=[2712, 2], pos=[2712, 14], batch=[2389], ptr=[5])>\n",
      "461 <bound method BaseData.size of DataBatch(x=[2389], edge_index=[2, 24344], edge_attr=[24344, 3], y=[2712, 2], pos=[2712, 14], batch=[2389], ptr=[5])>\n",
      "462 <bound method BaseData.size of DataBatch(x=[2066], edge_index=[2, 23884], edge_attr=[23884, 3], y=[2712, 2], pos=[2712, 14], batch=[2066], ptr=[5])>\n",
      "463 <bound method BaseData.size of DataBatch(x=[2066], edge_index=[2, 21194], edge_attr=[21194, 3], y=[2712, 2], pos=[2712, 14], batch=[2066], ptr=[5])>\n",
      "464 <bound method BaseData.size of DataBatch(x=[2712], edge_index=[2, 25050], edge_attr=[25050, 3], y=[2712, 2], pos=[2712, 14], batch=[2712], ptr=[5])>\n",
      "465 <bound method BaseData.size of DataBatch(x=[1743], edge_index=[2, 24844], edge_attr=[24844, 3], y=[2712, 2], pos=[2712, 14], batch=[1743], ptr=[5])>\n",
      "466 <bound method BaseData.size of DataBatch(x=[2066], edge_index=[2, 24820], edge_attr=[24820, 3], y=[2712, 2], pos=[2712, 14], batch=[2066], ptr=[5])>\n",
      "467 <bound method BaseData.size of DataBatch(x=[1743], edge_index=[2, 23200], edge_attr=[23200, 3], y=[2712, 2], pos=[2712, 14], batch=[1743], ptr=[5])>\n",
      "468 <bound method BaseData.size of DataBatch(x=[2712], edge_index=[2, 19446], edge_attr=[19446, 3], y=[2712, 2], pos=[2712, 14], batch=[2712], ptr=[5])>\n",
      "469 <bound method BaseData.size of DataBatch(x=[2066], edge_index=[2, 23950], edge_attr=[23950, 3], y=[2712, 2], pos=[2712, 14], batch=[2066], ptr=[5])>\n",
      "470 <bound method BaseData.size of DataBatch(x=[2712], edge_index=[2, 21958], edge_attr=[21958, 3], y=[2712, 2], pos=[2712, 14], batch=[2712], ptr=[5])>\n",
      "471 <bound method BaseData.size of DataBatch(x=[1743], edge_index=[2, 23334], edge_attr=[23334, 3], y=[2712, 2], pos=[2712, 14], batch=[1743], ptr=[5])>\n",
      "472 <bound method BaseData.size of DataBatch(x=[2066], edge_index=[2, 20540], edge_attr=[20540, 3], y=[2712, 2], pos=[2712, 14], batch=[2066], ptr=[5])>\n",
      "473 <bound method BaseData.size of DataBatch(x=[2066], edge_index=[2, 24298], edge_attr=[24298, 3], y=[2712, 2], pos=[2712, 14], batch=[2066], ptr=[5])>\n",
      "474 <bound method BaseData.size of DataBatch(x=[1743], edge_index=[2, 22760], edge_attr=[22760, 3], y=[2712, 2], pos=[2712, 14], batch=[1743], ptr=[5])>\n",
      "475 <bound method BaseData.size of DataBatch(x=[2712], edge_index=[2, 21838], edge_attr=[21838, 3], y=[2712, 2], pos=[2712, 14], batch=[2712], ptr=[5])>\n",
      "476 <bound method BaseData.size of DataBatch(x=[1420], edge_index=[2, 22656], edge_attr=[22656, 3], y=[2712, 2], pos=[2712, 14], batch=[1420], ptr=[5])>\n",
      "477 <bound method BaseData.size of DataBatch(x=[2066], edge_index=[2, 27862], edge_attr=[27862, 3], y=[2712, 2], pos=[2712, 14], batch=[2066], ptr=[5])>\n",
      "478 <bound method BaseData.size of DataBatch(x=[2066], edge_index=[2, 22642], edge_attr=[22642, 3], y=[2712, 2], pos=[2712, 14], batch=[2066], ptr=[5])>\n",
      "479 <bound method BaseData.size of DataBatch(x=[2389], edge_index=[2, 23728], edge_attr=[23728, 3], y=[2712, 2], pos=[2712, 14], batch=[2389], ptr=[5])>\n",
      "480 <bound method BaseData.size of DataBatch(x=[2389], edge_index=[2, 19222], edge_attr=[19222, 3], y=[2712, 2], pos=[2712, 14], batch=[2389], ptr=[5])>\n",
      "481 <bound method BaseData.size of DataBatch(x=[2066], edge_index=[2, 24780], edge_attr=[24780, 3], y=[2712, 2], pos=[2712, 14], batch=[2066], ptr=[5])>\n",
      "482 <bound method BaseData.size of DataBatch(x=[2066], edge_index=[2, 21558], edge_attr=[21558, 3], y=[2712, 2], pos=[2712, 14], batch=[2066], ptr=[5])>\n",
      "483 <bound method BaseData.size of DataBatch(x=[2389], edge_index=[2, 22360], edge_attr=[22360, 3], y=[2712, 2], pos=[2712, 14], batch=[2389], ptr=[5])>\n",
      "484 <bound method BaseData.size of DataBatch(x=[2066], edge_index=[2, 19838], edge_attr=[19838, 3], y=[2712, 2], pos=[2712, 14], batch=[2066], ptr=[5])>\n",
      "485 <bound method BaseData.size of DataBatch(x=[2066], edge_index=[2, 24992], edge_attr=[24992, 3], y=[2712, 2], pos=[2712, 14], batch=[2066], ptr=[5])>\n",
      "486 <bound method BaseData.size of DataBatch(x=[2066], edge_index=[2, 24028], edge_attr=[24028, 3], y=[2712, 2], pos=[2712, 14], batch=[2066], ptr=[5])>\n",
      "487 <bound method BaseData.size of DataBatch(x=[2066], edge_index=[2, 22562], edge_attr=[22562, 3], y=[2712, 2], pos=[2712, 14], batch=[2066], ptr=[5])>\n",
      "488 <bound method BaseData.size of DataBatch(x=[1743], edge_index=[2, 27048], edge_attr=[27048, 3], y=[2712, 2], pos=[2712, 14], batch=[1743], ptr=[5])>\n",
      "489 <bound method BaseData.size of DataBatch(x=[2066], edge_index=[2, 25420], edge_attr=[25420, 3], y=[2712, 2], pos=[2712, 14], batch=[2066], ptr=[5])>\n",
      "490 <bound method BaseData.size of DataBatch(x=[2389], edge_index=[2, 21560], edge_attr=[21560, 3], y=[2712, 2], pos=[2712, 14], batch=[2389], ptr=[5])>\n",
      "491 <bound method BaseData.size of DataBatch(x=[2389], edge_index=[2, 22248], edge_attr=[22248, 3], y=[2712, 2], pos=[2712, 14], batch=[2389], ptr=[5])>\n",
      "492 <bound method BaseData.size of DataBatch(x=[2066], edge_index=[2, 23436], edge_attr=[23436, 3], y=[2712, 2], pos=[2712, 14], batch=[2066], ptr=[5])>\n",
      "493 <bound method BaseData.size of DataBatch(x=[1743], edge_index=[2, 24732], edge_attr=[24732, 3], y=[2712, 2], pos=[2712, 14], batch=[1743], ptr=[5])>\n",
      "494 <bound method BaseData.size of DataBatch(x=[2389], edge_index=[2, 22372], edge_attr=[22372, 3], y=[2712, 2], pos=[2712, 14], batch=[2389], ptr=[5])>\n",
      "495 <bound method BaseData.size of DataBatch(x=[1743], edge_index=[2, 23380], edge_attr=[23380, 3], y=[2712, 2], pos=[2712, 14], batch=[1743], ptr=[5])>\n",
      "496 <bound method BaseData.size of DataBatch(x=[2389], edge_index=[2, 21284], edge_attr=[21284, 3], y=[2712, 2], pos=[2712, 14], batch=[2389], ptr=[5])>\n"
     ]
    }
   ],
   "source": [
    "for n,i in enumerate(m):\n",
    "    m0 = i\n",
    "    print(n,m0.size)\n",
    "    "
   ]
  },
  {
   "cell_type": "code",
   "execution_count": 306,
   "id": "8170b4ee",
   "metadata": {},
   "outputs": [
    {
     "name": "stdout",
     "output_type": "stream",
     "text": [
      "0 <bound method BaseData.size of DataBatch(x=[1928], edge_index=[2, 12320], edge_attr=[12320, 3], y=[1928, 2], pos=[1928, 14], batch=[1928], ptr=[5])>\n",
      "1 <bound method BaseData.size of DataBatch(x=[1928], edge_index=[2, 12398], edge_attr=[12398, 3], y=[1928, 2], pos=[1928, 14], batch=[1928], ptr=[5])>\n",
      "2 <bound method BaseData.size of DataBatch(x=[1928], edge_index=[2, 12352], edge_attr=[12352, 3], y=[1928, 2], pos=[1928, 14], batch=[1928], ptr=[5])>\n",
      "3 <bound method BaseData.size of DataBatch(x=[1928], edge_index=[2, 12338], edge_attr=[12338, 3], y=[1928, 2], pos=[1928, 14], batch=[1928], ptr=[5])>\n",
      "4 <bound method BaseData.size of DataBatch(x=[1928], edge_index=[2, 12298], edge_attr=[12298, 3], y=[1928, 2], pos=[1928, 14], batch=[1928], ptr=[5])>\n",
      "5 <bound method BaseData.size of DataBatch(x=[1928], edge_index=[2, 12332], edge_attr=[12332, 3], y=[1928, 2], pos=[1928, 14], batch=[1928], ptr=[5])>\n",
      "6 <bound method BaseData.size of DataBatch(x=[1928], edge_index=[2, 12336], edge_attr=[12336, 3], y=[1928, 2], pos=[1928, 14], batch=[1928], ptr=[5])>\n",
      "7 <bound method BaseData.size of DataBatch(x=[1928], edge_index=[2, 12318], edge_attr=[12318, 3], y=[1928, 2], pos=[1928, 14], batch=[1928], ptr=[5])>\n",
      "8 <bound method BaseData.size of DataBatch(x=[1928], edge_index=[2, 12330], edge_attr=[12330, 3], y=[1928, 2], pos=[1928, 14], batch=[1928], ptr=[5])>\n",
      "9 <bound method BaseData.size of DataBatch(x=[1928], edge_index=[2, 12302], edge_attr=[12302, 3], y=[1928, 2], pos=[1928, 14], batch=[1928], ptr=[5])>\n",
      "10 <bound method BaseData.size of DataBatch(x=[1928], edge_index=[2, 12420], edge_attr=[12420, 3], y=[1928, 2], pos=[1928, 14], batch=[1928], ptr=[5])>\n",
      "11 <bound method BaseData.size of DataBatch(x=[1928], edge_index=[2, 12576], edge_attr=[12576, 3], y=[1928, 2], pos=[1928, 14], batch=[1928], ptr=[5])>\n",
      "12 <bound method BaseData.size of DataBatch(x=[1928], edge_index=[2, 12496], edge_attr=[12496, 3], y=[1928, 2], pos=[1928, 14], batch=[1928], ptr=[5])>\n",
      "13 <bound method BaseData.size of DataBatch(x=[1928], edge_index=[2, 12268], edge_attr=[12268, 3], y=[1928, 2], pos=[1928, 14], batch=[1928], ptr=[5])>\n",
      "14 <bound method BaseData.size of DataBatch(x=[1928], edge_index=[2, 12198], edge_attr=[12198, 3], y=[1928, 2], pos=[1928, 14], batch=[1928], ptr=[5])>\n",
      "15 <bound method BaseData.size of DataBatch(x=[1928], edge_index=[2, 12358], edge_attr=[12358, 3], y=[1928, 2], pos=[1928, 14], batch=[1928], ptr=[5])>\n",
      "16 <bound method BaseData.size of DataBatch(x=[1928], edge_index=[2, 12364], edge_attr=[12364, 3], y=[1928, 2], pos=[1928, 14], batch=[1928], ptr=[5])>\n",
      "17 <bound method BaseData.size of DataBatch(x=[1928], edge_index=[2, 12168], edge_attr=[12168, 3], y=[1928, 2], pos=[1928, 14], batch=[1928], ptr=[5])>\n",
      "18 <bound method BaseData.size of DataBatch(x=[1928], edge_index=[2, 12132], edge_attr=[12132, 3], y=[1928, 2], pos=[1928, 14], batch=[1928], ptr=[5])>\n",
      "19 <bound method BaseData.size of DataBatch(x=[1928], edge_index=[2, 12160], edge_attr=[12160, 3], y=[1928, 2], pos=[1928, 14], batch=[1928], ptr=[5])>\n",
      "20 <bound method BaseData.size of DataBatch(x=[1928], edge_index=[2, 12296], edge_attr=[12296, 3], y=[1928, 2], pos=[1928, 14], batch=[1928], ptr=[5])>\n",
      "21 <bound method BaseData.size of DataBatch(x=[1928], edge_index=[2, 12210], edge_attr=[12210, 3], y=[1928, 2], pos=[1928, 14], batch=[1928], ptr=[5])>\n",
      "22 <bound method BaseData.size of DataBatch(x=[1928], edge_index=[2, 12104], edge_attr=[12104, 3], y=[1928, 2], pos=[1928, 14], batch=[1928], ptr=[5])>\n",
      "23 <bound method BaseData.size of DataBatch(x=[1928], edge_index=[2, 12058], edge_attr=[12058, 3], y=[1928, 2], pos=[1928, 14], batch=[1928], ptr=[5])>\n",
      "24 <bound method BaseData.size of DataBatch(x=[1928], edge_index=[2, 12146], edge_attr=[12146, 3], y=[1928, 2], pos=[1928, 14], batch=[1928], ptr=[5])>\n",
      "25 <bound method BaseData.size of DataBatch(x=[1928], edge_index=[2, 12088], edge_attr=[12088, 3], y=[1928, 2], pos=[1928, 14], batch=[1928], ptr=[5])>\n",
      "26 <bound method BaseData.size of DataBatch(x=[1928], edge_index=[2, 12114], edge_attr=[12114, 3], y=[1928, 2], pos=[1928, 14], batch=[1928], ptr=[5])>\n",
      "27 <bound method BaseData.size of DataBatch(x=[1928], edge_index=[2, 11970], edge_attr=[11970, 3], y=[1928, 2], pos=[1928, 14], batch=[1928], ptr=[5])>\n",
      "28 <bound method BaseData.size of DataBatch(x=[1928], edge_index=[2, 11976], edge_attr=[11976, 3], y=[1928, 2], pos=[1928, 14], batch=[1928], ptr=[5])>\n",
      "29 <bound method BaseData.size of DataBatch(x=[1928], edge_index=[2, 11852], edge_attr=[11852, 3], y=[1928, 2], pos=[1928, 14], batch=[1928], ptr=[5])>\n",
      "30 <bound method BaseData.size of DataBatch(x=[1928], edge_index=[2, 11826], edge_attr=[11826, 3], y=[1928, 2], pos=[1928, 14], batch=[1928], ptr=[5])>\n",
      "31 <bound method BaseData.size of DataBatch(x=[1928], edge_index=[2, 11750], edge_attr=[11750, 3], y=[1928, 2], pos=[1928, 14], batch=[1928], ptr=[5])>\n",
      "32 <bound method BaseData.size of DataBatch(x=[1928], edge_index=[2, 11764], edge_attr=[11764, 3], y=[1928, 2], pos=[1928, 14], batch=[1928], ptr=[5])>\n",
      "33 <bound method BaseData.size of DataBatch(x=[1928], edge_index=[2, 11698], edge_attr=[11698, 3], y=[1928, 2], pos=[1928, 14], batch=[1928], ptr=[5])>\n",
      "34 <bound method BaseData.size of DataBatch(x=[1928], edge_index=[2, 11658], edge_attr=[11658, 3], y=[1928, 2], pos=[1928, 14], batch=[1928], ptr=[5])>\n",
      "35 <bound method BaseData.size of DataBatch(x=[1928], edge_index=[2, 11772], edge_attr=[11772, 3], y=[1928, 2], pos=[1928, 14], batch=[1928], ptr=[5])>\n",
      "36 <bound method BaseData.size of DataBatch(x=[1928], edge_index=[2, 11750], edge_attr=[11750, 3], y=[1928, 2], pos=[1928, 14], batch=[1928], ptr=[5])>\n",
      "37 <bound method BaseData.size of DataBatch(x=[1928], edge_index=[2, 11734], edge_attr=[11734, 3], y=[1928, 2], pos=[1928, 14], batch=[1928], ptr=[5])>\n",
      "38 <bound method BaseData.size of DataBatch(x=[1928], edge_index=[2, 11778], edge_attr=[11778, 3], y=[1928, 2], pos=[1928, 14], batch=[1928], ptr=[5])>\n",
      "39 <bound method BaseData.size of DataBatch(x=[1928], edge_index=[2, 11822], edge_attr=[11822, 3], y=[1928, 2], pos=[1928, 14], batch=[1928], ptr=[5])>\n",
      "40 <bound method BaseData.size of DataBatch(x=[1928], edge_index=[2, 11808], edge_attr=[11808, 3], y=[1928, 2], pos=[1928, 14], batch=[1928], ptr=[5])>\n",
      "41 <bound method BaseData.size of DataBatch(x=[1928], edge_index=[2, 11766], edge_attr=[11766, 3], y=[1928, 2], pos=[1928, 14], batch=[1928], ptr=[5])>\n",
      "42 <bound method BaseData.size of DataBatch(x=[1928], edge_index=[2, 11778], edge_attr=[11778, 3], y=[1928, 2], pos=[1928, 14], batch=[1928], ptr=[5])>\n",
      "43 <bound method BaseData.size of DataBatch(x=[1928], edge_index=[2, 11800], edge_attr=[11800, 3], y=[1928, 2], pos=[1928, 14], batch=[1928], ptr=[5])>\n",
      "44 <bound method BaseData.size of DataBatch(x=[1928], edge_index=[2, 11770], edge_attr=[11770, 3], y=[1928, 2], pos=[1928, 14], batch=[1928], ptr=[5])>\n",
      "45 <bound method BaseData.size of DataBatch(x=[1928], edge_index=[2, 11810], edge_attr=[11810, 3], y=[1928, 2], pos=[1928, 14], batch=[1928], ptr=[5])>\n",
      "46 <bound method BaseData.size of DataBatch(x=[1928], edge_index=[2, 11790], edge_attr=[11790, 3], y=[1928, 2], pos=[1928, 14], batch=[1928], ptr=[5])>\n",
      "47 <bound method BaseData.size of DataBatch(x=[1928], edge_index=[2, 11776], edge_attr=[11776, 3], y=[1928, 2], pos=[1928, 14], batch=[1928], ptr=[5])>\n",
      "48 <bound method BaseData.size of DataBatch(x=[1928], edge_index=[2, 11836], edge_attr=[11836, 3], y=[1928, 2], pos=[1928, 14], batch=[1928], ptr=[5])>\n",
      "49 <bound method BaseData.size of DataBatch(x=[1928], edge_index=[2, 11916], edge_attr=[11916, 3], y=[1928, 2], pos=[1928, 14], batch=[1928], ptr=[5])>\n",
      "50 <bound method BaseData.size of DataBatch(x=[1928], edge_index=[2, 11976], edge_attr=[11976, 3], y=[1928, 2], pos=[1928, 14], batch=[1928], ptr=[5])>\n",
      "51 <bound method BaseData.size of DataBatch(x=[1928], edge_index=[2, 11954], edge_attr=[11954, 3], y=[1928, 2], pos=[1928, 14], batch=[1928], ptr=[5])>\n",
      "52 <bound method BaseData.size of DataBatch(x=[1928], edge_index=[2, 12012], edge_attr=[12012, 3], y=[1928, 2], pos=[1928, 14], batch=[1928], ptr=[5])>\n",
      "53 <bound method BaseData.size of DataBatch(x=[1928], edge_index=[2, 12116], edge_attr=[12116, 3], y=[1928, 2], pos=[1928, 14], batch=[1928], ptr=[5])>\n",
      "54 <bound method BaseData.size of DataBatch(x=[1928], edge_index=[2, 12060], edge_attr=[12060, 3], y=[1928, 2], pos=[1928, 14], batch=[1928], ptr=[5])>\n",
      "55 <bound method BaseData.size of DataBatch(x=[1928], edge_index=[2, 12140], edge_attr=[12140, 3], y=[1928, 2], pos=[1928, 14], batch=[1928], ptr=[5])>\n",
      "56 <bound method BaseData.size of DataBatch(x=[1928], edge_index=[2, 12078], edge_attr=[12078, 3], y=[1928, 2], pos=[1928, 14], batch=[1928], ptr=[5])>\n",
      "57 <bound method BaseData.size of DataBatch(x=[1928], edge_index=[2, 12068], edge_attr=[12068, 3], y=[1928, 2], pos=[1928, 14], batch=[1928], ptr=[5])>\n",
      "58 <bound method BaseData.size of DataBatch(x=[1928], edge_index=[2, 12238], edge_attr=[12238, 3], y=[1928, 2], pos=[1928, 14], batch=[1928], ptr=[5])>\n",
      "59 <bound method BaseData.size of DataBatch(x=[1928], edge_index=[2, 12216], edge_attr=[12216, 3], y=[1928, 2], pos=[1928, 14], batch=[1928], ptr=[5])>\n",
      "60 <bound method BaseData.size of DataBatch(x=[1928], edge_index=[2, 12206], edge_attr=[12206, 3], y=[1928, 2], pos=[1928, 14], batch=[1928], ptr=[5])>\n",
      "61 <bound method BaseData.size of DataBatch(x=[1928], edge_index=[2, 12280], edge_attr=[12280, 3], y=[1928, 2], pos=[1928, 14], batch=[1928], ptr=[5])>\n",
      "62 <bound method BaseData.size of DataBatch(x=[1928], edge_index=[2, 12318], edge_attr=[12318, 3], y=[1928, 2], pos=[1928, 14], batch=[1928], ptr=[5])>\n",
      "63 <bound method BaseData.size of DataBatch(x=[1928], edge_index=[2, 12394], edge_attr=[12394, 3], y=[1928, 2], pos=[1928, 14], batch=[1928], ptr=[5])>\n",
      "64 <bound method BaseData.size of DataBatch(x=[1928], edge_index=[2, 12422], edge_attr=[12422, 3], y=[1928, 2], pos=[1928, 14], batch=[1928], ptr=[5])>\n",
      "65 <bound method BaseData.size of DataBatch(x=[1928], edge_index=[2, 12606], edge_attr=[12606, 3], y=[1928, 2], pos=[1928, 14], batch=[1928], ptr=[5])>\n",
      "66 <bound method BaseData.size of DataBatch(x=[1928], edge_index=[2, 12680], edge_attr=[12680, 3], y=[1928, 2], pos=[1928, 14], batch=[1928], ptr=[5])>\n",
      "67 <bound method BaseData.size of DataBatch(x=[1928], edge_index=[2, 12756], edge_attr=[12756, 3], y=[1928, 2], pos=[1928, 14], batch=[1928], ptr=[5])>\n",
      "68 <bound method BaseData.size of DataBatch(x=[1928], edge_index=[2, 12772], edge_attr=[12772, 3], y=[1928, 2], pos=[1928, 14], batch=[1928], ptr=[5])>\n",
      "69 <bound method BaseData.size of DataBatch(x=[1928], edge_index=[2, 12800], edge_attr=[12800, 3], y=[1928, 2], pos=[1928, 14], batch=[1928], ptr=[5])>\n",
      "70 <bound method BaseData.size of DataBatch(x=[1928], edge_index=[2, 12822], edge_attr=[12822, 3], y=[1928, 2], pos=[1928, 14], batch=[1928], ptr=[5])>\n",
      "71 <bound method BaseData.size of DataBatch(x=[1928], edge_index=[2, 12858], edge_attr=[12858, 3], y=[1928, 2], pos=[1928, 14], batch=[1928], ptr=[5])>\n",
      "72 <bound method BaseData.size of DataBatch(x=[1928], edge_index=[2, 12968], edge_attr=[12968, 3], y=[1928, 2], pos=[1928, 14], batch=[1928], ptr=[5])>\n",
      "73 <bound method BaseData.size of DataBatch(x=[1928], edge_index=[2, 13050], edge_attr=[13050, 3], y=[1928, 2], pos=[1928, 14], batch=[1928], ptr=[5])>\n",
      "74 <bound method BaseData.size of DataBatch(x=[1928], edge_index=[2, 13190], edge_attr=[13190, 3], y=[1928, 2], pos=[1928, 14], batch=[1928], ptr=[5])>\n",
      "75 <bound method BaseData.size of DataBatch(x=[1928], edge_index=[2, 13346], edge_attr=[13346, 3], y=[1928, 2], pos=[1928, 14], batch=[1928], ptr=[5])>\n"
     ]
    },
    {
     "name": "stdout",
     "output_type": "stream",
     "text": [
      "76 <bound method BaseData.size of DataBatch(x=[1928], edge_index=[2, 13370], edge_attr=[13370, 3], y=[1928, 2], pos=[1928, 14], batch=[1928], ptr=[5])>\n",
      "77 <bound method BaseData.size of DataBatch(x=[1928], edge_index=[2, 13444], edge_attr=[13444, 3], y=[1928, 2], pos=[1928, 14], batch=[1928], ptr=[5])>\n",
      "78 <bound method BaseData.size of DataBatch(x=[1928], edge_index=[2, 13506], edge_attr=[13506, 3], y=[1928, 2], pos=[1928, 14], batch=[1928], ptr=[5])>\n",
      "79 <bound method BaseData.size of DataBatch(x=[1928], edge_index=[2, 13546], edge_attr=[13546, 3], y=[1928, 2], pos=[1928, 14], batch=[1928], ptr=[5])>\n",
      "80 <bound method BaseData.size of DataBatch(x=[1928], edge_index=[2, 13786], edge_attr=[13786, 3], y=[1928, 2], pos=[1928, 14], batch=[1928], ptr=[5])>\n",
      "81 <bound method BaseData.size of DataBatch(x=[1928], edge_index=[2, 13944], edge_attr=[13944, 3], y=[1928, 2], pos=[1928, 14], batch=[1928], ptr=[5])>\n",
      "82 <bound method BaseData.size of DataBatch(x=[1928], edge_index=[2, 13998], edge_attr=[13998, 3], y=[1928, 2], pos=[1928, 14], batch=[1928], ptr=[5])>\n",
      "83 <bound method BaseData.size of DataBatch(x=[1928], edge_index=[2, 14136], edge_attr=[14136, 3], y=[1928, 2], pos=[1928, 14], batch=[1928], ptr=[5])>\n",
      "84 <bound method BaseData.size of DataBatch(x=[1928], edge_index=[2, 14382], edge_attr=[14382, 3], y=[1928, 2], pos=[1928, 14], batch=[1928], ptr=[5])>\n",
      "85 <bound method BaseData.size of DataBatch(x=[1928], edge_index=[2, 14472], edge_attr=[14472, 3], y=[1928, 2], pos=[1928, 14], batch=[1928], ptr=[5])>\n",
      "86 <bound method BaseData.size of DataBatch(x=[1928], edge_index=[2, 14698], edge_attr=[14698, 3], y=[1928, 2], pos=[1928, 14], batch=[1928], ptr=[5])>\n",
      "87 <bound method BaseData.size of DataBatch(x=[1928], edge_index=[2, 14706], edge_attr=[14706, 3], y=[1928, 2], pos=[1928, 14], batch=[1928], ptr=[5])>\n",
      "88 <bound method BaseData.size of DataBatch(x=[1928], edge_index=[2, 14820], edge_attr=[14820, 3], y=[1928, 2], pos=[1928, 14], batch=[1928], ptr=[5])>\n",
      "89 <bound method BaseData.size of DataBatch(x=[1928], edge_index=[2, 14866], edge_attr=[14866, 3], y=[1928, 2], pos=[1928, 14], batch=[1928], ptr=[5])>\n",
      "90 <bound method BaseData.size of DataBatch(x=[1928], edge_index=[2, 14810], edge_attr=[14810, 3], y=[1928, 2], pos=[1928, 14], batch=[1928], ptr=[5])>\n",
      "91 <bound method BaseData.size of DataBatch(x=[1928], edge_index=[2, 14832], edge_attr=[14832, 3], y=[1928, 2], pos=[1928, 14], batch=[1928], ptr=[5])>\n",
      "92 <bound method BaseData.size of DataBatch(x=[1928], edge_index=[2, 14712], edge_attr=[14712, 3], y=[1928, 2], pos=[1928, 14], batch=[1928], ptr=[5])>\n",
      "93 <bound method BaseData.size of DataBatch(x=[1928], edge_index=[2, 14740], edge_attr=[14740, 3], y=[1928, 2], pos=[1928, 14], batch=[1928], ptr=[5])>\n",
      "94 <bound method BaseData.size of DataBatch(x=[1928], edge_index=[2, 14928], edge_attr=[14928, 3], y=[1928, 2], pos=[1928, 14], batch=[1928], ptr=[5])>\n",
      "95 <bound method BaseData.size of DataBatch(x=[1928], edge_index=[2, 14906], edge_attr=[14906, 3], y=[1928, 2], pos=[1928, 14], batch=[1928], ptr=[5])>\n",
      "96 <bound method BaseData.size of DataBatch(x=[1928], edge_index=[2, 15000], edge_attr=[15000, 3], y=[1928, 2], pos=[1928, 14], batch=[1928], ptr=[5])>\n",
      "97 <bound method BaseData.size of DataBatch(x=[1928], edge_index=[2, 15178], edge_attr=[15178, 3], y=[1928, 2], pos=[1928, 14], batch=[1928], ptr=[5])>\n",
      "98 <bound method BaseData.size of DataBatch(x=[1928], edge_index=[2, 15166], edge_attr=[15166, 3], y=[1928, 2], pos=[1928, 14], batch=[1928], ptr=[5])>\n",
      "99 <bound method BaseData.size of DataBatch(x=[1928], edge_index=[2, 15170], edge_attr=[15170, 3], y=[1928, 2], pos=[1928, 14], batch=[1928], ptr=[5])>\n",
      "100 <bound method BaseData.size of DataBatch(x=[1928], edge_index=[2, 15142], edge_attr=[15142, 3], y=[1928, 2], pos=[1928, 14], batch=[1928], ptr=[5])>\n",
      "101 <bound method BaseData.size of DataBatch(x=[1928], edge_index=[2, 15028], edge_attr=[15028, 3], y=[1928, 2], pos=[1928, 14], batch=[1928], ptr=[5])>\n",
      "102 <bound method BaseData.size of DataBatch(x=[1928], edge_index=[2, 15138], edge_attr=[15138, 3], y=[1928, 2], pos=[1928, 14], batch=[1928], ptr=[5])>\n",
      "103 <bound method BaseData.size of DataBatch(x=[1928], edge_index=[2, 15126], edge_attr=[15126, 3], y=[1928, 2], pos=[1928, 14], batch=[1928], ptr=[5])>\n",
      "104 <bound method BaseData.size of DataBatch(x=[1928], edge_index=[2, 15048], edge_attr=[15048, 3], y=[1928, 2], pos=[1928, 14], batch=[1928], ptr=[5])>\n",
      "105 <bound method BaseData.size of DataBatch(x=[1928], edge_index=[2, 15124], edge_attr=[15124, 3], y=[1928, 2], pos=[1928, 14], batch=[1928], ptr=[5])>\n",
      "106 <bound method BaseData.size of DataBatch(x=[1928], edge_index=[2, 15156], edge_attr=[15156, 3], y=[1928, 2], pos=[1928, 14], batch=[1928], ptr=[5])>\n",
      "107 <bound method BaseData.size of DataBatch(x=[1928], edge_index=[2, 15136], edge_attr=[15136, 3], y=[1928, 2], pos=[1928, 14], batch=[1928], ptr=[5])>\n",
      "108 <bound method BaseData.size of DataBatch(x=[1928], edge_index=[2, 15172], edge_attr=[15172, 3], y=[1928, 2], pos=[1928, 14], batch=[1928], ptr=[5])>\n",
      "109 <bound method BaseData.size of DataBatch(x=[1928], edge_index=[2, 15204], edge_attr=[15204, 3], y=[1928, 2], pos=[1928, 14], batch=[1928], ptr=[5])>\n",
      "110 <bound method BaseData.size of DataBatch(x=[1928], edge_index=[2, 15406], edge_attr=[15406, 3], y=[1928, 2], pos=[1928, 14], batch=[1928], ptr=[5])>\n",
      "111 <bound method BaseData.size of DataBatch(x=[1928], edge_index=[2, 15484], edge_attr=[15484, 3], y=[1928, 2], pos=[1928, 14], batch=[1928], ptr=[5])>\n",
      "112 <bound method BaseData.size of DataBatch(x=[1928], edge_index=[2, 15468], edge_attr=[15468, 3], y=[1928, 2], pos=[1928, 14], batch=[1928], ptr=[5])>\n",
      "113 <bound method BaseData.size of DataBatch(x=[1928], edge_index=[2, 15478], edge_attr=[15478, 3], y=[1928, 2], pos=[1928, 14], batch=[1928], ptr=[5])>\n",
      "114 <bound method BaseData.size of DataBatch(x=[1928], edge_index=[2, 15464], edge_attr=[15464, 3], y=[1928, 2], pos=[1928, 14], batch=[1928], ptr=[5])>\n",
      "115 <bound method BaseData.size of DataBatch(x=[1928], edge_index=[2, 15544], edge_attr=[15544, 3], y=[1928, 2], pos=[1928, 14], batch=[1928], ptr=[5])>\n",
      "116 <bound method BaseData.size of DataBatch(x=[1928], edge_index=[2, 15442], edge_attr=[15442, 3], y=[1928, 2], pos=[1928, 14], batch=[1928], ptr=[5])>\n",
      "117 <bound method BaseData.size of DataBatch(x=[1928], edge_index=[2, 15560], edge_attr=[15560, 3], y=[1928, 2], pos=[1928, 14], batch=[1928], ptr=[5])>\n",
      "118 <bound method BaseData.size of DataBatch(x=[1928], edge_index=[2, 15658], edge_attr=[15658, 3], y=[1928, 2], pos=[1928, 14], batch=[1928], ptr=[5])>\n",
      "119 <bound method BaseData.size of DataBatch(x=[1928], edge_index=[2, 15632], edge_attr=[15632, 3], y=[1928, 2], pos=[1928, 14], batch=[1928], ptr=[5])>\n",
      "120 <bound method BaseData.size of DataBatch(x=[1928], edge_index=[2, 15582], edge_attr=[15582, 3], y=[1928, 2], pos=[1928, 14], batch=[1928], ptr=[5])>\n",
      "121 <bound method BaseData.size of DataBatch(x=[1928], edge_index=[2, 15772], edge_attr=[15772, 3], y=[1928, 2], pos=[1928, 14], batch=[1928], ptr=[5])>\n",
      "122 <bound method BaseData.size of DataBatch(x=[1928], edge_index=[2, 15700], edge_attr=[15700, 3], y=[1928, 2], pos=[1928, 14], batch=[1928], ptr=[5])>\n",
      "123 <bound method BaseData.size of DataBatch(x=[1928], edge_index=[2, 15758], edge_attr=[15758, 3], y=[1928, 2], pos=[1928, 14], batch=[1928], ptr=[5])>\n",
      "124 <bound method BaseData.size of DataBatch(x=[1928], edge_index=[2, 15730], edge_attr=[15730, 3], y=[1928, 2], pos=[1928, 14], batch=[1928], ptr=[5])>\n",
      "125 <bound method BaseData.size of DataBatch(x=[1928], edge_index=[2, 15718], edge_attr=[15718, 3], y=[1928, 2], pos=[1928, 14], batch=[1928], ptr=[5])>\n",
      "126 <bound method BaseData.size of DataBatch(x=[1928], edge_index=[2, 15736], edge_attr=[15736, 3], y=[1928, 2], pos=[1928, 14], batch=[1928], ptr=[5])>\n",
      "127 <bound method BaseData.size of DataBatch(x=[1928], edge_index=[2, 15890], edge_attr=[15890, 3], y=[1928, 2], pos=[1928, 14], batch=[1928], ptr=[5])>\n",
      "128 <bound method BaseData.size of DataBatch(x=[1928], edge_index=[2, 15980], edge_attr=[15980, 3], y=[1928, 2], pos=[1928, 14], batch=[1928], ptr=[5])>\n",
      "129 <bound method BaseData.size of DataBatch(x=[1928], edge_index=[2, 16028], edge_attr=[16028, 3], y=[1928, 2], pos=[1928, 14], batch=[1928], ptr=[5])>\n",
      "130 <bound method BaseData.size of DataBatch(x=[1928], edge_index=[2, 16064], edge_attr=[16064, 3], y=[1928, 2], pos=[1928, 14], batch=[1928], ptr=[5])>\n",
      "131 <bound method BaseData.size of DataBatch(x=[1928], edge_index=[2, 16186], edge_attr=[16186, 3], y=[1928, 2], pos=[1928, 14], batch=[1928], ptr=[5])>\n",
      "132 <bound method BaseData.size of DataBatch(x=[1928], edge_index=[2, 16136], edge_attr=[16136, 3], y=[1928, 2], pos=[1928, 14], batch=[1928], ptr=[5])>\n",
      "133 <bound method BaseData.size of DataBatch(x=[1928], edge_index=[2, 16174], edge_attr=[16174, 3], y=[1928, 2], pos=[1928, 14], batch=[1928], ptr=[5])>\n",
      "134 <bound method BaseData.size of DataBatch(x=[1928], edge_index=[2, 16214], edge_attr=[16214, 3], y=[1928, 2], pos=[1928, 14], batch=[1928], ptr=[5])>\n",
      "135 <bound method BaseData.size of DataBatch(x=[1928], edge_index=[2, 16198], edge_attr=[16198, 3], y=[1928, 2], pos=[1928, 14], batch=[1928], ptr=[5])>\n",
      "136 <bound method BaseData.size of DataBatch(x=[1928], edge_index=[2, 16414], edge_attr=[16414, 3], y=[1928, 2], pos=[1928, 14], batch=[1928], ptr=[5])>\n",
      "137 <bound method BaseData.size of DataBatch(x=[1928], edge_index=[2, 16330], edge_attr=[16330, 3], y=[1928, 2], pos=[1928, 14], batch=[1928], ptr=[5])>\n",
      "138 <bound method BaseData.size of DataBatch(x=[1928], edge_index=[2, 16322], edge_attr=[16322, 3], y=[1928, 2], pos=[1928, 14], batch=[1928], ptr=[5])>\n",
      "139 <bound method BaseData.size of DataBatch(x=[1928], edge_index=[2, 16338], edge_attr=[16338, 3], y=[1928, 2], pos=[1928, 14], batch=[1928], ptr=[5])>\n",
      "140 <bound method BaseData.size of DataBatch(x=[1928], edge_index=[2, 16386], edge_attr=[16386, 3], y=[1928, 2], pos=[1928, 14], batch=[1928], ptr=[5])>\n",
      "141 <bound method BaseData.size of DataBatch(x=[1928], edge_index=[2, 16298], edge_attr=[16298, 3], y=[1928, 2], pos=[1928, 14], batch=[1928], ptr=[5])>\n",
      "142 <bound method BaseData.size of DataBatch(x=[1928], edge_index=[2, 16278], edge_attr=[16278, 3], y=[1928, 2], pos=[1928, 14], batch=[1928], ptr=[5])>\n",
      "143 <bound method BaseData.size of DataBatch(x=[1928], edge_index=[2, 16348], edge_attr=[16348, 3], y=[1928, 2], pos=[1928, 14], batch=[1928], ptr=[5])>\n",
      "144 <bound method BaseData.size of DataBatch(x=[1928], edge_index=[2, 16276], edge_attr=[16276, 3], y=[1928, 2], pos=[1928, 14], batch=[1928], ptr=[5])>\n",
      "145 <bound method BaseData.size of DataBatch(x=[1928], edge_index=[2, 16330], edge_attr=[16330, 3], y=[1928, 2], pos=[1928, 14], batch=[1928], ptr=[5])>\n",
      "146 <bound method BaseData.size of DataBatch(x=[1928], edge_index=[2, 16468], edge_attr=[16468, 3], y=[1928, 2], pos=[1928, 14], batch=[1928], ptr=[5])>\n",
      "147 <bound method BaseData.size of DataBatch(x=[1928], edge_index=[2, 16668], edge_attr=[16668, 3], y=[1928, 2], pos=[1928, 14], batch=[1928], ptr=[5])>\n",
      "148 <bound method BaseData.size of DataBatch(x=[1928], edge_index=[2, 16758], edge_attr=[16758, 3], y=[1928, 2], pos=[1928, 14], batch=[1928], ptr=[5])>\n",
      "149 <bound method BaseData.size of DataBatch(x=[1928], edge_index=[2, 16870], edge_attr=[16870, 3], y=[1928, 2], pos=[1928, 14], batch=[1928], ptr=[5])>\n"
     ]
    },
    {
     "name": "stdout",
     "output_type": "stream",
     "text": [
      "150 <bound method BaseData.size of DataBatch(x=[1928], edge_index=[2, 16952], edge_attr=[16952, 3], y=[1928, 2], pos=[1928, 14], batch=[1928], ptr=[5])>\n",
      "151 <bound method BaseData.size of DataBatch(x=[1928], edge_index=[2, 16766], edge_attr=[16766, 3], y=[1928, 2], pos=[1928, 14], batch=[1928], ptr=[5])>\n",
      "152 <bound method BaseData.size of DataBatch(x=[1928], edge_index=[2, 16908], edge_attr=[16908, 3], y=[1928, 2], pos=[1928, 14], batch=[1928], ptr=[5])>\n",
      "153 <bound method BaseData.size of DataBatch(x=[1928], edge_index=[2, 16932], edge_attr=[16932, 3], y=[1928, 2], pos=[1928, 14], batch=[1928], ptr=[5])>\n",
      "154 <bound method BaseData.size of DataBatch(x=[1928], edge_index=[2, 16916], edge_attr=[16916, 3], y=[1928, 2], pos=[1928, 14], batch=[1928], ptr=[5])>\n",
      "155 <bound method BaseData.size of DataBatch(x=[1928], edge_index=[2, 16924], edge_attr=[16924, 3], y=[1928, 2], pos=[1928, 14], batch=[1928], ptr=[5])>\n",
      "156 <bound method BaseData.size of DataBatch(x=[1928], edge_index=[2, 17032], edge_attr=[17032, 3], y=[1928, 2], pos=[1928, 14], batch=[1928], ptr=[5])>\n",
      "157 <bound method BaseData.size of DataBatch(x=[1928], edge_index=[2, 16972], edge_attr=[16972, 3], y=[1928, 2], pos=[1928, 14], batch=[1928], ptr=[5])>\n",
      "158 <bound method BaseData.size of DataBatch(x=[1928], edge_index=[2, 16916], edge_attr=[16916, 3], y=[1928, 2], pos=[1928, 14], batch=[1928], ptr=[5])>\n",
      "159 <bound method BaseData.size of DataBatch(x=[1928], edge_index=[2, 17028], edge_attr=[17028, 3], y=[1928, 2], pos=[1928, 14], batch=[1928], ptr=[5])>\n",
      "160 <bound method BaseData.size of DataBatch(x=[1928], edge_index=[2, 17104], edge_attr=[17104, 3], y=[1928, 2], pos=[1928, 14], batch=[1928], ptr=[5])>\n",
      "161 <bound method BaseData.size of DataBatch(x=[1928], edge_index=[2, 17094], edge_attr=[17094, 3], y=[1928, 2], pos=[1928, 14], batch=[1928], ptr=[5])>\n",
      "162 <bound method BaseData.size of DataBatch(x=[1928], edge_index=[2, 17188], edge_attr=[17188, 3], y=[1928, 2], pos=[1928, 14], batch=[1928], ptr=[5])>\n",
      "163 <bound method BaseData.size of DataBatch(x=[1928], edge_index=[2, 17226], edge_attr=[17226, 3], y=[1928, 2], pos=[1928, 14], batch=[1928], ptr=[5])>\n",
      "164 <bound method BaseData.size of DataBatch(x=[1928], edge_index=[2, 17244], edge_attr=[17244, 3], y=[1928, 2], pos=[1928, 14], batch=[1928], ptr=[5])>\n",
      "165 <bound method BaseData.size of DataBatch(x=[1928], edge_index=[2, 17264], edge_attr=[17264, 3], y=[1928, 2], pos=[1928, 14], batch=[1928], ptr=[5])>\n",
      "166 <bound method BaseData.size of DataBatch(x=[1928], edge_index=[2, 17228], edge_attr=[17228, 3], y=[1928, 2], pos=[1928, 14], batch=[1928], ptr=[5])>\n",
      "167 <bound method BaseData.size of DataBatch(x=[1928], edge_index=[2, 17332], edge_attr=[17332, 3], y=[1928, 2], pos=[1928, 14], batch=[1928], ptr=[5])>\n",
      "168 <bound method BaseData.size of DataBatch(x=[1928], edge_index=[2, 17244], edge_attr=[17244, 3], y=[1928, 2], pos=[1928, 14], batch=[1928], ptr=[5])>\n",
      "169 <bound method BaseData.size of DataBatch(x=[1928], edge_index=[2, 17258], edge_attr=[17258, 3], y=[1928, 2], pos=[1928, 14], batch=[1928], ptr=[5])>\n",
      "170 <bound method BaseData.size of DataBatch(x=[1928], edge_index=[2, 17222], edge_attr=[17222, 3], y=[1928, 2], pos=[1928, 14], batch=[1928], ptr=[5])>\n",
      "171 <bound method BaseData.size of DataBatch(x=[1928], edge_index=[2, 17214], edge_attr=[17214, 3], y=[1928, 2], pos=[1928, 14], batch=[1928], ptr=[5])>\n",
      "172 <bound method BaseData.size of DataBatch(x=[1928], edge_index=[2, 17142], edge_attr=[17142, 3], y=[1928, 2], pos=[1928, 14], batch=[1928], ptr=[5])>\n",
      "173 <bound method BaseData.size of DataBatch(x=[1928], edge_index=[2, 17284], edge_attr=[17284, 3], y=[1928, 2], pos=[1928, 14], batch=[1928], ptr=[5])>\n",
      "174 <bound method BaseData.size of DataBatch(x=[1928], edge_index=[2, 17182], edge_attr=[17182, 3], y=[1928, 2], pos=[1928, 14], batch=[1928], ptr=[5])>\n",
      "175 <bound method BaseData.size of DataBatch(x=[1928], edge_index=[2, 17216], edge_attr=[17216, 3], y=[1928, 2], pos=[1928, 14], batch=[1928], ptr=[5])>\n",
      "176 <bound method BaseData.size of DataBatch(x=[1928], edge_index=[2, 17154], edge_attr=[17154, 3], y=[1928, 2], pos=[1928, 14], batch=[1928], ptr=[5])>\n",
      "177 <bound method BaseData.size of DataBatch(x=[1928], edge_index=[2, 17248], edge_attr=[17248, 3], y=[1928, 2], pos=[1928, 14], batch=[1928], ptr=[5])>\n",
      "178 <bound method BaseData.size of DataBatch(x=[1928], edge_index=[2, 17272], edge_attr=[17272, 3], y=[1928, 2], pos=[1928, 14], batch=[1928], ptr=[5])>\n",
      "179 <bound method BaseData.size of DataBatch(x=[1928], edge_index=[2, 17296], edge_attr=[17296, 3], y=[1928, 2], pos=[1928, 14], batch=[1928], ptr=[5])>\n",
      "180 <bound method BaseData.size of DataBatch(x=[1928], edge_index=[2, 17326], edge_attr=[17326, 3], y=[1928, 2], pos=[1928, 14], batch=[1928], ptr=[5])>\n",
      "181 <bound method BaseData.size of DataBatch(x=[1928], edge_index=[2, 17220], edge_attr=[17220, 3], y=[1928, 2], pos=[1928, 14], batch=[1928], ptr=[5])>\n",
      "182 <bound method BaseData.size of DataBatch(x=[1928], edge_index=[2, 17420], edge_attr=[17420, 3], y=[1928, 2], pos=[1928, 14], batch=[1928], ptr=[5])>\n",
      "183 <bound method BaseData.size of DataBatch(x=[1928], edge_index=[2, 17444], edge_attr=[17444, 3], y=[1928, 2], pos=[1928, 14], batch=[1928], ptr=[5])>\n",
      "184 <bound method BaseData.size of DataBatch(x=[1928], edge_index=[2, 17540], edge_attr=[17540, 3], y=[1928, 2], pos=[1928, 14], batch=[1928], ptr=[5])>\n",
      "185 <bound method BaseData.size of DataBatch(x=[1928], edge_index=[2, 17450], edge_attr=[17450, 3], y=[1928, 2], pos=[1928, 14], batch=[1928], ptr=[5])>\n",
      "186 <bound method BaseData.size of DataBatch(x=[1928], edge_index=[2, 17448], edge_attr=[17448, 3], y=[1928, 2], pos=[1928, 14], batch=[1928], ptr=[5])>\n",
      "187 <bound method BaseData.size of DataBatch(x=[1928], edge_index=[2, 17484], edge_attr=[17484, 3], y=[1928, 2], pos=[1928, 14], batch=[1928], ptr=[5])>\n",
      "188 <bound method BaseData.size of DataBatch(x=[1928], edge_index=[2, 17496], edge_attr=[17496, 3], y=[1928, 2], pos=[1928, 14], batch=[1928], ptr=[5])>\n",
      "189 <bound method BaseData.size of DataBatch(x=[1928], edge_index=[2, 17538], edge_attr=[17538, 3], y=[1928, 2], pos=[1928, 14], batch=[1928], ptr=[5])>\n",
      "190 <bound method BaseData.size of DataBatch(x=[1928], edge_index=[2, 17560], edge_attr=[17560, 3], y=[1928, 2], pos=[1928, 14], batch=[1928], ptr=[5])>\n",
      "191 <bound method BaseData.size of DataBatch(x=[1928], edge_index=[2, 17458], edge_attr=[17458, 3], y=[1928, 2], pos=[1928, 14], batch=[1928], ptr=[5])>\n",
      "192 <bound method BaseData.size of DataBatch(x=[1928], edge_index=[2, 17594], edge_attr=[17594, 3], y=[1928, 2], pos=[1928, 14], batch=[1928], ptr=[5])>\n",
      "193 <bound method BaseData.size of DataBatch(x=[1928], edge_index=[2, 17674], edge_attr=[17674, 3], y=[1928, 2], pos=[1928, 14], batch=[1928], ptr=[5])>\n",
      "194 <bound method BaseData.size of DataBatch(x=[1928], edge_index=[2, 17748], edge_attr=[17748, 3], y=[1928, 2], pos=[1928, 14], batch=[1928], ptr=[5])>\n",
      "195 <bound method BaseData.size of DataBatch(x=[1928], edge_index=[2, 17716], edge_attr=[17716, 3], y=[1928, 2], pos=[1928, 14], batch=[1928], ptr=[5])>\n",
      "196 <bound method BaseData.size of DataBatch(x=[1928], edge_index=[2, 17762], edge_attr=[17762, 3], y=[1928, 2], pos=[1928, 14], batch=[1928], ptr=[5])>\n",
      "197 <bound method BaseData.size of DataBatch(x=[1928], edge_index=[2, 17816], edge_attr=[17816, 3], y=[1928, 2], pos=[1928, 14], batch=[1928], ptr=[5])>\n",
      "198 <bound method BaseData.size of DataBatch(x=[1928], edge_index=[2, 17798], edge_attr=[17798, 3], y=[1928, 2], pos=[1928, 14], batch=[1928], ptr=[5])>\n",
      "199 <bound method BaseData.size of DataBatch(x=[1928], edge_index=[2, 17800], edge_attr=[17800, 3], y=[1928, 2], pos=[1928, 14], batch=[1928], ptr=[5])>\n",
      "200 <bound method BaseData.size of DataBatch(x=[1928], edge_index=[2, 17824], edge_attr=[17824, 3], y=[1928, 2], pos=[1928, 14], batch=[1928], ptr=[5])>\n",
      "201 <bound method BaseData.size of DataBatch(x=[1928], edge_index=[2, 17920], edge_attr=[17920, 3], y=[1928, 2], pos=[1928, 14], batch=[1928], ptr=[5])>\n",
      "202 <bound method BaseData.size of DataBatch(x=[1928], edge_index=[2, 17876], edge_attr=[17876, 3], y=[1928, 2], pos=[1928, 14], batch=[1928], ptr=[5])>\n",
      "203 <bound method BaseData.size of DataBatch(x=[1928], edge_index=[2, 17822], edge_attr=[17822, 3], y=[1928, 2], pos=[1928, 14], batch=[1928], ptr=[5])>\n",
      "204 <bound method BaseData.size of DataBatch(x=[1928], edge_index=[2, 18012], edge_attr=[18012, 3], y=[1928, 2], pos=[1928, 14], batch=[1928], ptr=[5])>\n",
      "205 <bound method BaseData.size of DataBatch(x=[1928], edge_index=[2, 18012], edge_attr=[18012, 3], y=[1928, 2], pos=[1928, 14], batch=[1928], ptr=[5])>\n",
      "206 <bound method BaseData.size of DataBatch(x=[1928], edge_index=[2, 17868], edge_attr=[17868, 3], y=[1928, 2], pos=[1928, 14], batch=[1928], ptr=[5])>\n",
      "207 <bound method BaseData.size of DataBatch(x=[1928], edge_index=[2, 17954], edge_attr=[17954, 3], y=[1928, 2], pos=[1928, 14], batch=[1928], ptr=[5])>\n",
      "208 <bound method BaseData.size of DataBatch(x=[1928], edge_index=[2, 18040], edge_attr=[18040, 3], y=[1928, 2], pos=[1928, 14], batch=[1928], ptr=[5])>\n",
      "209 <bound method BaseData.size of DataBatch(x=[1928], edge_index=[2, 18030], edge_attr=[18030, 3], y=[1928, 2], pos=[1928, 14], batch=[1928], ptr=[5])>\n",
      "210 <bound method BaseData.size of DataBatch(x=[1928], edge_index=[2, 18026], edge_attr=[18026, 3], y=[1928, 2], pos=[1928, 14], batch=[1928], ptr=[5])>\n",
      "211 <bound method BaseData.size of DataBatch(x=[1928], edge_index=[2, 17984], edge_attr=[17984, 3], y=[1928, 2], pos=[1928, 14], batch=[1928], ptr=[5])>\n",
      "212 <bound method BaseData.size of DataBatch(x=[1928], edge_index=[2, 17998], edge_attr=[17998, 3], y=[1928, 2], pos=[1928, 14], batch=[1928], ptr=[5])>\n",
      "213 <bound method BaseData.size of DataBatch(x=[1928], edge_index=[2, 17984], edge_attr=[17984, 3], y=[1928, 2], pos=[1928, 14], batch=[1928], ptr=[5])>\n",
      "214 <bound method BaseData.size of DataBatch(x=[1928], edge_index=[2, 18014], edge_attr=[18014, 3], y=[1928, 2], pos=[1928, 14], batch=[1928], ptr=[5])>\n",
      "215 <bound method BaseData.size of DataBatch(x=[1928], edge_index=[2, 18024], edge_attr=[18024, 3], y=[1928, 2], pos=[1928, 14], batch=[1928], ptr=[5])>\n",
      "216 <bound method BaseData.size of DataBatch(x=[1928], edge_index=[2, 18050], edge_attr=[18050, 3], y=[1928, 2], pos=[1928, 14], batch=[1928], ptr=[5])>\n",
      "217 <bound method BaseData.size of DataBatch(x=[1928], edge_index=[2, 18104], edge_attr=[18104, 3], y=[1928, 2], pos=[1928, 14], batch=[1928], ptr=[5])>\n",
      "218 <bound method BaseData.size of DataBatch(x=[1928], edge_index=[2, 17996], edge_attr=[17996, 3], y=[1928, 2], pos=[1928, 14], batch=[1928], ptr=[5])>\n"
     ]
    },
    {
     "name": "stdout",
     "output_type": "stream",
     "text": [
      "219 <bound method BaseData.size of DataBatch(x=[1928], edge_index=[2, 18178], edge_attr=[18178, 3], y=[1928, 2], pos=[1928, 14], batch=[1928], ptr=[5])>\n",
      "220 <bound method BaseData.size of DataBatch(x=[1928], edge_index=[2, 18078], edge_attr=[18078, 3], y=[1928, 2], pos=[1928, 14], batch=[1928], ptr=[5])>\n",
      "221 <bound method BaseData.size of DataBatch(x=[1928], edge_index=[2, 18112], edge_attr=[18112, 3], y=[1928, 2], pos=[1928, 14], batch=[1928], ptr=[5])>\n",
      "222 <bound method BaseData.size of DataBatch(x=[1928], edge_index=[2, 18006], edge_attr=[18006, 3], y=[1928, 2], pos=[1928, 14], batch=[1928], ptr=[5])>\n",
      "223 <bound method BaseData.size of DataBatch(x=[1928], edge_index=[2, 18238], edge_attr=[18238, 3], y=[1928, 2], pos=[1928, 14], batch=[1928], ptr=[5])>\n",
      "224 <bound method BaseData.size of DataBatch(x=[1928], edge_index=[2, 18000], edge_attr=[18000, 3], y=[1928, 2], pos=[1928, 14], batch=[1928], ptr=[5])>\n",
      "225 <bound method BaseData.size of DataBatch(x=[1928], edge_index=[2, 18008], edge_attr=[18008, 3], y=[1928, 2], pos=[1928, 14], batch=[1928], ptr=[5])>\n",
      "226 <bound method BaseData.size of DataBatch(x=[1928], edge_index=[2, 17982], edge_attr=[17982, 3], y=[1928, 2], pos=[1928, 14], batch=[1928], ptr=[5])>\n",
      "227 <bound method BaseData.size of DataBatch(x=[1928], edge_index=[2, 18052], edge_attr=[18052, 3], y=[1928, 2], pos=[1928, 14], batch=[1928], ptr=[5])>\n",
      "228 <bound method BaseData.size of DataBatch(x=[1928], edge_index=[2, 18028], edge_attr=[18028, 3], y=[1928, 2], pos=[1928, 14], batch=[1928], ptr=[5])>\n",
      "229 <bound method BaseData.size of DataBatch(x=[1928], edge_index=[2, 18016], edge_attr=[18016, 3], y=[1928, 2], pos=[1928, 14], batch=[1928], ptr=[5])>\n",
      "230 <bound method BaseData.size of DataBatch(x=[1928], edge_index=[2, 18102], edge_attr=[18102, 3], y=[1928, 2], pos=[1928, 14], batch=[1928], ptr=[5])>\n",
      "231 <bound method BaseData.size of DataBatch(x=[1928], edge_index=[2, 18102], edge_attr=[18102, 3], y=[1928, 2], pos=[1928, 14], batch=[1928], ptr=[5])>\n",
      "232 <bound method BaseData.size of DataBatch(x=[1928], edge_index=[2, 18106], edge_attr=[18106, 3], y=[1928, 2], pos=[1928, 14], batch=[1928], ptr=[5])>\n",
      "233 <bound method BaseData.size of DataBatch(x=[1928], edge_index=[2, 18188], edge_attr=[18188, 3], y=[1928, 2], pos=[1928, 14], batch=[1928], ptr=[5])>\n",
      "234 <bound method BaseData.size of DataBatch(x=[1928], edge_index=[2, 18092], edge_attr=[18092, 3], y=[1928, 2], pos=[1928, 14], batch=[1928], ptr=[5])>\n",
      "235 <bound method BaseData.size of DataBatch(x=[1928], edge_index=[2, 18204], edge_attr=[18204, 3], y=[1928, 2], pos=[1928, 14], batch=[1928], ptr=[5])>\n",
      "236 <bound method BaseData.size of DataBatch(x=[1928], edge_index=[2, 18312], edge_attr=[18312, 3], y=[1928, 2], pos=[1928, 14], batch=[1928], ptr=[5])>\n",
      "237 <bound method BaseData.size of DataBatch(x=[1928], edge_index=[2, 18188], edge_attr=[18188, 3], y=[1928, 2], pos=[1928, 14], batch=[1928], ptr=[5])>\n",
      "238 <bound method BaseData.size of DataBatch(x=[1928], edge_index=[2, 18388], edge_attr=[18388, 3], y=[1928, 2], pos=[1928, 14], batch=[1928], ptr=[5])>\n",
      "239 <bound method BaseData.size of DataBatch(x=[1928], edge_index=[2, 18298], edge_attr=[18298, 3], y=[1928, 2], pos=[1928, 14], batch=[1928], ptr=[5])>\n",
      "240 <bound method BaseData.size of DataBatch(x=[1928], edge_index=[2, 18334], edge_attr=[18334, 3], y=[1928, 2], pos=[1928, 14], batch=[1928], ptr=[5])>\n",
      "241 <bound method BaseData.size of DataBatch(x=[1928], edge_index=[2, 18390], edge_attr=[18390, 3], y=[1928, 2], pos=[1928, 14], batch=[1928], ptr=[5])>\n",
      "242 <bound method BaseData.size of DataBatch(x=[1928], edge_index=[2, 18272], edge_attr=[18272, 3], y=[1928, 2], pos=[1928, 14], batch=[1928], ptr=[5])>\n",
      "243 <bound method BaseData.size of DataBatch(x=[1928], edge_index=[2, 18480], edge_attr=[18480, 3], y=[1928, 2], pos=[1928, 14], batch=[1928], ptr=[5])>\n",
      "244 <bound method BaseData.size of DataBatch(x=[1928], edge_index=[2, 18282], edge_attr=[18282, 3], y=[1928, 2], pos=[1928, 14], batch=[1928], ptr=[5])>\n",
      "245 <bound method BaseData.size of DataBatch(x=[1928], edge_index=[2, 18374], edge_attr=[18374, 3], y=[1928, 2], pos=[1928, 14], batch=[1928], ptr=[5])>\n",
      "246 <bound method BaseData.size of DataBatch(x=[1928], edge_index=[2, 18486], edge_attr=[18486, 3], y=[1928, 2], pos=[1928, 14], batch=[1928], ptr=[5])>\n",
      "247 <bound method BaseData.size of DataBatch(x=[1928], edge_index=[2, 18498], edge_attr=[18498, 3], y=[1928, 2], pos=[1928, 14], batch=[1928], ptr=[5])>\n",
      "248 <bound method BaseData.size of DataBatch(x=[1688], edge_index=[2, 15442], edge_attr=[15442, 3], y=[1928, 2], pos=[1928, 14], batch=[1688], ptr=[5])>\n",
      "249 <bound method BaseData.size of DataBatch(x=[1448], edge_index=[2, 12374], edge_attr=[12374, 3], y=[1928, 2], pos=[1928, 14], batch=[1448], ptr=[5])>\n",
      "250 <bound method BaseData.size of DataBatch(x=[1448], edge_index=[2, 12318], edge_attr=[12318, 3], y=[1928, 2], pos=[1928, 14], batch=[1448], ptr=[5])>\n",
      "251 <bound method BaseData.size of DataBatch(x=[1448], edge_index=[2, 12350], edge_attr=[12350, 3], y=[1928, 2], pos=[1928, 14], batch=[1448], ptr=[5])>\n",
      "252 <bound method BaseData.size of DataBatch(x=[1448], edge_index=[2, 12326], edge_attr=[12326, 3], y=[1928, 2], pos=[1928, 14], batch=[1448], ptr=[5])>\n",
      "253 <bound method BaseData.size of DataBatch(x=[1448], edge_index=[2, 12304], edge_attr=[12304, 3], y=[1928, 2], pos=[1928, 14], batch=[1448], ptr=[5])>\n",
      "254 <bound method BaseData.size of DataBatch(x=[1448], edge_index=[2, 12306], edge_attr=[12306, 3], y=[1928, 2], pos=[1928, 14], batch=[1448], ptr=[5])>\n",
      "255 <bound method BaseData.size of DataBatch(x=[1448], edge_index=[2, 12320], edge_attr=[12320, 3], y=[1928, 2], pos=[1928, 14], batch=[1448], ptr=[5])>\n",
      "256 <bound method BaseData.size of DataBatch(x=[1448], edge_index=[2, 12292], edge_attr=[12292, 3], y=[1928, 2], pos=[1928, 14], batch=[1448], ptr=[5])>\n",
      "257 <bound method BaseData.size of DataBatch(x=[1448], edge_index=[2, 12368], edge_attr=[12368, 3], y=[1928, 2], pos=[1928, 14], batch=[1448], ptr=[5])>\n",
      "258 <bound method BaseData.size of DataBatch(x=[1448], edge_index=[2, 12392], edge_attr=[12392, 3], y=[1928, 2], pos=[1928, 14], batch=[1448], ptr=[5])>\n",
      "259 <bound method BaseData.size of DataBatch(x=[1448], edge_index=[2, 12586], edge_attr=[12586, 3], y=[1928, 2], pos=[1928, 14], batch=[1448], ptr=[5])>\n",
      "260 <bound method BaseData.size of DataBatch(x=[1448], edge_index=[2, 12630], edge_attr=[12630, 3], y=[1928, 2], pos=[1928, 14], batch=[1448], ptr=[5])>\n",
      "261 <bound method BaseData.size of DataBatch(x=[1448], edge_index=[2, 12418], edge_attr=[12418, 3], y=[1928, 2], pos=[1928, 14], batch=[1448], ptr=[5])>\n",
      "262 <bound method BaseData.size of DataBatch(x=[1448], edge_index=[2, 12082], edge_attr=[12082, 3], y=[1928, 2], pos=[1928, 14], batch=[1448], ptr=[5])>\n",
      "263 <bound method BaseData.size of DataBatch(x=[1448], edge_index=[2, 12222], edge_attr=[12222, 3], y=[1928, 2], pos=[1928, 14], batch=[1448], ptr=[5])>\n",
      "264 <bound method BaseData.size of DataBatch(x=[1448], edge_index=[2, 12282], edge_attr=[12282, 3], y=[1928, 2], pos=[1928, 14], batch=[1448], ptr=[5])>\n",
      "265 <bound method BaseData.size of DataBatch(x=[1448], edge_index=[2, 12180], edge_attr=[12180, 3], y=[1928, 2], pos=[1928, 14], batch=[1448], ptr=[5])>\n",
      "266 <bound method BaseData.size of DataBatch(x=[1448], edge_index=[2, 12108], edge_attr=[12108, 3], y=[1928, 2], pos=[1928, 14], batch=[1448], ptr=[5])>\n",
      "267 <bound method BaseData.size of DataBatch(x=[1448], edge_index=[2, 12168], edge_attr=[12168, 3], y=[1928, 2], pos=[1928, 14], batch=[1448], ptr=[5])>\n",
      "268 <bound method BaseData.size of DataBatch(x=[1448], edge_index=[2, 12254], edge_attr=[12254, 3], y=[1928, 2], pos=[1928, 14], batch=[1448], ptr=[5])>\n",
      "269 <bound method BaseData.size of DataBatch(x=[1448], edge_index=[2, 12360], edge_attr=[12360, 3], y=[1928, 2], pos=[1928, 14], batch=[1448], ptr=[5])>\n",
      "270 <bound method BaseData.size of DataBatch(x=[1448], edge_index=[2, 12094], edge_attr=[12094, 3], y=[1928, 2], pos=[1928, 14], batch=[1448], ptr=[5])>\n",
      "271 <bound method BaseData.size of DataBatch(x=[1448], edge_index=[2, 12110], edge_attr=[12110, 3], y=[1928, 2], pos=[1928, 14], batch=[1448], ptr=[5])>\n",
      "272 <bound method BaseData.size of DataBatch(x=[1448], edge_index=[2, 12104], edge_attr=[12104, 3], y=[1928, 2], pos=[1928, 14], batch=[1448], ptr=[5])>\n",
      "273 <bound method BaseData.size of DataBatch(x=[1448], edge_index=[2, 12080], edge_attr=[12080, 3], y=[1928, 2], pos=[1928, 14], batch=[1448], ptr=[5])>\n",
      "274 <bound method BaseData.size of DataBatch(x=[1448], edge_index=[2, 12064], edge_attr=[12064, 3], y=[1928, 2], pos=[1928, 14], batch=[1448], ptr=[5])>\n",
      "275 <bound method BaseData.size of DataBatch(x=[1448], edge_index=[2, 12126], edge_attr=[12126, 3], y=[1928, 2], pos=[1928, 14], batch=[1448], ptr=[5])>\n",
      "276 <bound method BaseData.size of DataBatch(x=[1448], edge_index=[2, 11876], edge_attr=[11876, 3], y=[1928, 2], pos=[1928, 14], batch=[1448], ptr=[5])>\n",
      "277 <bound method BaseData.size of DataBatch(x=[1448], edge_index=[2, 11914], edge_attr=[11914, 3], y=[1928, 2], pos=[1928, 14], batch=[1448], ptr=[5])>\n",
      "278 <bound method BaseData.size of DataBatch(x=[1448], edge_index=[2, 11878], edge_attr=[11878, 3], y=[1928, 2], pos=[1928, 14], batch=[1448], ptr=[5])>\n",
      "279 <bound method BaseData.size of DataBatch(x=[1448], edge_index=[2, 11840], edge_attr=[11840, 3], y=[1928, 2], pos=[1928, 14], batch=[1448], ptr=[5])>\n",
      "280 <bound method BaseData.size of DataBatch(x=[1448], edge_index=[2, 11760], edge_attr=[11760, 3], y=[1928, 2], pos=[1928, 14], batch=[1448], ptr=[5])>\n",
      "281 <bound method BaseData.size of DataBatch(x=[1448], edge_index=[2, 11680], edge_attr=[11680, 3], y=[1928, 2], pos=[1928, 14], batch=[1448], ptr=[5])>\n",
      "282 <bound method BaseData.size of DataBatch(x=[1448], edge_index=[2, 11712], edge_attr=[11712, 3], y=[1928, 2], pos=[1928, 14], batch=[1448], ptr=[5])>\n",
      "283 <bound method BaseData.size of DataBatch(x=[1448], edge_index=[2, 11714], edge_attr=[11714, 3], y=[1928, 2], pos=[1928, 14], batch=[1448], ptr=[5])>\n",
      "284 <bound method BaseData.size of DataBatch(x=[1448], edge_index=[2, 11718], edge_attr=[11718, 3], y=[1928, 2], pos=[1928, 14], batch=[1448], ptr=[5])>\n",
      "285 <bound method BaseData.size of DataBatch(x=[1448], edge_index=[2, 11700], edge_attr=[11700, 3], y=[1928, 2], pos=[1928, 14], batch=[1448], ptr=[5])>\n",
      "286 <bound method BaseData.size of DataBatch(x=[1448], edge_index=[2, 11830], edge_attr=[11830, 3], y=[1928, 2], pos=[1928, 14], batch=[1448], ptr=[5])>\n",
      "287 <bound method BaseData.size of DataBatch(x=[1448], edge_index=[2, 11772], edge_attr=[11772, 3], y=[1928, 2], pos=[1928, 14], batch=[1448], ptr=[5])>\n",
      "288 <bound method BaseData.size of DataBatch(x=[1448], edge_index=[2, 11848], edge_attr=[11848, 3], y=[1928, 2], pos=[1928, 14], batch=[1448], ptr=[5])>\n",
      "289 <bound method BaseData.size of DataBatch(x=[1448], edge_index=[2, 11780], edge_attr=[11780, 3], y=[1928, 2], pos=[1928, 14], batch=[1448], ptr=[5])>\n"
     ]
    },
    {
     "name": "stdout",
     "output_type": "stream",
     "text": [
      "290 <bound method BaseData.size of DataBatch(x=[1448], edge_index=[2, 11826], edge_attr=[11826, 3], y=[1928, 2], pos=[1928, 14], batch=[1448], ptr=[5])>\n",
      "291 <bound method BaseData.size of DataBatch(x=[1448], edge_index=[2, 11704], edge_attr=[11704, 3], y=[1928, 2], pos=[1928, 14], batch=[1448], ptr=[5])>\n",
      "292 <bound method BaseData.size of DataBatch(x=[1448], edge_index=[2, 11826], edge_attr=[11826, 3], y=[1928, 2], pos=[1928, 14], batch=[1448], ptr=[5])>\n",
      "293 <bound method BaseData.size of DataBatch(x=[1448], edge_index=[2, 11784], edge_attr=[11784, 3], y=[1928, 2], pos=[1928, 14], batch=[1448], ptr=[5])>\n",
      "294 <bound method BaseData.size of DataBatch(x=[1448], edge_index=[2, 11842], edge_attr=[11842, 3], y=[1928, 2], pos=[1928, 14], batch=[1448], ptr=[5])>\n",
      "295 <bound method BaseData.size of DataBatch(x=[1448], edge_index=[2, 11858], edge_attr=[11858, 3], y=[1928, 2], pos=[1928, 14], batch=[1448], ptr=[5])>\n",
      "296 <bound method BaseData.size of DataBatch(x=[1448], edge_index=[2, 11790], edge_attr=[11790, 3], y=[1928, 2], pos=[1928, 14], batch=[1448], ptr=[5])>\n",
      "297 <bound method BaseData.size of DataBatch(x=[1448], edge_index=[2, 11888], edge_attr=[11888, 3], y=[1928, 2], pos=[1928, 14], batch=[1448], ptr=[5])>\n",
      "298 <bound method BaseData.size of DataBatch(x=[1448], edge_index=[2, 11892], edge_attr=[11892, 3], y=[1928, 2], pos=[1928, 14], batch=[1448], ptr=[5])>\n",
      "299 <bound method BaseData.size of DataBatch(x=[1448], edge_index=[2, 11972], edge_attr=[11972, 3], y=[1928, 2], pos=[1928, 14], batch=[1448], ptr=[5])>\n",
      "300 <bound method BaseData.size of DataBatch(x=[1448], edge_index=[2, 12014], edge_attr=[12014, 3], y=[1928, 2], pos=[1928, 14], batch=[1448], ptr=[5])>\n",
      "301 <bound method BaseData.size of DataBatch(x=[1448], edge_index=[2, 12070], edge_attr=[12070, 3], y=[1928, 2], pos=[1928, 14], batch=[1448], ptr=[5])>\n",
      "302 <bound method BaseData.size of DataBatch(x=[1448], edge_index=[2, 12072], edge_attr=[12072, 3], y=[1928, 2], pos=[1928, 14], batch=[1448], ptr=[5])>\n",
      "303 <bound method BaseData.size of DataBatch(x=[1448], edge_index=[2, 12026], edge_attr=[12026, 3], y=[1928, 2], pos=[1928, 14], batch=[1448], ptr=[5])>\n",
      "304 <bound method BaseData.size of DataBatch(x=[1448], edge_index=[2, 12094], edge_attr=[12094, 3], y=[1928, 2], pos=[1928, 14], batch=[1448], ptr=[5])>\n",
      "305 <bound method BaseData.size of DataBatch(x=[1448], edge_index=[2, 12024], edge_attr=[12024, 3], y=[1928, 2], pos=[1928, 14], batch=[1448], ptr=[5])>\n",
      "306 <bound method BaseData.size of DataBatch(x=[1448], edge_index=[2, 12144], edge_attr=[12144, 3], y=[1928, 2], pos=[1928, 14], batch=[1448], ptr=[5])>\n",
      "307 <bound method BaseData.size of DataBatch(x=[1448], edge_index=[2, 12150], edge_attr=[12150, 3], y=[1928, 2], pos=[1928, 14], batch=[1448], ptr=[5])>\n",
      "308 <bound method BaseData.size of DataBatch(x=[1448], edge_index=[2, 12232], edge_attr=[12232, 3], y=[1928, 2], pos=[1928, 14], batch=[1448], ptr=[5])>\n",
      "309 <bound method BaseData.size of DataBatch(x=[1448], edge_index=[2, 12278], edge_attr=[12278, 3], y=[1928, 2], pos=[1928, 14], batch=[1448], ptr=[5])>\n",
      "310 <bound method BaseData.size of DataBatch(x=[1448], edge_index=[2, 12242], edge_attr=[12242, 3], y=[1928, 2], pos=[1928, 14], batch=[1448], ptr=[5])>\n",
      "311 <bound method BaseData.size of DataBatch(x=[1448], edge_index=[2, 12312], edge_attr=[12312, 3], y=[1928, 2], pos=[1928, 14], batch=[1448], ptr=[5])>\n",
      "312 <bound method BaseData.size of DataBatch(x=[1448], edge_index=[2, 12464], edge_attr=[12464, 3], y=[1928, 2], pos=[1928, 14], batch=[1448], ptr=[5])>\n",
      "313 <bound method BaseData.size of DataBatch(x=[1448], edge_index=[2, 12572], edge_attr=[12572, 3], y=[1928, 2], pos=[1928, 14], batch=[1448], ptr=[5])>\n",
      "314 <bound method BaseData.size of DataBatch(x=[1448], edge_index=[2, 12668], edge_attr=[12668, 3], y=[1928, 2], pos=[1928, 14], batch=[1448], ptr=[5])>\n",
      "315 <bound method BaseData.size of DataBatch(x=[1448], edge_index=[2, 12724], edge_attr=[12724, 3], y=[1928, 2], pos=[1928, 14], batch=[1448], ptr=[5])>\n",
      "316 <bound method BaseData.size of DataBatch(x=[1448], edge_index=[2, 12732], edge_attr=[12732, 3], y=[1928, 2], pos=[1928, 14], batch=[1448], ptr=[5])>\n",
      "317 <bound method BaseData.size of DataBatch(x=[1448], edge_index=[2, 12750], edge_attr=[12750, 3], y=[1928, 2], pos=[1928, 14], batch=[1448], ptr=[5])>\n",
      "318 <bound method BaseData.size of DataBatch(x=[1448], edge_index=[2, 12702], edge_attr=[12702, 3], y=[1928, 2], pos=[1928, 14], batch=[1448], ptr=[5])>\n",
      "319 <bound method BaseData.size of DataBatch(x=[1448], edge_index=[2, 12860], edge_attr=[12860, 3], y=[1928, 2], pos=[1928, 14], batch=[1448], ptr=[5])>\n",
      "320 <bound method BaseData.size of DataBatch(x=[1448], edge_index=[2, 12922], edge_attr=[12922, 3], y=[1928, 2], pos=[1928, 14], batch=[1448], ptr=[5])>\n",
      "321 <bound method BaseData.size of DataBatch(x=[1448], edge_index=[2, 13018], edge_attr=[13018, 3], y=[1928, 2], pos=[1928, 14], batch=[1448], ptr=[5])>\n",
      "322 <bound method BaseData.size of DataBatch(x=[1448], edge_index=[2, 13158], edge_attr=[13158, 3], y=[1928, 2], pos=[1928, 14], batch=[1448], ptr=[5])>\n",
      "323 <bound method BaseData.size of DataBatch(x=[1448], edge_index=[2, 13230], edge_attr=[13230, 3], y=[1928, 2], pos=[1928, 14], batch=[1448], ptr=[5])>\n",
      "324 <bound method BaseData.size of DataBatch(x=[1448], edge_index=[2, 13446], edge_attr=[13446, 3], y=[1928, 2], pos=[1928, 14], batch=[1448], ptr=[5])>\n",
      "325 <bound method BaseData.size of DataBatch(x=[1448], edge_index=[2, 13292], edge_attr=[13292, 3], y=[1928, 2], pos=[1928, 14], batch=[1448], ptr=[5])>\n",
      "326 <bound method BaseData.size of DataBatch(x=[1448], edge_index=[2, 13480], edge_attr=[13480, 3], y=[1928, 2], pos=[1928, 14], batch=[1448], ptr=[5])>\n",
      "327 <bound method BaseData.size of DataBatch(x=[1448], edge_index=[2, 13622], edge_attr=[13622, 3], y=[1928, 2], pos=[1928, 14], batch=[1448], ptr=[5])>\n",
      "328 <bound method BaseData.size of DataBatch(x=[1448], edge_index=[2, 13640], edge_attr=[13640, 3], y=[1928, 2], pos=[1928, 14], batch=[1448], ptr=[5])>\n",
      "329 <bound method BaseData.size of DataBatch(x=[1448], edge_index=[2, 13860], edge_attr=[13860, 3], y=[1928, 2], pos=[1928, 14], batch=[1448], ptr=[5])>\n",
      "330 <bound method BaseData.size of DataBatch(x=[1448], edge_index=[2, 14088], edge_attr=[14088, 3], y=[1928, 2], pos=[1928, 14], batch=[1448], ptr=[5])>\n",
      "331 <bound method BaseData.size of DataBatch(x=[1448], edge_index=[2, 14264], edge_attr=[14264, 3], y=[1928, 2], pos=[1928, 14], batch=[1448], ptr=[5])>\n",
      "332 <bound method BaseData.size of DataBatch(x=[1448], edge_index=[2, 14328], edge_attr=[14328, 3], y=[1928, 2], pos=[1928, 14], batch=[1448], ptr=[5])>\n",
      "333 <bound method BaseData.size of DataBatch(x=[1448], edge_index=[2, 14316], edge_attr=[14316, 3], y=[1928, 2], pos=[1928, 14], batch=[1448], ptr=[5])>\n",
      "334 <bound method BaseData.size of DataBatch(x=[1448], edge_index=[2, 14660], edge_attr=[14660, 3], y=[1928, 2], pos=[1928, 14], batch=[1448], ptr=[5])>\n",
      "335 <bound method BaseData.size of DataBatch(x=[1448], edge_index=[2, 14770], edge_attr=[14770, 3], y=[1928, 2], pos=[1928, 14], batch=[1448], ptr=[5])>\n",
      "336 <bound method BaseData.size of DataBatch(x=[1448], edge_index=[2, 14782], edge_attr=[14782, 3], y=[1928, 2], pos=[1928, 14], batch=[1448], ptr=[5])>\n",
      "337 <bound method BaseData.size of DataBatch(x=[1448], edge_index=[2, 14816], edge_attr=[14816, 3], y=[1928, 2], pos=[1928, 14], batch=[1448], ptr=[5])>\n",
      "338 <bound method BaseData.size of DataBatch(x=[1448], edge_index=[2, 14878], edge_attr=[14878, 3], y=[1928, 2], pos=[1928, 14], batch=[1448], ptr=[5])>\n",
      "339 <bound method BaseData.size of DataBatch(x=[1448], edge_index=[2, 14864], edge_attr=[14864, 3], y=[1928, 2], pos=[1928, 14], batch=[1448], ptr=[5])>\n",
      "340 <bound method BaseData.size of DataBatch(x=[1448], edge_index=[2, 14816], edge_attr=[14816, 3], y=[1928, 2], pos=[1928, 14], batch=[1448], ptr=[5])>\n",
      "341 <bound method BaseData.size of DataBatch(x=[1448], edge_index=[2, 14808], edge_attr=[14808, 3], y=[1928, 2], pos=[1928, 14], batch=[1448], ptr=[5])>\n",
      "342 <bound method BaseData.size of DataBatch(x=[1448], edge_index=[2, 14952], edge_attr=[14952, 3], y=[1928, 2], pos=[1928, 14], batch=[1448], ptr=[5])>\n",
      "343 <bound method BaseData.size of DataBatch(x=[1448], edge_index=[2, 15014], edge_attr=[15014, 3], y=[1928, 2], pos=[1928, 14], batch=[1448], ptr=[5])>\n",
      "344 <bound method BaseData.size of DataBatch(x=[1448], edge_index=[2, 14944], edge_attr=[14944, 3], y=[1928, 2], pos=[1928, 14], batch=[1448], ptr=[5])>\n",
      "345 <bound method BaseData.size of DataBatch(x=[1448], edge_index=[2, 14986], edge_attr=[14986, 3], y=[1928, 2], pos=[1928, 14], batch=[1448], ptr=[5])>\n",
      "346 <bound method BaseData.size of DataBatch(x=[1448], edge_index=[2, 15078], edge_attr=[15078, 3], y=[1928, 2], pos=[1928, 14], batch=[1448], ptr=[5])>\n",
      "347 <bound method BaseData.size of DataBatch(x=[1448], edge_index=[2, 15076], edge_attr=[15076, 3], y=[1928, 2], pos=[1928, 14], batch=[1448], ptr=[5])>\n",
      "348 <bound method BaseData.size of DataBatch(x=[1448], edge_index=[2, 15184], edge_attr=[15184, 3], y=[1928, 2], pos=[1928, 14], batch=[1448], ptr=[5])>\n",
      "349 <bound method BaseData.size of DataBatch(x=[1448], edge_index=[2, 15208], edge_attr=[15208, 3], y=[1928, 2], pos=[1928, 14], batch=[1448], ptr=[5])>\n",
      "350 <bound method BaseData.size of DataBatch(x=[1448], edge_index=[2, 15236], edge_attr=[15236, 3], y=[1928, 2], pos=[1928, 14], batch=[1448], ptr=[5])>\n",
      "351 <bound method BaseData.size of DataBatch(x=[1448], edge_index=[2, 15076], edge_attr=[15076, 3], y=[1928, 2], pos=[1928, 14], batch=[1448], ptr=[5])>\n",
      "352 <bound method BaseData.size of DataBatch(x=[1448], edge_index=[2, 15132], edge_attr=[15132, 3], y=[1928, 2], pos=[1928, 14], batch=[1448], ptr=[5])>\n",
      "353 <bound method BaseData.size of DataBatch(x=[1448], edge_index=[2, 15080], edge_attr=[15080, 3], y=[1928, 2], pos=[1928, 14], batch=[1448], ptr=[5])>\n",
      "354 <bound method BaseData.size of DataBatch(x=[1448], edge_index=[2, 15176], edge_attr=[15176, 3], y=[1928, 2], pos=[1928, 14], batch=[1448], ptr=[5])>\n",
      "355 <bound method BaseData.size of DataBatch(x=[1448], edge_index=[2, 15146], edge_attr=[15146, 3], y=[1928, 2], pos=[1928, 14], batch=[1448], ptr=[5])>\n",
      "356 <bound method BaseData.size of DataBatch(x=[1448], edge_index=[2, 15170], edge_attr=[15170, 3], y=[1928, 2], pos=[1928, 14], batch=[1448], ptr=[5])>\n",
      "357 <bound method BaseData.size of DataBatch(x=[1448], edge_index=[2, 15166], edge_attr=[15166, 3], y=[1928, 2], pos=[1928, 14], batch=[1448], ptr=[5])>\n",
      "358 <bound method BaseData.size of DataBatch(x=[1448], edge_index=[2, 15300], edge_attr=[15300, 3], y=[1928, 2], pos=[1928, 14], batch=[1448], ptr=[5])>\n",
      "359 <bound method BaseData.size of DataBatch(x=[1448], edge_index=[2, 15452], edge_attr=[15452, 3], y=[1928, 2], pos=[1928, 14], batch=[1448], ptr=[5])>\n",
      "360 <bound method BaseData.size of DataBatch(x=[1448], edge_index=[2, 15490], edge_attr=[15490, 3], y=[1928, 2], pos=[1928, 14], batch=[1448], ptr=[5])>\n",
      "361 <bound method BaseData.size of DataBatch(x=[1448], edge_index=[2, 15502], edge_attr=[15502, 3], y=[1928, 2], pos=[1928, 14], batch=[1448], ptr=[5])>\n",
      "362 <bound method BaseData.size of DataBatch(x=[1448], edge_index=[2, 15492], edge_attr=[15492, 3], y=[1928, 2], pos=[1928, 14], batch=[1448], ptr=[5])>\n",
      "363 <bound method BaseData.size of DataBatch(x=[1448], edge_index=[2, 15410], edge_attr=[15410, 3], y=[1928, 2], pos=[1928, 14], batch=[1448], ptr=[5])>\n",
      "364 <bound method BaseData.size of DataBatch(x=[1448], edge_index=[2, 15532], edge_attr=[15532, 3], y=[1928, 2], pos=[1928, 14], batch=[1448], ptr=[5])>\n",
      "365 <bound method BaseData.size of DataBatch(x=[1448], edge_index=[2, 15454], edge_attr=[15454, 3], y=[1928, 2], pos=[1928, 14], batch=[1448], ptr=[5])>\n"
     ]
    },
    {
     "name": "stdout",
     "output_type": "stream",
     "text": [
      "366 <bound method BaseData.size of DataBatch(x=[1448], edge_index=[2, 15458], edge_attr=[15458, 3], y=[1928, 2], pos=[1928, 14], batch=[1448], ptr=[5])>\n",
      "367 <bound method BaseData.size of DataBatch(x=[1448], edge_index=[2, 15708], edge_attr=[15708, 3], y=[1928, 2], pos=[1928, 14], batch=[1448], ptr=[5])>\n",
      "368 <bound method BaseData.size of DataBatch(x=[1448], edge_index=[2, 15662], edge_attr=[15662, 3], y=[1928, 2], pos=[1928, 14], batch=[1448], ptr=[5])>\n",
      "369 <bound method BaseData.size of DataBatch(x=[1448], edge_index=[2, 15656], edge_attr=[15656, 3], y=[1928, 2], pos=[1928, 14], batch=[1448], ptr=[5])>\n",
      "370 <bound method BaseData.size of DataBatch(x=[1448], edge_index=[2, 15666], edge_attr=[15666, 3], y=[1928, 2], pos=[1928, 14], batch=[1448], ptr=[5])>\n",
      "371 <bound method BaseData.size of DataBatch(x=[1448], edge_index=[2, 15792], edge_attr=[15792, 3], y=[1928, 2], pos=[1928, 14], batch=[1448], ptr=[5])>\n",
      "372 <bound method BaseData.size of DataBatch(x=[1448], edge_index=[2, 15736], edge_attr=[15736, 3], y=[1928, 2], pos=[1928, 14], batch=[1448], ptr=[5])>\n",
      "373 <bound method BaseData.size of DataBatch(x=[1448], edge_index=[2, 15696], edge_attr=[15696, 3], y=[1928, 2], pos=[1928, 14], batch=[1448], ptr=[5])>\n",
      "374 <bound method BaseData.size of DataBatch(x=[1448], edge_index=[2, 15904], edge_attr=[15904, 3], y=[1928, 2], pos=[1928, 14], batch=[1448], ptr=[5])>\n",
      "375 <bound method BaseData.size of DataBatch(x=[1448], edge_index=[2, 15838], edge_attr=[15838, 3], y=[1928, 2], pos=[1928, 14], batch=[1448], ptr=[5])>\n",
      "376 <bound method BaseData.size of DataBatch(x=[1448], edge_index=[2, 15932], edge_attr=[15932, 3], y=[1928, 2], pos=[1928, 14], batch=[1448], ptr=[5])>\n",
      "377 <bound method BaseData.size of DataBatch(x=[1448], edge_index=[2, 16064], edge_attr=[16064, 3], y=[1928, 2], pos=[1928, 14], batch=[1448], ptr=[5])>\n",
      "378 <bound method BaseData.size of DataBatch(x=[1448], edge_index=[2, 16088], edge_attr=[16088, 3], y=[1928, 2], pos=[1928, 14], batch=[1448], ptr=[5])>\n",
      "379 <bound method BaseData.size of DataBatch(x=[1448], edge_index=[2, 16200], edge_attr=[16200, 3], y=[1928, 2], pos=[1928, 14], batch=[1448], ptr=[5])>\n",
      "380 <bound method BaseData.size of DataBatch(x=[1448], edge_index=[2, 16120], edge_attr=[16120, 3], y=[1928, 2], pos=[1928, 14], batch=[1448], ptr=[5])>\n",
      "381 <bound method BaseData.size of DataBatch(x=[1448], edge_index=[2, 16154], edge_attr=[16154, 3], y=[1928, 2], pos=[1928, 14], batch=[1448], ptr=[5])>\n",
      "382 <bound method BaseData.size of DataBatch(x=[1448], edge_index=[2, 16258], edge_attr=[16258, 3], y=[1928, 2], pos=[1928, 14], batch=[1448], ptr=[5])>\n",
      "383 <bound method BaseData.size of DataBatch(x=[1448], edge_index=[2, 16160], edge_attr=[16160, 3], y=[1928, 2], pos=[1928, 14], batch=[1448], ptr=[5])>\n",
      "384 <bound method BaseData.size of DataBatch(x=[1448], edge_index=[2, 16350], edge_attr=[16350, 3], y=[1928, 2], pos=[1928, 14], batch=[1448], ptr=[5])>\n",
      "385 <bound method BaseData.size of DataBatch(x=[1448], edge_index=[2, 16364], edge_attr=[16364, 3], y=[1928, 2], pos=[1928, 14], batch=[1448], ptr=[5])>\n",
      "386 <bound method BaseData.size of DataBatch(x=[1448], edge_index=[2, 16330], edge_attr=[16330, 3], y=[1928, 2], pos=[1928, 14], batch=[1448], ptr=[5])>\n",
      "387 <bound method BaseData.size of DataBatch(x=[1448], edge_index=[2, 16280], edge_attr=[16280, 3], y=[1928, 2], pos=[1928, 14], batch=[1448], ptr=[5])>\n",
      "388 <bound method BaseData.size of DataBatch(x=[1448], edge_index=[2, 16418], edge_attr=[16418, 3], y=[1928, 2], pos=[1928, 14], batch=[1448], ptr=[5])>\n",
      "389 <bound method BaseData.size of DataBatch(x=[1448], edge_index=[2, 16454], edge_attr=[16454, 3], y=[1928, 2], pos=[1928, 14], batch=[1448], ptr=[5])>\n",
      "390 <bound method BaseData.size of DataBatch(x=[1448], edge_index=[2, 16362], edge_attr=[16362, 3], y=[1928, 2], pos=[1928, 14], batch=[1448], ptr=[5])>\n",
      "391 <bound method BaseData.size of DataBatch(x=[1448], edge_index=[2, 16390], edge_attr=[16390, 3], y=[1928, 2], pos=[1928, 14], batch=[1448], ptr=[5])>\n",
      "392 <bound method BaseData.size of DataBatch(x=[1448], edge_index=[2, 16218], edge_attr=[16218, 3], y=[1928, 2], pos=[1928, 14], batch=[1448], ptr=[5])>\n",
      "393 <bound method BaseData.size of DataBatch(x=[1448], edge_index=[2, 16314], edge_attr=[16314, 3], y=[1928, 2], pos=[1928, 14], batch=[1448], ptr=[5])>\n",
      "394 <bound method BaseData.size of DataBatch(x=[1448], edge_index=[2, 16450], edge_attr=[16450, 3], y=[1928, 2], pos=[1928, 14], batch=[1448], ptr=[5])>\n",
      "395 <bound method BaseData.size of DataBatch(x=[1448], edge_index=[2, 16474], edge_attr=[16474, 3], y=[1928, 2], pos=[1928, 14], batch=[1448], ptr=[5])>\n",
      "396 <bound method BaseData.size of DataBatch(x=[1448], edge_index=[2, 16722], edge_attr=[16722, 3], y=[1928, 2], pos=[1928, 14], batch=[1448], ptr=[5])>\n",
      "397 <bound method BaseData.size of DataBatch(x=[1448], edge_index=[2, 16738], edge_attr=[16738, 3], y=[1928, 2], pos=[1928, 14], batch=[1448], ptr=[5])>\n",
      "398 <bound method BaseData.size of DataBatch(x=[1448], edge_index=[2, 16806], edge_attr=[16806, 3], y=[1928, 2], pos=[1928, 14], batch=[1448], ptr=[5])>\n",
      "399 <bound method BaseData.size of DataBatch(x=[1448], edge_index=[2, 16966], edge_attr=[16966, 3], y=[1928, 2], pos=[1928, 14], batch=[1448], ptr=[5])>\n",
      "400 <bound method BaseData.size of DataBatch(x=[1448], edge_index=[2, 16974], edge_attr=[16974, 3], y=[1928, 2], pos=[1928, 14], batch=[1448], ptr=[5])>\n",
      "401 <bound method BaseData.size of DataBatch(x=[1448], edge_index=[2, 16904], edge_attr=[16904, 3], y=[1928, 2], pos=[1928, 14], batch=[1448], ptr=[5])>\n",
      "402 <bound method BaseData.size of DataBatch(x=[1448], edge_index=[2, 16878], edge_attr=[16878, 3], y=[1928, 2], pos=[1928, 14], batch=[1448], ptr=[5])>\n",
      "403 <bound method BaseData.size of DataBatch(x=[1448], edge_index=[2, 17008], edge_attr=[17008, 3], y=[1928, 2], pos=[1928, 14], batch=[1448], ptr=[5])>\n",
      "404 <bound method BaseData.size of DataBatch(x=[1448], edge_index=[2, 16996], edge_attr=[16996, 3], y=[1928, 2], pos=[1928, 14], batch=[1448], ptr=[5])>\n",
      "405 <bound method BaseData.size of DataBatch(x=[1448], edge_index=[2, 16958], edge_attr=[16958, 3], y=[1928, 2], pos=[1928, 14], batch=[1448], ptr=[5])>\n",
      "406 <bound method BaseData.size of DataBatch(x=[1448], edge_index=[2, 16932], edge_attr=[16932, 3], y=[1928, 2], pos=[1928, 14], batch=[1448], ptr=[5])>\n",
      "407 <bound method BaseData.size of DataBatch(x=[1448], edge_index=[2, 17016], edge_attr=[17016, 3], y=[1928, 2], pos=[1928, 14], batch=[1448], ptr=[5])>\n",
      "408 <bound method BaseData.size of DataBatch(x=[1448], edge_index=[2, 16984], edge_attr=[16984, 3], y=[1928, 2], pos=[1928, 14], batch=[1448], ptr=[5])>\n",
      "409 <bound method BaseData.size of DataBatch(x=[1448], edge_index=[2, 17008], edge_attr=[17008, 3], y=[1928, 2], pos=[1928, 14], batch=[1448], ptr=[5])>\n",
      "410 <bound method BaseData.size of DataBatch(x=[1448], edge_index=[2, 17118], edge_attr=[17118, 3], y=[1928, 2], pos=[1928, 14], batch=[1448], ptr=[5])>\n",
      "411 <bound method BaseData.size of DataBatch(x=[1448], edge_index=[2, 17190], edge_attr=[17190, 3], y=[1928, 2], pos=[1928, 14], batch=[1448], ptr=[5])>\n",
      "412 <bound method BaseData.size of DataBatch(x=[1448], edge_index=[2, 17236], edge_attr=[17236, 3], y=[1928, 2], pos=[1928, 14], batch=[1448], ptr=[5])>\n",
      "413 <bound method BaseData.size of DataBatch(x=[1448], edge_index=[2, 17286], edge_attr=[17286, 3], y=[1928, 2], pos=[1928, 14], batch=[1448], ptr=[5])>\n",
      "414 <bound method BaseData.size of DataBatch(x=[1448], edge_index=[2, 17354], edge_attr=[17354, 3], y=[1928, 2], pos=[1928, 14], batch=[1448], ptr=[5])>\n",
      "415 <bound method BaseData.size of DataBatch(x=[1448], edge_index=[2, 17312], edge_attr=[17312, 3], y=[1928, 2], pos=[1928, 14], batch=[1448], ptr=[5])>\n",
      "416 <bound method BaseData.size of DataBatch(x=[1448], edge_index=[2, 17298], edge_attr=[17298, 3], y=[1928, 2], pos=[1928, 14], batch=[1448], ptr=[5])>\n",
      "417 <bound method BaseData.size of DataBatch(x=[1448], edge_index=[2, 17384], edge_attr=[17384, 3], y=[1928, 2], pos=[1928, 14], batch=[1448], ptr=[5])>\n",
      "418 <bound method BaseData.size of DataBatch(x=[1448], edge_index=[2, 17270], edge_attr=[17270, 3], y=[1928, 2], pos=[1928, 14], batch=[1448], ptr=[5])>\n",
      "419 <bound method BaseData.size of DataBatch(x=[1448], edge_index=[2, 17238], edge_attr=[17238, 3], y=[1928, 2], pos=[1928, 14], batch=[1448], ptr=[5])>\n",
      "420 <bound method BaseData.size of DataBatch(x=[1448], edge_index=[2, 17174], edge_attr=[17174, 3], y=[1928, 2], pos=[1928, 14], batch=[1448], ptr=[5])>\n",
      "421 <bound method BaseData.size of DataBatch(x=[1448], edge_index=[2, 17202], edge_attr=[17202, 3], y=[1928, 2], pos=[1928, 14], batch=[1448], ptr=[5])>\n",
      "422 <bound method BaseData.size of DataBatch(x=[1448], edge_index=[2, 17148], edge_attr=[17148, 3], y=[1928, 2], pos=[1928, 14], batch=[1448], ptr=[5])>\n",
      "423 <bound method BaseData.size of DataBatch(x=[1448], edge_index=[2, 17136], edge_attr=[17136, 3], y=[1928, 2], pos=[1928, 14], batch=[1448], ptr=[5])>\n",
      "424 <bound method BaseData.size of DataBatch(x=[1448], edge_index=[2, 17104], edge_attr=[17104, 3], y=[1928, 2], pos=[1928, 14], batch=[1448], ptr=[5])>\n",
      "425 <bound method BaseData.size of DataBatch(x=[1448], edge_index=[2, 17260], edge_attr=[17260, 3], y=[1928, 2], pos=[1928, 14], batch=[1448], ptr=[5])>\n",
      "426 <bound method BaseData.size of DataBatch(x=[1448], edge_index=[2, 17286], edge_attr=[17286, 3], y=[1928, 2], pos=[1928, 14], batch=[1448], ptr=[5])>\n",
      "427 <bound method BaseData.size of DataBatch(x=[1448], edge_index=[2, 17250], edge_attr=[17250, 3], y=[1928, 2], pos=[1928, 14], batch=[1448], ptr=[5])>\n",
      "428 <bound method BaseData.size of DataBatch(x=[1448], edge_index=[2, 17260], edge_attr=[17260, 3], y=[1928, 2], pos=[1928, 14], batch=[1448], ptr=[5])>\n",
      "429 <bound method BaseData.size of DataBatch(x=[1448], edge_index=[2, 17288], edge_attr=[17288, 3], y=[1928, 2], pos=[1928, 14], batch=[1448], ptr=[5])>\n",
      "430 <bound method BaseData.size of DataBatch(x=[1448], edge_index=[2, 17372], edge_attr=[17372, 3], y=[1928, 2], pos=[1928, 14], batch=[1448], ptr=[5])>\n",
      "431 <bound method BaseData.size of DataBatch(x=[1448], edge_index=[2, 17474], edge_attr=[17474, 3], y=[1928, 2], pos=[1928, 14], batch=[1448], ptr=[5])>\n",
      "432 <bound method BaseData.size of DataBatch(x=[1448], edge_index=[2, 17368], edge_attr=[17368, 3], y=[1928, 2], pos=[1928, 14], batch=[1448], ptr=[5])>\n",
      "433 <bound method BaseData.size of DataBatch(x=[1448], edge_index=[2, 17498], edge_attr=[17498, 3], y=[1928, 2], pos=[1928, 14], batch=[1448], ptr=[5])>\n",
      "434 <bound method BaseData.size of DataBatch(x=[1448], edge_index=[2, 17508], edge_attr=[17508, 3], y=[1928, 2], pos=[1928, 14], batch=[1448], ptr=[5])>\n",
      "435 <bound method BaseData.size of DataBatch(x=[1448], edge_index=[2, 17394], edge_attr=[17394, 3], y=[1928, 2], pos=[1928, 14], batch=[1448], ptr=[5])>\n",
      "436 <bound method BaseData.size of DataBatch(x=[1448], edge_index=[2, 17470], edge_attr=[17470, 3], y=[1928, 2], pos=[1928, 14], batch=[1448], ptr=[5])>\n"
     ]
    },
    {
     "name": "stdout",
     "output_type": "stream",
     "text": [
      "437 <bound method BaseData.size of DataBatch(x=[1448], edge_index=[2, 17510], edge_attr=[17510, 3], y=[1928, 2], pos=[1928, 14], batch=[1448], ptr=[5])>\n",
      "438 <bound method BaseData.size of DataBatch(x=[1448], edge_index=[2, 17528], edge_attr=[17528, 3], y=[1928, 2], pos=[1928, 14], batch=[1448], ptr=[5])>\n",
      "439 <bound method BaseData.size of DataBatch(x=[1448], edge_index=[2, 17550], edge_attr=[17550, 3], y=[1928, 2], pos=[1928, 14], batch=[1448], ptr=[5])>\n",
      "440 <bound method BaseData.size of DataBatch(x=[1448], edge_index=[2, 17534], edge_attr=[17534, 3], y=[1928, 2], pos=[1928, 14], batch=[1448], ptr=[5])>\n",
      "441 <bound method BaseData.size of DataBatch(x=[1448], edge_index=[2, 17598], edge_attr=[17598, 3], y=[1928, 2], pos=[1928, 14], batch=[1448], ptr=[5])>\n",
      "442 <bound method BaseData.size of DataBatch(x=[1448], edge_index=[2, 17666], edge_attr=[17666, 3], y=[1928, 2], pos=[1928, 14], batch=[1448], ptr=[5])>\n",
      "443 <bound method BaseData.size of DataBatch(x=[1448], edge_index=[2, 17728], edge_attr=[17728, 3], y=[1928, 2], pos=[1928, 14], batch=[1448], ptr=[5])>\n",
      "444 <bound method BaseData.size of DataBatch(x=[1448], edge_index=[2, 17762], edge_attr=[17762, 3], y=[1928, 2], pos=[1928, 14], batch=[1448], ptr=[5])>\n",
      "445 <bound method BaseData.size of DataBatch(x=[1448], edge_index=[2, 17734], edge_attr=[17734, 3], y=[1928, 2], pos=[1928, 14], batch=[1448], ptr=[5])>\n",
      "446 <bound method BaseData.size of DataBatch(x=[1448], edge_index=[2, 17784], edge_attr=[17784, 3], y=[1928, 2], pos=[1928, 14], batch=[1448], ptr=[5])>\n",
      "447 <bound method BaseData.size of DataBatch(x=[1448], edge_index=[2, 17804], edge_attr=[17804, 3], y=[1928, 2], pos=[1928, 14], batch=[1448], ptr=[5])>\n",
      "448 <bound method BaseData.size of DataBatch(x=[1448], edge_index=[2, 17806], edge_attr=[17806, 3], y=[1928, 2], pos=[1928, 14], batch=[1448], ptr=[5])>\n",
      "449 <bound method BaseData.size of DataBatch(x=[1448], edge_index=[2, 17912], edge_attr=[17912, 3], y=[1928, 2], pos=[1928, 14], batch=[1448], ptr=[5])>\n",
      "450 <bound method BaseData.size of DataBatch(x=[1448], edge_index=[2, 17888], edge_attr=[17888, 3], y=[1928, 2], pos=[1928, 14], batch=[1448], ptr=[5])>\n",
      "451 <bound method BaseData.size of DataBatch(x=[1448], edge_index=[2, 17908], edge_attr=[17908, 3], y=[1928, 2], pos=[1928, 14], batch=[1448], ptr=[5])>\n",
      "452 <bound method BaseData.size of DataBatch(x=[1448], edge_index=[2, 17922], edge_attr=[17922, 3], y=[1928, 2], pos=[1928, 14], batch=[1448], ptr=[5])>\n",
      "453 <bound method BaseData.size of DataBatch(x=[1448], edge_index=[2, 18012], edge_attr=[18012, 3], y=[1928, 2], pos=[1928, 14], batch=[1448], ptr=[5])>\n",
      "454 <bound method BaseData.size of DataBatch(x=[1448], edge_index=[2, 17906], edge_attr=[17906, 3], y=[1928, 2], pos=[1928, 14], batch=[1448], ptr=[5])>\n",
      "455 <bound method BaseData.size of DataBatch(x=[1448], edge_index=[2, 17952], edge_attr=[17952, 3], y=[1928, 2], pos=[1928, 14], batch=[1448], ptr=[5])>\n",
      "456 <bound method BaseData.size of DataBatch(x=[1448], edge_index=[2, 17988], edge_attr=[17988, 3], y=[1928, 2], pos=[1928, 14], batch=[1448], ptr=[5])>\n",
      "457 <bound method BaseData.size of DataBatch(x=[1448], edge_index=[2, 18050], edge_attr=[18050, 3], y=[1928, 2], pos=[1928, 14], batch=[1448], ptr=[5])>\n",
      "458 <bound method BaseData.size of DataBatch(x=[1448], edge_index=[2, 17988], edge_attr=[17988, 3], y=[1928, 2], pos=[1928, 14], batch=[1448], ptr=[5])>\n",
      "459 <bound method BaseData.size of DataBatch(x=[1448], edge_index=[2, 17946], edge_attr=[17946, 3], y=[1928, 2], pos=[1928, 14], batch=[1448], ptr=[5])>\n",
      "460 <bound method BaseData.size of DataBatch(x=[1448], edge_index=[2, 17988], edge_attr=[17988, 3], y=[1928, 2], pos=[1928, 14], batch=[1448], ptr=[5])>\n",
      "461 <bound method BaseData.size of DataBatch(x=[1448], edge_index=[2, 17968], edge_attr=[17968, 3], y=[1928, 2], pos=[1928, 14], batch=[1448], ptr=[5])>\n",
      "462 <bound method BaseData.size of DataBatch(x=[1448], edge_index=[2, 17958], edge_attr=[17958, 3], y=[1928, 2], pos=[1928, 14], batch=[1448], ptr=[5])>\n",
      "463 <bound method BaseData.size of DataBatch(x=[1448], edge_index=[2, 18058], edge_attr=[18058, 3], y=[1928, 2], pos=[1928, 14], batch=[1448], ptr=[5])>\n",
      "464 <bound method BaseData.size of DataBatch(x=[1448], edge_index=[2, 17974], edge_attr=[17974, 3], y=[1928, 2], pos=[1928, 14], batch=[1448], ptr=[5])>\n",
      "465 <bound method BaseData.size of DataBatch(x=[1448], edge_index=[2, 17904], edge_attr=[17904, 3], y=[1928, 2], pos=[1928, 14], batch=[1448], ptr=[5])>\n",
      "466 <bound method BaseData.size of DataBatch(x=[1448], edge_index=[2, 18070], edge_attr=[18070, 3], y=[1928, 2], pos=[1928, 14], batch=[1448], ptr=[5])>\n",
      "467 <bound method BaseData.size of DataBatch(x=[1448], edge_index=[2, 18006], edge_attr=[18006, 3], y=[1928, 2], pos=[1928, 14], batch=[1448], ptr=[5])>\n",
      "468 <bound method BaseData.size of DataBatch(x=[1448], edge_index=[2, 18038], edge_attr=[18038, 3], y=[1928, 2], pos=[1928, 14], batch=[1448], ptr=[5])>\n",
      "469 <bound method BaseData.size of DataBatch(x=[1448], edge_index=[2, 18064], edge_attr=[18064, 3], y=[1928, 2], pos=[1928, 14], batch=[1448], ptr=[5])>\n",
      "470 <bound method BaseData.size of DataBatch(x=[1448], edge_index=[2, 18008], edge_attr=[18008, 3], y=[1928, 2], pos=[1928, 14], batch=[1448], ptr=[5])>\n",
      "471 <bound method BaseData.size of DataBatch(x=[1448], edge_index=[2, 18042], edge_attr=[18042, 3], y=[1928, 2], pos=[1928, 14], batch=[1448], ptr=[5])>\n",
      "472 <bound method BaseData.size of DataBatch(x=[1448], edge_index=[2, 17942], edge_attr=[17942, 3], y=[1928, 2], pos=[1928, 14], batch=[1448], ptr=[5])>\n",
      "473 <bound method BaseData.size of DataBatch(x=[1448], edge_index=[2, 18052], edge_attr=[18052, 3], y=[1928, 2], pos=[1928, 14], batch=[1448], ptr=[5])>\n",
      "474 <bound method BaseData.size of DataBatch(x=[1448], edge_index=[2, 18088], edge_attr=[18088, 3], y=[1928, 2], pos=[1928, 14], batch=[1448], ptr=[5])>\n",
      "475 <bound method BaseData.size of DataBatch(x=[1448], edge_index=[2, 18076], edge_attr=[18076, 3], y=[1928, 2], pos=[1928, 14], batch=[1448], ptr=[5])>\n",
      "476 <bound method BaseData.size of DataBatch(x=[1448], edge_index=[2, 18036], edge_attr=[18036, 3], y=[1928, 2], pos=[1928, 14], batch=[1448], ptr=[5])>\n",
      "477 <bound method BaseData.size of DataBatch(x=[1448], edge_index=[2, 17998], edge_attr=[17998, 3], y=[1928, 2], pos=[1928, 14], batch=[1448], ptr=[5])>\n",
      "478 <bound method BaseData.size of DataBatch(x=[1448], edge_index=[2, 18080], edge_attr=[18080, 3], y=[1928, 2], pos=[1928, 14], batch=[1448], ptr=[5])>\n",
      "479 <bound method BaseData.size of DataBatch(x=[1448], edge_index=[2, 18110], edge_attr=[18110, 3], y=[1928, 2], pos=[1928, 14], batch=[1448], ptr=[5])>\n",
      "480 <bound method BaseData.size of DataBatch(x=[1448], edge_index=[2, 18100], edge_attr=[18100, 3], y=[1928, 2], pos=[1928, 14], batch=[1448], ptr=[5])>\n",
      "481 <bound method BaseData.size of DataBatch(x=[1448], edge_index=[2, 18228], edge_attr=[18228, 3], y=[1928, 2], pos=[1928, 14], batch=[1448], ptr=[5])>\n",
      "482 <bound method BaseData.size of DataBatch(x=[1448], edge_index=[2, 18088], edge_attr=[18088, 3], y=[1928, 2], pos=[1928, 14], batch=[1448], ptr=[5])>\n",
      "483 <bound method BaseData.size of DataBatch(x=[1448], edge_index=[2, 18222], edge_attr=[18222, 3], y=[1928, 2], pos=[1928, 14], batch=[1448], ptr=[5])>\n",
      "484 <bound method BaseData.size of DataBatch(x=[1448], edge_index=[2, 18344], edge_attr=[18344, 3], y=[1928, 2], pos=[1928, 14], batch=[1448], ptr=[5])>\n",
      "485 <bound method BaseData.size of DataBatch(x=[1448], edge_index=[2, 18292], edge_attr=[18292, 3], y=[1928, 2], pos=[1928, 14], batch=[1448], ptr=[5])>\n",
      "486 <bound method BaseData.size of DataBatch(x=[1448], edge_index=[2, 18234], edge_attr=[18234, 3], y=[1928, 2], pos=[1928, 14], batch=[1448], ptr=[5])>\n",
      "487 <bound method BaseData.size of DataBatch(x=[1448], edge_index=[2, 18308], edge_attr=[18308, 3], y=[1928, 2], pos=[1928, 14], batch=[1448], ptr=[5])>\n",
      "488 <bound method BaseData.size of DataBatch(x=[1448], edge_index=[2, 18306], edge_attr=[18306, 3], y=[1928, 2], pos=[1928, 14], batch=[1448], ptr=[5])>\n",
      "489 <bound method BaseData.size of DataBatch(x=[1448], edge_index=[2, 18438], edge_attr=[18438, 3], y=[1928, 2], pos=[1928, 14], batch=[1448], ptr=[5])>\n",
      "490 <bound method BaseData.size of DataBatch(x=[1448], edge_index=[2, 18352], edge_attr=[18352, 3], y=[1928, 2], pos=[1928, 14], batch=[1448], ptr=[5])>\n",
      "491 <bound method BaseData.size of DataBatch(x=[1448], edge_index=[2, 18404], edge_attr=[18404, 3], y=[1928, 2], pos=[1928, 14], batch=[1448], ptr=[5])>\n",
      "492 <bound method BaseData.size of DataBatch(x=[1448], edge_index=[2, 18410], edge_attr=[18410, 3], y=[1928, 2], pos=[1928, 14], batch=[1448], ptr=[5])>\n",
      "493 <bound method BaseData.size of DataBatch(x=[1448], edge_index=[2, 18342], edge_attr=[18342, 3], y=[1928, 2], pos=[1928, 14], batch=[1448], ptr=[5])>\n",
      "494 <bound method BaseData.size of DataBatch(x=[1448], edge_index=[2, 18438], edge_attr=[18438, 3], y=[1928, 2], pos=[1928, 14], batch=[1448], ptr=[5])>\n",
      "495 <bound method BaseData.size of DataBatch(x=[1448], edge_index=[2, 18274], edge_attr=[18274, 3], y=[1928, 2], pos=[1928, 14], batch=[1448], ptr=[5])>\n",
      "496 <bound method BaseData.size of DataBatch(x=[1448], edge_index=[2, 18574], edge_attr=[18574, 3], y=[1928, 2], pos=[1928, 14], batch=[1448], ptr=[5])>\n"
     ]
    }
   ],
   "source": [
    "for n,i in enumerate(l):\n",
    "    l0 = i\n",
    "    print(n,l0.size)\n",
    "    "
   ]
  },
  {
   "cell_type": "code",
   "execution_count": 241,
   "id": "a090f238",
   "metadata": {},
   "outputs": [
    {
     "data": {
      "text/plain": [
       "Data(x=[678], edge_index=[2, 6232], edge_attr=[6232, 3], y=[678, 2], pos=[678, 14])"
      ]
     },
     "execution_count": 241,
     "metadata": {},
     "output_type": "execute_result"
    }
   ],
   "source": [
    "k[600]"
   ]
  },
  {
   "cell_type": "code",
   "execution_count": 204,
   "id": "0b65e620",
   "metadata": {},
   "outputs": [
    {
     "data": {
      "text/plain": [
       "tensor([5, 5, 5, 5, 5, 5, 5, 5, 5, 5, 5, 5, 5, 5, 5, 5, 5, 5, 5, 5, 5, 5, 5, 5,\n",
       "        5, 5, 5, 5, 5, 5, 5, 5, 5, 5, 5, 5, 5, 5, 5, 5, 5, 5, 5, 5, 5, 5, 5, 5,\n",
       "        5, 5, 5, 5, 5, 5, 5, 5, 5, 5, 5, 5, 5, 5, 5, 5, 5, 5, 5, 5, 5, 5, 5, 5,\n",
       "        5, 5, 5, 5, 5, 5, 5, 5, 5, 5, 5, 5, 5, 5, 5, 5, 5, 5, 5, 5, 5, 5, 5, 5,\n",
       "        5, 5, 5, 5, 5, 5, 5, 5, 5, 5, 5, 5, 5, 5, 5, 5, 5, 5, 5, 5, 5, 5, 5, 5,\n",
       "        5, 5, 5, 5, 5, 5, 5, 5, 5, 5, 5, 5, 5, 5, 5, 5, 5, 5, 5, 5, 5, 5, 5, 5,\n",
       "        5, 5, 5, 5, 5, 5, 5, 5, 5, 5, 5, 5, 5, 5, 5, 5, 5, 5, 5, 5, 5, 5, 5, 5,\n",
       "        5, 5, 5, 5, 5, 5, 5, 5, 5, 5, 5, 5, 5, 5, 5, 5, 5, 5, 5, 5, 5, 5, 5, 5,\n",
       "        5, 5, 5, 5, 5, 5, 5, 5, 5, 5, 5, 5, 5, 5, 5, 5, 5, 5, 5, 5, 5, 5, 5, 5,\n",
       "        5, 5, 5, 5, 5, 5, 5, 5, 5, 5, 5, 5, 5, 5, 5, 5, 5, 5, 5, 5, 5, 5, 5, 5,\n",
       "        5, 5, 5, 5, 5, 5, 5, 5, 5, 5, 5, 5, 5, 5, 5, 5, 5, 5, 5, 5, 5, 5, 5, 5,\n",
       "        5, 5, 5, 5, 5, 5, 5, 5, 5, 5, 5, 5, 5, 5, 5, 5, 5, 5, 5, 5, 5, 5, 5, 5,\n",
       "        5, 5, 5, 5, 5, 5, 5, 5, 5, 5, 5, 5, 5, 5, 5, 5, 5, 5, 5, 5, 5, 5, 5, 5,\n",
       "        5, 5, 5, 5, 5, 5, 5, 5, 5, 5, 5, 5, 5, 5, 5, 5, 5, 5, 5, 5, 5, 5, 5, 5,\n",
       "        5, 5, 5, 5, 5, 5, 5, 5, 5, 5, 5, 5, 5, 5, 5, 5, 5, 5, 5, 5, 5, 5, 5, 5,\n",
       "        5, 5, 5, 5, 5, 5, 5, 5, 5, 5, 5, 5, 5, 5, 5, 5, 5, 5, 5, 5, 5, 5, 5, 5,\n",
       "        5, 5, 5, 5, 5, 5, 5, 5, 5, 5, 5, 5, 5, 5, 5, 5, 5, 5, 5, 5, 5, 5, 5, 5,\n",
       "        5, 5, 5, 5, 5, 5, 5, 5, 5, 5, 5, 5, 5, 5, 5, 5, 5, 5, 5, 5, 5, 5, 5, 5,\n",
       "        5, 5, 5, 5, 5, 5, 5, 5, 5, 5, 5, 5, 5, 5, 5, 5, 5, 5, 5, 5, 5, 5, 5, 5,\n",
       "        5, 5, 5, 5, 5, 5, 5, 5, 5, 5, 5, 5, 5, 5, 5, 5, 5, 5, 5, 5, 5, 5, 5, 5,\n",
       "        5, 5, 5, 5, 5, 5, 5, 5, 5, 5, 5, 5, 5, 5, 5, 5, 5, 5, 5, 5, 5, 5, 5, 5,\n",
       "        5, 5, 5, 5, 5, 5, 5, 5, 5, 5, 5, 5, 5, 5, 5, 5, 5, 5, 5, 5, 5, 5, 5, 5,\n",
       "        5, 5, 5, 5, 5, 5, 5, 5, 5, 5, 5, 5, 5, 5, 5, 5, 5, 5, 5, 5, 5, 5, 5, 5,\n",
       "        5, 5, 5, 5, 5, 5, 5, 5, 5, 5, 5, 5, 5, 5, 5, 5, 5, 5, 5, 5, 5, 5, 5, 5,\n",
       "        5, 5, 5, 5, 5, 5, 5, 5, 5, 5, 5, 5, 5, 5, 5, 5, 5, 5, 5, 5, 5, 5, 5, 5,\n",
       "        5, 5, 5, 5, 5, 5, 5, 5, 5, 5, 5, 5, 5, 5, 5, 5, 5, 5, 5, 5, 5, 5, 5, 5,\n",
       "        5, 5, 5, 5, 5, 5, 5, 5, 5, 5, 5, 5, 5, 5, 5, 5, 5, 5, 5, 5, 5, 5, 5, 5,\n",
       "        5, 5, 5, 5, 5, 5, 5, 5, 5, 5, 5, 5, 5, 5, 5, 5, 5, 5, 5, 5, 5, 5, 5, 5,\n",
       "        5, 5, 5, 5, 5, 5])"
      ]
     },
     "execution_count": 204,
     "metadata": {},
     "output_type": "execute_result"
    }
   ],
   "source": [
    "k[0].x"
   ]
  },
  {
   "cell_type": "code",
   "execution_count": 169,
   "id": "57584610",
   "metadata": {},
   "outputs": [
    {
     "data": {
      "text/plain": [
       "tensor([[5],\n",
       "        [5],\n",
       "        [5],\n",
       "        ...,\n",
       "        [5],\n",
       "        [5],\n",
       "        [5]])"
      ]
     },
     "execution_count": 169,
     "metadata": {},
     "output_type": "execute_result"
    }
   ],
   "source": [
    "m0.x.unsqueeze(1)"
   ]
  },
  {
   "cell_type": "code",
   "execution_count": 164,
   "id": "0dd90aaf",
   "metadata": {},
   "outputs": [
    {
     "data": {
      "text/plain": [
       "Data(x=[643], edge_index=[2, 4334], edge_attr=[4334, 3], y=[678, 2], pos=[678, 14])"
      ]
     },
     "execution_count": 164,
     "metadata": {},
     "output_type": "execute_result"
    }
   ],
   "source": [
    "k[35]"
   ]
  },
  {
   "cell_type": "code",
   "execution_count": 160,
   "id": "ab759dda",
   "metadata": {},
   "outputs": [
    {
     "data": {
      "text/plain": [
       "torch.Size([21696, 2])"
      ]
     },
     "execution_count": 160,
     "metadata": {},
     "output_type": "execute_result"
    }
   ],
   "source": [
    "m0.y.shape"
   ]
  },
  {
   "cell_type": "code",
   "execution_count": 135,
   "id": "fd5237aa",
   "metadata": {},
   "outputs": [
    {
     "data": {
      "text/plain": [
       "1988"
      ]
     },
     "execution_count": 135,
     "metadata": {},
     "output_type": "execute_result"
    }
   ],
   "source": [
    "len(train_dataset)"
   ]
  },
  {
   "cell_type": "code",
   "execution_count": 134,
   "id": "38f1fbf7",
   "metadata": {},
   "outputs": [
    {
     "data": {
      "text/plain": [
       "__main__.OneStepDataset"
      ]
     },
     "execution_count": 134,
     "metadata": {},
     "output_type": "execute_result"
    }
   ],
   "source": [
    "type(train_dataset)"
   ]
  },
  {
   "cell_type": "code",
   "execution_count": 96,
   "id": "9aa480f3",
   "metadata": {},
   "outputs": [],
   "source": [
    "train_loader = pyg.loader.DataLoader(train_dataset, batch_size=params[\"batch_size\"], shuffle=True, pin_memory=True, num_workers=2)"
   ]
  },
  {
   "cell_type": "code",
   "execution_count": null,
   "id": "e83278fc",
   "metadata": {},
   "outputs": [],
   "source": []
  }
 ],
 "metadata": {
  "kernelspec": {
   "display_name": "Python 3 (ipykernel)",
   "language": "python",
   "name": "python3"
  },
  "language_info": {
   "codemirror_mode": {
    "name": "ipython",
    "version": 3
   },
   "file_extension": ".py",
   "mimetype": "text/x-python",
   "name": "python",
   "nbconvert_exporter": "python",
   "pygments_lexer": "ipython3",
   "version": "3.9.5"
  }
 },
 "nbformat": 4,
 "nbformat_minor": 5
}
