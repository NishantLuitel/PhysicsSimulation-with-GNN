{
 "cells": [
  {
   "cell_type": "code",
   "execution_count": 1,
   "id": "3ee6a4df",
   "metadata": {},
   "outputs": [
    {
     "name": "stdout",
     "output_type": "stream",
     "text": [
      "PyTorch has version 1.13.1+cu117\n"
     ]
    }
   ],
   "source": [
    "import torch\n",
    "import random\n",
    "import pandas as pd\n",
    "import torch_scatter\n",
    "import torch.nn as nn\n",
    "from torch.nn import Linear, Sequential, LayerNorm, ReLU\n",
    "from torch_geometric.nn.conv import MessagePassing\n",
    "from torch_geometric.data import DataLoader\n",
    "\n",
    "import numpy as np\n",
    "import time\n",
    "import torch.optim as optim\n",
    "from tqdm import trange\n",
    "import pandas as pd\n",
    "import copy\n",
    "import matplotlib.pyplot as plt\n",
    "import os\n",
    "\n",
    "\n",
    "print(\"PyTorch has version {}\".format(torch.__version__))"
   ]
  },
  {
   "cell_type": "markdown",
   "id": "384e0247",
   "metadata": {},
   "source": [
    "### Get the path for various directories."
   ]
  },
  {
   "cell_type": "code",
   "execution_count": 32,
   "id": "8c1552b9",
   "metadata": {},
   "outputs": [],
   "source": [
    "root_dir = os.getcwd()\n",
    "dataset_dir = os.path.join(root_dir, 'Airfoil')\n",
    "checkpoint_dir = os.path.join(root_dir, 'best_models')\n",
    "postprocess_dir = os.path.join(root_dir, 'animations')"
   ]
  },
  {
   "cell_type": "code",
   "execution_count": 3,
   "id": "2f18eeaf",
   "metadata": {},
   "outputs": [
    {
     "name": "stdout",
     "output_type": "stream",
     "text": [
      "dataset_dir F:\\GNNsim2\\Airflow\n"
     ]
    }
   ],
   "source": [
    "print(\"dataset_dir {}\".format(dataset_dir))"
   ]
  },
  {
   "cell_type": "markdown",
   "id": "51ef324a",
   "metadata": {},
   "source": [
    "### Import libraries involved in loading the dataset"
   ]
  },
  {
   "cell_type": "code",
   "execution_count": 5,
   "id": "6abd8073",
   "metadata": {},
   "outputs": [],
   "source": [
    "import numpy as np\n",
    "import torch\n",
    "import h5py\n",
    "import tensorflow.compat.v1 as tf\n",
    "import functools\n",
    "import json\n",
    "from torch_geometric.data import Data\n",
    "import enum"
   ]
  },
  {
   "cell_type": "markdown",
   "id": "9b59479a",
   "metadata": {},
   "source": [
    "### Lets Look at the metadata about with Airfoil dataset"
   ]
  },
  {
   "cell_type": "code",
   "execution_count": 8,
   "id": "1ad9efd3",
   "metadata": {},
   "outputs": [],
   "source": [
    "with open(os.path.join(root_dir, 'airfoil/meta.json')) as f:\n",
    "    metadata = json.load(f)"
   ]
  },
  {
   "cell_type": "code",
   "execution_count": 9,
   "id": "e78362e7",
   "metadata": {},
   "outputs": [
    {
     "data": {
      "text/plain": [
       "{'simulator': 'su2',\n",
       " 'dt': 0.0002,\n",
       " 'collision_radius': None,\n",
       " 'features': {'node_type': {'type': 'static',\n",
       "   'shape': [1, 5233, 1],\n",
       "   'dtype': 'int32'},\n",
       "  'cells': {'type': 'static', 'shape': [1, 10216, 3], 'dtype': 'int32'},\n",
       "  'mesh_pos': {'type': 'static', 'shape': [1, 5233, 2], 'dtype': 'float32'},\n",
       "  'density': {'type': 'dynamic', 'shape': [601, 5233, 1], 'dtype': 'float32'},\n",
       "  'pressure': {'type': 'dynamic', 'shape': [601, 5233, 1], 'dtype': 'float32'},\n",
       "  'velocity': {'type': 'dynamic',\n",
       "   'shape': [601, 5233, 2],\n",
       "   'dtype': 'float32'}},\n",
       " 'field_names': ['node_type',\n",
       "  'cells',\n",
       "  'mesh_pos',\n",
       "  'density',\n",
       "  'pressure',\n",
       "  'velocity'],\n",
       " 'trajectory_length': 601}"
      ]
     },
     "execution_count": 9,
     "metadata": {},
     "output_type": "execute_result"
    }
   ],
   "source": [
    "metadata"
   ]
  },
  {
   "cell_type": "markdown",
   "id": "ba0331c7",
   "metadata": {},
   "source": [
    "### Load the dataset!"
   ]
  },
  {
   "cell_type": "code",
   "execution_count": 15,
   "id": "5c36313f",
   "metadata": {},
   "outputs": [],
   "source": [
    "def _parse(proto, meta):\n",
    "  \"\"\"Parses a trajectory from tf.Example.\"\"\"\n",
    "  feature_lists = {k: tf.io.VarLenFeature(tf.string)\n",
    "                   for k in meta['field_names']}\n",
    "  features = tf.io.parse_single_example(proto, feature_lists)\n",
    "  out = {}\n",
    "  for key, field in meta['features'].items():\n",
    "    data = tf.io.decode_raw(features[key].values, getattr(tf, field['dtype']))\n",
    "    data = tf.reshape(data, field['shape'])\n",
    "    if field['type'] == 'static':\n",
    "      data = tf.tile(data, [meta['trajectory_length'], 1, 1])\n",
    "    elif field['type'] == 'dynamic_varlen':\n",
    "      length = tf.io.decode_raw(features['length_'+key].values, tf.int32)\n",
    "      length = tf.reshape(length, [-1])\n",
    "      data = tf.RaggedTensor.from_row_lengths(data, row_lengths=length)\n",
    "    elif field['type'] != 'dynamic':\n",
    "      raise ValueError('invalid data format')\n",
    "    out[key] = data\n",
    "  return out\n",
    "\n",
    "\n",
    "def load_dataset(split):\n",
    "  \"\"\"Load dataset.\"\"\"\n",
    "  with open(os.path.join(root_dir, 'Airfoil/meta.json'), 'r') as fp:\n",
    "    meta = json.loads(fp.read())\n",
    "  ds = tf.data.TFRecordDataset(os.path.join(root_dir, 'Airfoil/'+split+'.tfrecord'))\n",
    "  ds = ds.map(functools.partial(_parse, meta=meta), num_parallel_calls=8)\n",
    "  ds = ds.prefetch(1)\n",
    "  return ds"
   ]
  },
  {
   "cell_type": "code",
   "execution_count": 16,
   "id": "5c9c7f5c",
   "metadata": {},
   "outputs": [],
   "source": [
    "# Fetch the data to a list variable 'l'\n",
    "ds = load_dataset('test')\n",
    "ds = ds.flat_map(tf.data.Dataset.from_tensor_slices)\n",
    "l = list(ds.prefetch(0))"
   ]
  },
  {
   "cell_type": "code",
   "execution_count": 18,
   "id": "8428a19e",
   "metadata": {},
   "outputs": [
    {
     "data": {
      "text/plain": [
       "60100"
      ]
     },
     "execution_count": 18,
     "metadata": {},
     "output_type": "execute_result"
    }
   ],
   "source": [
    "#The length of data is:\n",
    "len(l)"
   ]
  },
  {
   "cell_type": "markdown",
   "id": "d44306aa",
   "metadata": {},
   "source": [
    "### Utility functions \n",
    "\n",
    "Here we define the functions that are needed for assisting in data processing.\n",
    "\n",
    "triangle_to_edges:  decomposes 2D triangular meshes to edges and returns the undirected graph nodes. \n",
    "\n",
    "NodeType: is subclass of enum with unique and unchanging integer valued attributes over instances in order to make sure values are unchanged"
   ]
  },
  {
   "cell_type": "code",
   "execution_count": 19,
   "id": "db927061",
   "metadata": {},
   "outputs": [],
   "source": [
    "#Utility functions, provided in the release of the code from the original MeshGraphNets study:\n",
    "#https://github.com/deepmind/deepmind-research/tree/master/meshgraphnets\n",
    "\n",
    "def triangles_to_edges(faces):\n",
    "  \"\"\"Computes mesh edges from triangles.\n",
    "     Note that this triangles_to_edges method was provided as part of the\n",
    "     code release for the MeshGraphNets paper by DeepMind, available here:\n",
    "     https://github.com/deepmind/deepmind-research/tree/master/meshgraphnets\n",
    "  \"\"\"\n",
    "  # collect edges from triangles\n",
    "  edges = tf.concat([faces[:, 0:2],\n",
    "                     faces[:, 1:3],\n",
    "                     tf.stack([faces[:, 2], faces[:, 0]], axis=1)], axis=0)\n",
    "  # those edges are sometimes duplicated (within the mesh) and sometimes\n",
    "  # single (at the mesh boundary).\n",
    "  # sort & pack edges as single tf.int64\n",
    "  receivers = tf.reduce_min(edges, axis=1)\n",
    "  senders = tf.reduce_max(edges, axis=1)\n",
    "  packed_edges = tf.bitcast(tf.stack([senders, receivers], axis=1), tf.int64)\n",
    "  # remove duplicates and unpack\n",
    "  unique_edges = tf.bitcast(tf.unique(packed_edges)[0], tf.int32)\n",
    "  senders, receivers = tf.unstack(unique_edges, axis=1)\n",
    "  # create two-way connectivity\n",
    "  return (tf.concat([senders, receivers], axis=0),\n",
    "          tf.concat([receivers, senders], axis=0))\n",
    "\n",
    "\n",
    "\n",
    "class NodeType(enum.IntEnum):\n",
    "    \"\"\"\n",
    "    Define the code for the one-hot vector representing the node types.\n",
    "    Note that this is consistent with the codes provided in the original\n",
    "    MeshGraphNets study: \n",
    "    https://github.com/deepmind/deepmind-research/tree/master/meshgraphnets\n",
    "    \"\"\"\n",
    "    NORMAL = 0\n",
    "    OBSTACLE = 1\n",
    "    AIRFOIL = 2\n",
    "    HANDLE = 3\n",
    "    INFLOW = 4\n",
    "    OUTFLOW = 5\n",
    "    WALL_BOUNDARY = 6\n",
    "    SIZE = 9"
   ]
  },
  {
   "cell_type": "markdown",
   "id": "08f17fcb",
   "metadata": {},
   "source": [
    "### Represent Features to create torch graph data"
   ]
  },
  {
   "cell_type": "code",
   "execution_count": 25,
   "id": "06bd751b",
   "metadata": {},
   "outputs": [
    {
     "name": "stdout",
     "output_type": "stream",
     "text": [
      "Trajectory:  0\n",
      "Trajectory:  1\n",
      "Trajectory:  2\n",
      "Trajectory:  3\n",
      "Trajectory:  4\n"
     ]
    }
   ],
   "source": [
    "#number of trajectories to train on.\n",
    "number_trajectories = 5\n",
    "\n",
    "#Splitting the dataset list to list of 100 trajectories of 601 trajectory length!\n",
    "data = [l[:601+i*601] for i in range(100)]\n",
    "\n",
    "# The time interval is 0.01s\n",
    "dt = metadata['dt']\n",
    "\n",
    "#data_list consists of all the pytorch graph data of \n",
    "data_list = []\n",
    "for i in range(100):\n",
    "    \n",
    "    if(i==number_trajectories):\n",
    "        break\n",
    "    print(\"Trajectory: \",i)\n",
    "\n",
    "    #We iterate over all the time steps to produce an example graph except\n",
    "    #for the last one, which does not have a following time step to produce\n",
    "    #node output values\n",
    "    for ts in range(600):\n",
    "        #Get node features\n",
    "        #Note that it's faster to convert to numpy then to torch than to\n",
    "        #import to torch from h5 format directly\n",
    "        \n",
    "        \n",
    "        # Concat velocity and node type to construct node features in pytorch tensor!\n",
    "        momentum = torch.tensor(np.array(data[i][ts]['velocity']))\n",
    "        node_type = torch.tensor(np.array(tf.one_hot(data[i][0]['node_type'], NodeType.SIZE))).squeeze(1)\n",
    "        x = torch.cat((momentum,node_type),dim=-1).type(torch.float)\n",
    "        \n",
    "        \n",
    "        # Get edge indices in torch tensor!\n",
    "        b = data[i][ts]['cells']\n",
    "        #look at function triangles_to_edges\n",
    "        edges = triangles_to_edges(tf.convert_to_tensor(np.array(b)))\n",
    "#         print(edges)\n",
    "        edge_index = torch.cat( (torch.tensor(edges[0].numpy()).unsqueeze(0) ,\n",
    "                     torch.tensor(edges[1].numpy()).unsqueeze(0)), dim=0).type(torch.long)\n",
    "#         print(edge_index[0])\n",
    "\n",
    "        # Get edge features       \n",
    "        # Edge feature for each node pairs in edge_index\n",
    "        u_i=torch.tensor(np.array(data[i][ts]['mesh_pos']))[edge_index[0]]\n",
    "        u_j=torch.tensor(np.array(data[i][ts]['mesh_pos']))[edge_index[1]]\n",
    "        u_ij=u_i-u_j\n",
    "        u_ij_norm = torch.norm(u_ij,p=2,dim=1,keepdim=True)\n",
    "        edge_attr = torch.cat((u_ij,u_ij_norm),dim=-1).type(torch.float)\n",
    "\n",
    "        #Node outputs, for training (velocity)\n",
    "        v_t=torch.tensor(np.array(data[i][ts]['velocity']))\n",
    "        v_tp1=torch.tensor(np.array(data[i][ts+1]['velocity']))\n",
    "        y=((v_tp1-v_t)/dt).type(torch.float)\n",
    "\n",
    "        #Node outputs, for testing integrator (pressure)\n",
    "        p=torch.tensor(np.array(data[i][ts]['pressure']))\n",
    "        #Node outputs, for density\n",
    "        d=torch.tensor(np.array(data[i][ts]['density']))\n",
    "\n",
    "        #Data needed for visualization code\n",
    "        cells=torch.tensor(np.array(data[i][ts]['cells']))\n",
    "        mesh_pos=torch.tensor(np.array(data[i][ts]['mesh_pos']))\n",
    "\n",
    "        data_list.append(Data(x=x, edge_index=edge_index, edge_attr=edge_attr,y=y,p=p,\n",
    "                              cells=cells,mesh_pos=mesh_pos))"
   ]
  },
  {
   "cell_type": "code",
   "execution_count": 26,
   "id": "e3093fb6",
   "metadata": {},
   "outputs": [
    {
     "data": {
      "text/plain": [
       "3000"
      ]
     },
     "execution_count": 26,
     "metadata": {},
     "output_type": "execute_result"
    }
   ],
   "source": [
    "#data_list constists of 3000 torch_geometric graph data\n",
    "len(data_list)"
   ]
  },
  {
   "cell_type": "code",
   "execution_count": 27,
   "id": "bcd8711f",
   "metadata": {},
   "outputs": [
    {
     "data": {
      "text/plain": [
       "Data(x=[5233, 11], edge_index=[2, 30898], edge_attr=[30898, 3], y=[5233, 2], p=[5233, 1], cells=[10216, 3], mesh_pos=[5233, 2])"
      ]
     },
     "execution_count": 27,
     "metadata": {},
     "output_type": "execute_result"
    }
   ],
   "source": [
    "data_list[2]"
   ]
  },
  {
   "cell_type": "markdown",
   "id": "6fb4c00b",
   "metadata": {},
   "source": [
    "### Save and Load the dataset"
   ]
  },
  {
   "cell_type": "code",
   "execution_count": 33,
   "id": "c8103bcd",
   "metadata": {},
   "outputs": [
    {
     "name": "stdout",
     "output_type": "stream",
     "text": [
      "Done collecting data!\n",
      "Done saving data!\n"
     ]
    }
   ],
   "source": [
    "print(\"Done collecting data!\")\n",
    "torch.save(data_list[:3000],os.path.join(dataset_dir + '/test_processed_airfoil_set.pt'))\n",
    "print(\"Done saving data!\")\n"
   ]
  },
  {
   "cell_type": "code",
   "execution_count": 34,
   "id": "71c494ed",
   "metadata": {},
   "outputs": [],
   "source": [
    "file_path = os.path.join(dataset_dir + '/test_processed_airfoil_set.pt')\n"
   ]
  },
  {
   "cell_type": "markdown",
   "id": "6a7d7323",
   "metadata": {},
   "source": [
    "### Data (un)normalization Code"
   ]
  },
  {
   "cell_type": "code",
   "execution_count": 36,
   "id": "9146b328",
   "metadata": {},
   "outputs": [],
   "source": [
    "def normalize(to_normalize,mean_vec,std_vec):\n",
    "    return (to_normalize-mean_vec)/std_vec\n",
    "\n",
    "def unnormalize(to_unnormalize,mean_vec,std_vec):\n",
    "    return to_unnormalize*std_vec+mean_vec\n",
    "\n",
    "def get_stats(data_list):\n",
    "    '''\n",
    "    Method for normalizing processed datasets. Given  the processed data_list, \n",
    "    calculates the mean and standard deviation for the node features, edge features, \n",
    "    and node outputs, and normalizes these using the calculated statistics.\n",
    "    '''\n",
    "\n",
    "    #mean and std of the node features are calculated\n",
    "    mean_vec_x=torch.zeros(data_list[0].x.shape[1:])\n",
    "    std_vec_x=torch.zeros(data_list[0].x.shape[1:])\n",
    "\n",
    "    #mean and std of the edge features are calculated\n",
    "    mean_vec_edge=torch.zeros(data_list[0].edge_attr.shape[1:])\n",
    "    std_vec_edge=torch.zeros(data_list[0].edge_attr.shape[1:])\n",
    "\n",
    "    #mean and std of the output parameters are calculated\n",
    "    mean_vec_y=torch.zeros(data_list[0].y.shape[1:])\n",
    "    std_vec_y=torch.zeros(data_list[0].y.shape[1:])\n",
    "\n",
    "    #Define the maximum number of accumulations to perform such that we do\n",
    "    #not encounter memory issues\n",
    "    max_accumulations = 10**6\n",
    "\n",
    "    #Define a very small value for normalizing to \n",
    "    eps=torch.tensor(1e-8)\n",
    "\n",
    "    #Define counters used in normalization\n",
    "    num_accs_x = 0\n",
    "    num_accs_edge=0\n",
    "    num_accs_y=0\n",
    "\n",
    "    #Iterate through the data in the list to accumulate statistics\n",
    "    for dp in data_list:\n",
    "\n",
    "        #Add to the \n",
    "        mean_vec_x+=torch.sum(dp.x,dim=0)\n",
    "        std_vec_x+=torch.sum(dp.x**2,dim=0)\n",
    "        num_accs_x+=dp.x.shape[0]\n",
    "\n",
    "        mean_vec_edge+=torch.sum(dp.edge_attr,dim=0)\n",
    "        std_vec_edge+=torch.sum(dp.edge_attr**2,dim=0)\n",
    "        num_accs_edge+=dp.edge_attr.shape[0]\n",
    "\n",
    "        mean_vec_y+=torch.sum(dp.y,dim=0)\n",
    "        std_vec_y+=torch.sum(dp.y**2,dim=0)\n",
    "        num_accs_y+=dp.y.shape[0]\n",
    "\n",
    "        if(num_accs_x>max_accumulations or num_accs_edge>max_accumulations or num_accs_y>max_accumulations):\n",
    "            break\n",
    "\n",
    "    mean_vec_x = mean_vec_x/num_accs_x\n",
    "    std_vec_x = torch.maximum(torch.sqrt(std_vec_x/num_accs_x - mean_vec_x**2),eps)\n",
    "\n",
    "    mean_vec_edge = mean_vec_edge/num_accs_edge\n",
    "    std_vec_edge = torch.maximum(torch.sqrt(std_vec_edge/num_accs_edge - mean_vec_edge**2),eps)\n",
    "\n",
    "    mean_vec_y = mean_vec_y/num_accs_y\n",
    "    std_vec_y = torch.maximum(torch.sqrt(std_vec_y/num_accs_y - mean_vec_y**2),eps)\n",
    "\n",
    "    mean_std_list=[mean_vec_x,std_vec_x,mean_vec_edge,std_vec_edge,mean_vec_y,std_vec_y]\n",
    "\n",
    "    return mean_std_list"
   ]
  },
  {
   "cell_type": "markdown",
   "id": "d063ac73",
   "metadata": {},
   "source": [
    "# MeshGraphNet Model"
   ]
  },
  {
   "cell_type": "code",
   "execution_count": 37,
   "id": "9c4603ce",
   "metadata": {},
   "outputs": [],
   "source": [
    "class MeshGraphNet(torch.nn.Module):\n",
    "    def __init__(self, input_dim_node, input_dim_edge, hidden_dim, output_dim, args, emb=False):\n",
    "        super(MeshGraphNet, self).__init__()\n",
    "        \"\"\"\n",
    "        MeshGraphNet model. This model is built upon Deepmind's 2021 paper.\n",
    "        This model consists of three parts: (1) Preprocessing: encoder (2) Processor\n",
    "        (3) postproccessing: decoder. Encoder has an edge and node decoders respectively.\n",
    "        Processor has two processors for edge and node respectively. Note that edge attributes have to be\n",
    "        updated first. Decoder is only for nodes.\n",
    "\n",
    "        Input_dim: dynamic variables + node_type + node_position\n",
    "        Hidden_dim: 128 in deepmind's paper\n",
    "        Output_dim: dynamic variables: velocity changes (1)\n",
    "\n",
    "        \"\"\"\n",
    "\n",
    "        self.num_layers = args.num_layers\n",
    "\n",
    "        # encoder convert raw inputs into latent embeddings\n",
    "        self.node_encoder = Sequential(Linear(input_dim_node , hidden_dim),\n",
    "                              ReLU(),\n",
    "                              Linear( hidden_dim, hidden_dim),\n",
    "                              LayerNorm(hidden_dim))\n",
    "\n",
    "        self.edge_encoder = Sequential(Linear( input_dim_edge , hidden_dim),\n",
    "                              ReLU(),\n",
    "                              Linear( hidden_dim, hidden_dim),\n",
    "                              LayerNorm(hidden_dim)\n",
    "                              )\n",
    "\n",
    "\n",
    "        self.processor = nn.ModuleList()\n",
    "        assert (self.num_layers >= 1), 'Number of message passing layers is not >=1'\n",
    "\n",
    "        processor_layer=self.build_processor_model()\n",
    "        for _ in range(self.num_layers):\n",
    "            self.processor.append(processor_layer(hidden_dim,hidden_dim))\n",
    "\n",
    "\n",
    "        # decoder: only for node embeddings\n",
    "        self.decoder = Sequential(Linear( hidden_dim , hidden_dim),\n",
    "                              ReLU(),\n",
    "                              Linear( hidden_dim, output_dim)\n",
    "                              )\n",
    "\n",
    "\n",
    "    def build_processor_model(self):\n",
    "        return ProcessorLayer\n",
    "\n",
    "\n",
    "    def forward(self,data,mean_vec_x,std_vec_x,mean_vec_edge,std_vec_edge):\n",
    "        \"\"\"\n",
    "        Encoder encodes graph (node/edge features) into latent vectors (node/edge embeddings)\n",
    "        The return of processor is fed into the processor for generating new feature vectors\n",
    "        \"\"\"\n",
    "        x, edge_index, edge_attr, pressure = data.x, data.edge_index, data.edge_attr, data.p\n",
    "\n",
    "        x = normalize(x,mean_vec_x,std_vec_x)\n",
    "        edge_attr=normalize(edge_attr,mean_vec_edge,std_vec_edge)\n",
    "\n",
    "        # Step 1: encode node/edge features into latent node/edge embeddings\n",
    "        x = self.node_encoder(x) # output shape is the specified hidden dimension\n",
    "\n",
    "        edge_attr = self.edge_encoder(edge_attr) # output shape is the specified hidden dimension\n",
    "\n",
    "        # step 2: perform message passing with latent node/edge embeddings\n",
    "        for i in range(self.num_layers):\n",
    "            x,edge_attr = self.processor[i](x,edge_index,edge_attr)\n",
    "\n",
    "        # step 3: decode latent node embeddings into physical quantities of interest\n",
    "\n",
    "        return self.decoder(x)\n",
    "\n",
    "    def loss(self, pred, inputs,mean_vec_y,std_vec_y):\n",
    "        #Define the node types that we calculate loss for\n",
    "        normal=torch.tensor(0)\n",
    "        outflow=torch.tensor(5)\n",
    "\n",
    "        #Get the loss mask for the nodes of the types we calculate loss for\n",
    "        loss_mask=torch.logical_or((torch.argmax(inputs.x[:,2:],dim=1)==torch.tensor(0)),\n",
    "                                   (torch.argmax(inputs.x[:,2:],dim=1)==torch.tensor(5)))\n",
    "\n",
    "        #Normalize labels with dataset statistics\n",
    "        labels = normalize(inputs.y,mean_vec_y,std_vec_y)\n",
    "\n",
    "        #Find sum of square errors\n",
    "        error=torch.sum((labels-pred)**2,axis=1)\n",
    "\n",
    "        #Root and mean the errors for the nodes we calculate loss for\n",
    "        loss=torch.sqrt(torch.mean(error[loss_mask]))\n",
    "        \n",
    "        return loss"
   ]
  },
  {
   "cell_type": "code",
   "execution_count": 38,
   "id": "a3face80",
   "metadata": {},
   "outputs": [],
   "source": [
    "class ProcessorLayer(MessagePassing):\n",
    "    def __init__(self, in_channels, out_channels,  **kwargs):\n",
    "        super(ProcessorLayer, self).__init__(  **kwargs )\n",
    "        \"\"\"\n",
    "        in_channels: dim of node embeddings [128], out_channels: dim of edge embeddings [128]\n",
    "\n",
    "        \"\"\"\n",
    "\n",
    "        # Note that the node and edge encoders both have the same hidden dimension\n",
    "        # size. This means that the input of the edge processor will always be\n",
    "        # three times the specified hidden dimension\n",
    "        # (input: adjacent node embeddings and self embeddings)\n",
    "        self.edge_mlp = Sequential(Linear( 3* in_channels , out_channels),\n",
    "                                   ReLU(),\n",
    "                                   Linear( out_channels, out_channels),\n",
    "                                   LayerNorm(out_channels))\n",
    "\n",
    "        self.node_mlp = Sequential(Linear( 2* in_channels , out_channels),\n",
    "                                   ReLU(),\n",
    "                                   Linear( out_channels, out_channels),\n",
    "                                   LayerNorm(out_channels))\n",
    "\n",
    "\n",
    "        self.reset_parameters()\n",
    "\n",
    "    def reset_parameters(self):\n",
    "        \"\"\"\n",
    "        reset parameters for stacked MLP layers\n",
    "        \"\"\"\n",
    "        self.edge_mlp[0].reset_parameters()\n",
    "        self.edge_mlp[2].reset_parameters()\n",
    "\n",
    "        self.node_mlp[0].reset_parameters()\n",
    "        self.node_mlp[2].reset_parameters()\n",
    "\n",
    "    def forward(self, x, edge_index, edge_attr, size = None):\n",
    "        \"\"\"\n",
    "        Handle the pre and post-processing of node features/embeddings,\n",
    "        as well as initiates message passing by calling the propagate function.\n",
    "\n",
    "        Note that message passing and aggregation are handled by the propagate\n",
    "        function, and the update\n",
    "\n",
    "        x has shpae [node_num , in_channels] (node embeddings)\n",
    "        edge_index: [2, edge_num]\n",
    "        edge_attr: [E, in_channels]\n",
    "\n",
    "        \"\"\"\n",
    "\n",
    "        out, updated_edges = self.propagate(edge_index, x = x, edge_attr = edge_attr, size = size) # out has the shape of [E, out_channels]\n",
    "\n",
    "        updated_nodes = torch.cat([x,out],dim=1)        # Complete the aggregation through self-aggregation\n",
    "\n",
    "        updated_nodes = x + self.node_mlp(updated_nodes) # residual connection\n",
    "\n",
    "        return updated_nodes, updated_edges\n",
    "\n",
    "    def message(self, x_i, x_j, edge_attr):\n",
    "        \"\"\"\n",
    "        source_node: x_i has the shape of [E, in_channels]\n",
    "        target_node: x_j has the shape of [E, in_channels]\n",
    "        target_edge: edge_attr has the shape of [E, out_channels]\n",
    "\n",
    "        The messages that are passed are the raw embeddings. These are not processed.\n",
    "        \"\"\"\n",
    "\n",
    "        updated_edges=torch.cat([x_i, x_j, edge_attr], dim = 1) # tmp_emb has the shape of [E, 3 * in_channels]\n",
    "        updated_edges=self.edge_mlp(updated_edges)+edge_attr\n",
    "\n",
    "        return updated_edges\n",
    "\n",
    "    def aggregate(self, updated_edges, edge_index, dim_size = None):\n",
    "        \"\"\"\n",
    "        First we aggregate from neighbors (i.e., adjacent nodes) through concatenation,\n",
    "        then we aggregate self message (from the edge itself). This is streamlined\n",
    "        into one operation here.\n",
    "        \"\"\"\n",
    "\n",
    "        # The axis along which to index number of nodes.\n",
    "        node_dim = 0\n",
    "\n",
    "        out = torch_scatter.scatter(updated_edges, edge_index[0, :], dim=node_dim, reduce = 'sum')\n",
    "\n",
    "        return out, updated_edges"
   ]
  },
  {
   "cell_type": "markdown",
   "id": "515e2a2b",
   "metadata": {},
   "source": [
    "### Building the Optimizer"
   ]
  },
  {
   "cell_type": "code",
   "execution_count": 39,
   "id": "240bf86a",
   "metadata": {},
   "outputs": [],
   "source": [
    "def build_optimizer(args, params):\n",
    "    weight_decay = args.weight_decay\n",
    "    filter_fn = filter(lambda p : p.requires_grad, params)\n",
    "    if args.opt == 'adam':\n",
    "        optimizer = optim.Adam(filter_fn, lr=args.lr, weight_decay=weight_decay)\n",
    "    elif args.opt == 'sgd':\n",
    "        optimizer = optim.SGD(filter_fn, lr=args.lr, momentum=0.95, weight_decay=weight_decay)\n",
    "    elif args.opt == 'rmsprop':\n",
    "        optimizer = optim.RMSprop(filter_fn, lr=args.lr, weight_decay=weight_decay)\n",
    "    elif args.opt == 'adagrad':\n",
    "        optimizer = optim.Adagrad(filter_fn, lr=args.lr, weight_decay=weight_decay)\n",
    "    if args.opt_scheduler == 'none':\n",
    "        return None, optimizer\n",
    "    elif args.opt_scheduler == 'step':\n",
    "        scheduler = optim.lr_scheduler.StepLR(optimizer, step_size=args.opt_decay_step, gamma=args.opt_decay_rate)\n",
    "    elif args.opt_scheduler == 'cos':\n",
    "        scheduler = optim.lr_scheduler.CosineAnnealingLR(optimizer, T_max=args.opt_restart)\n",
    "    return scheduler, optimizer"
   ]
  },
  {
   "cell_type": "markdown",
   "id": "518ede55",
   "metadata": {},
   "source": [
    "# Training and Testing"
   ]
  },
  {
   "cell_type": "code",
   "execution_count": 40,
   "id": "4f793242",
   "metadata": {},
   "outputs": [],
   "source": [
    "\n",
    "def train(dataset, device, stats_list, args):\n",
    "    '''\n",
    "    Performs a training loop on the dataset for MeshGraphNets. Also calls\n",
    "    test and validation functions.\n",
    "    '''\n",
    "\n",
    "    df = pd.DataFrame(columns=['epoch','train_loss','test_loss', 'velo_val_loss'])\n",
    "\n",
    "    #Define the model name for saving \n",
    "    model_name='model_nl'+str(args.num_layers)+'_bs'+str(args.batch_size) + \\\n",
    "               '_hd'+str(args.hidden_dim)+'_ep'+str(args.epochs)+'_wd'+str(args.weight_decay) + \\\n",
    "               '_lr'+str(args.lr)+'_shuff_'+str(args.shuffle)+'_tr'+str(args.train_size)+'_te'+str(args.test_size)\n",
    "\n",
    "    #torch_geometric DataLoaders are used for handling the data of lists of graphs\n",
    "    loader = DataLoader(dataset[:args.train_size], batch_size=args.batch_size, shuffle=False)\n",
    "    test_loader = DataLoader(dataset[args.train_size:], batch_size=args.batch_size, shuffle=False)\n",
    "\n",
    "    #The statistics of the data are decomposed\n",
    "    [mean_vec_x,std_vec_x,mean_vec_edge,std_vec_edge,mean_vec_y,std_vec_y] = stats_list\n",
    "    (mean_vec_x,std_vec_x,mean_vec_edge,std_vec_edge,mean_vec_y,std_vec_y)=(mean_vec_x.to(device),\n",
    "        std_vec_x.to(device),mean_vec_edge.to(device),std_vec_edge.to(device),mean_vec_y.to(device),std_vec_y.to(device))\n",
    "\n",
    "    # build model\n",
    "    num_node_features = dataset[0].x.shape[1]\n",
    "    num_edge_features = dataset[0].edge_attr.shape[1]\n",
    "    num_classes = 2 # the dynamic variables have the shape of 2 (velocity)\n",
    "\n",
    "    model = MeshGraphNet(num_node_features, num_edge_features, args.hidden_dim, num_classes,\n",
    "                            args).to(device)\n",
    "    scheduler, opt = build_optimizer(args, model.parameters())\n",
    "\n",
    "    # train\n",
    "    losses = []\n",
    "    test_losses = []\n",
    "    velo_val_losses = []\n",
    "    best_test_loss = np.inf\n",
    "    best_model = None\n",
    "    for epoch in trange(args.epochs, desc=\"Training\", unit=\"Epochs\"):\n",
    "        print(\"Entered epoch :\",epoch)\n",
    "        total_loss = 0\n",
    "        model.train()\n",
    "        num_loops=0\n",
    "        for batch in loader:\n",
    "            #Note that normalization must be done before it's called. The unnormalized\n",
    "            #data needs to be preserved in order to correctly calculate the loss\n",
    "            batch=batch.to(device)\n",
    "            opt.zero_grad()         #zero gradients each time\n",
    "            pred = model(batch,mean_vec_x,std_vec_x,mean_vec_edge,std_vec_edge)\n",
    "            loss = model.loss(pred,batch,mean_vec_y,std_vec_y)\n",
    "            loss.backward()         #backpropagate loss\n",
    "            opt.step()\n",
    "            total_loss += loss.item()\n",
    "            num_loops+=1\n",
    "        total_loss /= num_loops\n",
    "        losses.append(total_loss)\n",
    "\n",
    "        #Every tenth epoch, calculate acceleration test loss and velocity validation loss\n",
    "        if epoch % 10 == 0:\n",
    "            if (args.save_velo_val):\n",
    "                # save velocity evaluation\n",
    "                test_loss, velo_val_rmse = test(test_loader,device,model,mean_vec_x,std_vec_x,mean_vec_edge,\n",
    "                                 std_vec_edge,mean_vec_y,std_vec_y, args.save_velo_val)\n",
    "                velo_val_losses.append(velo_val_rmse.item())\n",
    "            else:\n",
    "                test_loss, _ = test(test_loader,device,model,mean_vec_x,std_vec_x,mean_vec_edge,\n",
    "                                 std_vec_edge,mean_vec_y,std_vec_y, args.save_velo_val)\n",
    "\n",
    "            test_losses.append(test_loss.item())\n",
    "\n",
    "            # saving model\n",
    "            if not os.path.isdir( args.checkpoint_dir ):\n",
    "                os.mkdir(args.checkpoint_dir)\n",
    "\n",
    "            PATH = os.path.join(args.checkpoint_dir, model_name+'.csv')\n",
    "            df.to_csv(PATH,index=False)\n",
    "\n",
    "            #save the model if the current one is better than the previous best\n",
    "            if test_loss < best_test_loss:\n",
    "                best_test_loss = test_loss\n",
    "                best_model = copy.deepcopy(model)\n",
    "\n",
    "        else:\n",
    "            #If not the tenth epoch, append the previously calculated loss to the\n",
    "            #list in order to be able to plot it on the same plot as the training losses\n",
    "            if (args.save_velo_val):\n",
    "              test_losses.append(test_losses[-1])\n",
    "              velo_val_losses.append(velo_val_losses[-1])\n",
    "\n",
    "        if (args.save_velo_val):\n",
    "            df = df.append({'epoch': epoch,'train_loss': losses[-1],\n",
    "                            'test_loss':test_losses[-1],\n",
    "                           'velo_val_loss': velo_val_losses[-1]}, ignore_index=True)\n",
    "        else:\n",
    "            df = df.append({'epoch': epoch, 'train_loss': losses[-1], 'test_loss': test_losses[-1]}, ignore_index=True)\n",
    "        if(epoch%100==0):\n",
    "            if (args.save_velo_val):\n",
    "                print(\"train loss\", str(round(total_loss, 2)),\n",
    "                      \"test loss\", str(round(test_loss.item(), 2)),\n",
    "                      \"velo loss\", str(round(velo_val_rmse.item(), 5)))\n",
    "            else:\n",
    "                print(\"train loss\", str(round(total_loss,2)), \"test loss\", str(round(test_loss.item(),2)))\n",
    "\n",
    "\n",
    "            if(args.save_best_model):\n",
    "\n",
    "                PATH = os.path.join(args.checkpoint_dir, model_name+'.pt')\n",
    "                torch.save(best_model.state_dict(), PATH )\n",
    "\n",
    "    return test_losses, losses, velo_val_losses, best_model, best_test_loss, test_loader\n",
    "\n",
    "def test(loader,device,test_model,\n",
    "         mean_vec_x,std_vec_x,mean_vec_edge,std_vec_edge,mean_vec_y,std_vec_y, is_validation,\n",
    "          delta_t=0.01, save_model_preds=False, model_type=None):\n",
    "  \n",
    "    '''\n",
    "    Calculates test set losses and validation set errors.\n",
    "    '''\n",
    "\n",
    "    loss=0\n",
    "    velo_rmse = 0\n",
    "    num_loops=0\n",
    "\n",
    "    for data in loader:\n",
    "        data=data.to(device)\n",
    "        with torch.no_grad():\n",
    "\n",
    "            #calculate the loss for the model given the test set\n",
    "            pred = test_model(data,mean_vec_x,std_vec_x,mean_vec_edge,std_vec_edge)\n",
    "            loss += test_model.loss(pred, data,mean_vec_y,std_vec_y)\n",
    "\n",
    "            #calculate validation error if asked to\n",
    "            if (is_validation):\n",
    "\n",
    "                #Like for the MeshGraphNets model, calculate the mask over which we calculate\n",
    "                #flow loss and add this calculated RMSE value to our val error\n",
    "                normal = torch.tensor(0)\n",
    "                outflow = torch.tensor(5)\n",
    "                loss_mask = torch.logical_or((torch.argmax(data.x[:, 2:], dim=1) == torch.tensor(0)),\n",
    "                                             (torch.argmax(data.x[:, 2:], dim=1) == torch.tensor(5)))\n",
    "\n",
    "                eval_velo = data.x[:, 0:2] + unnormalize( pred[:], mean_vec_y, std_vec_y ) * delta_t\n",
    "                gs_velo = data.x[:, 0:2] + data.y[:] * delta_t\n",
    "                \n",
    "                error = torch.sum((eval_velo - gs_velo) ** 2, axis=1)\n",
    "                velo_rmse += torch.sqrt(torch.mean(error[loss_mask]))\n",
    "\n",
    "        num_loops+=1\n",
    "        # if velocity is evaluated, return velo_rmse as 0\n",
    "    return loss/num_loops, velo_rmse/num_loops"
   ]
  },
  {
   "cell_type": "markdown",
   "id": "18c34e15",
   "metadata": {},
   "source": [
    "### Defining Hyper-parameters"
   ]
  },
  {
   "cell_type": "code",
   "execution_count": 41,
   "id": "9ca7c2a8",
   "metadata": {},
   "outputs": [],
   "source": [
    "class objectview(object):\n",
    "    def __init__(self, d):\n",
    "        self.__dict__ = d\n",
    "\n",
    "for args in [\n",
    "        {'model_type': 'meshgraphnet',  \n",
    "         'num_layers': 10,\n",
    "         'batch_size': 16, \n",
    "         'hidden_dim': 10, \n",
    "         'epochs': 2000,\n",
    "         'opt': 'adam', \n",
    "         'opt_scheduler': 'none', \n",
    "         'opt_restart': 0, \n",
    "         'weight_decay': 5e-4, \n",
    "         'lr': 0.001,\n",
    "         'train_size': 45, \n",
    "         'test_size': 10, \n",
    "         'device':'cuda',\n",
    "         'shuffle': True, \n",
    "         'save_velo_val': True,\n",
    "         'save_best_model': True, \n",
    "         'checkpoint_dir': './best_models/',\n",
    "         'postprocess_dir': './2d_loss_plots/'},\n",
    "    ]:\n",
    "        args = objectview(args)\n",
    "\n",
    "#To ensure reproducibility the best we can, here we control the sources of\n",
    "#randomness by seeding the various random number generators used in this Colab\n",
    "#For more information, see: https://pytorch.org/docs/stable/notes/randomness.html\n",
    "torch.manual_seed(5)  #Torch\n",
    "random.seed(5)        #Python\n",
    "np.random.seed(5)     #NumPy"
   ]
  },
  {
   "cell_type": "code",
   "execution_count": 42,
   "id": "5730495a",
   "metadata": {},
   "outputs": [],
   "source": [
    "dataset = torch.load(file_path)[:(args.train_size+args.test_size)]"
   ]
  },
  {
   "cell_type": "code",
   "execution_count": 43,
   "id": "affef141",
   "metadata": {},
   "outputs": [
    {
     "name": "stdout",
     "output_type": "stream",
     "text": [
      "cuda\n"
     ]
    }
   ],
   "source": [
    "if(args.shuffle):\n",
    "  random.shuffle(dataset)\n",
    "\n",
    "stats_list = get_stats(dataset)\n",
    "\n",
    "device = 'cuda' if torch.cuda.is_available() else 'cpu'\n",
    "args.device = device\n",
    "print(device)"
   ]
  },
  {
   "cell_type": "markdown",
   "id": "302fb3a6",
   "metadata": {},
   "source": [
    "### Train and Test Loop"
   ]
  },
  {
   "cell_type": "code",
   "execution_count": null,
   "id": "b252db30",
   "metadata": {},
   "outputs": [
    {
     "name": "stderr",
     "output_type": "stream",
     "text": [
      "F:\\GNNsim2\\.venv\\lib\\site-packages\\torch_geometric\\deprecation.py:12: UserWarning: 'data.DataLoader' is deprecated, use 'loader.DataLoader' instead\n",
      "  warnings.warn(out)\n",
      "Training:   0%|                                                                           | 0/2000 [00:00<?, ?Epochs/s]"
     ]
    },
    {
     "name": "stdout",
     "output_type": "stream",
     "text": [
      "Entered epoch : 0\n"
     ]
    },
    {
     "name": "stderr",
     "output_type": "stream",
     "text": [
      "C:\\Users\\acer\\AppData\\Local\\Temp\\ipykernel_12148\\3564757306.py:90: FutureWarning: The frame.append method is deprecated and will be removed from pandas in a future version. Use pandas.concat instead.\n",
      "  df = df.append({'epoch': epoch,'train_loss': losses[-1],\n"
     ]
    },
    {
     "name": "stdout",
     "output_type": "stream",
     "text": [
      "train loss 1.85 test loss 1.57 velo loss 71.10171\n"
     ]
    },
    {
     "name": "stderr",
     "output_type": "stream",
     "text": [
      "\r",
      "Training:   0%|                                                                | 1/2000 [01:24<46:40:11, 84.05s/Epochs]"
     ]
    },
    {
     "name": "stdout",
     "output_type": "stream",
     "text": [
      "Entered epoch : 1\n"
     ]
    },
    {
     "name": "stderr",
     "output_type": "stream",
     "text": [
      "C:\\Users\\acer\\AppData\\Local\\Temp\\ipykernel_12148\\3564757306.py:90: FutureWarning: The frame.append method is deprecated and will be removed from pandas in a future version. Use pandas.concat instead.\n",
      "  df = df.append({'epoch': epoch,'train_loss': losses[-1],\n",
      "\r",
      "Training:   0%|                                                                | 2/2000 [01:26<19:53:29, 35.84s/Epochs]"
     ]
    },
    {
     "name": "stdout",
     "output_type": "stream",
     "text": [
      "Entered epoch : 2\n"
     ]
    },
    {
     "name": "stderr",
     "output_type": "stream",
     "text": [
      "C:\\Users\\acer\\AppData\\Local\\Temp\\ipykernel_12148\\3564757306.py:90: FutureWarning: The frame.append method is deprecated and will be removed from pandas in a future version. Use pandas.concat instead.\n",
      "  df = df.append({'epoch': epoch,'train_loss': losses[-1],\n",
      "\r",
      "Training:   0%|                                                                | 3/2000 [01:28<11:16:27, 20.32s/Epochs]"
     ]
    },
    {
     "name": "stdout",
     "output_type": "stream",
     "text": [
      "Entered epoch : 3\n"
     ]
    },
    {
     "name": "stderr",
     "output_type": "stream",
     "text": [
      "C:\\Users\\acer\\AppData\\Local\\Temp\\ipykernel_12148\\3564757306.py:90: FutureWarning: The frame.append method is deprecated and will be removed from pandas in a future version. Use pandas.concat instead.\n",
      "  df = df.append({'epoch': epoch,'train_loss': losses[-1],\n",
      "\r",
      "Training:   0%|▏                                                                | 4/2000 [01:29<7:13:38, 13.04s/Epochs]"
     ]
    },
    {
     "name": "stdout",
     "output_type": "stream",
     "text": [
      "Entered epoch : 4\n"
     ]
    },
    {
     "name": "stderr",
     "output_type": "stream",
     "text": [
      "C:\\Users\\acer\\AppData\\Local\\Temp\\ipykernel_12148\\3564757306.py:90: FutureWarning: The frame.append method is deprecated and will be removed from pandas in a future version. Use pandas.concat instead.\n",
      "  df = df.append({'epoch': epoch,'train_loss': losses[-1],\n",
      "\r",
      "Training:   0%|▏                                                                | 5/2000 [01:31<4:59:28,  9.01s/Epochs]"
     ]
    },
    {
     "name": "stdout",
     "output_type": "stream",
     "text": [
      "Entered epoch : 5\n"
     ]
    },
    {
     "name": "stderr",
     "output_type": "stream",
     "text": [
      "C:\\Users\\acer\\AppData\\Local\\Temp\\ipykernel_12148\\3564757306.py:90: FutureWarning: The frame.append method is deprecated and will be removed from pandas in a future version. Use pandas.concat instead.\n",
      "  df = df.append({'epoch': epoch,'train_loss': losses[-1],\n",
      "\r",
      "Training:   0%|▏                                                                | 6/2000 [01:33<3:38:40,  6.58s/Epochs]"
     ]
    },
    {
     "name": "stdout",
     "output_type": "stream",
     "text": [
      "Entered epoch : 6\n"
     ]
    },
    {
     "name": "stderr",
     "output_type": "stream",
     "text": [
      "C:\\Users\\acer\\AppData\\Local\\Temp\\ipykernel_12148\\3564757306.py:90: FutureWarning: The frame.append method is deprecated and will be removed from pandas in a future version. Use pandas.concat instead.\n",
      "  df = df.append({'epoch': epoch,'train_loss': losses[-1],\n",
      "\r",
      "Training:   0%|▏                                                                | 7/2000 [01:35<2:47:22,  5.04s/Epochs]"
     ]
    },
    {
     "name": "stdout",
     "output_type": "stream",
     "text": [
      "Entered epoch : 7\n"
     ]
    },
    {
     "name": "stderr",
     "output_type": "stream",
     "text": [
      "C:\\Users\\acer\\AppData\\Local\\Temp\\ipykernel_12148\\3564757306.py:90: FutureWarning: The frame.append method is deprecated and will be removed from pandas in a future version. Use pandas.concat instead.\n",
      "  df = df.append({'epoch': epoch,'train_loss': losses[-1],\n",
      "\r",
      "Training:   0%|▎                                                                | 8/2000 [01:37<2:14:06,  4.04s/Epochs]"
     ]
    },
    {
     "name": "stdout",
     "output_type": "stream",
     "text": [
      "Entered epoch : 8\n"
     ]
    },
    {
     "name": "stderr",
     "output_type": "stream",
     "text": [
      "C:\\Users\\acer\\AppData\\Local\\Temp\\ipykernel_12148\\3564757306.py:90: FutureWarning: The frame.append method is deprecated and will be removed from pandas in a future version. Use pandas.concat instead.\n",
      "  df = df.append({'epoch': epoch,'train_loss': losses[-1],\n",
      "\r",
      "Training:   0%|▎                                                                | 9/2000 [01:39<1:51:31,  3.36s/Epochs]"
     ]
    },
    {
     "name": "stdout",
     "output_type": "stream",
     "text": [
      "Entered epoch : 9\n"
     ]
    },
    {
     "name": "stderr",
     "output_type": "stream",
     "text": [
      "C:\\Users\\acer\\AppData\\Local\\Temp\\ipykernel_12148\\3564757306.py:90: FutureWarning: The frame.append method is deprecated and will be removed from pandas in a future version. Use pandas.concat instead.\n",
      "  df = df.append({'epoch': epoch,'train_loss': losses[-1],\n",
      "\r",
      "Training:   0%|▎                                                               | 10/2000 [01:41<1:36:11,  2.90s/Epochs]"
     ]
    },
    {
     "name": "stdout",
     "output_type": "stream",
     "text": [
      "Entered epoch : 10\n"
     ]
    },
    {
     "name": "stderr",
     "output_type": "stream",
     "text": [
      "C:\\Users\\acer\\AppData\\Local\\Temp\\ipykernel_12148\\3564757306.py:90: FutureWarning: The frame.append method is deprecated and will be removed from pandas in a future version. Use pandas.concat instead.\n",
      "  df = df.append({'epoch': epoch,'train_loss': losses[-1],\n",
      "\r",
      "Training:   1%|▎                                                               | 11/2000 [01:43<1:30:22,  2.73s/Epochs]"
     ]
    },
    {
     "name": "stdout",
     "output_type": "stream",
     "text": [
      "Entered epoch : 11\n"
     ]
    },
    {
     "name": "stderr",
     "output_type": "stream",
     "text": [
      "C:\\Users\\acer\\AppData\\Local\\Temp\\ipykernel_12148\\3564757306.py:90: FutureWarning: The frame.append method is deprecated and will be removed from pandas in a future version. Use pandas.concat instead.\n",
      "  df = df.append({'epoch': epoch,'train_loss': losses[-1],\n",
      "\r",
      "Training:   1%|▍                                                               | 12/2000 [01:45<1:25:33,  2.58s/Epochs]"
     ]
    },
    {
     "name": "stdout",
     "output_type": "stream",
     "text": [
      "Entered epoch : 12\n"
     ]
    },
    {
     "name": "stderr",
     "output_type": "stream",
     "text": [
      "C:\\Users\\acer\\AppData\\Local\\Temp\\ipykernel_12148\\3564757306.py:90: FutureWarning: The frame.append method is deprecated and will be removed from pandas in a future version. Use pandas.concat instead.\n",
      "  df = df.append({'epoch': epoch,'train_loss': losses[-1],\n",
      "\r",
      "Training:   1%|▍                                                               | 13/2000 [01:47<1:20:36,  2.43s/Epochs]"
     ]
    },
    {
     "name": "stdout",
     "output_type": "stream",
     "text": [
      "Entered epoch : 13\n"
     ]
    },
    {
     "name": "stderr",
     "output_type": "stream",
     "text": [
      "C:\\Users\\acer\\AppData\\Local\\Temp\\ipykernel_12148\\3564757306.py:90: FutureWarning: The frame.append method is deprecated and will be removed from pandas in a future version. Use pandas.concat instead.\n",
      "  df = df.append({'epoch': epoch,'train_loss': losses[-1],\n",
      "\r",
      "Training:   1%|▍                                                               | 14/2000 [01:49<1:14:56,  2.26s/Epochs]"
     ]
    },
    {
     "name": "stdout",
     "output_type": "stream",
     "text": [
      "Entered epoch : 14\n"
     ]
    },
    {
     "name": "stderr",
     "output_type": "stream",
     "text": [
      "C:\\Users\\acer\\AppData\\Local\\Temp\\ipykernel_12148\\3564757306.py:90: FutureWarning: The frame.append method is deprecated and will be removed from pandas in a future version. Use pandas.concat instead.\n",
      "  df = df.append({'epoch': epoch,'train_loss': losses[-1],\n",
      "\r",
      "Training:   1%|▍                                                               | 15/2000 [01:51<1:14:16,  2.25s/Epochs]"
     ]
    },
    {
     "name": "stdout",
     "output_type": "stream",
     "text": [
      "Entered epoch : 15\n"
     ]
    },
    {
     "name": "stderr",
     "output_type": "stream",
     "text": [
      "C:\\Users\\acer\\AppData\\Local\\Temp\\ipykernel_12148\\3564757306.py:90: FutureWarning: The frame.append method is deprecated and will be removed from pandas in a future version. Use pandas.concat instead.\n",
      "  df = df.append({'epoch': epoch,'train_loss': losses[-1],\n",
      "\r",
      "Training:   1%|▌                                                               | 16/2000 [01:53<1:11:36,  2.17s/Epochs]"
     ]
    },
    {
     "name": "stdout",
     "output_type": "stream",
     "text": [
      "Entered epoch : 16\n"
     ]
    },
    {
     "name": "stderr",
     "output_type": "stream",
     "text": [
      "C:\\Users\\acer\\AppData\\Local\\Temp\\ipykernel_12148\\3564757306.py:90: FutureWarning: The frame.append method is deprecated and will be removed from pandas in a future version. Use pandas.concat instead.\n",
      "  df = df.append({'epoch': epoch,'train_loss': losses[-1],\n",
      "\r",
      "Training:   1%|▌                                                               | 17/2000 [01:55<1:11:29,  2.16s/Epochs]"
     ]
    },
    {
     "name": "stdout",
     "output_type": "stream",
     "text": [
      "Entered epoch : 17\n"
     ]
    },
    {
     "name": "stderr",
     "output_type": "stream",
     "text": [
      "C:\\Users\\acer\\AppData\\Local\\Temp\\ipykernel_12148\\3564757306.py:90: FutureWarning: The frame.append method is deprecated and will be removed from pandas in a future version. Use pandas.concat instead.\n",
      "  df = df.append({'epoch': epoch,'train_loss': losses[-1],\n",
      "\r",
      "Training:   1%|▌                                                               | 18/2000 [01:57<1:08:34,  2.08s/Epochs]"
     ]
    },
    {
     "name": "stdout",
     "output_type": "stream",
     "text": [
      "Entered epoch : 18\n"
     ]
    },
    {
     "name": "stderr",
     "output_type": "stream",
     "text": [
      "C:\\Users\\acer\\AppData\\Local\\Temp\\ipykernel_12148\\3564757306.py:90: FutureWarning: The frame.append method is deprecated and will be removed from pandas in a future version. Use pandas.concat instead.\n",
      "  df = df.append({'epoch': epoch,'train_loss': losses[-1],\n",
      "\r",
      "Training:   1%|▌                                                               | 19/2000 [01:59<1:06:34,  2.02s/Epochs]"
     ]
    },
    {
     "name": "stdout",
     "output_type": "stream",
     "text": [
      "Entered epoch : 19\n"
     ]
    },
    {
     "name": "stderr",
     "output_type": "stream",
     "text": [
      "C:\\Users\\acer\\AppData\\Local\\Temp\\ipykernel_12148\\3564757306.py:90: FutureWarning: The frame.append method is deprecated and will be removed from pandas in a future version. Use pandas.concat instead.\n",
      "  df = df.append({'epoch': epoch,'train_loss': losses[-1],\n",
      "\r",
      "Training:   1%|▋                                                               | 20/2000 [02:01<1:05:12,  1.98s/Epochs]"
     ]
    },
    {
     "name": "stdout",
     "output_type": "stream",
     "text": [
      "Entered epoch : 20\n"
     ]
    },
    {
     "name": "stderr",
     "output_type": "stream",
     "text": [
      "C:\\Users\\acer\\AppData\\Local\\Temp\\ipykernel_12148\\3564757306.py:90: FutureWarning: The frame.append method is deprecated and will be removed from pandas in a future version. Use pandas.concat instead.\n",
      "  df = df.append({'epoch': epoch,'train_loss': losses[-1],\n",
      "\r",
      "Training:   1%|▋                                                               | 21/2000 [02:03<1:07:16,  2.04s/Epochs]"
     ]
    },
    {
     "name": "stdout",
     "output_type": "stream",
     "text": [
      "Entered epoch : 21\n"
     ]
    },
    {
     "name": "stderr",
     "output_type": "stream",
     "text": [
      "C:\\Users\\acer\\AppData\\Local\\Temp\\ipykernel_12148\\3564757306.py:90: FutureWarning: The frame.append method is deprecated and will be removed from pandas in a future version. Use pandas.concat instead.\n",
      "  df = df.append({'epoch': epoch,'train_loss': losses[-1],\n",
      "\r",
      "Training:   1%|▋                                                               | 22/2000 [02:06<1:09:19,  2.10s/Epochs]"
     ]
    },
    {
     "name": "stdout",
     "output_type": "stream",
     "text": [
      "Entered epoch : 22\n"
     ]
    },
    {
     "name": "stderr",
     "output_type": "stream",
     "text": [
      "C:\\Users\\acer\\AppData\\Local\\Temp\\ipykernel_12148\\3564757306.py:90: FutureWarning: The frame.append method is deprecated and will be removed from pandas in a future version. Use pandas.concat instead.\n",
      "  df = df.append({'epoch': epoch,'train_loss': losses[-1],\n",
      "\r",
      "Training:   1%|▋                                                               | 23/2000 [02:07<1:07:03,  2.04s/Epochs]"
     ]
    },
    {
     "name": "stdout",
     "output_type": "stream",
     "text": [
      "Entered epoch : 23\n"
     ]
    },
    {
     "name": "stderr",
     "output_type": "stream",
     "text": [
      "C:\\Users\\acer\\AppData\\Local\\Temp\\ipykernel_12148\\3564757306.py:90: FutureWarning: The frame.append method is deprecated and will be removed from pandas in a future version. Use pandas.concat instead.\n",
      "  df = df.append({'epoch': epoch,'train_loss': losses[-1],\n",
      "\r",
      "Training:   1%|▊                                                               | 24/2000 [02:10<1:08:12,  2.07s/Epochs]"
     ]
    },
    {
     "name": "stdout",
     "output_type": "stream",
     "text": [
      "Entered epoch : 24\n"
     ]
    },
    {
     "name": "stderr",
     "output_type": "stream",
     "text": [
      "C:\\Users\\acer\\AppData\\Local\\Temp\\ipykernel_12148\\3564757306.py:90: FutureWarning: The frame.append method is deprecated and will be removed from pandas in a future version. Use pandas.concat instead.\n",
      "  df = df.append({'epoch': epoch,'train_loss': losses[-1],\n",
      "\r",
      "Training:   1%|▊                                                               | 25/2000 [02:11<1:06:16,  2.01s/Epochs]"
     ]
    },
    {
     "name": "stdout",
     "output_type": "stream",
     "text": [
      "Entered epoch : 25\n"
     ]
    },
    {
     "name": "stderr",
     "output_type": "stream",
     "text": [
      "C:\\Users\\acer\\AppData\\Local\\Temp\\ipykernel_12148\\3564757306.py:90: FutureWarning: The frame.append method is deprecated and will be removed from pandas in a future version. Use pandas.concat instead.\n",
      "  df = df.append({'epoch': epoch,'train_loss': losses[-1],\n",
      "\r",
      "Training:   1%|▊                                                               | 26/2000 [02:13<1:04:55,  1.97s/Epochs]"
     ]
    },
    {
     "name": "stdout",
     "output_type": "stream",
     "text": [
      "Entered epoch : 26\n"
     ]
    },
    {
     "name": "stderr",
     "output_type": "stream",
     "text": [
      "C:\\Users\\acer\\AppData\\Local\\Temp\\ipykernel_12148\\3564757306.py:90: FutureWarning: The frame.append method is deprecated and will be removed from pandas in a future version. Use pandas.concat instead.\n",
      "  df = df.append({'epoch': epoch,'train_loss': losses[-1],\n",
      "\r",
      "Training:   1%|▊                                                               | 27/2000 [02:15<1:04:00,  1.95s/Epochs]"
     ]
    },
    {
     "name": "stdout",
     "output_type": "stream",
     "text": [
      "Entered epoch : 27\n"
     ]
    },
    {
     "name": "stderr",
     "output_type": "stream",
     "text": [
      "C:\\Users\\acer\\AppData\\Local\\Temp\\ipykernel_12148\\3564757306.py:90: FutureWarning: The frame.append method is deprecated and will be removed from pandas in a future version. Use pandas.concat instead.\n",
      "  df = df.append({'epoch': epoch,'train_loss': losses[-1],\n",
      "\r",
      "Training:   1%|▉                                                               | 28/2000 [02:17<1:03:21,  1.93s/Epochs]"
     ]
    },
    {
     "name": "stdout",
     "output_type": "stream",
     "text": [
      "Entered epoch : 28\n"
     ]
    },
    {
     "name": "stderr",
     "output_type": "stream",
     "text": [
      "C:\\Users\\acer\\AppData\\Local\\Temp\\ipykernel_12148\\3564757306.py:90: FutureWarning: The frame.append method is deprecated and will be removed from pandas in a future version. Use pandas.concat instead.\n",
      "  df = df.append({'epoch': epoch,'train_loss': losses[-1],\n",
      "\r",
      "Training:   1%|▉                                                               | 29/2000 [02:19<1:02:51,  1.91s/Epochs]"
     ]
    },
    {
     "name": "stdout",
     "output_type": "stream",
     "text": [
      "Entered epoch : 29\n"
     ]
    },
    {
     "name": "stderr",
     "output_type": "stream",
     "text": [
      "C:\\Users\\acer\\AppData\\Local\\Temp\\ipykernel_12148\\3564757306.py:90: FutureWarning: The frame.append method is deprecated and will be removed from pandas in a future version. Use pandas.concat instead.\n",
      "  df = df.append({'epoch': epoch,'train_loss': losses[-1],\n",
      "\r",
      "Training:   2%|▉                                                               | 30/2000 [02:21<1:02:34,  1.91s/Epochs]"
     ]
    },
    {
     "name": "stdout",
     "output_type": "stream",
     "text": [
      "Entered epoch : 30\n"
     ]
    },
    {
     "name": "stderr",
     "output_type": "stream",
     "text": [
      "C:\\Users\\acer\\AppData\\Local\\Temp\\ipykernel_12148\\3564757306.py:90: FutureWarning: The frame.append method is deprecated and will be removed from pandas in a future version. Use pandas.concat instead.\n",
      "  df = df.append({'epoch': epoch,'train_loss': losses[-1],\n",
      "\r",
      "Training:   2%|▉                                                               | 31/2000 [02:23<1:06:16,  2.02s/Epochs]"
     ]
    },
    {
     "name": "stdout",
     "output_type": "stream",
     "text": [
      "Entered epoch : 31\n"
     ]
    },
    {
     "name": "stderr",
     "output_type": "stream",
     "text": [
      "C:\\Users\\acer\\AppData\\Local\\Temp\\ipykernel_12148\\3564757306.py:90: FutureWarning: The frame.append method is deprecated and will be removed from pandas in a future version. Use pandas.concat instead.\n",
      "  df = df.append({'epoch': epoch,'train_loss': losses[-1],\n",
      "\r",
      "Training:   2%|█                                                               | 32/2000 [02:25<1:07:45,  2.07s/Epochs]"
     ]
    },
    {
     "name": "stdout",
     "output_type": "stream",
     "text": [
      "Entered epoch : 32\n"
     ]
    },
    {
     "name": "stderr",
     "output_type": "stream",
     "text": [
      "C:\\Users\\acer\\AppData\\Local\\Temp\\ipykernel_12148\\3564757306.py:90: FutureWarning: The frame.append method is deprecated and will be removed from pandas in a future version. Use pandas.concat instead.\n",
      "  df = df.append({'epoch': epoch,'train_loss': losses[-1],\n",
      "\r",
      "Training:   2%|█                                                               | 33/2000 [02:27<1:05:59,  2.01s/Epochs]"
     ]
    },
    {
     "name": "stdout",
     "output_type": "stream",
     "text": [
      "Entered epoch : 33\n"
     ]
    },
    {
     "name": "stderr",
     "output_type": "stream",
     "text": [
      "C:\\Users\\acer\\AppData\\Local\\Temp\\ipykernel_12148\\3564757306.py:90: FutureWarning: The frame.append method is deprecated and will be removed from pandas in a future version. Use pandas.concat instead.\n",
      "  df = df.append({'epoch': epoch,'train_loss': losses[-1],\n",
      "\r",
      "Training:   2%|█                                                               | 34/2000 [02:29<1:04:45,  1.98s/Epochs]"
     ]
    },
    {
     "name": "stdout",
     "output_type": "stream",
     "text": [
      "Entered epoch : 34\n"
     ]
    },
    {
     "name": "stderr",
     "output_type": "stream",
     "text": [
      "C:\\Users\\acer\\AppData\\Local\\Temp\\ipykernel_12148\\3564757306.py:90: FutureWarning: The frame.append method is deprecated and will be removed from pandas in a future version. Use pandas.concat instead.\n",
      "  df = df.append({'epoch': epoch,'train_loss': losses[-1],\n",
      "\r",
      "Training:   2%|█                                                               | 35/2000 [02:31<1:03:54,  1.95s/Epochs]"
     ]
    },
    {
     "name": "stdout",
     "output_type": "stream",
     "text": [
      "Entered epoch : 35\n"
     ]
    },
    {
     "name": "stderr",
     "output_type": "stream",
     "text": [
      "C:\\Users\\acer\\AppData\\Local\\Temp\\ipykernel_12148\\3564757306.py:90: FutureWarning: The frame.append method is deprecated and will be removed from pandas in a future version. Use pandas.concat instead.\n",
      "  df = df.append({'epoch': epoch,'train_loss': losses[-1],\n",
      "\r",
      "Training:   2%|█▏                                                              | 36/2000 [02:33<1:03:17,  1.93s/Epochs]"
     ]
    },
    {
     "name": "stdout",
     "output_type": "stream",
     "text": [
      "Entered epoch : 36\n"
     ]
    },
    {
     "name": "stderr",
     "output_type": "stream",
     "text": [
      "C:\\Users\\acer\\AppData\\Local\\Temp\\ipykernel_12148\\3564757306.py:90: FutureWarning: The frame.append method is deprecated and will be removed from pandas in a future version. Use pandas.concat instead.\n",
      "  df = df.append({'epoch': epoch,'train_loss': losses[-1],\n",
      "\r",
      "Training:   2%|█▏                                                              | 37/2000 [02:35<1:02:51,  1.92s/Epochs]"
     ]
    },
    {
     "name": "stdout",
     "output_type": "stream",
     "text": [
      "Entered epoch : 37\n"
     ]
    },
    {
     "name": "stderr",
     "output_type": "stream",
     "text": [
      "C:\\Users\\acer\\AppData\\Local\\Temp\\ipykernel_12148\\3564757306.py:90: FutureWarning: The frame.append method is deprecated and will be removed from pandas in a future version. Use pandas.concat instead.\n",
      "  df = df.append({'epoch': epoch,'train_loss': losses[-1],\n",
      "\r",
      "Training:   2%|█▏                                                              | 38/2000 [02:37<1:02:29,  1.91s/Epochs]"
     ]
    },
    {
     "name": "stdout",
     "output_type": "stream",
     "text": [
      "Entered epoch : 38\n"
     ]
    },
    {
     "name": "stderr",
     "output_type": "stream",
     "text": [
      "C:\\Users\\acer\\AppData\\Local\\Temp\\ipykernel_12148\\3564757306.py:90: FutureWarning: The frame.append method is deprecated and will be removed from pandas in a future version. Use pandas.concat instead.\n",
      "  df = df.append({'epoch': epoch,'train_loss': losses[-1],\n",
      "\r",
      "Training:   2%|█▏                                                              | 39/2000 [02:39<1:02:18,  1.91s/Epochs]"
     ]
    },
    {
     "name": "stdout",
     "output_type": "stream",
     "text": [
      "Entered epoch : 39\n"
     ]
    },
    {
     "name": "stderr",
     "output_type": "stream",
     "text": [
      "C:\\Users\\acer\\AppData\\Local\\Temp\\ipykernel_12148\\3564757306.py:90: FutureWarning: The frame.append method is deprecated and will be removed from pandas in a future version. Use pandas.concat instead.\n",
      "  df = df.append({'epoch': epoch,'train_loss': losses[-1],\n",
      "\r",
      "Training:   2%|█▎                                                              | 40/2000 [02:40<1:02:09,  1.90s/Epochs]"
     ]
    },
    {
     "name": "stdout",
     "output_type": "stream",
     "text": [
      "Entered epoch : 40\n"
     ]
    },
    {
     "name": "stderr",
     "output_type": "stream",
     "text": [
      "C:\\Users\\acer\\AppData\\Local\\Temp\\ipykernel_12148\\3564757306.py:90: FutureWarning: The frame.append method is deprecated and will be removed from pandas in a future version. Use pandas.concat instead.\n",
      "  df = df.append({'epoch': epoch,'train_loss': losses[-1],\n",
      "\r",
      "Training:   2%|█▎                                                              | 41/2000 [02:43<1:06:00,  2.02s/Epochs]"
     ]
    },
    {
     "name": "stdout",
     "output_type": "stream",
     "text": [
      "Entered epoch : 41\n"
     ]
    },
    {
     "name": "stderr",
     "output_type": "stream",
     "text": [
      "C:\\Users\\acer\\AppData\\Local\\Temp\\ipykernel_12148\\3564757306.py:90: FutureWarning: The frame.append method is deprecated and will be removed from pandas in a future version. Use pandas.concat instead.\n",
      "  df = df.append({'epoch': epoch,'train_loss': losses[-1],\n",
      "\r",
      "Training:   2%|█▎                                                              | 42/2000 [02:45<1:07:37,  2.07s/Epochs]"
     ]
    },
    {
     "name": "stdout",
     "output_type": "stream",
     "text": [
      "Entered epoch : 42\n"
     ]
    },
    {
     "name": "stderr",
     "output_type": "stream",
     "text": [
      "C:\\Users\\acer\\AppData\\Local\\Temp\\ipykernel_12148\\3564757306.py:90: FutureWarning: The frame.append method is deprecated and will be removed from pandas in a future version. Use pandas.concat instead.\n",
      "  df = df.append({'epoch': epoch,'train_loss': losses[-1],\n",
      "\r",
      "Training:   2%|█▍                                                              | 43/2000 [02:47<1:05:50,  2.02s/Epochs]"
     ]
    },
    {
     "name": "stdout",
     "output_type": "stream",
     "text": [
      "Entered epoch : 43\n"
     ]
    },
    {
     "name": "stderr",
     "output_type": "stream",
     "text": [
      "C:\\Users\\acer\\AppData\\Local\\Temp\\ipykernel_12148\\3564757306.py:90: FutureWarning: The frame.append method is deprecated and will be removed from pandas in a future version. Use pandas.concat instead.\n",
      "  df = df.append({'epoch': epoch,'train_loss': losses[-1],\n",
      "\r",
      "Training:   2%|█▍                                                              | 44/2000 [02:49<1:04:32,  1.98s/Epochs]"
     ]
    },
    {
     "name": "stdout",
     "output_type": "stream",
     "text": [
      "Entered epoch : 44\n"
     ]
    },
    {
     "name": "stderr",
     "output_type": "stream",
     "text": [
      "C:\\Users\\acer\\AppData\\Local\\Temp\\ipykernel_12148\\3564757306.py:90: FutureWarning: The frame.append method is deprecated and will be removed from pandas in a future version. Use pandas.concat instead.\n",
      "  df = df.append({'epoch': epoch,'train_loss': losses[-1],\n",
      "\r",
      "Training:   2%|█▍                                                              | 45/2000 [02:51<1:03:43,  1.96s/Epochs]"
     ]
    },
    {
     "name": "stdout",
     "output_type": "stream",
     "text": [
      "Entered epoch : 45\n"
     ]
    },
    {
     "name": "stderr",
     "output_type": "stream",
     "text": [
      "C:\\Users\\acer\\AppData\\Local\\Temp\\ipykernel_12148\\3564757306.py:90: FutureWarning: The frame.append method is deprecated and will be removed from pandas in a future version. Use pandas.concat instead.\n",
      "  df = df.append({'epoch': epoch,'train_loss': losses[-1],\n",
      "\r",
      "Training:   2%|█▍                                                              | 46/2000 [02:53<1:03:07,  1.94s/Epochs]"
     ]
    },
    {
     "name": "stdout",
     "output_type": "stream",
     "text": [
      "Entered epoch : 46\n"
     ]
    },
    {
     "name": "stderr",
     "output_type": "stream",
     "text": [
      "C:\\Users\\acer\\AppData\\Local\\Temp\\ipykernel_12148\\3564757306.py:90: FutureWarning: The frame.append method is deprecated and will be removed from pandas in a future version. Use pandas.concat instead.\n",
      "  df = df.append({'epoch': epoch,'train_loss': losses[-1],\n",
      "\r",
      "Training:   2%|█▌                                                              | 47/2000 [02:54<1:02:38,  1.92s/Epochs]"
     ]
    },
    {
     "name": "stdout",
     "output_type": "stream",
     "text": [
      "Entered epoch : 47\n"
     ]
    },
    {
     "name": "stderr",
     "output_type": "stream",
     "text": [
      "C:\\Users\\acer\\AppData\\Local\\Temp\\ipykernel_12148\\3564757306.py:90: FutureWarning: The frame.append method is deprecated and will be removed from pandas in a future version. Use pandas.concat instead.\n",
      "  df = df.append({'epoch': epoch,'train_loss': losses[-1],\n",
      "\r",
      "Training:   2%|█▌                                                              | 48/2000 [02:56<1:02:29,  1.92s/Epochs]"
     ]
    },
    {
     "name": "stdout",
     "output_type": "stream",
     "text": [
      "Entered epoch : 48\n"
     ]
    },
    {
     "name": "stderr",
     "output_type": "stream",
     "text": [
      "C:\\Users\\acer\\AppData\\Local\\Temp\\ipykernel_12148\\3564757306.py:90: FutureWarning: The frame.append method is deprecated and will be removed from pandas in a future version. Use pandas.concat instead.\n",
      "  df = df.append({'epoch': epoch,'train_loss': losses[-1],\n",
      "\r",
      "Training:   2%|█▌                                                              | 49/2000 [02:58<1:02:20,  1.92s/Epochs]"
     ]
    },
    {
     "name": "stdout",
     "output_type": "stream",
     "text": [
      "Entered epoch : 49\n"
     ]
    },
    {
     "name": "stderr",
     "output_type": "stream",
     "text": [
      "C:\\Users\\acer\\AppData\\Local\\Temp\\ipykernel_12148\\3564757306.py:90: FutureWarning: The frame.append method is deprecated and will be removed from pandas in a future version. Use pandas.concat instead.\n",
      "  df = df.append({'epoch': epoch,'train_loss': losses[-1],\n",
      "\r",
      "Training:   2%|█▌                                                              | 50/2000 [03:00<1:02:13,  1.91s/Epochs]"
     ]
    },
    {
     "name": "stdout",
     "output_type": "stream",
     "text": [
      "Entered epoch : 50\n"
     ]
    },
    {
     "name": "stderr",
     "output_type": "stream",
     "text": [
      "C:\\Users\\acer\\AppData\\Local\\Temp\\ipykernel_12148\\3564757306.py:90: FutureWarning: The frame.append method is deprecated and will be removed from pandas in a future version. Use pandas.concat instead.\n",
      "  df = df.append({'epoch': epoch,'train_loss': losses[-1],\n",
      "\r",
      "Training:   3%|█▋                                                              | 51/2000 [03:02<1:05:10,  2.01s/Epochs]"
     ]
    },
    {
     "name": "stdout",
     "output_type": "stream",
     "text": [
      "Entered epoch : 51\n"
     ]
    },
    {
     "name": "stderr",
     "output_type": "stream",
     "text": [
      "C:\\Users\\acer\\AppData\\Local\\Temp\\ipykernel_12148\\3564757306.py:90: FutureWarning: The frame.append method is deprecated and will be removed from pandas in a future version. Use pandas.concat instead.\n",
      "  df = df.append({'epoch': epoch,'train_loss': losses[-1],\n",
      "\r",
      "Training:   3%|█▋                                                              | 52/2000 [03:04<1:04:09,  1.98s/Epochs]"
     ]
    },
    {
     "name": "stdout",
     "output_type": "stream",
     "text": [
      "Entered epoch : 52\n"
     ]
    },
    {
     "name": "stderr",
     "output_type": "stream",
     "text": [
      "C:\\Users\\acer\\AppData\\Local\\Temp\\ipykernel_12148\\3564757306.py:90: FutureWarning: The frame.append method is deprecated and will be removed from pandas in a future version. Use pandas.concat instead.\n",
      "  df = df.append({'epoch': epoch,'train_loss': losses[-1],\n",
      "\r",
      "Training:   3%|█▋                                                              | 53/2000 [03:06<1:03:27,  1.96s/Epochs]"
     ]
    },
    {
     "name": "stdout",
     "output_type": "stream",
     "text": [
      "Entered epoch : 53\n"
     ]
    },
    {
     "name": "stderr",
     "output_type": "stream",
     "text": [
      "C:\\Users\\acer\\AppData\\Local\\Temp\\ipykernel_12148\\3564757306.py:90: FutureWarning: The frame.append method is deprecated and will be removed from pandas in a future version. Use pandas.concat instead.\n",
      "  df = df.append({'epoch': epoch,'train_loss': losses[-1],\n",
      "\r",
      "Training:   3%|█▋                                                              | 54/2000 [03:08<1:02:58,  1.94s/Epochs]"
     ]
    },
    {
     "name": "stdout",
     "output_type": "stream",
     "text": [
      "Entered epoch : 54\n"
     ]
    },
    {
     "name": "stderr",
     "output_type": "stream",
     "text": [
      "C:\\Users\\acer\\AppData\\Local\\Temp\\ipykernel_12148\\3564757306.py:90: FutureWarning: The frame.append method is deprecated and will be removed from pandas in a future version. Use pandas.concat instead.\n",
      "  df = df.append({'epoch': epoch,'train_loss': losses[-1],\n",
      "\r",
      "Training:   3%|█▊                                                              | 55/2000 [03:10<1:02:35,  1.93s/Epochs]"
     ]
    },
    {
     "name": "stdout",
     "output_type": "stream",
     "text": [
      "Entered epoch : 55\n"
     ]
    },
    {
     "name": "stderr",
     "output_type": "stream",
     "text": [
      "C:\\Users\\acer\\AppData\\Local\\Temp\\ipykernel_12148\\3564757306.py:90: FutureWarning: The frame.append method is deprecated and will be removed from pandas in a future version. Use pandas.concat instead.\n",
      "  df = df.append({'epoch': epoch,'train_loss': losses[-1],\n",
      "\r",
      "Training:   3%|█▊                                                              | 56/2000 [03:12<1:02:19,  1.92s/Epochs]"
     ]
    },
    {
     "name": "stdout",
     "output_type": "stream",
     "text": [
      "Entered epoch : 56\n"
     ]
    },
    {
     "name": "stderr",
     "output_type": "stream",
     "text": [
      "C:\\Users\\acer\\AppData\\Local\\Temp\\ipykernel_12148\\3564757306.py:90: FutureWarning: The frame.append method is deprecated and will be removed from pandas in a future version. Use pandas.concat instead.\n",
      "  df = df.append({'epoch': epoch,'train_loss': losses[-1],\n",
      "\r",
      "Training:   3%|█▊                                                              | 57/2000 [03:14<1:02:08,  1.92s/Epochs]"
     ]
    },
    {
     "name": "stdout",
     "output_type": "stream",
     "text": [
      "Entered epoch : 57\n"
     ]
    },
    {
     "name": "stderr",
     "output_type": "stream",
     "text": [
      "C:\\Users\\acer\\AppData\\Local\\Temp\\ipykernel_12148\\3564757306.py:90: FutureWarning: The frame.append method is deprecated and will be removed from pandas in a future version. Use pandas.concat instead.\n",
      "  df = df.append({'epoch': epoch,'train_loss': losses[-1],\n",
      "\r",
      "Training:   3%|█▊                                                              | 58/2000 [03:16<1:01:57,  1.91s/Epochs]"
     ]
    },
    {
     "name": "stdout",
     "output_type": "stream",
     "text": [
      "Entered epoch : 58\n"
     ]
    },
    {
     "name": "stderr",
     "output_type": "stream",
     "text": [
      "C:\\Users\\acer\\AppData\\Local\\Temp\\ipykernel_12148\\3564757306.py:90: FutureWarning: The frame.append method is deprecated and will be removed from pandas in a future version. Use pandas.concat instead.\n",
      "  df = df.append({'epoch': epoch,'train_loss': losses[-1],\n",
      "\r",
      "Training:   3%|█▉                                                              | 59/2000 [03:18<1:01:53,  1.91s/Epochs]"
     ]
    },
    {
     "name": "stdout",
     "output_type": "stream",
     "text": [
      "Entered epoch : 59\n"
     ]
    },
    {
     "name": "stderr",
     "output_type": "stream",
     "text": [
      "C:\\Users\\acer\\AppData\\Local\\Temp\\ipykernel_12148\\3564757306.py:90: FutureWarning: The frame.append method is deprecated and will be removed from pandas in a future version. Use pandas.concat instead.\n",
      "  df = df.append({'epoch': epoch,'train_loss': losses[-1],\n",
      "\r",
      "Training:   3%|█▉                                                              | 60/2000 [03:20<1:01:48,  1.91s/Epochs]"
     ]
    },
    {
     "name": "stdout",
     "output_type": "stream",
     "text": [
      "Entered epoch : 60\n"
     ]
    },
    {
     "name": "stderr",
     "output_type": "stream",
     "text": [
      "C:\\Users\\acer\\AppData\\Local\\Temp\\ipykernel_12148\\3564757306.py:90: FutureWarning: The frame.append method is deprecated and will be removed from pandas in a future version. Use pandas.concat instead.\n",
      "  df = df.append({'epoch': epoch,'train_loss': losses[-1],\n",
      "\r",
      "Training:   3%|█▉                                                              | 61/2000 [03:22<1:04:44,  2.00s/Epochs]"
     ]
    },
    {
     "name": "stdout",
     "output_type": "stream",
     "text": [
      "Entered epoch : 61\n"
     ]
    },
    {
     "name": "stderr",
     "output_type": "stream",
     "text": [
      "C:\\Users\\acer\\AppData\\Local\\Temp\\ipykernel_12148\\3564757306.py:90: FutureWarning: The frame.append method is deprecated and will be removed from pandas in a future version. Use pandas.concat instead.\n",
      "  df = df.append({'epoch': epoch,'train_loss': losses[-1],\n",
      "\r",
      "Training:   3%|█▉                                                              | 62/2000 [03:24<1:03:45,  1.97s/Epochs]"
     ]
    },
    {
     "name": "stdout",
     "output_type": "stream",
     "text": [
      "Entered epoch : 62\n"
     ]
    },
    {
     "name": "stderr",
     "output_type": "stream",
     "text": [
      "C:\\Users\\acer\\AppData\\Local\\Temp\\ipykernel_12148\\3564757306.py:90: FutureWarning: The frame.append method is deprecated and will be removed from pandas in a future version. Use pandas.concat instead.\n",
      "  df = df.append({'epoch': epoch,'train_loss': losses[-1],\n",
      "\r",
      "Training:   3%|██                                                              | 63/2000 [03:26<1:03:04,  1.95s/Epochs]"
     ]
    },
    {
     "name": "stdout",
     "output_type": "stream",
     "text": [
      "Entered epoch : 63\n"
     ]
    },
    {
     "name": "stderr",
     "output_type": "stream",
     "text": [
      "C:\\Users\\acer\\AppData\\Local\\Temp\\ipykernel_12148\\3564757306.py:90: FutureWarning: The frame.append method is deprecated and will be removed from pandas in a future version. Use pandas.concat instead.\n",
      "  df = df.append({'epoch': epoch,'train_loss': losses[-1],\n",
      "\r",
      "Training:   3%|██                                                              | 64/2000 [03:28<1:02:36,  1.94s/Epochs]"
     ]
    },
    {
     "name": "stdout",
     "output_type": "stream",
     "text": [
      "Entered epoch : 64\n"
     ]
    },
    {
     "name": "stderr",
     "output_type": "stream",
     "text": [
      "C:\\Users\\acer\\AppData\\Local\\Temp\\ipykernel_12148\\3564757306.py:90: FutureWarning: The frame.append method is deprecated and will be removed from pandas in a future version. Use pandas.concat instead.\n",
      "  df = df.append({'epoch': epoch,'train_loss': losses[-1],\n",
      "\r",
      "Training:   3%|██                                                              | 65/2000 [03:29<1:02:18,  1.93s/Epochs]"
     ]
    },
    {
     "name": "stdout",
     "output_type": "stream",
     "text": [
      "Entered epoch : 65\n"
     ]
    },
    {
     "name": "stderr",
     "output_type": "stream",
     "text": [
      "C:\\Users\\acer\\AppData\\Local\\Temp\\ipykernel_12148\\3564757306.py:90: FutureWarning: The frame.append method is deprecated and will be removed from pandas in a future version. Use pandas.concat instead.\n",
      "  df = df.append({'epoch': epoch,'train_loss': losses[-1],\n",
      "\r",
      "Training:   3%|██                                                              | 66/2000 [03:31<1:02:00,  1.92s/Epochs]"
     ]
    },
    {
     "name": "stdout",
     "output_type": "stream",
     "text": [
      "Entered epoch : 66\n"
     ]
    },
    {
     "name": "stderr",
     "output_type": "stream",
     "text": [
      "C:\\Users\\acer\\AppData\\Local\\Temp\\ipykernel_12148\\3564757306.py:90: FutureWarning: The frame.append method is deprecated and will be removed from pandas in a future version. Use pandas.concat instead.\n",
      "  df = df.append({'epoch': epoch,'train_loss': losses[-1],\n",
      "\r",
      "Training:   3%|██▏                                                             | 67/2000 [03:33<1:01:50,  1.92s/Epochs]"
     ]
    },
    {
     "name": "stdout",
     "output_type": "stream",
     "text": [
      "Entered epoch : 67\n"
     ]
    },
    {
     "name": "stderr",
     "output_type": "stream",
     "text": [
      "C:\\Users\\acer\\AppData\\Local\\Temp\\ipykernel_12148\\3564757306.py:90: FutureWarning: The frame.append method is deprecated and will be removed from pandas in a future version. Use pandas.concat instead.\n",
      "  df = df.append({'epoch': epoch,'train_loss': losses[-1],\n",
      "\r",
      "Training:   3%|██▏                                                             | 68/2000 [03:35<1:01:40,  1.92s/Epochs]"
     ]
    },
    {
     "name": "stdout",
     "output_type": "stream",
     "text": [
      "Entered epoch : 68\n"
     ]
    },
    {
     "name": "stderr",
     "output_type": "stream",
     "text": [
      "C:\\Users\\acer\\AppData\\Local\\Temp\\ipykernel_12148\\3564757306.py:90: FutureWarning: The frame.append method is deprecated and will be removed from pandas in a future version. Use pandas.concat instead.\n",
      "  df = df.append({'epoch': epoch,'train_loss': losses[-1],\n",
      "\r",
      "Training:   3%|██▏                                                             | 69/2000 [03:37<1:01:36,  1.91s/Epochs]"
     ]
    },
    {
     "name": "stdout",
     "output_type": "stream",
     "text": [
      "Entered epoch : 69\n"
     ]
    },
    {
     "name": "stderr",
     "output_type": "stream",
     "text": [
      "C:\\Users\\acer\\AppData\\Local\\Temp\\ipykernel_12148\\3564757306.py:90: FutureWarning: The frame.append method is deprecated and will be removed from pandas in a future version. Use pandas.concat instead.\n",
      "  df = df.append({'epoch': epoch,'train_loss': losses[-1],\n",
      "\r",
      "Training:   4%|██▏                                                             | 70/2000 [03:39<1:01:32,  1.91s/Epochs]"
     ]
    },
    {
     "name": "stdout",
     "output_type": "stream",
     "text": [
      "Entered epoch : 70\n"
     ]
    },
    {
     "name": "stderr",
     "output_type": "stream",
     "text": [
      "C:\\Users\\acer\\AppData\\Local\\Temp\\ipykernel_12148\\3564757306.py:90: FutureWarning: The frame.append method is deprecated and will be removed from pandas in a future version. Use pandas.concat instead.\n",
      "  df = df.append({'epoch': epoch,'train_loss': losses[-1],\n",
      "\r",
      "Training:   4%|██▎                                                             | 71/2000 [03:41<1:04:26,  2.00s/Epochs]"
     ]
    },
    {
     "name": "stdout",
     "output_type": "stream",
     "text": [
      "Entered epoch : 71\n"
     ]
    },
    {
     "name": "stderr",
     "output_type": "stream",
     "text": [
      "C:\\Users\\acer\\AppData\\Local\\Temp\\ipykernel_12148\\3564757306.py:90: FutureWarning: The frame.append method is deprecated and will be removed from pandas in a future version. Use pandas.concat instead.\n",
      "  df = df.append({'epoch': epoch,'train_loss': losses[-1],\n",
      "\r",
      "Training:   4%|██▎                                                             | 72/2000 [03:43<1:03:30,  1.98s/Epochs]"
     ]
    },
    {
     "name": "stdout",
     "output_type": "stream",
     "text": [
      "Entered epoch : 72\n"
     ]
    },
    {
     "name": "stderr",
     "output_type": "stream",
     "text": [
      "C:\\Users\\acer\\AppData\\Local\\Temp\\ipykernel_12148\\3564757306.py:90: FutureWarning: The frame.append method is deprecated and will be removed from pandas in a future version. Use pandas.concat instead.\n",
      "  df = df.append({'epoch': epoch,'train_loss': losses[-1],\n",
      "\r",
      "Training:   4%|██▎                                                             | 73/2000 [03:45<1:02:49,  1.96s/Epochs]"
     ]
    },
    {
     "name": "stdout",
     "output_type": "stream",
     "text": [
      "Entered epoch : 73\n"
     ]
    },
    {
     "name": "stderr",
     "output_type": "stream",
     "text": [
      "C:\\Users\\acer\\AppData\\Local\\Temp\\ipykernel_12148\\3564757306.py:90: FutureWarning: The frame.append method is deprecated and will be removed from pandas in a future version. Use pandas.concat instead.\n",
      "  df = df.append({'epoch': epoch,'train_loss': losses[-1],\n",
      "\r",
      "Training:   4%|██▎                                                             | 74/2000 [03:47<1:02:18,  1.94s/Epochs]"
     ]
    },
    {
     "name": "stdout",
     "output_type": "stream",
     "text": [
      "Entered epoch : 74\n"
     ]
    },
    {
     "name": "stderr",
     "output_type": "stream",
     "text": [
      "C:\\Users\\acer\\AppData\\Local\\Temp\\ipykernel_12148\\3564757306.py:90: FutureWarning: The frame.append method is deprecated and will be removed from pandas in a future version. Use pandas.concat instead.\n",
      "  df = df.append({'epoch': epoch,'train_loss': losses[-1],\n",
      "\r",
      "Training:   4%|██▍                                                             | 75/2000 [03:49<1:01:58,  1.93s/Epochs]"
     ]
    },
    {
     "name": "stdout",
     "output_type": "stream",
     "text": [
      "Entered epoch : 75\n"
     ]
    },
    {
     "name": "stderr",
     "output_type": "stream",
     "text": [
      "C:\\Users\\acer\\AppData\\Local\\Temp\\ipykernel_12148\\3564757306.py:90: FutureWarning: The frame.append method is deprecated and will be removed from pandas in a future version. Use pandas.concat instead.\n",
      "  df = df.append({'epoch': epoch,'train_loss': losses[-1],\n",
      "\r",
      "Training:   4%|██▍                                                             | 76/2000 [03:51<1:01:42,  1.92s/Epochs]"
     ]
    },
    {
     "name": "stdout",
     "output_type": "stream",
     "text": [
      "Entered epoch : 76\n"
     ]
    },
    {
     "name": "stderr",
     "output_type": "stream",
     "text": [
      "C:\\Users\\acer\\AppData\\Local\\Temp\\ipykernel_12148\\3564757306.py:90: FutureWarning: The frame.append method is deprecated and will be removed from pandas in a future version. Use pandas.concat instead.\n",
      "  df = df.append({'epoch': epoch,'train_loss': losses[-1],\n",
      "\r",
      "Training:   4%|██▍                                                             | 77/2000 [03:53<1:01:35,  1.92s/Epochs]"
     ]
    },
    {
     "name": "stdout",
     "output_type": "stream",
     "text": [
      "Entered epoch : 77\n"
     ]
    },
    {
     "name": "stderr",
     "output_type": "stream",
     "text": [
      "C:\\Users\\acer\\AppData\\Local\\Temp\\ipykernel_12148\\3564757306.py:90: FutureWarning: The frame.append method is deprecated and will be removed from pandas in a future version. Use pandas.concat instead.\n",
      "  df = df.append({'epoch': epoch,'train_loss': losses[-1],\n",
      "\r",
      "Training:   4%|██▍                                                             | 78/2000 [03:55<1:01:31,  1.92s/Epochs]"
     ]
    },
    {
     "name": "stdout",
     "output_type": "stream",
     "text": [
      "Entered epoch : 78\n"
     ]
    },
    {
     "name": "stderr",
     "output_type": "stream",
     "text": [
      "C:\\Users\\acer\\AppData\\Local\\Temp\\ipykernel_12148\\3564757306.py:90: FutureWarning: The frame.append method is deprecated and will be removed from pandas in a future version. Use pandas.concat instead.\n",
      "  df = df.append({'epoch': epoch,'train_loss': losses[-1],\n",
      "\r",
      "Training:   4%|██▌                                                             | 79/2000 [03:56<1:01:30,  1.92s/Epochs]"
     ]
    },
    {
     "name": "stdout",
     "output_type": "stream",
     "text": [
      "Entered epoch : 79\n"
     ]
    },
    {
     "name": "stderr",
     "output_type": "stream",
     "text": [
      "C:\\Users\\acer\\AppData\\Local\\Temp\\ipykernel_12148\\3564757306.py:90: FutureWarning: The frame.append method is deprecated and will be removed from pandas in a future version. Use pandas.concat instead.\n",
      "  df = df.append({'epoch': epoch,'train_loss': losses[-1],\n",
      "\r",
      "Training:   4%|██▌                                                             | 80/2000 [03:58<1:01:23,  1.92s/Epochs]"
     ]
    },
    {
     "name": "stdout",
     "output_type": "stream",
     "text": [
      "Entered epoch : 80\n"
     ]
    },
    {
     "name": "stderr",
     "output_type": "stream",
     "text": [
      "C:\\Users\\acer\\AppData\\Local\\Temp\\ipykernel_12148\\3564757306.py:90: FutureWarning: The frame.append method is deprecated and will be removed from pandas in a future version. Use pandas.concat instead.\n",
      "  df = df.append({'epoch': epoch,'train_loss': losses[-1],\n",
      "\r",
      "Training:   4%|██▌                                                             | 81/2000 [04:01<1:05:15,  2.04s/Epochs]"
     ]
    },
    {
     "name": "stdout",
     "output_type": "stream",
     "text": [
      "Entered epoch : 81\n"
     ]
    },
    {
     "name": "stderr",
     "output_type": "stream",
     "text": [
      "C:\\Users\\acer\\AppData\\Local\\Temp\\ipykernel_12148\\3564757306.py:90: FutureWarning: The frame.append method is deprecated and will be removed from pandas in a future version. Use pandas.concat instead.\n",
      "  df = df.append({'epoch': epoch,'train_loss': losses[-1],\n",
      "\r",
      "Training:   4%|██▌                                                             | 82/2000 [04:03<1:06:39,  2.09s/Epochs]"
     ]
    },
    {
     "name": "stdout",
     "output_type": "stream",
     "text": [
      "Entered epoch : 82\n"
     ]
    },
    {
     "name": "stderr",
     "output_type": "stream",
     "text": [
      "C:\\Users\\acer\\AppData\\Local\\Temp\\ipykernel_12148\\3564757306.py:90: FutureWarning: The frame.append method is deprecated and will be removed from pandas in a future version. Use pandas.concat instead.\n",
      "  df = df.append({'epoch': epoch,'train_loss': losses[-1],\n",
      "\r",
      "Training:   4%|██▋                                                             | 83/2000 [04:05<1:04:55,  2.03s/Epochs]"
     ]
    },
    {
     "name": "stdout",
     "output_type": "stream",
     "text": [
      "Entered epoch : 83\n"
     ]
    },
    {
     "name": "stderr",
     "output_type": "stream",
     "text": [
      "C:\\Users\\acer\\AppData\\Local\\Temp\\ipykernel_12148\\3564757306.py:90: FutureWarning: The frame.append method is deprecated and will be removed from pandas in a future version. Use pandas.concat instead.\n",
      "  df = df.append({'epoch': epoch,'train_loss': losses[-1],\n",
      "\r",
      "Training:   4%|██▋                                                             | 84/2000 [04:07<1:03:44,  2.00s/Epochs]"
     ]
    },
    {
     "name": "stdout",
     "output_type": "stream",
     "text": [
      "Entered epoch : 84\n"
     ]
    },
    {
     "name": "stderr",
     "output_type": "stream",
     "text": [
      "C:\\Users\\acer\\AppData\\Local\\Temp\\ipykernel_12148\\3564757306.py:90: FutureWarning: The frame.append method is deprecated and will be removed from pandas in a future version. Use pandas.concat instead.\n",
      "  df = df.append({'epoch': epoch,'train_loss': losses[-1],\n",
      "\r",
      "Training:   4%|██▋                                                             | 85/2000 [04:09<1:02:59,  1.97s/Epochs]"
     ]
    },
    {
     "name": "stdout",
     "output_type": "stream",
     "text": [
      "Entered epoch : 85\n"
     ]
    },
    {
     "name": "stderr",
     "output_type": "stream",
     "text": [
      "C:\\Users\\acer\\AppData\\Local\\Temp\\ipykernel_12148\\3564757306.py:90: FutureWarning: The frame.append method is deprecated and will be removed from pandas in a future version. Use pandas.concat instead.\n",
      "  df = df.append({'epoch': epoch,'train_loss': losses[-1],\n",
      "\r",
      "Training:   4%|██▊                                                             | 86/2000 [04:11<1:02:22,  1.96s/Epochs]"
     ]
    },
    {
     "name": "stdout",
     "output_type": "stream",
     "text": [
      "Entered epoch : 86\n"
     ]
    },
    {
     "name": "stderr",
     "output_type": "stream",
     "text": [
      "C:\\Users\\acer\\AppData\\Local\\Temp\\ipykernel_12148\\3564757306.py:90: FutureWarning: The frame.append method is deprecated and will be removed from pandas in a future version. Use pandas.concat instead.\n",
      "  df = df.append({'epoch': epoch,'train_loss': losses[-1],\n",
      "\r",
      "Training:   4%|██▊                                                             | 87/2000 [04:12<1:02:01,  1.95s/Epochs]"
     ]
    },
    {
     "name": "stdout",
     "output_type": "stream",
     "text": [
      "Entered epoch : 87\n"
     ]
    },
    {
     "name": "stderr",
     "output_type": "stream",
     "text": [
      "C:\\Users\\acer\\AppData\\Local\\Temp\\ipykernel_12148\\3564757306.py:90: FutureWarning: The frame.append method is deprecated and will be removed from pandas in a future version. Use pandas.concat instead.\n",
      "  df = df.append({'epoch': epoch,'train_loss': losses[-1],\n",
      "\r",
      "Training:   4%|██▊                                                             | 88/2000 [04:14<1:01:42,  1.94s/Epochs]"
     ]
    },
    {
     "name": "stdout",
     "output_type": "stream",
     "text": [
      "Entered epoch : 88\n"
     ]
    },
    {
     "name": "stderr",
     "output_type": "stream",
     "text": [
      "C:\\Users\\acer\\AppData\\Local\\Temp\\ipykernel_12148\\3564757306.py:90: FutureWarning: The frame.append method is deprecated and will be removed from pandas in a future version. Use pandas.concat instead.\n",
      "  df = df.append({'epoch': epoch,'train_loss': losses[-1],\n",
      "\r",
      "Training:   4%|██▊                                                             | 89/2000 [04:16<1:01:33,  1.93s/Epochs]"
     ]
    },
    {
     "name": "stdout",
     "output_type": "stream",
     "text": [
      "Entered epoch : 89\n"
     ]
    },
    {
     "name": "stderr",
     "output_type": "stream",
     "text": [
      "C:\\Users\\acer\\AppData\\Local\\Temp\\ipykernel_12148\\3564757306.py:90: FutureWarning: The frame.append method is deprecated and will be removed from pandas in a future version. Use pandas.concat instead.\n",
      "  df = df.append({'epoch': epoch,'train_loss': losses[-1],\n",
      "\r",
      "Training:   4%|██▉                                                             | 90/2000 [04:18<1:01:23,  1.93s/Epochs]"
     ]
    },
    {
     "name": "stdout",
     "output_type": "stream",
     "text": [
      "Entered epoch : 90\n"
     ]
    },
    {
     "name": "stderr",
     "output_type": "stream",
     "text": [
      "C:\\Users\\acer\\AppData\\Local\\Temp\\ipykernel_12148\\3564757306.py:90: FutureWarning: The frame.append method is deprecated and will be removed from pandas in a future version. Use pandas.concat instead.\n",
      "  df = df.append({'epoch': epoch,'train_loss': losses[-1],\n",
      "\r",
      "Training:   5%|██▉                                                             | 91/2000 [04:21<1:04:40,  2.03s/Epochs]"
     ]
    },
    {
     "name": "stdout",
     "output_type": "stream",
     "text": [
      "Entered epoch : 91\n"
     ]
    },
    {
     "name": "stderr",
     "output_type": "stream",
     "text": [
      "C:\\Users\\acer\\AppData\\Local\\Temp\\ipykernel_12148\\3564757306.py:90: FutureWarning: The frame.append method is deprecated and will be removed from pandas in a future version. Use pandas.concat instead.\n",
      "  df = df.append({'epoch': epoch,'train_loss': losses[-1],\n",
      "\r",
      "Training:   5%|██▉                                                             | 92/2000 [04:22<1:03:46,  2.01s/Epochs]"
     ]
    },
    {
     "name": "stdout",
     "output_type": "stream",
     "text": [
      "Entered epoch : 92\n"
     ]
    },
    {
     "name": "stderr",
     "output_type": "stream",
     "text": [
      "C:\\Users\\acer\\AppData\\Local\\Temp\\ipykernel_12148\\3564757306.py:90: FutureWarning: The frame.append method is deprecated and will be removed from pandas in a future version. Use pandas.concat instead.\n",
      "  df = df.append({'epoch': epoch,'train_loss': losses[-1],\n",
      "\r",
      "Training:   5%|██▉                                                             | 93/2000 [04:24<1:02:55,  1.98s/Epochs]"
     ]
    },
    {
     "name": "stdout",
     "output_type": "stream",
     "text": [
      "Entered epoch : 93\n"
     ]
    },
    {
     "name": "stderr",
     "output_type": "stream",
     "text": [
      "C:\\Users\\acer\\AppData\\Local\\Temp\\ipykernel_12148\\3564757306.py:90: FutureWarning: The frame.append method is deprecated and will be removed from pandas in a future version. Use pandas.concat instead.\n",
      "  df = df.append({'epoch': epoch,'train_loss': losses[-1],\n",
      "\r",
      "Training:   5%|███                                                             | 94/2000 [04:26<1:02:16,  1.96s/Epochs]"
     ]
    },
    {
     "name": "stdout",
     "output_type": "stream",
     "text": [
      "Entered epoch : 94\n"
     ]
    },
    {
     "name": "stderr",
     "output_type": "stream",
     "text": [
      "C:\\Users\\acer\\AppData\\Local\\Temp\\ipykernel_12148\\3564757306.py:90: FutureWarning: The frame.append method is deprecated and will be removed from pandas in a future version. Use pandas.concat instead.\n",
      "  df = df.append({'epoch': epoch,'train_loss': losses[-1],\n",
      "\r",
      "Training:   5%|███                                                             | 95/2000 [04:28<1:01:53,  1.95s/Epochs]"
     ]
    },
    {
     "name": "stdout",
     "output_type": "stream",
     "text": [
      "Entered epoch : 95\n"
     ]
    },
    {
     "name": "stderr",
     "output_type": "stream",
     "text": [
      "C:\\Users\\acer\\AppData\\Local\\Temp\\ipykernel_12148\\3564757306.py:90: FutureWarning: The frame.append method is deprecated and will be removed from pandas in a future version. Use pandas.concat instead.\n",
      "  df = df.append({'epoch': epoch,'train_loss': losses[-1],\n",
      "\r",
      "Training:   5%|███                                                             | 96/2000 [04:30<1:01:37,  1.94s/Epochs]"
     ]
    },
    {
     "name": "stdout",
     "output_type": "stream",
     "text": [
      "Entered epoch : 96\n"
     ]
    },
    {
     "name": "stderr",
     "output_type": "stream",
     "text": [
      "C:\\Users\\acer\\AppData\\Local\\Temp\\ipykernel_12148\\3564757306.py:90: FutureWarning: The frame.append method is deprecated and will be removed from pandas in a future version. Use pandas.concat instead.\n",
      "  df = df.append({'epoch': epoch,'train_loss': losses[-1],\n",
      "\r",
      "Training:   5%|███                                                             | 97/2000 [04:32<1:01:25,  1.94s/Epochs]"
     ]
    },
    {
     "name": "stdout",
     "output_type": "stream",
     "text": [
      "Entered epoch : 97\n"
     ]
    },
    {
     "name": "stderr",
     "output_type": "stream",
     "text": [
      "C:\\Users\\acer\\AppData\\Local\\Temp\\ipykernel_12148\\3564757306.py:90: FutureWarning: The frame.append method is deprecated and will be removed from pandas in a future version. Use pandas.concat instead.\n",
      "  df = df.append({'epoch': epoch,'train_loss': losses[-1],\n",
      "\r",
      "Training:   5%|███▏                                                            | 98/2000 [04:34<1:01:13,  1.93s/Epochs]"
     ]
    },
    {
     "name": "stdout",
     "output_type": "stream",
     "text": [
      "Entered epoch : 98\n"
     ]
    },
    {
     "name": "stderr",
     "output_type": "stream",
     "text": [
      "C:\\Users\\acer\\AppData\\Local\\Temp\\ipykernel_12148\\3564757306.py:90: FutureWarning: The frame.append method is deprecated and will be removed from pandas in a future version. Use pandas.concat instead.\n",
      "  df = df.append({'epoch': epoch,'train_loss': losses[-1],\n",
      "\r",
      "Training:   5%|███▏                                                            | 99/2000 [04:36<1:01:06,  1.93s/Epochs]"
     ]
    },
    {
     "name": "stdout",
     "output_type": "stream",
     "text": [
      "Entered epoch : 99\n"
     ]
    },
    {
     "name": "stderr",
     "output_type": "stream",
     "text": [
      "C:\\Users\\acer\\AppData\\Local\\Temp\\ipykernel_12148\\3564757306.py:90: FutureWarning: The frame.append method is deprecated and will be removed from pandas in a future version. Use pandas.concat instead.\n",
      "  df = df.append({'epoch': epoch,'train_loss': losses[-1],\n",
      "\r",
      "Training:   5%|███▏                                                           | 100/2000 [04:38<1:00:59,  1.93s/Epochs]"
     ]
    },
    {
     "name": "stdout",
     "output_type": "stream",
     "text": [
      "Entered epoch : 100\n"
     ]
    },
    {
     "name": "stderr",
     "output_type": "stream",
     "text": [
      "C:\\Users\\acer\\AppData\\Local\\Temp\\ipykernel_12148\\3564757306.py:90: FutureWarning: The frame.append method is deprecated and will be removed from pandas in a future version. Use pandas.concat instead.\n",
      "  df = df.append({'epoch': epoch,'train_loss': losses[-1],\n",
      "\r",
      "Training:   5%|███▏                                                           | 101/2000 [04:40<1:04:10,  2.03s/Epochs]"
     ]
    },
    {
     "name": "stdout",
     "output_type": "stream",
     "text": [
      "train loss 1.07 test loss 1.26 velo loss 56.91212\n",
      "Entered epoch : 101\n"
     ]
    },
    {
     "name": "stderr",
     "output_type": "stream",
     "text": [
      "C:\\Users\\acer\\AppData\\Local\\Temp\\ipykernel_12148\\3564757306.py:90: FutureWarning: The frame.append method is deprecated and will be removed from pandas in a future version. Use pandas.concat instead.\n",
      "  df = df.append({'epoch': epoch,'train_loss': losses[-1],\n",
      "\r",
      "Training:   5%|███▏                                                           | 102/2000 [04:42<1:03:11,  2.00s/Epochs]"
     ]
    },
    {
     "name": "stdout",
     "output_type": "stream",
     "text": [
      "Entered epoch : 102\n"
     ]
    },
    {
     "name": "stderr",
     "output_type": "stream",
     "text": [
      "C:\\Users\\acer\\AppData\\Local\\Temp\\ipykernel_12148\\3564757306.py:90: FutureWarning: The frame.append method is deprecated and will be removed from pandas in a future version. Use pandas.concat instead.\n",
      "  df = df.append({'epoch': epoch,'train_loss': losses[-1],\n",
      "\r",
      "Training:   5%|███▏                                                           | 103/2000 [04:44<1:02:31,  1.98s/Epochs]"
     ]
    },
    {
     "name": "stdout",
     "output_type": "stream",
     "text": [
      "Entered epoch : 103\n"
     ]
    },
    {
     "name": "stderr",
     "output_type": "stream",
     "text": [
      "C:\\Users\\acer\\AppData\\Local\\Temp\\ipykernel_12148\\3564757306.py:90: FutureWarning: The frame.append method is deprecated and will be removed from pandas in a future version. Use pandas.concat instead.\n",
      "  df = df.append({'epoch': epoch,'train_loss': losses[-1],\n",
      "\r",
      "Training:   5%|███▎                                                           | 104/2000 [04:46<1:01:58,  1.96s/Epochs]"
     ]
    },
    {
     "name": "stdout",
     "output_type": "stream",
     "text": [
      "Entered epoch : 104\n"
     ]
    },
    {
     "name": "stderr",
     "output_type": "stream",
     "text": [
      "C:\\Users\\acer\\AppData\\Local\\Temp\\ipykernel_12148\\3564757306.py:90: FutureWarning: The frame.append method is deprecated and will be removed from pandas in a future version. Use pandas.concat instead.\n",
      "  df = df.append({'epoch': epoch,'train_loss': losses[-1],\n",
      "\r",
      "Training:   5%|███▎                                                           | 105/2000 [04:48<1:01:39,  1.95s/Epochs]"
     ]
    },
    {
     "name": "stdout",
     "output_type": "stream",
     "text": [
      "Entered epoch : 105\n"
     ]
    },
    {
     "name": "stderr",
     "output_type": "stream",
     "text": [
      "C:\\Users\\acer\\AppData\\Local\\Temp\\ipykernel_12148\\3564757306.py:90: FutureWarning: The frame.append method is deprecated and will be removed from pandas in a future version. Use pandas.concat instead.\n",
      "  df = df.append({'epoch': epoch,'train_loss': losses[-1],\n",
      "\r",
      "Training:   5%|███▎                                                           | 106/2000 [04:50<1:01:40,  1.95s/Epochs]"
     ]
    },
    {
     "name": "stdout",
     "output_type": "stream",
     "text": [
      "Entered epoch : 106\n"
     ]
    },
    {
     "name": "stderr",
     "output_type": "stream",
     "text": [
      "C:\\Users\\acer\\AppData\\Local\\Temp\\ipykernel_12148\\3564757306.py:90: FutureWarning: The frame.append method is deprecated and will be removed from pandas in a future version. Use pandas.concat instead.\n",
      "  df = df.append({'epoch': epoch,'train_loss': losses[-1],\n",
      "\r",
      "Training:   5%|███▎                                                           | 107/2000 [04:52<1:01:24,  1.95s/Epochs]"
     ]
    },
    {
     "name": "stdout",
     "output_type": "stream",
     "text": [
      "Entered epoch : 107\n"
     ]
    },
    {
     "name": "stderr",
     "output_type": "stream",
     "text": [
      "C:\\Users\\acer\\AppData\\Local\\Temp\\ipykernel_12148\\3564757306.py:90: FutureWarning: The frame.append method is deprecated and will be removed from pandas in a future version. Use pandas.concat instead.\n",
      "  df = df.append({'epoch': epoch,'train_loss': losses[-1],\n",
      "\r",
      "Training:   5%|███▍                                                           | 108/2000 [04:54<1:01:10,  1.94s/Epochs]"
     ]
    },
    {
     "name": "stdout",
     "output_type": "stream",
     "text": [
      "Entered epoch : 108\n"
     ]
    },
    {
     "name": "stderr",
     "output_type": "stream",
     "text": [
      "C:\\Users\\acer\\AppData\\Local\\Temp\\ipykernel_12148\\3564757306.py:90: FutureWarning: The frame.append method is deprecated and will be removed from pandas in a future version. Use pandas.concat instead.\n",
      "  df = df.append({'epoch': epoch,'train_loss': losses[-1],\n",
      "\r",
      "Training:   5%|███▍                                                           | 109/2000 [04:56<1:01:05,  1.94s/Epochs]"
     ]
    },
    {
     "name": "stdout",
     "output_type": "stream",
     "text": [
      "Entered epoch : 109\n"
     ]
    },
    {
     "name": "stderr",
     "output_type": "stream",
     "text": [
      "C:\\Users\\acer\\AppData\\Local\\Temp\\ipykernel_12148\\3564757306.py:90: FutureWarning: The frame.append method is deprecated and will be removed from pandas in a future version. Use pandas.concat instead.\n",
      "  df = df.append({'epoch': epoch,'train_loss': losses[-1],\n",
      "\r",
      "Training:   6%|███▍                                                           | 110/2000 [04:58<1:01:23,  1.95s/Epochs]"
     ]
    },
    {
     "name": "stdout",
     "output_type": "stream",
     "text": [
      "Entered epoch : 110\n"
     ]
    },
    {
     "name": "stderr",
     "output_type": "stream",
     "text": [
      "C:\\Users\\acer\\AppData\\Local\\Temp\\ipykernel_12148\\3564757306.py:90: FutureWarning: The frame.append method is deprecated and will be removed from pandas in a future version. Use pandas.concat instead.\n",
      "  df = df.append({'epoch': epoch,'train_loss': losses[-1],\n",
      "\r",
      "Training:   6%|███▍                                                           | 111/2000 [05:00<1:04:13,  2.04s/Epochs]"
     ]
    },
    {
     "name": "stdout",
     "output_type": "stream",
     "text": [
      "Entered epoch : 111\n"
     ]
    },
    {
     "name": "stderr",
     "output_type": "stream",
     "text": [
      "C:\\Users\\acer\\AppData\\Local\\Temp\\ipykernel_12148\\3564757306.py:90: FutureWarning: The frame.append method is deprecated and will be removed from pandas in a future version. Use pandas.concat instead.\n",
      "  df = df.append({'epoch': epoch,'train_loss': losses[-1],\n",
      "\r",
      "Training:   6%|███▌                                                           | 112/2000 [05:02<1:03:12,  2.01s/Epochs]"
     ]
    },
    {
     "name": "stdout",
     "output_type": "stream",
     "text": [
      "Entered epoch : 112\n"
     ]
    },
    {
     "name": "stderr",
     "output_type": "stream",
     "text": [
      "C:\\Users\\acer\\AppData\\Local\\Temp\\ipykernel_12148\\3564757306.py:90: FutureWarning: The frame.append method is deprecated and will be removed from pandas in a future version. Use pandas.concat instead.\n",
      "  df = df.append({'epoch': epoch,'train_loss': losses[-1],\n",
      "\r",
      "Training:   6%|███▌                                                           | 113/2000 [05:04<1:02:31,  1.99s/Epochs]"
     ]
    },
    {
     "name": "stdout",
     "output_type": "stream",
     "text": [
      "Entered epoch : 113\n"
     ]
    },
    {
     "name": "stderr",
     "output_type": "stream",
     "text": [
      "C:\\Users\\acer\\AppData\\Local\\Temp\\ipykernel_12148\\3564757306.py:90: FutureWarning: The frame.append method is deprecated and will be removed from pandas in a future version. Use pandas.concat instead.\n",
      "  df = df.append({'epoch': epoch,'train_loss': losses[-1],\n",
      "\r",
      "Training:   6%|███▌                                                           | 114/2000 [05:06<1:02:03,  1.97s/Epochs]"
     ]
    },
    {
     "name": "stdout",
     "output_type": "stream",
     "text": [
      "Entered epoch : 114\n"
     ]
    },
    {
     "name": "stderr",
     "output_type": "stream",
     "text": [
      "C:\\Users\\acer\\AppData\\Local\\Temp\\ipykernel_12148\\3564757306.py:90: FutureWarning: The frame.append method is deprecated and will be removed from pandas in a future version. Use pandas.concat instead.\n",
      "  df = df.append({'epoch': epoch,'train_loss': losses[-1],\n",
      "\r",
      "Training:   6%|███▌                                                           | 115/2000 [05:08<1:01:44,  1.97s/Epochs]"
     ]
    },
    {
     "name": "stdout",
     "output_type": "stream",
     "text": [
      "Entered epoch : 115\n"
     ]
    },
    {
     "name": "stderr",
     "output_type": "stream",
     "text": [
      "C:\\Users\\acer\\AppData\\Local\\Temp\\ipykernel_12148\\3564757306.py:90: FutureWarning: The frame.append method is deprecated and will be removed from pandas in a future version. Use pandas.concat instead.\n",
      "  df = df.append({'epoch': epoch,'train_loss': losses[-1],\n",
      "\r",
      "Training:   6%|███▋                                                           | 116/2000 [05:09<1:01:32,  1.96s/Epochs]"
     ]
    },
    {
     "name": "stdout",
     "output_type": "stream",
     "text": [
      "Entered epoch : 116\n"
     ]
    },
    {
     "name": "stderr",
     "output_type": "stream",
     "text": [
      "C:\\Users\\acer\\AppData\\Local\\Temp\\ipykernel_12148\\3564757306.py:90: FutureWarning: The frame.append method is deprecated and will be removed from pandas in a future version. Use pandas.concat instead.\n",
      "  df = df.append({'epoch': epoch,'train_loss': losses[-1],\n",
      "\r",
      "Training:   6%|███▋                                                           | 117/2000 [05:11<1:01:15,  1.95s/Epochs]"
     ]
    },
    {
     "name": "stdout",
     "output_type": "stream",
     "text": [
      "Entered epoch : 117\n"
     ]
    },
    {
     "name": "stderr",
     "output_type": "stream",
     "text": [
      "C:\\Users\\acer\\AppData\\Local\\Temp\\ipykernel_12148\\3564757306.py:90: FutureWarning: The frame.append method is deprecated and will be removed from pandas in a future version. Use pandas.concat instead.\n",
      "  df = df.append({'epoch': epoch,'train_loss': losses[-1],\n",
      "\r",
      "Training:   6%|███▋                                                           | 118/2000 [05:13<1:01:11,  1.95s/Epochs]"
     ]
    },
    {
     "name": "stdout",
     "output_type": "stream",
     "text": [
      "Entered epoch : 118\n"
     ]
    },
    {
     "name": "stderr",
     "output_type": "stream",
     "text": [
      "C:\\Users\\acer\\AppData\\Local\\Temp\\ipykernel_12148\\3564757306.py:90: FutureWarning: The frame.append method is deprecated and will be removed from pandas in a future version. Use pandas.concat instead.\n",
      "  df = df.append({'epoch': epoch,'train_loss': losses[-1],\n",
      "\r",
      "Training:   6%|███▋                                                           | 119/2000 [05:15<1:01:05,  1.95s/Epochs]"
     ]
    },
    {
     "name": "stdout",
     "output_type": "stream",
     "text": [
      "Entered epoch : 119\n"
     ]
    },
    {
     "name": "stderr",
     "output_type": "stream",
     "text": [
      "C:\\Users\\acer\\AppData\\Local\\Temp\\ipykernel_12148\\3564757306.py:90: FutureWarning: The frame.append method is deprecated and will be removed from pandas in a future version. Use pandas.concat instead.\n",
      "  df = df.append({'epoch': epoch,'train_loss': losses[-1],\n",
      "\r",
      "Training:   6%|███▊                                                           | 120/2000 [05:17<1:01:00,  1.95s/Epochs]"
     ]
    },
    {
     "name": "stdout",
     "output_type": "stream",
     "text": [
      "Entered epoch : 120\n"
     ]
    },
    {
     "name": "stderr",
     "output_type": "stream",
     "text": [
      "C:\\Users\\acer\\AppData\\Local\\Temp\\ipykernel_12148\\3564757306.py:90: FutureWarning: The frame.append method is deprecated and will be removed from pandas in a future version. Use pandas.concat instead.\n",
      "  df = df.append({'epoch': epoch,'train_loss': losses[-1],\n",
      "\r",
      "Training:   6%|███▊                                                           | 121/2000 [05:20<1:04:25,  2.06s/Epochs]"
     ]
    },
    {
     "name": "stdout",
     "output_type": "stream",
     "text": [
      "Entered epoch : 121\n"
     ]
    },
    {
     "name": "stderr",
     "output_type": "stream",
     "text": [
      "C:\\Users\\acer\\AppData\\Local\\Temp\\ipykernel_12148\\3564757306.py:90: FutureWarning: The frame.append method is deprecated and will be removed from pandas in a future version. Use pandas.concat instead.\n",
      "  df = df.append({'epoch': epoch,'train_loss': losses[-1],\n",
      "\r",
      "Training:   6%|███▊                                                           | 122/2000 [05:21<1:03:11,  2.02s/Epochs]"
     ]
    },
    {
     "name": "stdout",
     "output_type": "stream",
     "text": [
      "Entered epoch : 122\n"
     ]
    },
    {
     "name": "stderr",
     "output_type": "stream",
     "text": [
      "C:\\Users\\acer\\AppData\\Local\\Temp\\ipykernel_12148\\3564757306.py:90: FutureWarning: The frame.append method is deprecated and will be removed from pandas in a future version. Use pandas.concat instead.\n",
      "  df = df.append({'epoch': epoch,'train_loss': losses[-1],\n",
      "\r",
      "Training:   6%|███▊                                                           | 123/2000 [05:23<1:02:30,  2.00s/Epochs]"
     ]
    },
    {
     "name": "stdout",
     "output_type": "stream",
     "text": [
      "Entered epoch : 123\n"
     ]
    },
    {
     "name": "stderr",
     "output_type": "stream",
     "text": [
      "C:\\Users\\acer\\AppData\\Local\\Temp\\ipykernel_12148\\3564757306.py:90: FutureWarning: The frame.append method is deprecated and will be removed from pandas in a future version. Use pandas.concat instead.\n",
      "  df = df.append({'epoch': epoch,'train_loss': losses[-1],\n",
      "\r",
      "Training:   6%|███▉                                                           | 124/2000 [05:25<1:01:56,  1.98s/Epochs]"
     ]
    },
    {
     "name": "stdout",
     "output_type": "stream",
     "text": [
      "Entered epoch : 124\n"
     ]
    },
    {
     "name": "stderr",
     "output_type": "stream",
     "text": [
      "C:\\Users\\acer\\AppData\\Local\\Temp\\ipykernel_12148\\3564757306.py:90: FutureWarning: The frame.append method is deprecated and will be removed from pandas in a future version. Use pandas.concat instead.\n",
      "  df = df.append({'epoch': epoch,'train_loss': losses[-1],\n",
      "\r",
      "Training:   6%|███▉                                                           | 125/2000 [05:27<1:01:48,  1.98s/Epochs]"
     ]
    },
    {
     "name": "stdout",
     "output_type": "stream",
     "text": [
      "Entered epoch : 125\n"
     ]
    },
    {
     "name": "stderr",
     "output_type": "stream",
     "text": [
      "C:\\Users\\acer\\AppData\\Local\\Temp\\ipykernel_12148\\3564757306.py:90: FutureWarning: The frame.append method is deprecated and will be removed from pandas in a future version. Use pandas.concat instead.\n",
      "  df = df.append({'epoch': epoch,'train_loss': losses[-1],\n",
      "\r",
      "Training:   6%|███▉                                                           | 126/2000 [05:29<1:01:44,  1.98s/Epochs]"
     ]
    },
    {
     "name": "stdout",
     "output_type": "stream",
     "text": [
      "Entered epoch : 126\n"
     ]
    },
    {
     "name": "stderr",
     "output_type": "stream",
     "text": [
      "C:\\Users\\acer\\AppData\\Local\\Temp\\ipykernel_12148\\3564757306.py:90: FutureWarning: The frame.append method is deprecated and will be removed from pandas in a future version. Use pandas.concat instead.\n",
      "  df = df.append({'epoch': epoch,'train_loss': losses[-1],\n",
      "\r",
      "Training:   6%|████                                                           | 127/2000 [05:31<1:01:23,  1.97s/Epochs]"
     ]
    },
    {
     "name": "stdout",
     "output_type": "stream",
     "text": [
      "Entered epoch : 127\n"
     ]
    },
    {
     "name": "stderr",
     "output_type": "stream",
     "text": [
      "C:\\Users\\acer\\AppData\\Local\\Temp\\ipykernel_12148\\3564757306.py:90: FutureWarning: The frame.append method is deprecated and will be removed from pandas in a future version. Use pandas.concat instead.\n",
      "  df = df.append({'epoch': epoch,'train_loss': losses[-1],\n",
      "\r",
      "Training:   6%|████                                                           | 128/2000 [05:33<1:01:03,  1.96s/Epochs]"
     ]
    },
    {
     "name": "stdout",
     "output_type": "stream",
     "text": [
      "Entered epoch : 128\n"
     ]
    },
    {
     "name": "stderr",
     "output_type": "stream",
     "text": [
      "C:\\Users\\acer\\AppData\\Local\\Temp\\ipykernel_12148\\3564757306.py:90: FutureWarning: The frame.append method is deprecated and will be removed from pandas in a future version. Use pandas.concat instead.\n",
      "  df = df.append({'epoch': epoch,'train_loss': losses[-1],\n",
      "\r",
      "Training:   6%|████                                                           | 129/2000 [05:35<1:00:55,  1.95s/Epochs]"
     ]
    },
    {
     "name": "stdout",
     "output_type": "stream",
     "text": [
      "Entered epoch : 129\n"
     ]
    },
    {
     "name": "stderr",
     "output_type": "stream",
     "text": [
      "C:\\Users\\acer\\AppData\\Local\\Temp\\ipykernel_12148\\3564757306.py:90: FutureWarning: The frame.append method is deprecated and will be removed from pandas in a future version. Use pandas.concat instead.\n",
      "  df = df.append({'epoch': epoch,'train_loss': losses[-1],\n",
      "\r",
      "Training:   6%|████                                                           | 130/2000 [05:37<1:00:45,  1.95s/Epochs]"
     ]
    },
    {
     "name": "stdout",
     "output_type": "stream",
     "text": [
      "Entered epoch : 130\n"
     ]
    },
    {
     "name": "stderr",
     "output_type": "stream",
     "text": [
      "C:\\Users\\acer\\AppData\\Local\\Temp\\ipykernel_12148\\3564757306.py:90: FutureWarning: The frame.append method is deprecated and will be removed from pandas in a future version. Use pandas.concat instead.\n",
      "  df = df.append({'epoch': epoch,'train_loss': losses[-1],\n",
      "\r",
      "Training:   7%|████▏                                                          | 131/2000 [05:39<1:03:33,  2.04s/Epochs]"
     ]
    },
    {
     "name": "stdout",
     "output_type": "stream",
     "text": [
      "Entered epoch : 131\n"
     ]
    },
    {
     "name": "stderr",
     "output_type": "stream",
     "text": [
      "C:\\Users\\acer\\AppData\\Local\\Temp\\ipykernel_12148\\3564757306.py:90: FutureWarning: The frame.append method is deprecated and will be removed from pandas in a future version. Use pandas.concat instead.\n",
      "  df = df.append({'epoch': epoch,'train_loss': losses[-1],\n",
      "\r",
      "Training:   7%|████▏                                                          | 132/2000 [05:41<1:03:46,  2.05s/Epochs]"
     ]
    },
    {
     "name": "stdout",
     "output_type": "stream",
     "text": [
      "Entered epoch : 132\n"
     ]
    },
    {
     "name": "stderr",
     "output_type": "stream",
     "text": [
      "C:\\Users\\acer\\AppData\\Local\\Temp\\ipykernel_12148\\3564757306.py:90: FutureWarning: The frame.append method is deprecated and will be removed from pandas in a future version. Use pandas.concat instead.\n",
      "  df = df.append({'epoch': epoch,'train_loss': losses[-1],\n",
      "\r",
      "Training:   7%|████▏                                                          | 133/2000 [05:43<1:02:55,  2.02s/Epochs]"
     ]
    },
    {
     "name": "stdout",
     "output_type": "stream",
     "text": [
      "Entered epoch : 133\n"
     ]
    },
    {
     "name": "stderr",
     "output_type": "stream",
     "text": [
      "C:\\Users\\acer\\AppData\\Local\\Temp\\ipykernel_12148\\3564757306.py:90: FutureWarning: The frame.append method is deprecated and will be removed from pandas in a future version. Use pandas.concat instead.\n",
      "  df = df.append({'epoch': epoch,'train_loss': losses[-1],\n",
      "\r",
      "Training:   7%|████▏                                                          | 134/2000 [05:45<1:02:10,  2.00s/Epochs]"
     ]
    },
    {
     "name": "stdout",
     "output_type": "stream",
     "text": [
      "Entered epoch : 134\n"
     ]
    },
    {
     "name": "stderr",
     "output_type": "stream",
     "text": [
      "C:\\Users\\acer\\AppData\\Local\\Temp\\ipykernel_12148\\3564757306.py:90: FutureWarning: The frame.append method is deprecated and will be removed from pandas in a future version. Use pandas.concat instead.\n",
      "  df = df.append({'epoch': epoch,'train_loss': losses[-1],\n",
      "\r",
      "Training:   7%|████▎                                                          | 135/2000 [05:47<1:01:47,  1.99s/Epochs]"
     ]
    },
    {
     "name": "stdout",
     "output_type": "stream",
     "text": [
      "Entered epoch : 135\n"
     ]
    },
    {
     "name": "stderr",
     "output_type": "stream",
     "text": [
      "C:\\Users\\acer\\AppData\\Local\\Temp\\ipykernel_12148\\3564757306.py:90: FutureWarning: The frame.append method is deprecated and will be removed from pandas in a future version. Use pandas.concat instead.\n",
      "  df = df.append({'epoch': epoch,'train_loss': losses[-1],\n",
      "\r",
      "Training:   7%|████▎                                                          | 136/2000 [05:49<1:01:31,  1.98s/Epochs]"
     ]
    },
    {
     "name": "stdout",
     "output_type": "stream",
     "text": [
      "Entered epoch : 136\n"
     ]
    },
    {
     "name": "stderr",
     "output_type": "stream",
     "text": [
      "C:\\Users\\acer\\AppData\\Local\\Temp\\ipykernel_12148\\3564757306.py:90: FutureWarning: The frame.append method is deprecated and will be removed from pandas in a future version. Use pandas.concat instead.\n",
      "  df = df.append({'epoch': epoch,'train_loss': losses[-1],\n",
      "\r",
      "Training:   7%|████▎                                                          | 137/2000 [05:51<1:01:17,  1.97s/Epochs]"
     ]
    },
    {
     "name": "stdout",
     "output_type": "stream",
     "text": [
      "Entered epoch : 137\n"
     ]
    },
    {
     "name": "stderr",
     "output_type": "stream",
     "text": [
      "C:\\Users\\acer\\AppData\\Local\\Temp\\ipykernel_12148\\3564757306.py:90: FutureWarning: The frame.append method is deprecated and will be removed from pandas in a future version. Use pandas.concat instead.\n",
      "  df = df.append({'epoch': epoch,'train_loss': losses[-1],\n",
      "\r",
      "Training:   7%|████▎                                                          | 138/2000 [05:53<1:01:10,  1.97s/Epochs]"
     ]
    },
    {
     "name": "stdout",
     "output_type": "stream",
     "text": [
      "Entered epoch : 138\n"
     ]
    },
    {
     "name": "stderr",
     "output_type": "stream",
     "text": [
      "C:\\Users\\acer\\AppData\\Local\\Temp\\ipykernel_12148\\3564757306.py:90: FutureWarning: The frame.append method is deprecated and will be removed from pandas in a future version. Use pandas.concat instead.\n",
      "  df = df.append({'epoch': epoch,'train_loss': losses[-1],\n",
      "\r",
      "Training:   7%|████▍                                                          | 139/2000 [05:55<1:01:02,  1.97s/Epochs]"
     ]
    },
    {
     "name": "stdout",
     "output_type": "stream",
     "text": [
      "Entered epoch : 139\n"
     ]
    },
    {
     "name": "stderr",
     "output_type": "stream",
     "text": [
      "C:\\Users\\acer\\AppData\\Local\\Temp\\ipykernel_12148\\3564757306.py:90: FutureWarning: The frame.append method is deprecated and will be removed from pandas in a future version. Use pandas.concat instead.\n",
      "  df = df.append({'epoch': epoch,'train_loss': losses[-1],\n",
      "\r",
      "Training:   7%|████▍                                                          | 140/2000 [05:57<1:00:53,  1.96s/Epochs]"
     ]
    },
    {
     "name": "stdout",
     "output_type": "stream",
     "text": [
      "Entered epoch : 140\n"
     ]
    },
    {
     "name": "stderr",
     "output_type": "stream",
     "text": [
      "C:\\Users\\acer\\AppData\\Local\\Temp\\ipykernel_12148\\3564757306.py:90: FutureWarning: The frame.append method is deprecated and will be removed from pandas in a future version. Use pandas.concat instead.\n",
      "  df = df.append({'epoch': epoch,'train_loss': losses[-1],\n",
      "\r",
      "Training:   7%|████▍                                                          | 141/2000 [05:59<1:03:45,  2.06s/Epochs]"
     ]
    },
    {
     "name": "stdout",
     "output_type": "stream",
     "text": [
      "Entered epoch : 141\n"
     ]
    },
    {
     "name": "stderr",
     "output_type": "stream",
     "text": [
      "C:\\Users\\acer\\AppData\\Local\\Temp\\ipykernel_12148\\3564757306.py:90: FutureWarning: The frame.append method is deprecated and will be removed from pandas in a future version. Use pandas.concat instead.\n",
      "  df = df.append({'epoch': epoch,'train_loss': losses[-1],\n",
      "\r",
      "Training:   7%|████▍                                                          | 142/2000 [06:01<1:02:51,  2.03s/Epochs]"
     ]
    },
    {
     "name": "stdout",
     "output_type": "stream",
     "text": [
      "Entered epoch : 142\n"
     ]
    },
    {
     "name": "stderr",
     "output_type": "stream",
     "text": [
      "C:\\Users\\acer\\AppData\\Local\\Temp\\ipykernel_12148\\3564757306.py:90: FutureWarning: The frame.append method is deprecated and will be removed from pandas in a future version. Use pandas.concat instead.\n",
      "  df = df.append({'epoch': epoch,'train_loss': losses[-1],\n",
      "\r",
      "Training:   7%|████▌                                                          | 143/2000 [06:03<1:02:09,  2.01s/Epochs]"
     ]
    },
    {
     "name": "stdout",
     "output_type": "stream",
     "text": [
      "Entered epoch : 143\n"
     ]
    },
    {
     "name": "stderr",
     "output_type": "stream",
     "text": [
      "C:\\Users\\acer\\AppData\\Local\\Temp\\ipykernel_12148\\3564757306.py:90: FutureWarning: The frame.append method is deprecated and will be removed from pandas in a future version. Use pandas.concat instead.\n",
      "  df = df.append({'epoch': epoch,'train_loss': losses[-1],\n",
      "\r",
      "Training:   7%|████▌                                                          | 144/2000 [06:05<1:01:42,  1.99s/Epochs]"
     ]
    },
    {
     "name": "stdout",
     "output_type": "stream",
     "text": [
      "Entered epoch : 144\n"
     ]
    },
    {
     "name": "stderr",
     "output_type": "stream",
     "text": [
      "C:\\Users\\acer\\AppData\\Local\\Temp\\ipykernel_12148\\3564757306.py:90: FutureWarning: The frame.append method is deprecated and will be removed from pandas in a future version. Use pandas.concat instead.\n",
      "  df = df.append({'epoch': epoch,'train_loss': losses[-1],\n",
      "\r",
      "Training:   7%|████▌                                                          | 145/2000 [06:07<1:01:22,  1.99s/Epochs]"
     ]
    },
    {
     "name": "stdout",
     "output_type": "stream",
     "text": [
      "Entered epoch : 145\n"
     ]
    },
    {
     "name": "stderr",
     "output_type": "stream",
     "text": [
      "C:\\Users\\acer\\AppData\\Local\\Temp\\ipykernel_12148\\3564757306.py:90: FutureWarning: The frame.append method is deprecated and will be removed from pandas in a future version. Use pandas.concat instead.\n",
      "  df = df.append({'epoch': epoch,'train_loss': losses[-1],\n",
      "\r",
      "Training:   7%|████▌                                                          | 146/2000 [06:09<1:01:04,  1.98s/Epochs]"
     ]
    },
    {
     "name": "stdout",
     "output_type": "stream",
     "text": [
      "Entered epoch : 146\n"
     ]
    },
    {
     "name": "stderr",
     "output_type": "stream",
     "text": [
      "C:\\Users\\acer\\AppData\\Local\\Temp\\ipykernel_12148\\3564757306.py:90: FutureWarning: The frame.append method is deprecated and will be removed from pandas in a future version. Use pandas.concat instead.\n",
      "  df = df.append({'epoch': epoch,'train_loss': losses[-1],\n",
      "\r",
      "Training:   7%|████▋                                                          | 147/2000 [06:11<1:00:56,  1.97s/Epochs]"
     ]
    },
    {
     "name": "stdout",
     "output_type": "stream",
     "text": [
      "Entered epoch : 147\n"
     ]
    },
    {
     "name": "stderr",
     "output_type": "stream",
     "text": [
      "C:\\Users\\acer\\AppData\\Local\\Temp\\ipykernel_12148\\3564757306.py:90: FutureWarning: The frame.append method is deprecated and will be removed from pandas in a future version. Use pandas.concat instead.\n",
      "  df = df.append({'epoch': epoch,'train_loss': losses[-1],\n",
      "\r",
      "Training:   7%|████▋                                                          | 148/2000 [06:13<1:00:50,  1.97s/Epochs]"
     ]
    },
    {
     "name": "stdout",
     "output_type": "stream",
     "text": [
      "Entered epoch : 148\n"
     ]
    },
    {
     "name": "stderr",
     "output_type": "stream",
     "text": [
      "C:\\Users\\acer\\AppData\\Local\\Temp\\ipykernel_12148\\3564757306.py:90: FutureWarning: The frame.append method is deprecated and will be removed from pandas in a future version. Use pandas.concat instead.\n",
      "  df = df.append({'epoch': epoch,'train_loss': losses[-1],\n",
      "\r",
      "Training:   7%|████▋                                                          | 149/2000 [06:15<1:00:40,  1.97s/Epochs]"
     ]
    },
    {
     "name": "stdout",
     "output_type": "stream",
     "text": [
      "Entered epoch : 149\n"
     ]
    },
    {
     "name": "stderr",
     "output_type": "stream",
     "text": [
      "C:\\Users\\acer\\AppData\\Local\\Temp\\ipykernel_12148\\3564757306.py:90: FutureWarning: The frame.append method is deprecated and will be removed from pandas in a future version. Use pandas.concat instead.\n",
      "  df = df.append({'epoch': epoch,'train_loss': losses[-1],\n",
      "\r",
      "Training:   8%|████▋                                                          | 150/2000 [06:17<1:00:36,  1.97s/Epochs]"
     ]
    },
    {
     "name": "stdout",
     "output_type": "stream",
     "text": [
      "Entered epoch : 150\n"
     ]
    },
    {
     "name": "stderr",
     "output_type": "stream",
     "text": [
      "C:\\Users\\acer\\AppData\\Local\\Temp\\ipykernel_12148\\3564757306.py:90: FutureWarning: The frame.append method is deprecated and will be removed from pandas in a future version. Use pandas.concat instead.\n",
      "  df = df.append({'epoch': epoch,'train_loss': losses[-1],\n",
      "\r",
      "Training:   8%|████▊                                                          | 151/2000 [06:19<1:03:28,  2.06s/Epochs]"
     ]
    },
    {
     "name": "stdout",
     "output_type": "stream",
     "text": [
      "Entered epoch : 151\n"
     ]
    },
    {
     "name": "stderr",
     "output_type": "stream",
     "text": [
      "C:\\Users\\acer\\AppData\\Local\\Temp\\ipykernel_12148\\3564757306.py:90: FutureWarning: The frame.append method is deprecated and will be removed from pandas in a future version. Use pandas.concat instead.\n",
      "  df = df.append({'epoch': epoch,'train_loss': losses[-1],\n",
      "\r",
      "Training:   8%|████▊                                                          | 152/2000 [06:21<1:02:30,  2.03s/Epochs]"
     ]
    },
    {
     "name": "stdout",
     "output_type": "stream",
     "text": [
      "Entered epoch : 152\n"
     ]
    },
    {
     "name": "stderr",
     "output_type": "stream",
     "text": [
      "C:\\Users\\acer\\AppData\\Local\\Temp\\ipykernel_12148\\3564757306.py:90: FutureWarning: The frame.append method is deprecated and will be removed from pandas in a future version. Use pandas.concat instead.\n",
      "  df = df.append({'epoch': epoch,'train_loss': losses[-1],\n",
      "\r",
      "Training:   8%|████▊                                                          | 153/2000 [06:23<1:02:01,  2.01s/Epochs]"
     ]
    },
    {
     "name": "stdout",
     "output_type": "stream",
     "text": [
      "Entered epoch : 153\n"
     ]
    },
    {
     "name": "stderr",
     "output_type": "stream",
     "text": [
      "C:\\Users\\acer\\AppData\\Local\\Temp\\ipykernel_12148\\3564757306.py:90: FutureWarning: The frame.append method is deprecated and will be removed from pandas in a future version. Use pandas.concat instead.\n",
      "  df = df.append({'epoch': epoch,'train_loss': losses[-1],\n",
      "\r",
      "Training:   8%|████▊                                                          | 154/2000 [06:25<1:01:53,  2.01s/Epochs]"
     ]
    },
    {
     "name": "stdout",
     "output_type": "stream",
     "text": [
      "Entered epoch : 154\n"
     ]
    },
    {
     "name": "stderr",
     "output_type": "stream",
     "text": [
      "C:\\Users\\acer\\AppData\\Local\\Temp\\ipykernel_12148\\3564757306.py:90: FutureWarning: The frame.append method is deprecated and will be removed from pandas in a future version. Use pandas.concat instead.\n",
      "  df = df.append({'epoch': epoch,'train_loss': losses[-1],\n",
      "\r",
      "Training:   8%|████▉                                                          | 155/2000 [06:27<1:01:45,  2.01s/Epochs]"
     ]
    },
    {
     "name": "stdout",
     "output_type": "stream",
     "text": [
      "Entered epoch : 155\n"
     ]
    },
    {
     "name": "stderr",
     "output_type": "stream",
     "text": [
      "C:\\Users\\acer\\AppData\\Local\\Temp\\ipykernel_12148\\3564757306.py:90: FutureWarning: The frame.append method is deprecated and will be removed from pandas in a future version. Use pandas.concat instead.\n",
      "  df = df.append({'epoch': epoch,'train_loss': losses[-1],\n",
      "\r",
      "Training:   8%|████▉                                                          | 156/2000 [06:29<1:01:23,  2.00s/Epochs]"
     ]
    },
    {
     "name": "stdout",
     "output_type": "stream",
     "text": [
      "Entered epoch : 156\n"
     ]
    },
    {
     "name": "stderr",
     "output_type": "stream",
     "text": [
      "C:\\Users\\acer\\AppData\\Local\\Temp\\ipykernel_12148\\3564757306.py:90: FutureWarning: The frame.append method is deprecated and will be removed from pandas in a future version. Use pandas.concat instead.\n",
      "  df = df.append({'epoch': epoch,'train_loss': losses[-1],\n",
      "\r",
      "Training:   8%|████▉                                                          | 157/2000 [06:31<1:01:09,  1.99s/Epochs]"
     ]
    },
    {
     "name": "stdout",
     "output_type": "stream",
     "text": [
      "Entered epoch : 157\n"
     ]
    },
    {
     "name": "stderr",
     "output_type": "stream",
     "text": [
      "C:\\Users\\acer\\AppData\\Local\\Temp\\ipykernel_12148\\3564757306.py:90: FutureWarning: The frame.append method is deprecated and will be removed from pandas in a future version. Use pandas.concat instead.\n",
      "  df = df.append({'epoch': epoch,'train_loss': losses[-1],\n",
      "\r",
      "Training:   8%|████▉                                                          | 158/2000 [06:33<1:00:58,  1.99s/Epochs]"
     ]
    },
    {
     "name": "stdout",
     "output_type": "stream",
     "text": [
      "Entered epoch : 158\n"
     ]
    },
    {
     "name": "stderr",
     "output_type": "stream",
     "text": [
      "C:\\Users\\acer\\AppData\\Local\\Temp\\ipykernel_12148\\3564757306.py:90: FutureWarning: The frame.append method is deprecated and will be removed from pandas in a future version. Use pandas.concat instead.\n",
      "  df = df.append({'epoch': epoch,'train_loss': losses[-1],\n",
      "\r",
      "Training:   8%|█████                                                          | 159/2000 [06:35<1:00:47,  1.98s/Epochs]"
     ]
    },
    {
     "name": "stdout",
     "output_type": "stream",
     "text": [
      "Entered epoch : 159\n"
     ]
    },
    {
     "name": "stderr",
     "output_type": "stream",
     "text": [
      "C:\\Users\\acer\\AppData\\Local\\Temp\\ipykernel_12148\\3564757306.py:90: FutureWarning: The frame.append method is deprecated and will be removed from pandas in a future version. Use pandas.concat instead.\n",
      "  df = df.append({'epoch': epoch,'train_loss': losses[-1],\n",
      "\r",
      "Training:   8%|█████                                                          | 160/2000 [06:37<1:00:38,  1.98s/Epochs]"
     ]
    },
    {
     "name": "stdout",
     "output_type": "stream",
     "text": [
      "Entered epoch : 160\n"
     ]
    },
    {
     "name": "stderr",
     "output_type": "stream",
     "text": [
      "C:\\Users\\acer\\AppData\\Local\\Temp\\ipykernel_12148\\3564757306.py:90: FutureWarning: The frame.append method is deprecated and will be removed from pandas in a future version. Use pandas.concat instead.\n",
      "  df = df.append({'epoch': epoch,'train_loss': losses[-1],\n",
      "\r",
      "Training:   8%|█████                                                          | 161/2000 [06:39<1:03:45,  2.08s/Epochs]"
     ]
    },
    {
     "name": "stdout",
     "output_type": "stream",
     "text": [
      "Entered epoch : 161\n"
     ]
    },
    {
     "name": "stderr",
     "output_type": "stream",
     "text": [
      "C:\\Users\\acer\\AppData\\Local\\Temp\\ipykernel_12148\\3564757306.py:90: FutureWarning: The frame.append method is deprecated and will be removed from pandas in a future version. Use pandas.concat instead.\n",
      "  df = df.append({'epoch': epoch,'train_loss': losses[-1],\n",
      "\r",
      "Training:   8%|█████                                                          | 162/2000 [06:41<1:02:37,  2.04s/Epochs]"
     ]
    },
    {
     "name": "stdout",
     "output_type": "stream",
     "text": [
      "Entered epoch : 162\n"
     ]
    },
    {
     "name": "stderr",
     "output_type": "stream",
     "text": [
      "C:\\Users\\acer\\AppData\\Local\\Temp\\ipykernel_12148\\3564757306.py:90: FutureWarning: The frame.append method is deprecated and will be removed from pandas in a future version. Use pandas.concat instead.\n",
      "  df = df.append({'epoch': epoch,'train_loss': losses[-1],\n",
      "\r",
      "Training:   8%|█████▏                                                         | 163/2000 [06:43<1:01:53,  2.02s/Epochs]"
     ]
    },
    {
     "name": "stdout",
     "output_type": "stream",
     "text": [
      "Entered epoch : 163\n"
     ]
    },
    {
     "name": "stderr",
     "output_type": "stream",
     "text": [
      "C:\\Users\\acer\\AppData\\Local\\Temp\\ipykernel_12148\\3564757306.py:90: FutureWarning: The frame.append method is deprecated and will be removed from pandas in a future version. Use pandas.concat instead.\n",
      "  df = df.append({'epoch': epoch,'train_loss': losses[-1],\n",
      "\r",
      "Training:   8%|█████▏                                                         | 164/2000 [06:45<1:01:22,  2.01s/Epochs]"
     ]
    },
    {
     "name": "stdout",
     "output_type": "stream",
     "text": [
      "Entered epoch : 164\n"
     ]
    },
    {
     "name": "stderr",
     "output_type": "stream",
     "text": [
      "C:\\Users\\acer\\AppData\\Local\\Temp\\ipykernel_12148\\3564757306.py:90: FutureWarning: The frame.append method is deprecated and will be removed from pandas in a future version. Use pandas.concat instead.\n",
      "  df = df.append({'epoch': epoch,'train_loss': losses[-1],\n",
      "\r",
      "Training:   8%|█████▏                                                         | 165/2000 [06:47<1:00:55,  1.99s/Epochs]"
     ]
    },
    {
     "name": "stdout",
     "output_type": "stream",
     "text": [
      "Entered epoch : 165\n"
     ]
    },
    {
     "name": "stderr",
     "output_type": "stream",
     "text": [
      "C:\\Users\\acer\\AppData\\Local\\Temp\\ipykernel_12148\\3564757306.py:90: FutureWarning: The frame.append method is deprecated and will be removed from pandas in a future version. Use pandas.concat instead.\n",
      "  df = df.append({'epoch': epoch,'train_loss': losses[-1],\n",
      "\r",
      "Training:   8%|█████▏                                                         | 166/2000 [06:49<1:00:37,  1.98s/Epochs]"
     ]
    },
    {
     "name": "stdout",
     "output_type": "stream",
     "text": [
      "Entered epoch : 166\n"
     ]
    },
    {
     "name": "stderr",
     "output_type": "stream",
     "text": [
      "C:\\Users\\acer\\AppData\\Local\\Temp\\ipykernel_12148\\3564757306.py:90: FutureWarning: The frame.append method is deprecated and will be removed from pandas in a future version. Use pandas.concat instead.\n",
      "  df = df.append({'epoch': epoch,'train_loss': losses[-1],\n",
      "\r",
      "Training:   8%|█████▎                                                         | 167/2000 [06:51<1:00:25,  1.98s/Epochs]"
     ]
    },
    {
     "name": "stdout",
     "output_type": "stream",
     "text": [
      "Entered epoch : 167\n"
     ]
    },
    {
     "name": "stderr",
     "output_type": "stream",
     "text": [
      "C:\\Users\\acer\\AppData\\Local\\Temp\\ipykernel_12148\\3564757306.py:90: FutureWarning: The frame.append method is deprecated and will be removed from pandas in a future version. Use pandas.concat instead.\n",
      "  df = df.append({'epoch': epoch,'train_loss': losses[-1],\n",
      "\r",
      "Training:   8%|█████▎                                                         | 168/2000 [06:53<1:00:14,  1.97s/Epochs]"
     ]
    },
    {
     "name": "stdout",
     "output_type": "stream",
     "text": [
      "Entered epoch : 168\n"
     ]
    },
    {
     "name": "stderr",
     "output_type": "stream",
     "text": [
      "C:\\Users\\acer\\AppData\\Local\\Temp\\ipykernel_12148\\3564757306.py:90: FutureWarning: The frame.append method is deprecated and will be removed from pandas in a future version. Use pandas.concat instead.\n",
      "  df = df.append({'epoch': epoch,'train_loss': losses[-1],\n",
      "\r",
      "Training:   8%|█████▎                                                         | 169/2000 [06:55<1:00:07,  1.97s/Epochs]"
     ]
    },
    {
     "name": "stdout",
     "output_type": "stream",
     "text": [
      "Entered epoch : 169\n"
     ]
    },
    {
     "name": "stderr",
     "output_type": "stream",
     "text": [
      "C:\\Users\\acer\\AppData\\Local\\Temp\\ipykernel_12148\\3564757306.py:90: FutureWarning: The frame.append method is deprecated and will be removed from pandas in a future version. Use pandas.concat instead.\n",
      "  df = df.append({'epoch': epoch,'train_loss': losses[-1],\n",
      "\r",
      "Training:   8%|█████▎                                                         | 170/2000 [06:57<1:00:03,  1.97s/Epochs]"
     ]
    },
    {
     "name": "stdout",
     "output_type": "stream",
     "text": [
      "Entered epoch : 170\n"
     ]
    },
    {
     "name": "stderr",
     "output_type": "stream",
     "text": [
      "C:\\Users\\acer\\AppData\\Local\\Temp\\ipykernel_12148\\3564757306.py:90: FutureWarning: The frame.append method is deprecated and will be removed from pandas in a future version. Use pandas.concat instead.\n",
      "  df = df.append({'epoch': epoch,'train_loss': losses[-1],\n",
      "\r",
      "Training:   9%|█████▍                                                         | 171/2000 [06:59<1:02:49,  2.06s/Epochs]"
     ]
    },
    {
     "name": "stdout",
     "output_type": "stream",
     "text": [
      "Entered epoch : 171\n"
     ]
    },
    {
     "name": "stderr",
     "output_type": "stream",
     "text": [
      "C:\\Users\\acer\\AppData\\Local\\Temp\\ipykernel_12148\\3564757306.py:90: FutureWarning: The frame.append method is deprecated and will be removed from pandas in a future version. Use pandas.concat instead.\n",
      "  df = df.append({'epoch': epoch,'train_loss': losses[-1],\n",
      "\r",
      "Training:   9%|█████▍                                                         | 172/2000 [07:01<1:01:51,  2.03s/Epochs]"
     ]
    },
    {
     "name": "stdout",
     "output_type": "stream",
     "text": [
      "Entered epoch : 172\n"
     ]
    },
    {
     "name": "stderr",
     "output_type": "stream",
     "text": [
      "C:\\Users\\acer\\AppData\\Local\\Temp\\ipykernel_12148\\3564757306.py:90: FutureWarning: The frame.append method is deprecated and will be removed from pandas in a future version. Use pandas.concat instead.\n",
      "  df = df.append({'epoch': epoch,'train_loss': losses[-1],\n",
      "\r",
      "Training:   9%|█████▍                                                         | 173/2000 [07:03<1:01:16,  2.01s/Epochs]"
     ]
    },
    {
     "name": "stdout",
     "output_type": "stream",
     "text": [
      "Entered epoch : 173\n"
     ]
    },
    {
     "name": "stderr",
     "output_type": "stream",
     "text": [
      "C:\\Users\\acer\\AppData\\Local\\Temp\\ipykernel_12148\\3564757306.py:90: FutureWarning: The frame.append method is deprecated and will be removed from pandas in a future version. Use pandas.concat instead.\n",
      "  df = df.append({'epoch': epoch,'train_loss': losses[-1],\n",
      "\r",
      "Training:   9%|█████▍                                                         | 174/2000 [07:05<1:00:49,  2.00s/Epochs]"
     ]
    },
    {
     "name": "stdout",
     "output_type": "stream",
     "text": [
      "Entered epoch : 174\n"
     ]
    },
    {
     "name": "stderr",
     "output_type": "stream",
     "text": [
      "C:\\Users\\acer\\AppData\\Local\\Temp\\ipykernel_12148\\3564757306.py:90: FutureWarning: The frame.append method is deprecated and will be removed from pandas in a future version. Use pandas.concat instead.\n",
      "  df = df.append({'epoch': epoch,'train_loss': losses[-1],\n",
      "\r",
      "Training:   9%|█████▌                                                         | 175/2000 [07:07<1:00:29,  1.99s/Epochs]"
     ]
    },
    {
     "name": "stdout",
     "output_type": "stream",
     "text": [
      "Entered epoch : 175\n"
     ]
    },
    {
     "name": "stderr",
     "output_type": "stream",
     "text": [
      "C:\\Users\\acer\\AppData\\Local\\Temp\\ipykernel_12148\\3564757306.py:90: FutureWarning: The frame.append method is deprecated and will be removed from pandas in a future version. Use pandas.concat instead.\n",
      "  df = df.append({'epoch': epoch,'train_loss': losses[-1],\n",
      "\r",
      "Training:   9%|█████▌                                                         | 176/2000 [07:09<1:00:12,  1.98s/Epochs]"
     ]
    },
    {
     "name": "stdout",
     "output_type": "stream",
     "text": [
      "Entered epoch : 176\n"
     ]
    },
    {
     "name": "stderr",
     "output_type": "stream",
     "text": [
      "C:\\Users\\acer\\AppData\\Local\\Temp\\ipykernel_12148\\3564757306.py:90: FutureWarning: The frame.append method is deprecated and will be removed from pandas in a future version. Use pandas.concat instead.\n",
      "  df = df.append({'epoch': epoch,'train_loss': losses[-1],\n",
      "\r",
      "Training:   9%|█████▌                                                         | 177/2000 [07:11<1:00:04,  1.98s/Epochs]"
     ]
    },
    {
     "name": "stdout",
     "output_type": "stream",
     "text": [
      "Entered epoch : 177\n"
     ]
    },
    {
     "name": "stderr",
     "output_type": "stream",
     "text": [
      "C:\\Users\\acer\\AppData\\Local\\Temp\\ipykernel_12148\\3564757306.py:90: FutureWarning: The frame.append method is deprecated and will be removed from pandas in a future version. Use pandas.concat instead.\n",
      "  df = df.append({'epoch': epoch,'train_loss': losses[-1],\n",
      "\r",
      "Training:   9%|█████▊                                                           | 178/2000 [07:13<59:57,  1.97s/Epochs]"
     ]
    },
    {
     "name": "stdout",
     "output_type": "stream",
     "text": [
      "Entered epoch : 178\n"
     ]
    },
    {
     "name": "stderr",
     "output_type": "stream",
     "text": [
      "C:\\Users\\acer\\AppData\\Local\\Temp\\ipykernel_12148\\3564757306.py:90: FutureWarning: The frame.append method is deprecated and will be removed from pandas in a future version. Use pandas.concat instead.\n",
      "  df = df.append({'epoch': epoch,'train_loss': losses[-1],\n",
      "\r",
      "Training:   9%|█████▊                                                           | 179/2000 [07:15<59:50,  1.97s/Epochs]"
     ]
    },
    {
     "name": "stdout",
     "output_type": "stream",
     "text": [
      "Entered epoch : 179\n"
     ]
    },
    {
     "name": "stderr",
     "output_type": "stream",
     "text": [
      "C:\\Users\\acer\\AppData\\Local\\Temp\\ipykernel_12148\\3564757306.py:90: FutureWarning: The frame.append method is deprecated and will be removed from pandas in a future version. Use pandas.concat instead.\n",
      "  df = df.append({'epoch': epoch,'train_loss': losses[-1],\n",
      "\r",
      "Training:   9%|█████▊                                                           | 180/2000 [07:17<59:44,  1.97s/Epochs]"
     ]
    },
    {
     "name": "stdout",
     "output_type": "stream",
     "text": [
      "Entered epoch : 180\n"
     ]
    },
    {
     "name": "stderr",
     "output_type": "stream",
     "text": [
      "C:\\Users\\acer\\AppData\\Local\\Temp\\ipykernel_12148\\3564757306.py:90: FutureWarning: The frame.append method is deprecated and will be removed from pandas in a future version. Use pandas.concat instead.\n",
      "  df = df.append({'epoch': epoch,'train_loss': losses[-1],\n",
      "\r",
      "Training:   9%|█████▋                                                         | 181/2000 [07:19<1:02:41,  2.07s/Epochs]"
     ]
    },
    {
     "name": "stdout",
     "output_type": "stream",
     "text": [
      "Entered epoch : 181\n"
     ]
    },
    {
     "name": "stderr",
     "output_type": "stream",
     "text": [
      "C:\\Users\\acer\\AppData\\Local\\Temp\\ipykernel_12148\\3564757306.py:90: FutureWarning: The frame.append method is deprecated and will be removed from pandas in a future version. Use pandas.concat instead.\n",
      "  df = df.append({'epoch': epoch,'train_loss': losses[-1],\n",
      "\r",
      "Training:   9%|█████▋                                                         | 182/2000 [07:21<1:01:43,  2.04s/Epochs]"
     ]
    },
    {
     "name": "stdout",
     "output_type": "stream",
     "text": [
      "Entered epoch : 182\n"
     ]
    },
    {
     "name": "stderr",
     "output_type": "stream",
     "text": [
      "C:\\Users\\acer\\AppData\\Local\\Temp\\ipykernel_12148\\3564757306.py:90: FutureWarning: The frame.append method is deprecated and will be removed from pandas in a future version. Use pandas.concat instead.\n",
      "  df = df.append({'epoch': epoch,'train_loss': losses[-1],\n",
      "\r",
      "Training:   9%|█████▊                                                         | 183/2000 [07:23<1:01:00,  2.01s/Epochs]"
     ]
    },
    {
     "name": "stdout",
     "output_type": "stream",
     "text": [
      "Entered epoch : 183\n"
     ]
    },
    {
     "name": "stderr",
     "output_type": "stream",
     "text": [
      "C:\\Users\\acer\\AppData\\Local\\Temp\\ipykernel_12148\\3564757306.py:90: FutureWarning: The frame.append method is deprecated and will be removed from pandas in a future version. Use pandas.concat instead.\n",
      "  df = df.append({'epoch': epoch,'train_loss': losses[-1],\n",
      "\r",
      "Training:   9%|█████▊                                                         | 184/2000 [07:25<1:00:31,  2.00s/Epochs]"
     ]
    },
    {
     "name": "stdout",
     "output_type": "stream",
     "text": [
      "Entered epoch : 184\n"
     ]
    },
    {
     "name": "stderr",
     "output_type": "stream",
     "text": [
      "C:\\Users\\acer\\AppData\\Local\\Temp\\ipykernel_12148\\3564757306.py:90: FutureWarning: The frame.append method is deprecated and will be removed from pandas in a future version. Use pandas.concat instead.\n",
      "  df = df.append({'epoch': epoch,'train_loss': losses[-1],\n",
      "\r",
      "Training:   9%|█████▊                                                         | 185/2000 [07:27<1:00:13,  1.99s/Epochs]"
     ]
    },
    {
     "name": "stdout",
     "output_type": "stream",
     "text": [
      "Entered epoch : 185\n"
     ]
    },
    {
     "name": "stderr",
     "output_type": "stream",
     "text": [
      "C:\\Users\\acer\\AppData\\Local\\Temp\\ipykernel_12148\\3564757306.py:90: FutureWarning: The frame.append method is deprecated and will be removed from pandas in a future version. Use pandas.concat instead.\n",
      "  df = df.append({'epoch': epoch,'train_loss': losses[-1],\n",
      "\r",
      "Training:   9%|█████▊                                                         | 186/2000 [07:29<1:00:01,  1.99s/Epochs]"
     ]
    },
    {
     "name": "stdout",
     "output_type": "stream",
     "text": [
      "Entered epoch : 186\n"
     ]
    },
    {
     "name": "stderr",
     "output_type": "stream",
     "text": [
      "C:\\Users\\acer\\AppData\\Local\\Temp\\ipykernel_12148\\3564757306.py:90: FutureWarning: The frame.append method is deprecated and will be removed from pandas in a future version. Use pandas.concat instead.\n",
      "  df = df.append({'epoch': epoch,'train_loss': losses[-1],\n",
      "\r",
      "Training:   9%|██████                                                           | 187/2000 [07:31<59:46,  1.98s/Epochs]"
     ]
    },
    {
     "name": "stdout",
     "output_type": "stream",
     "text": [
      "Entered epoch : 187\n"
     ]
    },
    {
     "name": "stderr",
     "output_type": "stream",
     "text": [
      "C:\\Users\\acer\\AppData\\Local\\Temp\\ipykernel_12148\\3564757306.py:90: FutureWarning: The frame.append method is deprecated and will be removed from pandas in a future version. Use pandas.concat instead.\n",
      "  df = df.append({'epoch': epoch,'train_loss': losses[-1],\n",
      "\r",
      "Training:   9%|██████                                                           | 188/2000 [07:33<59:37,  1.97s/Epochs]"
     ]
    },
    {
     "name": "stdout",
     "output_type": "stream",
     "text": [
      "Entered epoch : 188\n"
     ]
    },
    {
     "name": "stderr",
     "output_type": "stream",
     "text": [
      "C:\\Users\\acer\\AppData\\Local\\Temp\\ipykernel_12148\\3564757306.py:90: FutureWarning: The frame.append method is deprecated and will be removed from pandas in a future version. Use pandas.concat instead.\n",
      "  df = df.append({'epoch': epoch,'train_loss': losses[-1],\n",
      "\r",
      "Training:   9%|██████▏                                                          | 189/2000 [07:35<59:32,  1.97s/Epochs]"
     ]
    },
    {
     "name": "stdout",
     "output_type": "stream",
     "text": [
      "Entered epoch : 189\n"
     ]
    },
    {
     "name": "stderr",
     "output_type": "stream",
     "text": [
      "C:\\Users\\acer\\AppData\\Local\\Temp\\ipykernel_12148\\3564757306.py:90: FutureWarning: The frame.append method is deprecated and will be removed from pandas in a future version. Use pandas.concat instead.\n",
      "  df = df.append({'epoch': epoch,'train_loss': losses[-1],\n",
      "\r",
      "Training:  10%|██████▏                                                          | 190/2000 [07:37<59:27,  1.97s/Epochs]"
     ]
    },
    {
     "name": "stdout",
     "output_type": "stream",
     "text": [
      "Entered epoch : 190\n"
     ]
    },
    {
     "name": "stderr",
     "output_type": "stream",
     "text": [
      "C:\\Users\\acer\\AppData\\Local\\Temp\\ipykernel_12148\\3564757306.py:90: FutureWarning: The frame.append method is deprecated and will be removed from pandas in a future version. Use pandas.concat instead.\n",
      "  df = df.append({'epoch': epoch,'train_loss': losses[-1],\n",
      "\r",
      "Training:  10%|██████                                                         | 191/2000 [07:39<1:02:11,  2.06s/Epochs]"
     ]
    },
    {
     "name": "stdout",
     "output_type": "stream",
     "text": [
      "Entered epoch : 191\n"
     ]
    },
    {
     "name": "stderr",
     "output_type": "stream",
     "text": [
      "C:\\Users\\acer\\AppData\\Local\\Temp\\ipykernel_12148\\3564757306.py:90: FutureWarning: The frame.append method is deprecated and will be removed from pandas in a future version. Use pandas.concat instead.\n",
      "  df = df.append({'epoch': epoch,'train_loss': losses[-1],\n",
      "\r",
      "Training:  10%|██████                                                         | 192/2000 [07:41<1:01:21,  2.04s/Epochs]"
     ]
    },
    {
     "name": "stdout",
     "output_type": "stream",
     "text": [
      "Entered epoch : 192\n"
     ]
    },
    {
     "name": "stderr",
     "output_type": "stream",
     "text": [
      "C:\\Users\\acer\\AppData\\Local\\Temp\\ipykernel_12148\\3564757306.py:90: FutureWarning: The frame.append method is deprecated and will be removed from pandas in a future version. Use pandas.concat instead.\n",
      "  df = df.append({'epoch': epoch,'train_loss': losses[-1],\n",
      "\r",
      "Training:  10%|██████                                                         | 193/2000 [07:43<1:00:41,  2.02s/Epochs]"
     ]
    },
    {
     "name": "stdout",
     "output_type": "stream",
     "text": [
      "Entered epoch : 193\n"
     ]
    },
    {
     "name": "stderr",
     "output_type": "stream",
     "text": [
      "C:\\Users\\acer\\AppData\\Local\\Temp\\ipykernel_12148\\3564757306.py:90: FutureWarning: The frame.append method is deprecated and will be removed from pandas in a future version. Use pandas.concat instead.\n",
      "  df = df.append({'epoch': epoch,'train_loss': losses[-1],\n",
      "\r",
      "Training:  10%|██████                                                         | 194/2000 [07:45<1:00:12,  2.00s/Epochs]"
     ]
    },
    {
     "name": "stdout",
     "output_type": "stream",
     "text": [
      "Entered epoch : 194\n"
     ]
    },
    {
     "name": "stderr",
     "output_type": "stream",
     "text": [
      "C:\\Users\\acer\\AppData\\Local\\Temp\\ipykernel_12148\\3564757306.py:90: FutureWarning: The frame.append method is deprecated and will be removed from pandas in a future version. Use pandas.concat instead.\n",
      "  df = df.append({'epoch': epoch,'train_loss': losses[-1],\n",
      "\r",
      "Training:  10%|██████▏                                                        | 195/2000 [07:47<1:00:03,  2.00s/Epochs]"
     ]
    },
    {
     "name": "stdout",
     "output_type": "stream",
     "text": [
      "Entered epoch : 195\n"
     ]
    },
    {
     "name": "stderr",
     "output_type": "stream",
     "text": [
      "C:\\Users\\acer\\AppData\\Local\\Temp\\ipykernel_12148\\3564757306.py:90: FutureWarning: The frame.append method is deprecated and will be removed from pandas in a future version. Use pandas.concat instead.\n",
      "  df = df.append({'epoch': epoch,'train_loss': losses[-1],\n",
      "\r",
      "Training:  10%|██████▎                                                          | 196/2000 [07:49<59:46,  1.99s/Epochs]"
     ]
    },
    {
     "name": "stdout",
     "output_type": "stream",
     "text": [
      "Entered epoch : 196\n"
     ]
    },
    {
     "name": "stderr",
     "output_type": "stream",
     "text": [
      "C:\\Users\\acer\\AppData\\Local\\Temp\\ipykernel_12148\\3564757306.py:90: FutureWarning: The frame.append method is deprecated and will be removed from pandas in a future version. Use pandas.concat instead.\n",
      "  df = df.append({'epoch': epoch,'train_loss': losses[-1],\n",
      "\r",
      "Training:  10%|██████▍                                                          | 197/2000 [07:51<59:33,  1.98s/Epochs]"
     ]
    },
    {
     "name": "stdout",
     "output_type": "stream",
     "text": [
      "Entered epoch : 197\n"
     ]
    },
    {
     "name": "stderr",
     "output_type": "stream",
     "text": [
      "C:\\Users\\acer\\AppData\\Local\\Temp\\ipykernel_12148\\3564757306.py:90: FutureWarning: The frame.append method is deprecated and will be removed from pandas in a future version. Use pandas.concat instead.\n",
      "  df = df.append({'epoch': epoch,'train_loss': losses[-1],\n",
      "\r",
      "Training:  10%|██████▍                                                          | 198/2000 [07:53<59:22,  1.98s/Epochs]"
     ]
    },
    {
     "name": "stdout",
     "output_type": "stream",
     "text": [
      "Entered epoch : 198\n"
     ]
    },
    {
     "name": "stderr",
     "output_type": "stream",
     "text": [
      "C:\\Users\\acer\\AppData\\Local\\Temp\\ipykernel_12148\\3564757306.py:90: FutureWarning: The frame.append method is deprecated and will be removed from pandas in a future version. Use pandas.concat instead.\n",
      "  df = df.append({'epoch': epoch,'train_loss': losses[-1],\n",
      "\r",
      "Training:  10%|██████▍                                                          | 199/2000 [07:55<59:16,  1.97s/Epochs]"
     ]
    },
    {
     "name": "stdout",
     "output_type": "stream",
     "text": [
      "Entered epoch : 199\n"
     ]
    },
    {
     "name": "stderr",
     "output_type": "stream",
     "text": [
      "C:\\Users\\acer\\AppData\\Local\\Temp\\ipykernel_12148\\3564757306.py:90: FutureWarning: The frame.append method is deprecated and will be removed from pandas in a future version. Use pandas.concat instead.\n",
      "  df = df.append({'epoch': epoch,'train_loss': losses[-1],\n",
      "\r",
      "Training:  10%|██████▌                                                          | 200/2000 [07:57<59:11,  1.97s/Epochs]"
     ]
    },
    {
     "name": "stdout",
     "output_type": "stream",
     "text": [
      "Entered epoch : 200\n"
     ]
    },
    {
     "name": "stderr",
     "output_type": "stream",
     "text": [
      "C:\\Users\\acer\\AppData\\Local\\Temp\\ipykernel_12148\\3564757306.py:90: FutureWarning: The frame.append method is deprecated and will be removed from pandas in a future version. Use pandas.concat instead.\n",
      "  df = df.append({'epoch': epoch,'train_loss': losses[-1],\n",
      "\r",
      "Training:  10%|██████▎                                                        | 201/2000 [07:59<1:02:18,  2.08s/Epochs]"
     ]
    },
    {
     "name": "stdout",
     "output_type": "stream",
     "text": [
      "train loss 1.07 test loss 1.26 velo loss 56.81559\n",
      "Entered epoch : 201\n"
     ]
    },
    {
     "name": "stderr",
     "output_type": "stream",
     "text": [
      "C:\\Users\\acer\\AppData\\Local\\Temp\\ipykernel_12148\\3564757306.py:90: FutureWarning: The frame.append method is deprecated and will be removed from pandas in a future version. Use pandas.concat instead.\n",
      "  df = df.append({'epoch': epoch,'train_loss': losses[-1],\n",
      "\r",
      "Training:  10%|██████▎                                                        | 202/2000 [08:01<1:01:13,  2.04s/Epochs]"
     ]
    },
    {
     "name": "stdout",
     "output_type": "stream",
     "text": [
      "Entered epoch : 202\n"
     ]
    },
    {
     "name": "stderr",
     "output_type": "stream",
     "text": [
      "C:\\Users\\acer\\AppData\\Local\\Temp\\ipykernel_12148\\3564757306.py:90: FutureWarning: The frame.append method is deprecated and will be removed from pandas in a future version. Use pandas.concat instead.\n",
      "  df = df.append({'epoch': epoch,'train_loss': losses[-1],\n",
      "\r",
      "Training:  10%|██████▍                                                        | 203/2000 [08:03<1:00:27,  2.02s/Epochs]"
     ]
    },
    {
     "name": "stdout",
     "output_type": "stream",
     "text": [
      "Entered epoch : 203\n"
     ]
    },
    {
     "name": "stderr",
     "output_type": "stream",
     "text": [
      "C:\\Users\\acer\\AppData\\Local\\Temp\\ipykernel_12148\\3564757306.py:90: FutureWarning: The frame.append method is deprecated and will be removed from pandas in a future version. Use pandas.concat instead.\n",
      "  df = df.append({'epoch': epoch,'train_loss': losses[-1],\n",
      "\r",
      "Training:  10%|██████▋                                                          | 204/2000 [08:05<59:55,  2.00s/Epochs]"
     ]
    },
    {
     "name": "stdout",
     "output_type": "stream",
     "text": [
      "Entered epoch : 204\n"
     ]
    },
    {
     "name": "stderr",
     "output_type": "stream",
     "text": [
      "C:\\Users\\acer\\AppData\\Local\\Temp\\ipykernel_12148\\3564757306.py:90: FutureWarning: The frame.append method is deprecated and will be removed from pandas in a future version. Use pandas.concat instead.\n",
      "  df = df.append({'epoch': epoch,'train_loss': losses[-1],\n",
      "\r",
      "Training:  10%|██████▋                                                          | 205/2000 [08:07<59:34,  1.99s/Epochs]"
     ]
    },
    {
     "name": "stdout",
     "output_type": "stream",
     "text": [
      "Entered epoch : 205\n"
     ]
    },
    {
     "name": "stderr",
     "output_type": "stream",
     "text": [
      "C:\\Users\\acer\\AppData\\Local\\Temp\\ipykernel_12148\\3564757306.py:90: FutureWarning: The frame.append method is deprecated and will be removed from pandas in a future version. Use pandas.concat instead.\n",
      "  df = df.append({'epoch': epoch,'train_loss': losses[-1],\n",
      "\r",
      "Training:  10%|██████▋                                                          | 206/2000 [08:09<59:19,  1.98s/Epochs]"
     ]
    },
    {
     "name": "stdout",
     "output_type": "stream",
     "text": [
      "Entered epoch : 206\n"
     ]
    },
    {
     "name": "stderr",
     "output_type": "stream",
     "text": [
      "C:\\Users\\acer\\AppData\\Local\\Temp\\ipykernel_12148\\3564757306.py:90: FutureWarning: The frame.append method is deprecated and will be removed from pandas in a future version. Use pandas.concat instead.\n",
      "  df = df.append({'epoch': epoch,'train_loss': losses[-1],\n",
      "\r",
      "Training:  10%|██████▋                                                          | 207/2000 [08:11<59:06,  1.98s/Epochs]"
     ]
    },
    {
     "name": "stdout",
     "output_type": "stream",
     "text": [
      "Entered epoch : 207\n"
     ]
    },
    {
     "name": "stderr",
     "output_type": "stream",
     "text": [
      "C:\\Users\\acer\\AppData\\Local\\Temp\\ipykernel_12148\\3564757306.py:90: FutureWarning: The frame.append method is deprecated and will be removed from pandas in a future version. Use pandas.concat instead.\n",
      "  df = df.append({'epoch': epoch,'train_loss': losses[-1],\n",
      "\r",
      "Training:  10%|██████▊                                                          | 208/2000 [08:13<58:58,  1.97s/Epochs]"
     ]
    },
    {
     "name": "stdout",
     "output_type": "stream",
     "text": [
      "Entered epoch : 208\n"
     ]
    },
    {
     "name": "stderr",
     "output_type": "stream",
     "text": [
      "C:\\Users\\acer\\AppData\\Local\\Temp\\ipykernel_12148\\3564757306.py:90: FutureWarning: The frame.append method is deprecated and will be removed from pandas in a future version. Use pandas.concat instead.\n",
      "  df = df.append({'epoch': epoch,'train_loss': losses[-1],\n",
      "\r",
      "Training:  10%|██████▊                                                          | 209/2000 [08:15<58:54,  1.97s/Epochs]"
     ]
    },
    {
     "name": "stdout",
     "output_type": "stream",
     "text": [
      "Entered epoch : 209\n"
     ]
    },
    {
     "name": "stderr",
     "output_type": "stream",
     "text": [
      "C:\\Users\\acer\\AppData\\Local\\Temp\\ipykernel_12148\\3564757306.py:90: FutureWarning: The frame.append method is deprecated and will be removed from pandas in a future version. Use pandas.concat instead.\n",
      "  df = df.append({'epoch': epoch,'train_loss': losses[-1],\n",
      "\r",
      "Training:  10%|██████▊                                                          | 210/2000 [08:17<58:44,  1.97s/Epochs]"
     ]
    },
    {
     "name": "stdout",
     "output_type": "stream",
     "text": [
      "Entered epoch : 210\n"
     ]
    },
    {
     "name": "stderr",
     "output_type": "stream",
     "text": [
      "C:\\Users\\acer\\AppData\\Local\\Temp\\ipykernel_12148\\3564757306.py:90: FutureWarning: The frame.append method is deprecated and will be removed from pandas in a future version. Use pandas.concat instead.\n",
      "  df = df.append({'epoch': epoch,'train_loss': losses[-1],\n",
      "\r",
      "Training:  11%|██████▋                                                        | 211/2000 [08:19<1:01:27,  2.06s/Epochs]"
     ]
    },
    {
     "name": "stdout",
     "output_type": "stream",
     "text": [
      "Entered epoch : 211\n"
     ]
    },
    {
     "name": "stderr",
     "output_type": "stream",
     "text": [
      "C:\\Users\\acer\\AppData\\Local\\Temp\\ipykernel_12148\\3564757306.py:90: FutureWarning: The frame.append method is deprecated and will be removed from pandas in a future version. Use pandas.concat instead.\n",
      "  df = df.append({'epoch': epoch,'train_loss': losses[-1],\n",
      "\r",
      "Training:  11%|██████▋                                                        | 212/2000 [08:21<1:00:34,  2.03s/Epochs]"
     ]
    },
    {
     "name": "stdout",
     "output_type": "stream",
     "text": [
      "Entered epoch : 212\n"
     ]
    },
    {
     "name": "stderr",
     "output_type": "stream",
     "text": [
      "C:\\Users\\acer\\AppData\\Local\\Temp\\ipykernel_12148\\3564757306.py:90: FutureWarning: The frame.append method is deprecated and will be removed from pandas in a future version. Use pandas.concat instead.\n",
      "  df = df.append({'epoch': epoch,'train_loss': losses[-1],\n",
      "\r",
      "Training:  11%|██████▉                                                          | 213/2000 [08:23<59:53,  2.01s/Epochs]"
     ]
    },
    {
     "name": "stdout",
     "output_type": "stream",
     "text": [
      "Entered epoch : 213\n"
     ]
    },
    {
     "name": "stderr",
     "output_type": "stream",
     "text": [
      "C:\\Users\\acer\\AppData\\Local\\Temp\\ipykernel_12148\\3564757306.py:90: FutureWarning: The frame.append method is deprecated and will be removed from pandas in a future version. Use pandas.concat instead.\n",
      "  df = df.append({'epoch': epoch,'train_loss': losses[-1],\n",
      "\r",
      "Training:  11%|██████▉                                                          | 214/2000 [08:25<59:27,  2.00s/Epochs]"
     ]
    },
    {
     "name": "stdout",
     "output_type": "stream",
     "text": [
      "Entered epoch : 214\n"
     ]
    },
    {
     "name": "stderr",
     "output_type": "stream",
     "text": [
      "C:\\Users\\acer\\AppData\\Local\\Temp\\ipykernel_12148\\3564757306.py:90: FutureWarning: The frame.append method is deprecated and will be removed from pandas in a future version. Use pandas.concat instead.\n",
      "  df = df.append({'epoch': epoch,'train_loss': losses[-1],\n",
      "\r",
      "Training:  11%|██████▉                                                          | 215/2000 [08:27<58:45,  1.97s/Epochs]"
     ]
    },
    {
     "name": "stdout",
     "output_type": "stream",
     "text": [
      "Entered epoch : 215\n"
     ]
    },
    {
     "name": "stderr",
     "output_type": "stream",
     "text": [
      "C:\\Users\\acer\\AppData\\Local\\Temp\\ipykernel_12148\\3564757306.py:90: FutureWarning: The frame.append method is deprecated and will be removed from pandas in a future version. Use pandas.concat instead.\n",
      "  df = df.append({'epoch': epoch,'train_loss': losses[-1],\n",
      "\r",
      "Training:  11%|███████                                                          | 216/2000 [08:29<58:14,  1.96s/Epochs]"
     ]
    },
    {
     "name": "stdout",
     "output_type": "stream",
     "text": [
      "Entered epoch : 216\n"
     ]
    },
    {
     "name": "stderr",
     "output_type": "stream",
     "text": [
      "C:\\Users\\acer\\AppData\\Local\\Temp\\ipykernel_12148\\3564757306.py:90: FutureWarning: The frame.append method is deprecated and will be removed from pandas in a future version. Use pandas.concat instead.\n",
      "  df = df.append({'epoch': epoch,'train_loss': losses[-1],\n",
      "\r",
      "Training:  11%|███████                                                          | 217/2000 [08:31<57:58,  1.95s/Epochs]"
     ]
    },
    {
     "name": "stdout",
     "output_type": "stream",
     "text": [
      "Entered epoch : 217\n"
     ]
    },
    {
     "name": "stderr",
     "output_type": "stream",
     "text": [
      "C:\\Users\\acer\\AppData\\Local\\Temp\\ipykernel_12148\\3564757306.py:90: FutureWarning: The frame.append method is deprecated and will be removed from pandas in a future version. Use pandas.concat instead.\n",
      "  df = df.append({'epoch': epoch,'train_loss': losses[-1],\n",
      "\r",
      "Training:  11%|███████                                                          | 218/2000 [08:33<57:39,  1.94s/Epochs]"
     ]
    },
    {
     "name": "stdout",
     "output_type": "stream",
     "text": [
      "Entered epoch : 218\n"
     ]
    },
    {
     "name": "stderr",
     "output_type": "stream",
     "text": [
      "C:\\Users\\acer\\AppData\\Local\\Temp\\ipykernel_12148\\3564757306.py:90: FutureWarning: The frame.append method is deprecated and will be removed from pandas in a future version. Use pandas.concat instead.\n",
      "  df = df.append({'epoch': epoch,'train_loss': losses[-1],\n",
      "\r",
      "Training:  11%|███████                                                          | 219/2000 [08:35<57:26,  1.94s/Epochs]"
     ]
    },
    {
     "name": "stdout",
     "output_type": "stream",
     "text": [
      "Entered epoch : 219\n"
     ]
    },
    {
     "name": "stderr",
     "output_type": "stream",
     "text": [
      "C:\\Users\\acer\\AppData\\Local\\Temp\\ipykernel_12148\\3564757306.py:90: FutureWarning: The frame.append method is deprecated and will be removed from pandas in a future version. Use pandas.concat instead.\n",
      "  df = df.append({'epoch': epoch,'train_loss': losses[-1],\n",
      "\r",
      "Training:  11%|███████▏                                                         | 220/2000 [08:37<57:29,  1.94s/Epochs]"
     ]
    },
    {
     "name": "stdout",
     "output_type": "stream",
     "text": [
      "Entered epoch : 220\n"
     ]
    },
    {
     "name": "stderr",
     "output_type": "stream",
     "text": [
      "C:\\Users\\acer\\AppData\\Local\\Temp\\ipykernel_12148\\3564757306.py:90: FutureWarning: The frame.append method is deprecated and will be removed from pandas in a future version. Use pandas.concat instead.\n",
      "  df = df.append({'epoch': epoch,'train_loss': losses[-1],\n",
      "\r",
      "Training:  11%|██████▉                                                        | 221/2000 [08:39<1:00:12,  2.03s/Epochs]"
     ]
    },
    {
     "name": "stdout",
     "output_type": "stream",
     "text": [
      "Entered epoch : 221\n"
     ]
    },
    {
     "name": "stderr",
     "output_type": "stream",
     "text": [
      "C:\\Users\\acer\\AppData\\Local\\Temp\\ipykernel_12148\\3564757306.py:90: FutureWarning: The frame.append method is deprecated and will be removed from pandas in a future version. Use pandas.concat instead.\n",
      "  df = df.append({'epoch': epoch,'train_loss': losses[-1],\n",
      "\r",
      "Training:  11%|███████▏                                                         | 222/2000 [08:41<59:11,  2.00s/Epochs]"
     ]
    },
    {
     "name": "stdout",
     "output_type": "stream",
     "text": [
      "Entered epoch : 222\n"
     ]
    },
    {
     "name": "stderr",
     "output_type": "stream",
     "text": [
      "C:\\Users\\acer\\AppData\\Local\\Temp\\ipykernel_12148\\3564757306.py:90: FutureWarning: The frame.append method is deprecated and will be removed from pandas in a future version. Use pandas.concat instead.\n",
      "  df = df.append({'epoch': epoch,'train_loss': losses[-1],\n",
      "\r",
      "Training:  11%|███████▏                                                         | 223/2000 [08:43<58:56,  1.99s/Epochs]"
     ]
    },
    {
     "name": "stdout",
     "output_type": "stream",
     "text": [
      "Entered epoch : 223\n"
     ]
    },
    {
     "name": "stderr",
     "output_type": "stream",
     "text": [
      "C:\\Users\\acer\\AppData\\Local\\Temp\\ipykernel_12148\\3564757306.py:90: FutureWarning: The frame.append method is deprecated and will be removed from pandas in a future version. Use pandas.concat instead.\n",
      "  df = df.append({'epoch': epoch,'train_loss': losses[-1],\n",
      "\r",
      "Training:  11%|███████▎                                                         | 224/2000 [08:45<58:30,  1.98s/Epochs]"
     ]
    },
    {
     "name": "stdout",
     "output_type": "stream",
     "text": [
      "Entered epoch : 224\n"
     ]
    },
    {
     "name": "stderr",
     "output_type": "stream",
     "text": [
      "C:\\Users\\acer\\AppData\\Local\\Temp\\ipykernel_12148\\3564757306.py:90: FutureWarning: The frame.append method is deprecated and will be removed from pandas in a future version. Use pandas.concat instead.\n",
      "  df = df.append({'epoch': epoch,'train_loss': losses[-1],\n",
      "\r",
      "Training:  11%|███████▎                                                         | 225/2000 [08:47<58:12,  1.97s/Epochs]"
     ]
    },
    {
     "name": "stdout",
     "output_type": "stream",
     "text": [
      "Entered epoch : 225\n"
     ]
    },
    {
     "name": "stderr",
     "output_type": "stream",
     "text": [
      "C:\\Users\\acer\\AppData\\Local\\Temp\\ipykernel_12148\\3564757306.py:90: FutureWarning: The frame.append method is deprecated and will be removed from pandas in a future version. Use pandas.concat instead.\n",
      "  df = df.append({'epoch': epoch,'train_loss': losses[-1],\n",
      "\r",
      "Training:  11%|███████▎                                                         | 226/2000 [08:49<58:02,  1.96s/Epochs]"
     ]
    },
    {
     "name": "stdout",
     "output_type": "stream",
     "text": [
      "Entered epoch : 226\n"
     ]
    },
    {
     "name": "stderr",
     "output_type": "stream",
     "text": [
      "C:\\Users\\acer\\AppData\\Local\\Temp\\ipykernel_12148\\3564757306.py:90: FutureWarning: The frame.append method is deprecated and will be removed from pandas in a future version. Use pandas.concat instead.\n",
      "  df = df.append({'epoch': epoch,'train_loss': losses[-1],\n",
      "\r",
      "Training:  11%|███████▍                                                         | 227/2000 [08:51<57:51,  1.96s/Epochs]"
     ]
    },
    {
     "name": "stdout",
     "output_type": "stream",
     "text": [
      "Entered epoch : 227\n"
     ]
    },
    {
     "name": "stderr",
     "output_type": "stream",
     "text": [
      "C:\\Users\\acer\\AppData\\Local\\Temp\\ipykernel_12148\\3564757306.py:90: FutureWarning: The frame.append method is deprecated and will be removed from pandas in a future version. Use pandas.concat instead.\n",
      "  df = df.append({'epoch': epoch,'train_loss': losses[-1],\n",
      "\r",
      "Training:  11%|███████▍                                                         | 228/2000 [08:53<57:45,  1.96s/Epochs]"
     ]
    },
    {
     "name": "stdout",
     "output_type": "stream",
     "text": [
      "Entered epoch : 228\n"
     ]
    },
    {
     "name": "stderr",
     "output_type": "stream",
     "text": [
      "C:\\Users\\acer\\AppData\\Local\\Temp\\ipykernel_12148\\3564757306.py:90: FutureWarning: The frame.append method is deprecated and will be removed from pandas in a future version. Use pandas.concat instead.\n",
      "  df = df.append({'epoch': epoch,'train_loss': losses[-1],\n",
      "\r",
      "Training:  11%|███████▍                                                         | 229/2000 [08:55<58:05,  1.97s/Epochs]"
     ]
    },
    {
     "name": "stdout",
     "output_type": "stream",
     "text": [
      "Entered epoch : 229\n"
     ]
    },
    {
     "name": "stderr",
     "output_type": "stream",
     "text": [
      "C:\\Users\\acer\\AppData\\Local\\Temp\\ipykernel_12148\\3564757306.py:90: FutureWarning: The frame.append method is deprecated and will be removed from pandas in a future version. Use pandas.concat instead.\n",
      "  df = df.append({'epoch': epoch,'train_loss': losses[-1],\n",
      "\r",
      "Training:  12%|███████▍                                                         | 230/2000 [08:57<58:02,  1.97s/Epochs]"
     ]
    },
    {
     "name": "stdout",
     "output_type": "stream",
     "text": [
      "Entered epoch : 230\n"
     ]
    },
    {
     "name": "stderr",
     "output_type": "stream",
     "text": [
      "C:\\Users\\acer\\AppData\\Local\\Temp\\ipykernel_12148\\3564757306.py:90: FutureWarning: The frame.append method is deprecated and will be removed from pandas in a future version. Use pandas.concat instead.\n",
      "  df = df.append({'epoch': epoch,'train_loss': losses[-1],\n",
      "\r",
      "Training:  12%|███████▎                                                       | 231/2000 [08:59<1:00:42,  2.06s/Epochs]"
     ]
    },
    {
     "name": "stdout",
     "output_type": "stream",
     "text": [
      "Entered epoch : 231\n"
     ]
    },
    {
     "name": "stderr",
     "output_type": "stream",
     "text": [
      "C:\\Users\\acer\\AppData\\Local\\Temp\\ipykernel_12148\\3564757306.py:90: FutureWarning: The frame.append method is deprecated and will be removed from pandas in a future version. Use pandas.concat instead.\n",
      "  df = df.append({'epoch': epoch,'train_loss': losses[-1],\n",
      "\r",
      "Training:  12%|███████▌                                                         | 232/2000 [09:01<59:53,  2.03s/Epochs]"
     ]
    },
    {
     "name": "stdout",
     "output_type": "stream",
     "text": [
      "Entered epoch : 232\n"
     ]
    },
    {
     "name": "stderr",
     "output_type": "stream",
     "text": [
      "C:\\Users\\acer\\AppData\\Local\\Temp\\ipykernel_12148\\3564757306.py:90: FutureWarning: The frame.append method is deprecated and will be removed from pandas in a future version. Use pandas.concat instead.\n",
      "  df = df.append({'epoch': epoch,'train_loss': losses[-1],\n",
      "\r",
      "Training:  12%|███████▌                                                         | 233/2000 [09:03<59:15,  2.01s/Epochs]"
     ]
    },
    {
     "name": "stdout",
     "output_type": "stream",
     "text": [
      "Entered epoch : 233\n"
     ]
    },
    {
     "name": "stderr",
     "output_type": "stream",
     "text": [
      "C:\\Users\\acer\\AppData\\Local\\Temp\\ipykernel_12148\\3564757306.py:90: FutureWarning: The frame.append method is deprecated and will be removed from pandas in a future version. Use pandas.concat instead.\n",
      "  df = df.append({'epoch': epoch,'train_loss': losses[-1],\n",
      "\r",
      "Training:  12%|███████▌                                                         | 234/2000 [09:05<58:52,  2.00s/Epochs]"
     ]
    },
    {
     "name": "stdout",
     "output_type": "stream",
     "text": [
      "Entered epoch : 234\n"
     ]
    },
    {
     "name": "stderr",
     "output_type": "stream",
     "text": [
      "C:\\Users\\acer\\AppData\\Local\\Temp\\ipykernel_12148\\3564757306.py:90: FutureWarning: The frame.append method is deprecated and will be removed from pandas in a future version. Use pandas.concat instead.\n",
      "  df = df.append({'epoch': epoch,'train_loss': losses[-1],\n",
      "\r",
      "Training:  12%|███████▋                                                         | 235/2000 [09:07<58:37,  1.99s/Epochs]"
     ]
    },
    {
     "name": "stdout",
     "output_type": "stream",
     "text": [
      "Entered epoch : 235\n"
     ]
    },
    {
     "name": "stderr",
     "output_type": "stream",
     "text": [
      "C:\\Users\\acer\\AppData\\Local\\Temp\\ipykernel_12148\\3564757306.py:90: FutureWarning: The frame.append method is deprecated and will be removed from pandas in a future version. Use pandas.concat instead.\n",
      "  df = df.append({'epoch': epoch,'train_loss': losses[-1],\n",
      "\r",
      "Training:  12%|███████▋                                                         | 236/2000 [09:09<58:24,  1.99s/Epochs]"
     ]
    },
    {
     "name": "stdout",
     "output_type": "stream",
     "text": [
      "Entered epoch : 236\n"
     ]
    },
    {
     "name": "stderr",
     "output_type": "stream",
     "text": [
      "C:\\Users\\acer\\AppData\\Local\\Temp\\ipykernel_12148\\3564757306.py:90: FutureWarning: The frame.append method is deprecated and will be removed from pandas in a future version. Use pandas.concat instead.\n",
      "  df = df.append({'epoch': epoch,'train_loss': losses[-1],\n",
      "\r",
      "Training:  12%|███████▋                                                         | 237/2000 [09:11<58:09,  1.98s/Epochs]"
     ]
    },
    {
     "name": "stdout",
     "output_type": "stream",
     "text": [
      "Entered epoch : 237\n"
     ]
    },
    {
     "name": "stderr",
     "output_type": "stream",
     "text": [
      "C:\\Users\\acer\\AppData\\Local\\Temp\\ipykernel_12148\\3564757306.py:90: FutureWarning: The frame.append method is deprecated and will be removed from pandas in a future version. Use pandas.concat instead.\n",
      "  df = df.append({'epoch': epoch,'train_loss': losses[-1],\n",
      "\r",
      "Training:  12%|███████▋                                                         | 238/2000 [09:13<58:01,  1.98s/Epochs]"
     ]
    },
    {
     "name": "stdout",
     "output_type": "stream",
     "text": [
      "Entered epoch : 238\n"
     ]
    },
    {
     "name": "stderr",
     "output_type": "stream",
     "text": [
      "C:\\Users\\acer\\AppData\\Local\\Temp\\ipykernel_12148\\3564757306.py:90: FutureWarning: The frame.append method is deprecated and will be removed from pandas in a future version. Use pandas.concat instead.\n",
      "  df = df.append({'epoch': epoch,'train_loss': losses[-1],\n",
      "\r",
      "Training:  12%|███████▊                                                         | 239/2000 [09:15<57:58,  1.98s/Epochs]"
     ]
    },
    {
     "name": "stdout",
     "output_type": "stream",
     "text": [
      "Entered epoch : 239\n"
     ]
    },
    {
     "name": "stderr",
     "output_type": "stream",
     "text": [
      "C:\\Users\\acer\\AppData\\Local\\Temp\\ipykernel_12148\\3564757306.py:90: FutureWarning: The frame.append method is deprecated and will be removed from pandas in a future version. Use pandas.concat instead.\n",
      "  df = df.append({'epoch': epoch,'train_loss': losses[-1],\n",
      "\r",
      "Training:  12%|███████▊                                                         | 240/2000 [09:17<57:52,  1.97s/Epochs]"
     ]
    },
    {
     "name": "stdout",
     "output_type": "stream",
     "text": [
      "Entered epoch : 240\n"
     ]
    },
    {
     "name": "stderr",
     "output_type": "stream",
     "text": [
      "C:\\Users\\acer\\AppData\\Local\\Temp\\ipykernel_12148\\3564757306.py:90: FutureWarning: The frame.append method is deprecated and will be removed from pandas in a future version. Use pandas.concat instead.\n",
      "  df = df.append({'epoch': epoch,'train_loss': losses[-1],\n",
      "\r",
      "Training:  12%|███████▌                                                       | 241/2000 [09:19<1:00:28,  2.06s/Epochs]"
     ]
    },
    {
     "name": "stdout",
     "output_type": "stream",
     "text": [
      "Entered epoch : 241\n"
     ]
    },
    {
     "name": "stderr",
     "output_type": "stream",
     "text": [
      "C:\\Users\\acer\\AppData\\Local\\Temp\\ipykernel_12148\\3564757306.py:90: FutureWarning: The frame.append method is deprecated and will be removed from pandas in a future version. Use pandas.concat instead.\n",
      "  df = df.append({'epoch': epoch,'train_loss': losses[-1],\n",
      "\r",
      "Training:  12%|███████▊                                                         | 242/2000 [09:21<59:38,  2.04s/Epochs]"
     ]
    },
    {
     "name": "stdout",
     "output_type": "stream",
     "text": [
      "Entered epoch : 242\n"
     ]
    },
    {
     "name": "stderr",
     "output_type": "stream",
     "text": [
      "C:\\Users\\acer\\AppData\\Local\\Temp\\ipykernel_12148\\3564757306.py:90: FutureWarning: The frame.append method is deprecated and will be removed from pandas in a future version. Use pandas.concat instead.\n",
      "  df = df.append({'epoch': epoch,'train_loss': losses[-1],\n",
      "\r",
      "Training:  12%|███████▉                                                         | 243/2000 [09:23<58:58,  2.01s/Epochs]"
     ]
    },
    {
     "name": "stdout",
     "output_type": "stream",
     "text": [
      "Entered epoch : 243\n"
     ]
    },
    {
     "name": "stderr",
     "output_type": "stream",
     "text": [
      "C:\\Users\\acer\\AppData\\Local\\Temp\\ipykernel_12148\\3564757306.py:90: FutureWarning: The frame.append method is deprecated and will be removed from pandas in a future version. Use pandas.concat instead.\n",
      "  df = df.append({'epoch': epoch,'train_loss': losses[-1],\n",
      "\r",
      "Training:  12%|███████▉                                                         | 244/2000 [09:25<58:33,  2.00s/Epochs]"
     ]
    },
    {
     "name": "stdout",
     "output_type": "stream",
     "text": [
      "Entered epoch : 244\n"
     ]
    },
    {
     "name": "stderr",
     "output_type": "stream",
     "text": [
      "C:\\Users\\acer\\AppData\\Local\\Temp\\ipykernel_12148\\3564757306.py:90: FutureWarning: The frame.append method is deprecated and will be removed from pandas in a future version. Use pandas.concat instead.\n",
      "  df = df.append({'epoch': epoch,'train_loss': losses[-1],\n",
      "\r",
      "Training:  12%|███████▉                                                         | 245/2000 [09:27<58:48,  2.01s/Epochs]"
     ]
    },
    {
     "name": "stdout",
     "output_type": "stream",
     "text": [
      "Entered epoch : 245\n"
     ]
    },
    {
     "name": "stderr",
     "output_type": "stream",
     "text": [
      "C:\\Users\\acer\\AppData\\Local\\Temp\\ipykernel_12148\\3564757306.py:90: FutureWarning: The frame.append method is deprecated and will be removed from pandas in a future version. Use pandas.concat instead.\n",
      "  df = df.append({'epoch': epoch,'train_loss': losses[-1],\n",
      "\r",
      "Training:  12%|███████▉                                                         | 246/2000 [09:29<58:55,  2.02s/Epochs]"
     ]
    },
    {
     "name": "stdout",
     "output_type": "stream",
     "text": [
      "Entered epoch : 246\n"
     ]
    },
    {
     "name": "stderr",
     "output_type": "stream",
     "text": [
      "C:\\Users\\acer\\AppData\\Local\\Temp\\ipykernel_12148\\3564757306.py:90: FutureWarning: The frame.append method is deprecated and will be removed from pandas in a future version. Use pandas.concat instead.\n",
      "  df = df.append({'epoch': epoch,'train_loss': losses[-1],\n",
      "\r",
      "Training:  12%|████████                                                         | 247/2000 [09:31<58:45,  2.01s/Epochs]"
     ]
    },
    {
     "name": "stdout",
     "output_type": "stream",
     "text": [
      "Entered epoch : 247\n"
     ]
    },
    {
     "name": "stderr",
     "output_type": "stream",
     "text": [
      "C:\\Users\\acer\\AppData\\Local\\Temp\\ipykernel_12148\\3564757306.py:90: FutureWarning: The frame.append method is deprecated and will be removed from pandas in a future version. Use pandas.concat instead.\n",
      "  df = df.append({'epoch': epoch,'train_loss': losses[-1],\n",
      "\r",
      "Training:  12%|████████                                                         | 248/2000 [09:33<58:41,  2.01s/Epochs]"
     ]
    },
    {
     "name": "stdout",
     "output_type": "stream",
     "text": [
      "Entered epoch : 248\n"
     ]
    },
    {
     "name": "stderr",
     "output_type": "stream",
     "text": [
      "C:\\Users\\acer\\AppData\\Local\\Temp\\ipykernel_12148\\3564757306.py:90: FutureWarning: The frame.append method is deprecated and will be removed from pandas in a future version. Use pandas.concat instead.\n",
      "  df = df.append({'epoch': epoch,'train_loss': losses[-1],\n",
      "\r",
      "Training:  12%|████████                                                         | 249/2000 [09:35<58:31,  2.01s/Epochs]"
     ]
    },
    {
     "name": "stdout",
     "output_type": "stream",
     "text": [
      "Entered epoch : 249\n"
     ]
    },
    {
     "name": "stderr",
     "output_type": "stream",
     "text": [
      "C:\\Users\\acer\\AppData\\Local\\Temp\\ipykernel_12148\\3564757306.py:90: FutureWarning: The frame.append method is deprecated and will be removed from pandas in a future version. Use pandas.concat instead.\n",
      "  df = df.append({'epoch': epoch,'train_loss': losses[-1],\n",
      "\r",
      "Training:  12%|████████▏                                                        | 250/2000 [09:37<58:15,  2.00s/Epochs]"
     ]
    },
    {
     "name": "stdout",
     "output_type": "stream",
     "text": [
      "Entered epoch : 250\n"
     ]
    },
    {
     "name": "stderr",
     "output_type": "stream",
     "text": [
      "C:\\Users\\acer\\AppData\\Local\\Temp\\ipykernel_12148\\3564757306.py:90: FutureWarning: The frame.append method is deprecated and will be removed from pandas in a future version. Use pandas.concat instead.\n",
      "  df = df.append({'epoch': epoch,'train_loss': losses[-1],\n",
      "\r",
      "Training:  13%|███████▉                                                       | 251/2000 [09:39<1:00:47,  2.09s/Epochs]"
     ]
    },
    {
     "name": "stdout",
     "output_type": "stream",
     "text": [
      "Entered epoch : 251\n"
     ]
    },
    {
     "name": "stderr",
     "output_type": "stream",
     "text": [
      "C:\\Users\\acer\\AppData\\Local\\Temp\\ipykernel_12148\\3564757306.py:90: FutureWarning: The frame.append method is deprecated and will be removed from pandas in a future version. Use pandas.concat instead.\n",
      "  df = df.append({'epoch': epoch,'train_loss': losses[-1],\n",
      "\r",
      "Training:  13%|████████▏                                                        | 252/2000 [09:41<59:47,  2.05s/Epochs]"
     ]
    },
    {
     "name": "stdout",
     "output_type": "stream",
     "text": [
      "Entered epoch : 252\n"
     ]
    },
    {
     "name": "stderr",
     "output_type": "stream",
     "text": [
      "C:\\Users\\acer\\AppData\\Local\\Temp\\ipykernel_12148\\3564757306.py:90: FutureWarning: The frame.append method is deprecated and will be removed from pandas in a future version. Use pandas.concat instead.\n",
      "  df = df.append({'epoch': epoch,'train_loss': losses[-1],\n",
      "\r",
      "Training:  13%|████████▏                                                        | 253/2000 [09:43<59:05,  2.03s/Epochs]"
     ]
    },
    {
     "name": "stdout",
     "output_type": "stream",
     "text": [
      "Entered epoch : 253\n"
     ]
    },
    {
     "name": "stderr",
     "output_type": "stream",
     "text": [
      "C:\\Users\\acer\\AppData\\Local\\Temp\\ipykernel_12148\\3564757306.py:90: FutureWarning: The frame.append method is deprecated and will be removed from pandas in a future version. Use pandas.concat instead.\n",
      "  df = df.append({'epoch': epoch,'train_loss': losses[-1],\n",
      "\r",
      "Training:  13%|████████▎                                                        | 254/2000 [09:45<58:33,  2.01s/Epochs]"
     ]
    },
    {
     "name": "stdout",
     "output_type": "stream",
     "text": [
      "Entered epoch : 254\n"
     ]
    },
    {
     "name": "stderr",
     "output_type": "stream",
     "text": [
      "C:\\Users\\acer\\AppData\\Local\\Temp\\ipykernel_12148\\3564757306.py:90: FutureWarning: The frame.append method is deprecated and will be removed from pandas in a future version. Use pandas.concat instead.\n",
      "  df = df.append({'epoch': epoch,'train_loss': losses[-1],\n",
      "\r",
      "Training:  13%|████████▎                                                        | 255/2000 [09:47<58:06,  2.00s/Epochs]"
     ]
    },
    {
     "name": "stdout",
     "output_type": "stream",
     "text": [
      "Entered epoch : 255\n"
     ]
    },
    {
     "name": "stderr",
     "output_type": "stream",
     "text": [
      "C:\\Users\\acer\\AppData\\Local\\Temp\\ipykernel_12148\\3564757306.py:90: FutureWarning: The frame.append method is deprecated and will be removed from pandas in a future version. Use pandas.concat instead.\n",
      "  df = df.append({'epoch': epoch,'train_loss': losses[-1],\n",
      "\r",
      "Training:  13%|████████▎                                                        | 256/2000 [09:49<57:45,  1.99s/Epochs]"
     ]
    },
    {
     "name": "stdout",
     "output_type": "stream",
     "text": [
      "Entered epoch : 256\n"
     ]
    },
    {
     "name": "stderr",
     "output_type": "stream",
     "text": [
      "C:\\Users\\acer\\AppData\\Local\\Temp\\ipykernel_12148\\3564757306.py:90: FutureWarning: The frame.append method is deprecated and will be removed from pandas in a future version. Use pandas.concat instead.\n",
      "  df = df.append({'epoch': epoch,'train_loss': losses[-1],\n",
      "\r",
      "Training:  13%|████████▎                                                        | 257/2000 [09:51<57:30,  1.98s/Epochs]"
     ]
    },
    {
     "name": "stdout",
     "output_type": "stream",
     "text": [
      "Entered epoch : 257\n"
     ]
    },
    {
     "name": "stderr",
     "output_type": "stream",
     "text": [
      "C:\\Users\\acer\\AppData\\Local\\Temp\\ipykernel_12148\\3564757306.py:90: FutureWarning: The frame.append method is deprecated and will be removed from pandas in a future version. Use pandas.concat instead.\n",
      "  df = df.append({'epoch': epoch,'train_loss': losses[-1],\n",
      "\r",
      "Training:  13%|████████▍                                                        | 258/2000 [09:53<57:24,  1.98s/Epochs]"
     ]
    },
    {
     "name": "stdout",
     "output_type": "stream",
     "text": [
      "Entered epoch : 258\n"
     ]
    },
    {
     "name": "stderr",
     "output_type": "stream",
     "text": [
      "C:\\Users\\acer\\AppData\\Local\\Temp\\ipykernel_12148\\3564757306.py:90: FutureWarning: The frame.append method is deprecated and will be removed from pandas in a future version. Use pandas.concat instead.\n",
      "  df = df.append({'epoch': epoch,'train_loss': losses[-1],\n",
      "\r",
      "Training:  13%|████████▍                                                        | 259/2000 [09:55<57:15,  1.97s/Epochs]"
     ]
    },
    {
     "name": "stdout",
     "output_type": "stream",
     "text": [
      "Entered epoch : 259\n"
     ]
    },
    {
     "name": "stderr",
     "output_type": "stream",
     "text": [
      "C:\\Users\\acer\\AppData\\Local\\Temp\\ipykernel_12148\\3564757306.py:90: FutureWarning: The frame.append method is deprecated and will be removed from pandas in a future version. Use pandas.concat instead.\n",
      "  df = df.append({'epoch': epoch,'train_loss': losses[-1],\n",
      "\r",
      "Training:  13%|████████▍                                                        | 260/2000 [09:57<57:09,  1.97s/Epochs]"
     ]
    },
    {
     "name": "stdout",
     "output_type": "stream",
     "text": [
      "Entered epoch : 260\n"
     ]
    },
    {
     "name": "stderr",
     "output_type": "stream",
     "text": [
      "C:\\Users\\acer\\AppData\\Local\\Temp\\ipykernel_12148\\3564757306.py:90: FutureWarning: The frame.append method is deprecated and will be removed from pandas in a future version. Use pandas.concat instead.\n",
      "  df = df.append({'epoch': epoch,'train_loss': losses[-1],\n",
      "\r",
      "Training:  13%|████████▍                                                        | 261/2000 [09:59<59:47,  2.06s/Epochs]"
     ]
    },
    {
     "name": "stdout",
     "output_type": "stream",
     "text": [
      "Entered epoch : 261\n"
     ]
    },
    {
     "name": "stderr",
     "output_type": "stream",
     "text": [
      "C:\\Users\\acer\\AppData\\Local\\Temp\\ipykernel_12148\\3564757306.py:90: FutureWarning: The frame.append method is deprecated and will be removed from pandas in a future version. Use pandas.concat instead.\n",
      "  df = df.append({'epoch': epoch,'train_loss': losses[-1],\n",
      "\r",
      "Training:  13%|████████▌                                                        | 262/2000 [10:01<58:54,  2.03s/Epochs]"
     ]
    },
    {
     "name": "stdout",
     "output_type": "stream",
     "text": [
      "Entered epoch : 262\n"
     ]
    },
    {
     "name": "stderr",
     "output_type": "stream",
     "text": [
      "C:\\Users\\acer\\AppData\\Local\\Temp\\ipykernel_12148\\3564757306.py:90: FutureWarning: The frame.append method is deprecated and will be removed from pandas in a future version. Use pandas.concat instead.\n",
      "  df = df.append({'epoch': epoch,'train_loss': losses[-1],\n",
      "\r",
      "Training:  13%|████████▌                                                        | 263/2000 [10:03<58:21,  2.02s/Epochs]"
     ]
    },
    {
     "name": "stdout",
     "output_type": "stream",
     "text": [
      "Entered epoch : 263\n"
     ]
    },
    {
     "name": "stderr",
     "output_type": "stream",
     "text": [
      "C:\\Users\\acer\\AppData\\Local\\Temp\\ipykernel_12148\\3564757306.py:90: FutureWarning: The frame.append method is deprecated and will be removed from pandas in a future version. Use pandas.concat instead.\n",
      "  df = df.append({'epoch': epoch,'train_loss': losses[-1],\n",
      "\r",
      "Training:  13%|████████▌                                                        | 264/2000 [10:05<57:53,  2.00s/Epochs]"
     ]
    },
    {
     "name": "stdout",
     "output_type": "stream",
     "text": [
      "Entered epoch : 264\n"
     ]
    },
    {
     "name": "stderr",
     "output_type": "stream",
     "text": [
      "C:\\Users\\acer\\AppData\\Local\\Temp\\ipykernel_12148\\3564757306.py:90: FutureWarning: The frame.append method is deprecated and will be removed from pandas in a future version. Use pandas.concat instead.\n",
      "  df = df.append({'epoch': epoch,'train_loss': losses[-1],\n",
      "\r",
      "Training:  13%|████████▌                                                        | 265/2000 [10:07<57:34,  1.99s/Epochs]"
     ]
    },
    {
     "name": "stdout",
     "output_type": "stream",
     "text": [
      "Entered epoch : 265\n"
     ]
    },
    {
     "name": "stderr",
     "output_type": "stream",
     "text": [
      "C:\\Users\\acer\\AppData\\Local\\Temp\\ipykernel_12148\\3564757306.py:90: FutureWarning: The frame.append method is deprecated and will be removed from pandas in a future version. Use pandas.concat instead.\n",
      "  df = df.append({'epoch': epoch,'train_loss': losses[-1],\n",
      "\r",
      "Training:  13%|████████▋                                                        | 266/2000 [10:09<57:19,  1.98s/Epochs]"
     ]
    },
    {
     "name": "stdout",
     "output_type": "stream",
     "text": [
      "Entered epoch : 266\n"
     ]
    },
    {
     "name": "stderr",
     "output_type": "stream",
     "text": [
      "C:\\Users\\acer\\AppData\\Local\\Temp\\ipykernel_12148\\3564757306.py:90: FutureWarning: The frame.append method is deprecated and will be removed from pandas in a future version. Use pandas.concat instead.\n",
      "  df = df.append({'epoch': epoch,'train_loss': losses[-1],\n",
      "\r",
      "Training:  13%|████████▋                                                        | 267/2000 [10:11<57:07,  1.98s/Epochs]"
     ]
    },
    {
     "name": "stdout",
     "output_type": "stream",
     "text": [
      "Entered epoch : 267\n"
     ]
    },
    {
     "name": "stderr",
     "output_type": "stream",
     "text": [
      "C:\\Users\\acer\\AppData\\Local\\Temp\\ipykernel_12148\\3564757306.py:90: FutureWarning: The frame.append method is deprecated and will be removed from pandas in a future version. Use pandas.concat instead.\n",
      "  df = df.append({'epoch': epoch,'train_loss': losses[-1],\n",
      "\r",
      "Training:  13%|████████▋                                                        | 268/2000 [10:13<56:59,  1.97s/Epochs]"
     ]
    },
    {
     "name": "stdout",
     "output_type": "stream",
     "text": [
      "Entered epoch : 268\n"
     ]
    },
    {
     "name": "stderr",
     "output_type": "stream",
     "text": [
      "C:\\Users\\acer\\AppData\\Local\\Temp\\ipykernel_12148\\3564757306.py:90: FutureWarning: The frame.append method is deprecated and will be removed from pandas in a future version. Use pandas.concat instead.\n",
      "  df = df.append({'epoch': epoch,'train_loss': losses[-1],\n",
      "\r",
      "Training:  13%|████████▋                                                        | 269/2000 [10:15<56:54,  1.97s/Epochs]"
     ]
    },
    {
     "name": "stdout",
     "output_type": "stream",
     "text": [
      "Entered epoch : 269\n"
     ]
    },
    {
     "name": "stderr",
     "output_type": "stream",
     "text": [
      "C:\\Users\\acer\\AppData\\Local\\Temp\\ipykernel_12148\\3564757306.py:90: FutureWarning: The frame.append method is deprecated and will be removed from pandas in a future version. Use pandas.concat instead.\n",
      "  df = df.append({'epoch': epoch,'train_loss': losses[-1],\n",
      "\r",
      "Training:  14%|████████▊                                                        | 270/2000 [10:17<56:45,  1.97s/Epochs]"
     ]
    },
    {
     "name": "stdout",
     "output_type": "stream",
     "text": [
      "Entered epoch : 270\n"
     ]
    },
    {
     "name": "stderr",
     "output_type": "stream",
     "text": [
      "C:\\Users\\acer\\AppData\\Local\\Temp\\ipykernel_12148\\3564757306.py:90: FutureWarning: The frame.append method is deprecated and will be removed from pandas in a future version. Use pandas.concat instead.\n",
      "  df = df.append({'epoch': epoch,'train_loss': losses[-1],\n",
      "\r",
      "Training:  14%|████████▊                                                        | 271/2000 [10:19<59:22,  2.06s/Epochs]"
     ]
    },
    {
     "name": "stdout",
     "output_type": "stream",
     "text": [
      "Entered epoch : 271\n"
     ]
    },
    {
     "name": "stderr",
     "output_type": "stream",
     "text": [
      "C:\\Users\\acer\\AppData\\Local\\Temp\\ipykernel_12148\\3564757306.py:90: FutureWarning: The frame.append method is deprecated and will be removed from pandas in a future version. Use pandas.concat instead.\n",
      "  df = df.append({'epoch': epoch,'train_loss': losses[-1],\n",
      "\r",
      "Training:  14%|████████▊                                                        | 272/2000 [10:21<58:29,  2.03s/Epochs]"
     ]
    },
    {
     "name": "stdout",
     "output_type": "stream",
     "text": [
      "Entered epoch : 272\n"
     ]
    },
    {
     "name": "stderr",
     "output_type": "stream",
     "text": [
      "C:\\Users\\acer\\AppData\\Local\\Temp\\ipykernel_12148\\3564757306.py:90: FutureWarning: The frame.append method is deprecated and will be removed from pandas in a future version. Use pandas.concat instead.\n",
      "  df = df.append({'epoch': epoch,'train_loss': losses[-1],\n",
      "\r",
      "Training:  14%|████████▊                                                        | 273/2000 [10:23<57:52,  2.01s/Epochs]"
     ]
    },
    {
     "name": "stdout",
     "output_type": "stream",
     "text": [
      "Entered epoch : 273\n"
     ]
    },
    {
     "name": "stderr",
     "output_type": "stream",
     "text": [
      "C:\\Users\\acer\\AppData\\Local\\Temp\\ipykernel_12148\\3564757306.py:90: FutureWarning: The frame.append method is deprecated and will be removed from pandas in a future version. Use pandas.concat instead.\n",
      "  df = df.append({'epoch': epoch,'train_loss': losses[-1],\n",
      "\r",
      "Training:  14%|████████▉                                                        | 274/2000 [10:25<57:27,  2.00s/Epochs]"
     ]
    },
    {
     "name": "stdout",
     "output_type": "stream",
     "text": [
      "Entered epoch : 274\n"
     ]
    },
    {
     "name": "stderr",
     "output_type": "stream",
     "text": [
      "C:\\Users\\acer\\AppData\\Local\\Temp\\ipykernel_12148\\3564757306.py:90: FutureWarning: The frame.append method is deprecated and will be removed from pandas in a future version. Use pandas.concat instead.\n",
      "  df = df.append({'epoch': epoch,'train_loss': losses[-1],\n",
      "\r",
      "Training:  14%|████████▉                                                        | 275/2000 [10:27<57:09,  1.99s/Epochs]"
     ]
    },
    {
     "name": "stdout",
     "output_type": "stream",
     "text": [
      "Entered epoch : 275\n"
     ]
    },
    {
     "name": "stderr",
     "output_type": "stream",
     "text": [
      "C:\\Users\\acer\\AppData\\Local\\Temp\\ipykernel_12148\\3564757306.py:90: FutureWarning: The frame.append method is deprecated and will be removed from pandas in a future version. Use pandas.concat instead.\n",
      "  df = df.append({'epoch': epoch,'train_loss': losses[-1],\n",
      "\r",
      "Training:  14%|████████▉                                                        | 276/2000 [10:29<56:57,  1.98s/Epochs]"
     ]
    },
    {
     "name": "stdout",
     "output_type": "stream",
     "text": [
      "Entered epoch : 276\n"
     ]
    },
    {
     "name": "stderr",
     "output_type": "stream",
     "text": [
      "C:\\Users\\acer\\AppData\\Local\\Temp\\ipykernel_12148\\3564757306.py:90: FutureWarning: The frame.append method is deprecated and will be removed from pandas in a future version. Use pandas.concat instead.\n",
      "  df = df.append({'epoch': epoch,'train_loss': losses[-1],\n",
      "\r",
      "Training:  14%|█████████                                                        | 277/2000 [10:31<56:43,  1.98s/Epochs]"
     ]
    },
    {
     "name": "stdout",
     "output_type": "stream",
     "text": [
      "Entered epoch : 277\n"
     ]
    },
    {
     "name": "stderr",
     "output_type": "stream",
     "text": [
      "C:\\Users\\acer\\AppData\\Local\\Temp\\ipykernel_12148\\3564757306.py:90: FutureWarning: The frame.append method is deprecated and will be removed from pandas in a future version. Use pandas.concat instead.\n",
      "  df = df.append({'epoch': epoch,'train_loss': losses[-1],\n",
      "\r",
      "Training:  14%|█████████                                                        | 278/2000 [10:33<56:37,  1.97s/Epochs]"
     ]
    },
    {
     "name": "stdout",
     "output_type": "stream",
     "text": [
      "Entered epoch : 278\n"
     ]
    },
    {
     "name": "stderr",
     "output_type": "stream",
     "text": [
      "C:\\Users\\acer\\AppData\\Local\\Temp\\ipykernel_12148\\3564757306.py:90: FutureWarning: The frame.append method is deprecated and will be removed from pandas in a future version. Use pandas.concat instead.\n",
      "  df = df.append({'epoch': epoch,'train_loss': losses[-1],\n",
      "\r",
      "Training:  14%|█████████                                                        | 279/2000 [10:35<56:32,  1.97s/Epochs]"
     ]
    },
    {
     "name": "stdout",
     "output_type": "stream",
     "text": [
      "Entered epoch : 279\n"
     ]
    },
    {
     "name": "stderr",
     "output_type": "stream",
     "text": [
      "C:\\Users\\acer\\AppData\\Local\\Temp\\ipykernel_12148\\3564757306.py:90: FutureWarning: The frame.append method is deprecated and will be removed from pandas in a future version. Use pandas.concat instead.\n",
      "  df = df.append({'epoch': epoch,'train_loss': losses[-1],\n",
      "\r",
      "Training:  14%|█████████                                                        | 280/2000 [10:37<56:26,  1.97s/Epochs]"
     ]
    },
    {
     "name": "stdout",
     "output_type": "stream",
     "text": [
      "Entered epoch : 280\n"
     ]
    },
    {
     "name": "stderr",
     "output_type": "stream",
     "text": [
      "C:\\Users\\acer\\AppData\\Local\\Temp\\ipykernel_12148\\3564757306.py:90: FutureWarning: The frame.append method is deprecated and will be removed from pandas in a future version. Use pandas.concat instead.\n",
      "  df = df.append({'epoch': epoch,'train_loss': losses[-1],\n",
      "\r",
      "Training:  14%|█████████▏                                                       | 281/2000 [10:39<59:01,  2.06s/Epochs]"
     ]
    },
    {
     "name": "stdout",
     "output_type": "stream",
     "text": [
      "Entered epoch : 281\n"
     ]
    },
    {
     "name": "stderr",
     "output_type": "stream",
     "text": [
      "C:\\Users\\acer\\AppData\\Local\\Temp\\ipykernel_12148\\3564757306.py:90: FutureWarning: The frame.append method is deprecated and will be removed from pandas in a future version. Use pandas.concat instead.\n",
      "  df = df.append({'epoch': epoch,'train_loss': losses[-1],\n",
      "\r",
      "Training:  14%|█████████▏                                                       | 282/2000 [10:41<58:10,  2.03s/Epochs]"
     ]
    },
    {
     "name": "stdout",
     "output_type": "stream",
     "text": [
      "Entered epoch : 282\n"
     ]
    },
    {
     "name": "stderr",
     "output_type": "stream",
     "text": [
      "C:\\Users\\acer\\AppData\\Local\\Temp\\ipykernel_12148\\3564757306.py:90: FutureWarning: The frame.append method is deprecated and will be removed from pandas in a future version. Use pandas.concat instead.\n",
      "  df = df.append({'epoch': epoch,'train_loss': losses[-1],\n",
      "\r",
      "Training:  14%|█████████▏                                                       | 283/2000 [10:43<57:34,  2.01s/Epochs]"
     ]
    },
    {
     "name": "stdout",
     "output_type": "stream",
     "text": [
      "Entered epoch : 283\n"
     ]
    },
    {
     "name": "stderr",
     "output_type": "stream",
     "text": [
      "C:\\Users\\acer\\AppData\\Local\\Temp\\ipykernel_12148\\3564757306.py:90: FutureWarning: The frame.append method is deprecated and will be removed from pandas in a future version. Use pandas.concat instead.\n",
      "  df = df.append({'epoch': epoch,'train_loss': losses[-1],\n",
      "\r",
      "Training:  14%|█████████▏                                                       | 284/2000 [10:45<57:07,  2.00s/Epochs]"
     ]
    },
    {
     "name": "stdout",
     "output_type": "stream",
     "text": [
      "Entered epoch : 284\n"
     ]
    },
    {
     "name": "stderr",
     "output_type": "stream",
     "text": [
      "C:\\Users\\acer\\AppData\\Local\\Temp\\ipykernel_12148\\3564757306.py:90: FutureWarning: The frame.append method is deprecated and will be removed from pandas in a future version. Use pandas.concat instead.\n",
      "  df = df.append({'epoch': epoch,'train_loss': losses[-1],\n",
      "\r",
      "Training:  14%|█████████▎                                                       | 285/2000 [10:47<56:48,  1.99s/Epochs]"
     ]
    },
    {
     "name": "stdout",
     "output_type": "stream",
     "text": [
      "Entered epoch : 285\n"
     ]
    },
    {
     "name": "stderr",
     "output_type": "stream",
     "text": [
      "C:\\Users\\acer\\AppData\\Local\\Temp\\ipykernel_12148\\3564757306.py:90: FutureWarning: The frame.append method is deprecated and will be removed from pandas in a future version. Use pandas.concat instead.\n",
      "  df = df.append({'epoch': epoch,'train_loss': losses[-1],\n",
      "\r",
      "Training:  14%|█████████▎                                                       | 286/2000 [10:49<56:38,  1.98s/Epochs]"
     ]
    },
    {
     "name": "stdout",
     "output_type": "stream",
     "text": [
      "Entered epoch : 286\n"
     ]
    },
    {
     "name": "stderr",
     "output_type": "stream",
     "text": [
      "C:\\Users\\acer\\AppData\\Local\\Temp\\ipykernel_12148\\3564757306.py:90: FutureWarning: The frame.append method is deprecated and will be removed from pandas in a future version. Use pandas.concat instead.\n",
      "  df = df.append({'epoch': epoch,'train_loss': losses[-1],\n",
      "\r",
      "Training:  14%|█████████▎                                                       | 287/2000 [10:51<56:25,  1.98s/Epochs]"
     ]
    },
    {
     "name": "stdout",
     "output_type": "stream",
     "text": [
      "Entered epoch : 287\n"
     ]
    },
    {
     "name": "stderr",
     "output_type": "stream",
     "text": [
      "C:\\Users\\acer\\AppData\\Local\\Temp\\ipykernel_12148\\3564757306.py:90: FutureWarning: The frame.append method is deprecated and will be removed from pandas in a future version. Use pandas.concat instead.\n",
      "  df = df.append({'epoch': epoch,'train_loss': losses[-1],\n",
      "\r",
      "Training:  14%|█████████▎                                                       | 288/2000 [10:53<56:18,  1.97s/Epochs]"
     ]
    },
    {
     "name": "stdout",
     "output_type": "stream",
     "text": [
      "Entered epoch : 288\n"
     ]
    },
    {
     "name": "stderr",
     "output_type": "stream",
     "text": [
      "C:\\Users\\acer\\AppData\\Local\\Temp\\ipykernel_12148\\3564757306.py:90: FutureWarning: The frame.append method is deprecated and will be removed from pandas in a future version. Use pandas.concat instead.\n",
      "  df = df.append({'epoch': epoch,'train_loss': losses[-1],\n",
      "\r",
      "Training:  14%|█████████▍                                                       | 289/2000 [10:55<56:14,  1.97s/Epochs]"
     ]
    },
    {
     "name": "stdout",
     "output_type": "stream",
     "text": [
      "Entered epoch : 289\n"
     ]
    },
    {
     "name": "stderr",
     "output_type": "stream",
     "text": [
      "C:\\Users\\acer\\AppData\\Local\\Temp\\ipykernel_12148\\3564757306.py:90: FutureWarning: The frame.append method is deprecated and will be removed from pandas in a future version. Use pandas.concat instead.\n",
      "  df = df.append({'epoch': epoch,'train_loss': losses[-1],\n",
      "\r",
      "Training:  14%|█████████▍                                                       | 290/2000 [10:57<56:08,  1.97s/Epochs]"
     ]
    },
    {
     "name": "stdout",
     "output_type": "stream",
     "text": [
      "Entered epoch : 290\n"
     ]
    },
    {
     "name": "stderr",
     "output_type": "stream",
     "text": [
      "C:\\Users\\acer\\AppData\\Local\\Temp\\ipykernel_12148\\3564757306.py:90: FutureWarning: The frame.append method is deprecated and will be removed from pandas in a future version. Use pandas.concat instead.\n",
      "  df = df.append({'epoch': epoch,'train_loss': losses[-1],\n",
      "\r",
      "Training:  15%|█████████▍                                                       | 291/2000 [10:59<58:41,  2.06s/Epochs]"
     ]
    },
    {
     "name": "stdout",
     "output_type": "stream",
     "text": [
      "Entered epoch : 291\n"
     ]
    },
    {
     "name": "stderr",
     "output_type": "stream",
     "text": [
      "C:\\Users\\acer\\AppData\\Local\\Temp\\ipykernel_12148\\3564757306.py:90: FutureWarning: The frame.append method is deprecated and will be removed from pandas in a future version. Use pandas.concat instead.\n",
      "  df = df.append({'epoch': epoch,'train_loss': losses[-1],\n",
      "\r",
      "Training:  15%|█████████▍                                                       | 292/2000 [11:01<57:49,  2.03s/Epochs]"
     ]
    },
    {
     "name": "stdout",
     "output_type": "stream",
     "text": [
      "Entered epoch : 292\n"
     ]
    },
    {
     "name": "stderr",
     "output_type": "stream",
     "text": [
      "C:\\Users\\acer\\AppData\\Local\\Temp\\ipykernel_12148\\3564757306.py:90: FutureWarning: The frame.append method is deprecated and will be removed from pandas in a future version. Use pandas.concat instead.\n",
      "  df = df.append({'epoch': epoch,'train_loss': losses[-1],\n",
      "\r",
      "Training:  15%|█████████▌                                                       | 293/2000 [11:03<57:12,  2.01s/Epochs]"
     ]
    },
    {
     "name": "stdout",
     "output_type": "stream",
     "text": [
      "Entered epoch : 293\n"
     ]
    },
    {
     "name": "stderr",
     "output_type": "stream",
     "text": [
      "C:\\Users\\acer\\AppData\\Local\\Temp\\ipykernel_12148\\3564757306.py:90: FutureWarning: The frame.append method is deprecated and will be removed from pandas in a future version. Use pandas.concat instead.\n",
      "  df = df.append({'epoch': epoch,'train_loss': losses[-1],\n",
      "\r",
      "Training:  15%|█████████▌                                                       | 294/2000 [11:05<56:48,  2.00s/Epochs]"
     ]
    },
    {
     "name": "stdout",
     "output_type": "stream",
     "text": [
      "Entered epoch : 294\n"
     ]
    },
    {
     "name": "stderr",
     "output_type": "stream",
     "text": [
      "C:\\Users\\acer\\AppData\\Local\\Temp\\ipykernel_12148\\3564757306.py:90: FutureWarning: The frame.append method is deprecated and will be removed from pandas in a future version. Use pandas.concat instead.\n",
      "  df = df.append({'epoch': epoch,'train_loss': losses[-1],\n",
      "\r",
      "Training:  15%|█████████▌                                                       | 295/2000 [11:07<56:36,  1.99s/Epochs]"
     ]
    },
    {
     "name": "stdout",
     "output_type": "stream",
     "text": [
      "Entered epoch : 295\n"
     ]
    },
    {
     "name": "stderr",
     "output_type": "stream",
     "text": [
      "C:\\Users\\acer\\AppData\\Local\\Temp\\ipykernel_12148\\3564757306.py:90: FutureWarning: The frame.append method is deprecated and will be removed from pandas in a future version. Use pandas.concat instead.\n",
      "  df = df.append({'epoch': epoch,'train_loss': losses[-1],\n",
      "\r",
      "Training:  15%|█████████▌                                                       | 296/2000 [11:09<56:24,  1.99s/Epochs]"
     ]
    },
    {
     "name": "stdout",
     "output_type": "stream",
     "text": [
      "Entered epoch : 296\n"
     ]
    },
    {
     "name": "stderr",
     "output_type": "stream",
     "text": [
      "C:\\Users\\acer\\AppData\\Local\\Temp\\ipykernel_12148\\3564757306.py:90: FutureWarning: The frame.append method is deprecated and will be removed from pandas in a future version. Use pandas.concat instead.\n",
      "  df = df.append({'epoch': epoch,'train_loss': losses[-1],\n",
      "\r",
      "Training:  15%|█████████▋                                                       | 297/2000 [11:11<56:19,  1.98s/Epochs]"
     ]
    },
    {
     "name": "stdout",
     "output_type": "stream",
     "text": [
      "Entered epoch : 297\n"
     ]
    },
    {
     "name": "stderr",
     "output_type": "stream",
     "text": [
      "C:\\Users\\acer\\AppData\\Local\\Temp\\ipykernel_12148\\3564757306.py:90: FutureWarning: The frame.append method is deprecated and will be removed from pandas in a future version. Use pandas.concat instead.\n",
      "  df = df.append({'epoch': epoch,'train_loss': losses[-1],\n",
      "\r",
      "Training:  15%|█████████▋                                                       | 298/2000 [11:13<56:12,  1.98s/Epochs]"
     ]
    },
    {
     "name": "stdout",
     "output_type": "stream",
     "text": [
      "Entered epoch : 298\n"
     ]
    },
    {
     "name": "stderr",
     "output_type": "stream",
     "text": [
      "C:\\Users\\acer\\AppData\\Local\\Temp\\ipykernel_12148\\3564757306.py:90: FutureWarning: The frame.append method is deprecated and will be removed from pandas in a future version. Use pandas.concat instead.\n",
      "  df = df.append({'epoch': epoch,'train_loss': losses[-1],\n",
      "\r",
      "Training:  15%|█████████▋                                                       | 299/2000 [11:15<56:04,  1.98s/Epochs]"
     ]
    },
    {
     "name": "stdout",
     "output_type": "stream",
     "text": [
      "Entered epoch : 299\n"
     ]
    },
    {
     "name": "stderr",
     "output_type": "stream",
     "text": [
      "C:\\Users\\acer\\AppData\\Local\\Temp\\ipykernel_12148\\3564757306.py:90: FutureWarning: The frame.append method is deprecated and will be removed from pandas in a future version. Use pandas.concat instead.\n",
      "  df = df.append({'epoch': epoch,'train_loss': losses[-1],\n",
      "\r",
      "Training:  15%|█████████▊                                                       | 300/2000 [11:17<56:01,  1.98s/Epochs]"
     ]
    },
    {
     "name": "stdout",
     "output_type": "stream",
     "text": [
      "Entered epoch : 300\n"
     ]
    },
    {
     "name": "stderr",
     "output_type": "stream",
     "text": [
      "C:\\Users\\acer\\AppData\\Local\\Temp\\ipykernel_12148\\3564757306.py:90: FutureWarning: The frame.append method is deprecated and will be removed from pandas in a future version. Use pandas.concat instead.\n",
      "  df = df.append({'epoch': epoch,'train_loss': losses[-1],\n",
      "\r",
      "Training:  15%|█████████▊                                                       | 301/2000 [11:19<58:50,  2.08s/Epochs]"
     ]
    },
    {
     "name": "stdout",
     "output_type": "stream",
     "text": [
      "train loss 1.07 test loss 1.26 velo loss 56.71396\n",
      "Entered epoch : 301\n"
     ]
    },
    {
     "name": "stderr",
     "output_type": "stream",
     "text": [
      "C:\\Users\\acer\\AppData\\Local\\Temp\\ipykernel_12148\\3564757306.py:90: FutureWarning: The frame.append method is deprecated and will be removed from pandas in a future version. Use pandas.concat instead.\n",
      "  df = df.append({'epoch': epoch,'train_loss': losses[-1],\n",
      "\r",
      "Training:  15%|█████████▊                                                       | 302/2000 [11:21<57:55,  2.05s/Epochs]"
     ]
    },
    {
     "name": "stdout",
     "output_type": "stream",
     "text": [
      "Entered epoch : 302\n"
     ]
    },
    {
     "name": "stderr",
     "output_type": "stream",
     "text": [
      "C:\\Users\\acer\\AppData\\Local\\Temp\\ipykernel_12148\\3564757306.py:90: FutureWarning: The frame.append method is deprecated and will be removed from pandas in a future version. Use pandas.concat instead.\n",
      "  df = df.append({'epoch': epoch,'train_loss': losses[-1],\n",
      "\r",
      "Training:  15%|█████████▊                                                       | 303/2000 [11:23<57:22,  2.03s/Epochs]"
     ]
    },
    {
     "name": "stdout",
     "output_type": "stream",
     "text": [
      "Entered epoch : 303\n"
     ]
    },
    {
     "name": "stderr",
     "output_type": "stream",
     "text": [
      "C:\\Users\\acer\\AppData\\Local\\Temp\\ipykernel_12148\\3564757306.py:90: FutureWarning: The frame.append method is deprecated and will be removed from pandas in a future version. Use pandas.concat instead.\n",
      "  df = df.append({'epoch': epoch,'train_loss': losses[-1],\n",
      "\r",
      "Training:  15%|█████████▉                                                       | 304/2000 [11:25<56:51,  2.01s/Epochs]"
     ]
    },
    {
     "name": "stdout",
     "output_type": "stream",
     "text": [
      "Entered epoch : 304\n"
     ]
    },
    {
     "name": "stderr",
     "output_type": "stream",
     "text": [
      "C:\\Users\\acer\\AppData\\Local\\Temp\\ipykernel_12148\\3564757306.py:90: FutureWarning: The frame.append method is deprecated and will be removed from pandas in a future version. Use pandas.concat instead.\n",
      "  df = df.append({'epoch': epoch,'train_loss': losses[-1],\n",
      "\r",
      "Training:  15%|█████████▉                                                       | 305/2000 [11:27<56:26,  2.00s/Epochs]"
     ]
    },
    {
     "name": "stdout",
     "output_type": "stream",
     "text": [
      "Entered epoch : 305\n"
     ]
    },
    {
     "name": "stderr",
     "output_type": "stream",
     "text": [
      "C:\\Users\\acer\\AppData\\Local\\Temp\\ipykernel_12148\\3564757306.py:90: FutureWarning: The frame.append method is deprecated and will be removed from pandas in a future version. Use pandas.concat instead.\n",
      "  df = df.append({'epoch': epoch,'train_loss': losses[-1],\n",
      "\r",
      "Training:  15%|█████████▉                                                       | 306/2000 [11:29<56:13,  1.99s/Epochs]"
     ]
    },
    {
     "name": "stdout",
     "output_type": "stream",
     "text": [
      "Entered epoch : 306\n"
     ]
    },
    {
     "name": "stderr",
     "output_type": "stream",
     "text": [
      "C:\\Users\\acer\\AppData\\Local\\Temp\\ipykernel_12148\\3564757306.py:90: FutureWarning: The frame.append method is deprecated and will be removed from pandas in a future version. Use pandas.concat instead.\n",
      "  df = df.append({'epoch': epoch,'train_loss': losses[-1],\n",
      "\r",
      "Training:  15%|█████████▉                                                       | 307/2000 [11:31<56:05,  1.99s/Epochs]"
     ]
    },
    {
     "name": "stdout",
     "output_type": "stream",
     "text": [
      "Entered epoch : 307\n"
     ]
    },
    {
     "name": "stderr",
     "output_type": "stream",
     "text": [
      "C:\\Users\\acer\\AppData\\Local\\Temp\\ipykernel_12148\\3564757306.py:90: FutureWarning: The frame.append method is deprecated and will be removed from pandas in a future version. Use pandas.concat instead.\n",
      "  df = df.append({'epoch': epoch,'train_loss': losses[-1],\n",
      "\r",
      "Training:  15%|██████████                                                       | 308/2000 [11:33<55:54,  1.98s/Epochs]"
     ]
    },
    {
     "name": "stdout",
     "output_type": "stream",
     "text": [
      "Entered epoch : 308\n"
     ]
    },
    {
     "name": "stderr",
     "output_type": "stream",
     "text": [
      "C:\\Users\\acer\\AppData\\Local\\Temp\\ipykernel_12148\\3564757306.py:90: FutureWarning: The frame.append method is deprecated and will be removed from pandas in a future version. Use pandas.concat instead.\n",
      "  df = df.append({'epoch': epoch,'train_loss': losses[-1],\n",
      "\r",
      "Training:  15%|██████████                                                       | 309/2000 [11:35<55:48,  1.98s/Epochs]"
     ]
    },
    {
     "name": "stdout",
     "output_type": "stream",
     "text": [
      "Entered epoch : 309\n"
     ]
    },
    {
     "name": "stderr",
     "output_type": "stream",
     "text": [
      "C:\\Users\\acer\\AppData\\Local\\Temp\\ipykernel_12148\\3564757306.py:90: FutureWarning: The frame.append method is deprecated and will be removed from pandas in a future version. Use pandas.concat instead.\n",
      "  df = df.append({'epoch': epoch,'train_loss': losses[-1],\n",
      "\r",
      "Training:  16%|██████████                                                       | 310/2000 [11:37<55:41,  1.98s/Epochs]"
     ]
    },
    {
     "name": "stdout",
     "output_type": "stream",
     "text": [
      "Entered epoch : 310\n"
     ]
    },
    {
     "name": "stderr",
     "output_type": "stream",
     "text": [
      "C:\\Users\\acer\\AppData\\Local\\Temp\\ipykernel_12148\\3564757306.py:90: FutureWarning: The frame.append method is deprecated and will be removed from pandas in a future version. Use pandas.concat instead.\n",
      "  df = df.append({'epoch': epoch,'train_loss': losses[-1],\n",
      "\r",
      "Training:  16%|██████████                                                       | 311/2000 [11:39<58:18,  2.07s/Epochs]"
     ]
    },
    {
     "name": "stdout",
     "output_type": "stream",
     "text": [
      "Entered epoch : 311\n"
     ]
    },
    {
     "name": "stderr",
     "output_type": "stream",
     "text": [
      "C:\\Users\\acer\\AppData\\Local\\Temp\\ipykernel_12148\\3564757306.py:90: FutureWarning: The frame.append method is deprecated and will be removed from pandas in a future version. Use pandas.concat instead.\n",
      "  df = df.append({'epoch': epoch,'train_loss': losses[-1],\n",
      "\r",
      "Training:  16%|██████████▏                                                      | 312/2000 [11:41<57:21,  2.04s/Epochs]"
     ]
    },
    {
     "name": "stdout",
     "output_type": "stream",
     "text": [
      "Entered epoch : 312\n"
     ]
    },
    {
     "name": "stderr",
     "output_type": "stream",
     "text": [
      "C:\\Users\\acer\\AppData\\Local\\Temp\\ipykernel_12148\\3564757306.py:90: FutureWarning: The frame.append method is deprecated and will be removed from pandas in a future version. Use pandas.concat instead.\n",
      "  df = df.append({'epoch': epoch,'train_loss': losses[-1],\n",
      "\r",
      "Training:  16%|██████████▏                                                      | 313/2000 [11:43<56:41,  2.02s/Epochs]"
     ]
    },
    {
     "name": "stdout",
     "output_type": "stream",
     "text": [
      "Entered epoch : 313\n"
     ]
    },
    {
     "name": "stderr",
     "output_type": "stream",
     "text": [
      "C:\\Users\\acer\\AppData\\Local\\Temp\\ipykernel_12148\\3564757306.py:90: FutureWarning: The frame.append method is deprecated and will be removed from pandas in a future version. Use pandas.concat instead.\n",
      "  df = df.append({'epoch': epoch,'train_loss': losses[-1],\n",
      "\r",
      "Training:  16%|██████████▏                                                      | 314/2000 [11:45<56:14,  2.00s/Epochs]"
     ]
    },
    {
     "name": "stdout",
     "output_type": "stream",
     "text": [
      "Entered epoch : 314\n"
     ]
    },
    {
     "name": "stderr",
     "output_type": "stream",
     "text": [
      "C:\\Users\\acer\\AppData\\Local\\Temp\\ipykernel_12148\\3564757306.py:90: FutureWarning: The frame.append method is deprecated and will be removed from pandas in a future version. Use pandas.concat instead.\n",
      "  df = df.append({'epoch': epoch,'train_loss': losses[-1],\n",
      "\r",
      "Training:  16%|██████████▏                                                      | 315/2000 [11:47<55:53,  1.99s/Epochs]"
     ]
    },
    {
     "name": "stdout",
     "output_type": "stream",
     "text": [
      "Entered epoch : 315\n"
     ]
    },
    {
     "name": "stderr",
     "output_type": "stream",
     "text": [
      "C:\\Users\\acer\\AppData\\Local\\Temp\\ipykernel_12148\\3564757306.py:90: FutureWarning: The frame.append method is deprecated and will be removed from pandas in a future version. Use pandas.concat instead.\n",
      "  df = df.append({'epoch': epoch,'train_loss': losses[-1],\n",
      "\r",
      "Training:  16%|██████████▎                                                      | 316/2000 [11:49<55:37,  1.98s/Epochs]"
     ]
    },
    {
     "name": "stdout",
     "output_type": "stream",
     "text": [
      "Entered epoch : 316\n"
     ]
    },
    {
     "name": "stderr",
     "output_type": "stream",
     "text": [
      "C:\\Users\\acer\\AppData\\Local\\Temp\\ipykernel_12148\\3564757306.py:90: FutureWarning: The frame.append method is deprecated and will be removed from pandas in a future version. Use pandas.concat instead.\n",
      "  df = df.append({'epoch': epoch,'train_loss': losses[-1],\n",
      "\r",
      "Training:  16%|██████████▎                                                      | 317/2000 [11:51<55:27,  1.98s/Epochs]"
     ]
    },
    {
     "name": "stdout",
     "output_type": "stream",
     "text": [
      "Entered epoch : 317\n"
     ]
    },
    {
     "name": "stderr",
     "output_type": "stream",
     "text": [
      "C:\\Users\\acer\\AppData\\Local\\Temp\\ipykernel_12148\\3564757306.py:90: FutureWarning: The frame.append method is deprecated and will be removed from pandas in a future version. Use pandas.concat instead.\n",
      "  df = df.append({'epoch': epoch,'train_loss': losses[-1],\n",
      "\r",
      "Training:  16%|██████████▎                                                      | 318/2000 [11:53<55:19,  1.97s/Epochs]"
     ]
    },
    {
     "name": "stdout",
     "output_type": "stream",
     "text": [
      "Entered epoch : 318\n"
     ]
    },
    {
     "name": "stderr",
     "output_type": "stream",
     "text": [
      "C:\\Users\\acer\\AppData\\Local\\Temp\\ipykernel_12148\\3564757306.py:90: FutureWarning: The frame.append method is deprecated and will be removed from pandas in a future version. Use pandas.concat instead.\n",
      "  df = df.append({'epoch': epoch,'train_loss': losses[-1],\n",
      "\r",
      "Training:  16%|██████████▎                                                      | 319/2000 [11:55<55:11,  1.97s/Epochs]"
     ]
    },
    {
     "name": "stdout",
     "output_type": "stream",
     "text": [
      "Entered epoch : 319\n"
     ]
    },
    {
     "name": "stderr",
     "output_type": "stream",
     "text": [
      "C:\\Users\\acer\\AppData\\Local\\Temp\\ipykernel_12148\\3564757306.py:90: FutureWarning: The frame.append method is deprecated and will be removed from pandas in a future version. Use pandas.concat instead.\n",
      "  df = df.append({'epoch': epoch,'train_loss': losses[-1],\n",
      "\r",
      "Training:  16%|██████████▍                                                      | 320/2000 [11:57<55:06,  1.97s/Epochs]"
     ]
    },
    {
     "name": "stdout",
     "output_type": "stream",
     "text": [
      "Entered epoch : 320\n"
     ]
    },
    {
     "name": "stderr",
     "output_type": "stream",
     "text": [
      "C:\\Users\\acer\\AppData\\Local\\Temp\\ipykernel_12148\\3564757306.py:90: FutureWarning: The frame.append method is deprecated and will be removed from pandas in a future version. Use pandas.concat instead.\n",
      "  df = df.append({'epoch': epoch,'train_loss': losses[-1],\n",
      "\r",
      "Training:  16%|██████████▍                                                      | 321/2000 [11:59<57:40,  2.06s/Epochs]"
     ]
    },
    {
     "name": "stdout",
     "output_type": "stream",
     "text": [
      "Entered epoch : 321\n"
     ]
    },
    {
     "name": "stderr",
     "output_type": "stream",
     "text": [
      "C:\\Users\\acer\\AppData\\Local\\Temp\\ipykernel_12148\\3564757306.py:90: FutureWarning: The frame.append method is deprecated and will be removed from pandas in a future version. Use pandas.concat instead.\n",
      "  df = df.append({'epoch': epoch,'train_loss': losses[-1],\n",
      "\r",
      "Training:  16%|██████████▍                                                      | 322/2000 [12:01<56:52,  2.03s/Epochs]"
     ]
    },
    {
     "name": "stdout",
     "output_type": "stream",
     "text": [
      "Entered epoch : 322\n"
     ]
    },
    {
     "name": "stderr",
     "output_type": "stream",
     "text": [
      "C:\\Users\\acer\\AppData\\Local\\Temp\\ipykernel_12148\\3564757306.py:90: FutureWarning: The frame.append method is deprecated and will be removed from pandas in a future version. Use pandas.concat instead.\n",
      "  df = df.append({'epoch': epoch,'train_loss': losses[-1],\n",
      "\r",
      "Training:  16%|██████████▍                                                      | 323/2000 [12:03<56:16,  2.01s/Epochs]"
     ]
    },
    {
     "name": "stdout",
     "output_type": "stream",
     "text": [
      "Entered epoch : 323\n"
     ]
    },
    {
     "name": "stderr",
     "output_type": "stream",
     "text": [
      "C:\\Users\\acer\\AppData\\Local\\Temp\\ipykernel_12148\\3564757306.py:90: FutureWarning: The frame.append method is deprecated and will be removed from pandas in a future version. Use pandas.concat instead.\n",
      "  df = df.append({'epoch': epoch,'train_loss': losses[-1],\n",
      "\r",
      "Training:  16%|██████████▌                                                      | 324/2000 [12:05<55:51,  2.00s/Epochs]"
     ]
    },
    {
     "name": "stdout",
     "output_type": "stream",
     "text": [
      "Entered epoch : 324\n"
     ]
    },
    {
     "name": "stderr",
     "output_type": "stream",
     "text": [
      "C:\\Users\\acer\\AppData\\Local\\Temp\\ipykernel_12148\\3564757306.py:90: FutureWarning: The frame.append method is deprecated and will be removed from pandas in a future version. Use pandas.concat instead.\n",
      "  df = df.append({'epoch': epoch,'train_loss': losses[-1],\n",
      "\r",
      "Training:  16%|██████████▌                                                      | 325/2000 [12:07<55:32,  1.99s/Epochs]"
     ]
    },
    {
     "name": "stdout",
     "output_type": "stream",
     "text": [
      "Entered epoch : 325\n"
     ]
    },
    {
     "name": "stderr",
     "output_type": "stream",
     "text": [
      "C:\\Users\\acer\\AppData\\Local\\Temp\\ipykernel_12148\\3564757306.py:90: FutureWarning: The frame.append method is deprecated and will be removed from pandas in a future version. Use pandas.concat instead.\n",
      "  df = df.append({'epoch': epoch,'train_loss': losses[-1],\n",
      "\r",
      "Training:  16%|██████████▌                                                      | 326/2000 [12:09<55:19,  1.98s/Epochs]"
     ]
    },
    {
     "name": "stdout",
     "output_type": "stream",
     "text": [
      "Entered epoch : 326\n"
     ]
    },
    {
     "name": "stderr",
     "output_type": "stream",
     "text": [
      "C:\\Users\\acer\\AppData\\Local\\Temp\\ipykernel_12148\\3564757306.py:90: FutureWarning: The frame.append method is deprecated and will be removed from pandas in a future version. Use pandas.concat instead.\n",
      "  df = df.append({'epoch': epoch,'train_loss': losses[-1],\n",
      "\r",
      "Training:  16%|██████████▋                                                      | 327/2000 [12:11<55:09,  1.98s/Epochs]"
     ]
    },
    {
     "name": "stdout",
     "output_type": "stream",
     "text": [
      "Entered epoch : 327\n"
     ]
    },
    {
     "name": "stderr",
     "output_type": "stream",
     "text": [
      "C:\\Users\\acer\\AppData\\Local\\Temp\\ipykernel_12148\\3564757306.py:90: FutureWarning: The frame.append method is deprecated and will be removed from pandas in a future version. Use pandas.concat instead.\n",
      "  df = df.append({'epoch': epoch,'train_loss': losses[-1],\n",
      "\r",
      "Training:  16%|██████████▋                                                      | 328/2000 [12:13<55:04,  1.98s/Epochs]"
     ]
    },
    {
     "name": "stdout",
     "output_type": "stream",
     "text": [
      "Entered epoch : 328\n"
     ]
    },
    {
     "name": "stderr",
     "output_type": "stream",
     "text": [
      "C:\\Users\\acer\\AppData\\Local\\Temp\\ipykernel_12148\\3564757306.py:90: FutureWarning: The frame.append method is deprecated and will be removed from pandas in a future version. Use pandas.concat instead.\n",
      "  df = df.append({'epoch': epoch,'train_loss': losses[-1],\n",
      "\r",
      "Training:  16%|██████████▋                                                      | 329/2000 [12:15<55:00,  1.98s/Epochs]"
     ]
    },
    {
     "name": "stdout",
     "output_type": "stream",
     "text": [
      "Entered epoch : 329\n"
     ]
    },
    {
     "name": "stderr",
     "output_type": "stream",
     "text": [
      "C:\\Users\\acer\\AppData\\Local\\Temp\\ipykernel_12148\\3564757306.py:90: FutureWarning: The frame.append method is deprecated and will be removed from pandas in a future version. Use pandas.concat instead.\n",
      "  df = df.append({'epoch': epoch,'train_loss': losses[-1],\n",
      "\r",
      "Training:  16%|██████████▋                                                      | 330/2000 [12:17<55:00,  1.98s/Epochs]"
     ]
    },
    {
     "name": "stdout",
     "output_type": "stream",
     "text": [
      "Entered epoch : 330\n"
     ]
    },
    {
     "name": "stderr",
     "output_type": "stream",
     "text": [
      "C:\\Users\\acer\\AppData\\Local\\Temp\\ipykernel_12148\\3564757306.py:90: FutureWarning: The frame.append method is deprecated and will be removed from pandas in a future version. Use pandas.concat instead.\n",
      "  df = df.append({'epoch': epoch,'train_loss': losses[-1],\n",
      "\r",
      "Training:  17%|██████████▊                                                      | 331/2000 [12:19<57:55,  2.08s/Epochs]"
     ]
    },
    {
     "name": "stdout",
     "output_type": "stream",
     "text": [
      "Entered epoch : 331\n"
     ]
    },
    {
     "name": "stderr",
     "output_type": "stream",
     "text": [
      "C:\\Users\\acer\\AppData\\Local\\Temp\\ipykernel_12148\\3564757306.py:90: FutureWarning: The frame.append method is deprecated and will be removed from pandas in a future version. Use pandas.concat instead.\n",
      "  df = df.append({'epoch': epoch,'train_loss': losses[-1],\n",
      "\r",
      "Training:  17%|██████████▊                                                      | 332/2000 [12:21<57:13,  2.06s/Epochs]"
     ]
    },
    {
     "name": "stdout",
     "output_type": "stream",
     "text": [
      "Entered epoch : 332\n"
     ]
    },
    {
     "name": "stderr",
     "output_type": "stream",
     "text": [
      "C:\\Users\\acer\\AppData\\Local\\Temp\\ipykernel_12148\\3564757306.py:90: FutureWarning: The frame.append method is deprecated and will be removed from pandas in a future version. Use pandas.concat instead.\n",
      "  df = df.append({'epoch': epoch,'train_loss': losses[-1],\n",
      "\r",
      "Training:  17%|██████████▊                                                      | 333/2000 [12:23<56:41,  2.04s/Epochs]"
     ]
    },
    {
     "name": "stdout",
     "output_type": "stream",
     "text": [
      "Entered epoch : 333\n"
     ]
    },
    {
     "name": "stderr",
     "output_type": "stream",
     "text": [
      "C:\\Users\\acer\\AppData\\Local\\Temp\\ipykernel_12148\\3564757306.py:90: FutureWarning: The frame.append method is deprecated and will be removed from pandas in a future version. Use pandas.concat instead.\n",
      "  df = df.append({'epoch': epoch,'train_loss': losses[-1],\n",
      "\r",
      "Training:  17%|██████████▊                                                      | 334/2000 [12:25<56:20,  2.03s/Epochs]"
     ]
    },
    {
     "name": "stdout",
     "output_type": "stream",
     "text": [
      "Entered epoch : 334\n"
     ]
    },
    {
     "name": "stderr",
     "output_type": "stream",
     "text": [
      "C:\\Users\\acer\\AppData\\Local\\Temp\\ipykernel_12148\\3564757306.py:90: FutureWarning: The frame.append method is deprecated and will be removed from pandas in a future version. Use pandas.concat instead.\n",
      "  df = df.append({'epoch': epoch,'train_loss': losses[-1],\n",
      "\r",
      "Training:  17%|██████████▉                                                      | 335/2000 [12:27<56:01,  2.02s/Epochs]"
     ]
    },
    {
     "name": "stdout",
     "output_type": "stream",
     "text": [
      "Entered epoch : 335\n"
     ]
    },
    {
     "name": "stderr",
     "output_type": "stream",
     "text": [
      "C:\\Users\\acer\\AppData\\Local\\Temp\\ipykernel_12148\\3564757306.py:90: FutureWarning: The frame.append method is deprecated and will be removed from pandas in a future version. Use pandas.concat instead.\n",
      "  df = df.append({'epoch': epoch,'train_loss': losses[-1],\n",
      "\r",
      "Training:  17%|██████████▉                                                      | 336/2000 [12:29<55:42,  2.01s/Epochs]"
     ]
    },
    {
     "name": "stdout",
     "output_type": "stream",
     "text": [
      "Entered epoch : 336\n"
     ]
    },
    {
     "name": "stderr",
     "output_type": "stream",
     "text": [
      "C:\\Users\\acer\\AppData\\Local\\Temp\\ipykernel_12148\\3564757306.py:90: FutureWarning: The frame.append method is deprecated and will be removed from pandas in a future version. Use pandas.concat instead.\n",
      "  df = df.append({'epoch': epoch,'train_loss': losses[-1],\n",
      "\r",
      "Training:  17%|██████████▉                                                      | 337/2000 [12:31<55:30,  2.00s/Epochs]"
     ]
    },
    {
     "name": "stdout",
     "output_type": "stream",
     "text": [
      "Entered epoch : 337\n"
     ]
    },
    {
     "name": "stderr",
     "output_type": "stream",
     "text": [
      "C:\\Users\\acer\\AppData\\Local\\Temp\\ipykernel_12148\\3564757306.py:90: FutureWarning: The frame.append method is deprecated and will be removed from pandas in a future version. Use pandas.concat instead.\n",
      "  df = df.append({'epoch': epoch,'train_loss': losses[-1],\n",
      "\r",
      "Training:  17%|██████████▉                                                      | 338/2000 [12:33<55:21,  2.00s/Epochs]"
     ]
    },
    {
     "name": "stdout",
     "output_type": "stream",
     "text": [
      "Entered epoch : 338\n"
     ]
    },
    {
     "name": "stderr",
     "output_type": "stream",
     "text": [
      "C:\\Users\\acer\\AppData\\Local\\Temp\\ipykernel_12148\\3564757306.py:90: FutureWarning: The frame.append method is deprecated and will be removed from pandas in a future version. Use pandas.concat instead.\n",
      "  df = df.append({'epoch': epoch,'train_loss': losses[-1],\n",
      "\r",
      "Training:  17%|███████████                                                      | 339/2000 [12:35<55:10,  1.99s/Epochs]"
     ]
    },
    {
     "name": "stdout",
     "output_type": "stream",
     "text": [
      "Entered epoch : 339\n"
     ]
    },
    {
     "name": "stderr",
     "output_type": "stream",
     "text": [
      "C:\\Users\\acer\\AppData\\Local\\Temp\\ipykernel_12148\\3564757306.py:90: FutureWarning: The frame.append method is deprecated and will be removed from pandas in a future version. Use pandas.concat instead.\n",
      "  df = df.append({'epoch': epoch,'train_loss': losses[-1],\n",
      "\r",
      "Training:  17%|███████████                                                      | 340/2000 [12:37<55:14,  2.00s/Epochs]"
     ]
    },
    {
     "name": "stdout",
     "output_type": "stream",
     "text": [
      "Entered epoch : 340\n"
     ]
    },
    {
     "name": "stderr",
     "output_type": "stream",
     "text": [
      "C:\\Users\\acer\\AppData\\Local\\Temp\\ipykernel_12148\\3564757306.py:90: FutureWarning: The frame.append method is deprecated and will be removed from pandas in a future version. Use pandas.concat instead.\n",
      "  df = df.append({'epoch': epoch,'train_loss': losses[-1],\n",
      "\r",
      "Training:  17%|███████████                                                      | 341/2000 [12:39<57:41,  2.09s/Epochs]"
     ]
    },
    {
     "name": "stdout",
     "output_type": "stream",
     "text": [
      "Entered epoch : 341\n"
     ]
    },
    {
     "name": "stderr",
     "output_type": "stream",
     "text": [
      "C:\\Users\\acer\\AppData\\Local\\Temp\\ipykernel_12148\\3564757306.py:90: FutureWarning: The frame.append method is deprecated and will be removed from pandas in a future version. Use pandas.concat instead.\n",
      "  df = df.append({'epoch': epoch,'train_loss': losses[-1],\n",
      "\r",
      "Training:  17%|███████████                                                      | 342/2000 [12:41<56:46,  2.05s/Epochs]"
     ]
    },
    {
     "name": "stdout",
     "output_type": "stream",
     "text": [
      "Entered epoch : 342\n"
     ]
    },
    {
     "name": "stderr",
     "output_type": "stream",
     "text": [
      "C:\\Users\\acer\\AppData\\Local\\Temp\\ipykernel_12148\\3564757306.py:90: FutureWarning: The frame.append method is deprecated and will be removed from pandas in a future version. Use pandas.concat instead.\n",
      "  df = df.append({'epoch': epoch,'train_loss': losses[-1],\n",
      "\r",
      "Training:  17%|███████████▏                                                     | 343/2000 [12:43<56:07,  2.03s/Epochs]"
     ]
    },
    {
     "name": "stdout",
     "output_type": "stream",
     "text": [
      "Entered epoch : 343\n"
     ]
    }
   ],
   "source": [
    "test_losses, losses, velo_val_losses, best_model, best_test_loss, test_loader = train(dataset, device, stats_list, args)\n",
    "\n",
    "print(\"Min test set loss: {0}\".format(min(test_losses)))\n",
    "print(\"Minimum loss: {0}\".format(min(losses)))\n",
    "if (args.save_velo_val):\n",
    "    print(\"Minimum velocity validation loss: {0}\".format(min(velo_val_losses)))"
   ]
  },
  {
   "cell_type": "markdown",
   "id": "ea7b0f04",
   "metadata": {},
   "source": [
    "### Visualization"
   ]
  },
  {
   "cell_type": "code",
   "execution_count": 44,
   "id": "5a5042f3",
   "metadata": {},
   "outputs": [],
   "source": [
    "def save_plots(args, losses, test_losses, velo_val_losses):\n",
    "    model_name='model_nl'+str(args.num_layers)+'_bs'+str(args.batch_size) + \\\n",
    "               '_hd'+str(args.hidden_dim)+'_ep'+str(args.epochs)+'_wd'+str(args.weight_decay) + \\\n",
    "               '_lr'+str(args.lr)+'_shuff_'+str(args.shuffle)+'_tr'+str(args.train_size)+'_te'+str(args.test_size)\n",
    "\n",
    "    if not os.path.isdir(args.postprocess_dir):\n",
    "        os.mkdir(args.postprocess_dir)\n",
    "\n",
    "    PATH = os.path.join(args.postprocess_dir, model_name + '.pdf')\n",
    "\n",
    "    f = plt.figure()\n",
    "    plt.title('Losses Plot')\n",
    "    plt.plot(losses, label=\"training loss\" + \" - \" + args.model_type)\n",
    "    plt.plot(test_losses, label=\"test loss\" + \" - \" + args.model_type)\n",
    "    #if (args.save_velo_val):\n",
    "    #    plt.plot(velo_val_losses, label=\"velocity loss\" + \" - \" + args.model_type)\n",
    "    plt.xlabel('Epoch')\n",
    "    plt.ylabel('Loss')\n",
    "\n",
    "    plt.legend()\n",
    "    plt.show()\n",
    "    f.savefig(PATH, bbox_inches='tight')"
   ]
  },
  {
   "cell_type": "code",
   "execution_count": null,
   "id": "ae9ae16d",
   "metadata": {},
   "outputs": [],
   "source": [
    "save_plots(args, losses, test_losses, velo_val_losses)"
   ]
  },
  {
   "cell_type": "markdown",
   "id": "3cc6d46a",
   "metadata": {},
   "source": [
    "### Annimation"
   ]
  },
  {
   "cell_type": "code",
   "execution_count": 45,
   "id": "08d44de9",
   "metadata": {},
   "outputs": [],
   "source": [
    "args.device= 'cpu'"
   ]
  },
  {
   "cell_type": "code",
   "execution_count": 46,
   "id": "1772d7c4",
   "metadata": {},
   "outputs": [],
   "source": [
    "from matplotlib import tri as mtri\n",
    "from matplotlib import animation\n",
    "import matplotlib.pyplot as plt\n",
    "import numpy as np\n",
    "import os \n",
    "from mpl_toolkits.axes_grid1 import make_axes_locatable\n",
    "\n",
    "def make_animation(gs, pred, evl, path, name , skip = 2, save_anim = True, plot_variables = False):\n",
    "    '''\n",
    "    input gs is a dataloader and each entry contains attributes of many timesteps.\n",
    "\n",
    "    '''\n",
    "    print('Generating velocity fields...')\n",
    "    fig, axes = plt.subplots(3, 1, figsize=(20, 16))\n",
    "    num_steps = len(gs) # for a single trajectory\n",
    "    num_frames = num_steps // skip\n",
    "    print(num_steps)\n",
    "    def animate(num):\n",
    "        step = (num*skip) % num_steps\n",
    "        traj = 0\n",
    "\n",
    "        bb_min = gs[0].x[:, 0:2].min() # first two columns are velocity\n",
    "        bb_max = gs[0].x[:, 0:2].max() # use max and min velocity of gs dataset at the first step for both \n",
    "                                          # gs and prediction plots\n",
    "        bb_min_evl = evl[0].x[:, 0:2].min()  # first two columns are velocity\n",
    "        bb_max_evl = evl[0].x[:, 0:2].max()  # use max and min velocity of gs dataset at the first step for both \n",
    "                                          # gs and prediction plots\n",
    "        count = 0\n",
    "\n",
    "        for ax in axes:\n",
    "            ax.cla()\n",
    "            ax.set_aspect('equal')\n",
    "            ax.set_axis_off()\n",
    "            \n",
    "            pos = gs[step].mesh_pos \n",
    "            faces = gs[step].cells\n",
    "            if (count == 0):\n",
    "                # ground truth\n",
    "                velocity = gs[step].x[:, 0:2]\n",
    "                title = 'Ground truth:'\n",
    "            elif (count == 1):\n",
    "                velocity = pred[step].x[:, 0:2]\n",
    "                title = 'Prediction:'\n",
    "            else: \n",
    "                velocity = evl[step].x[:, 0:2]\n",
    "                title = 'Error: (Prediction - Ground truth)'\n",
    "\n",
    "            triang = mtri.Triangulation(pos[:, 0], pos[:, 1], faces)\n",
    "            if (count <= 1):\n",
    "                # absolute values\n",
    "                \n",
    "                mesh_plot = ax.tripcolor(triang, velocity[:, 0], vmin= bb_min, vmax=bb_max,  shading='flat' ) # x-velocity\n",
    "                ax.triplot(triang, 'ko-', ms=0.5, lw=0.3)\n",
    "            else:\n",
    "                # error: (pred - gs)/gs\n",
    "                mesh_plot = ax.tripcolor(triang, velocity[:, 0], vmin= bb_min_evl, vmax=bb_max_evl, shading='flat' ) # x-velocity\n",
    "                ax.triplot(triang, 'ko-', ms=0.5, lw=0.3)\n",
    "                #ax.triplot(triang, lw=0.5, color='0.5')\n",
    "\n",
    "            ax.set_title('{} Trajectory {} Step {}'.format(title, traj, step), fontsize = '20')\n",
    "            #ax.color\n",
    "\n",
    "            #if (count == 0):\n",
    "            divider = make_axes_locatable(ax)\n",
    "            cax = divider.append_axes('right', size='5%', pad=0.05)\n",
    "            clb = fig.colorbar(mesh_plot, cax=cax, orientation='vertical')\n",
    "            clb.ax.tick_params(labelsize=20) \n",
    "            \n",
    "            clb.ax.set_title('x velocity (m/s)',\n",
    "                             fontdict = {'fontsize': 20})\n",
    "            count += 1\n",
    "        return fig,\n",
    "\n",
    "    # Save animation for visualization\n",
    "    if not os.path.exists(path):\n",
    "        os.makedirs(path)\n",
    "    \n",
    "    if (save_anim):\n",
    "        gs_anim = animation.FuncAnimation(fig, animate, frames=num_frames, interval=1000)\n",
    "        writergif = animation.PillowWriter(fps=10) \n",
    "        anim_path = os.path.join(path, '{}_anim.gif'.format(name))\n",
    "        gs_anim.save( anim_path, writer=writergif)\n",
    "        plt.show(block=True)\n",
    "    else:\n",
    "        pass\n",
    "\n",
    "def visualize(loader, best_model, file_dir, args, gif_name, stats_list,\n",
    "              delta_t = 0.01, skip = 1):\n",
    "\n",
    "    best_model.eval()\n",
    "    device = args.device\n",
    "    viz_data = {}\n",
    "    gs_data = {}\n",
    "    eval_data = {}\n",
    "    viz_data_loader = copy.deepcopy(loader)\n",
    "    gs_data_loader = copy.deepcopy(loader)\n",
    "    eval_data_loader = copy.deepcopy(loader)\n",
    "    [mean_vec_x,std_vec_x,mean_vec_edge,std_vec_edge,mean_vec_y,std_vec_y] = stats_list\n",
    "    (mean_vec_x,std_vec_x,mean_vec_edge,std_vec_edge,mean_vec_y,std_vec_y)=(mean_vec_x.to(device),\n",
    "            std_vec_x.to(device),mean_vec_edge.to(device),std_vec_edge.to(device),mean_vec_y.to(device),std_vec_y.to(device))\n",
    "\n",
    "    for data, viz_data, gs_data, eval_data in zip(loader, viz_data_loader,\n",
    "                                                  gs_data_loader, eval_data_loader):\n",
    "        data=data.to(args.device) \n",
    "        viz_data = data.to(args.device)\n",
    "        with torch.no_grad():\n",
    "            pred = best_model(data,mean_vec_x,std_vec_x,mean_vec_edge,std_vec_edge).to('cpu')\n",
    "            # pred gives the learnt accelaration between two timsteps\n",
    "            # next_vel = curr_vel + pred * delta_t  \n",
    "            viz_data.x[:, 0:2] = data.x[:, 0:2].to('cpu') + pred[:].to('cpu')* delta_t\n",
    "            gs_data.x[:, 0:2] = data.x[:, 0:2].to('cpu') + data.y.to('cpu')* delta_t\n",
    "            # gs_data - viz_data = error_data\n",
    "            eval_data.x[:, 0:2] = (viz_data.x[:, 0:2].to('cpu') - gs_data.x[:, 0:2].to('cpu'))\n",
    "  \n",
    "#     print(viz_data_loader)\n",
    "    make_animation(gs_data_loader, viz_data_loader, eval_data_loader, file_dir,\n",
    "                      gif_name, skip, True, False)\n",
    "\n",
    "    return eval_data_loader"
   ]
  },
  {
   "cell_type": "code",
   "execution_count": null,
   "id": "4973593d",
   "metadata": {},
   "outputs": [],
   "source": [
    "# visualize predicted velocities\n",
    "animation_name = 'x_velocity'\n",
    "args.postprocess_dir = postprocess_dir\n",
    "\n",
    "eval_data_loader = visualize(dataset, best_model.to(args.device), args.postprocess_dir, args, animation_name, stats_list, \n",
    "           delta_t = 0.01, skip = 1)"
   ]
  }
 ],
 "metadata": {
  "kernelspec": {
   "display_name": "Python 3 (ipykernel)",
   "language": "python",
   "name": "python3"
  },
  "language_info": {
   "codemirror_mode": {
    "name": "ipython",
    "version": 3
   },
   "file_extension": ".py",
   "mimetype": "text/x-python",
   "name": "python",
   "nbconvert_exporter": "python",
   "pygments_lexer": "ipython3",
   "version": "3.9.5"
  }
 },
 "nbformat": 4,
 "nbformat_minor": 5
}
